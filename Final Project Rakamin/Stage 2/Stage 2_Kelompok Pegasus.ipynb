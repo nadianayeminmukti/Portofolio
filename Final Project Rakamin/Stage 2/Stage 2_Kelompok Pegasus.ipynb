{
 "cells": [
  {
   "cell_type": "code",
   "execution_count": 1,
   "metadata": {
    "executionInfo": {
     "elapsed": 23,
     "status": "ok",
     "timestamp": 1647267680694,
     "user": {
      "displayName": "Ramadhan Adi Putra",
      "photoUrl": "https://lh3.googleusercontent.com/a-/AOh14Ghwdoo2XwKDMyjKGaLxynmKohSaQKWtP9kSEg4AmA=s64",
      "userId": "17134522319796101163"
     },
     "user_tz": -420
    },
    "id": "gELHofsaI0au"
   },
   "outputs": [],
   "source": [
    "import pandas as pd\n",
    "import numpy as np\n",
    "import matplotlib.pyplot as plt\n",
    "import seaborn as sns"
   ]
  },
  {
   "cell_type": "code",
   "execution_count": 2,
   "metadata": {
    "executionInfo": {
     "elapsed": 947,
     "status": "ok",
     "timestamp": 1647267684280,
     "user": {
      "displayName": "Ramadhan Adi Putra",
      "photoUrl": "https://lh3.googleusercontent.com/a-/AOh14Ghwdoo2XwKDMyjKGaLxynmKohSaQKWtP9kSEg4AmA=s64",
      "userId": "17134522319796101163"
     },
     "user_tz": -420
    },
    "id": "3jvn1ZYPJC6_"
   },
   "outputs": [],
   "source": [
    "df= pd.read_csv('https://raw.githubusercontent.com/angkasatech/ds/37146328bc5814f4e7a0adb739e6574def32b6dc/banking_train.csv', delimiter=';')"
   ]
  },
  {
   "cell_type": "code",
   "execution_count": 3,
   "metadata": {
    "colab": {
     "base_uri": "https://localhost:8080/",
     "height": 194
    },
    "executionInfo": {
     "elapsed": 516,
     "status": "ok",
     "timestamp": 1647267686713,
     "user": {
      "displayName": "Ramadhan Adi Putra",
      "photoUrl": "https://lh3.googleusercontent.com/a-/AOh14Ghwdoo2XwKDMyjKGaLxynmKohSaQKWtP9kSEg4AmA=s64",
      "userId": "17134522319796101163"
     },
     "user_tz": -420
    },
    "id": "9YxcHDZbI_hp",
    "outputId": "27e52255-823d-43c0-dcc4-f03789d5bb03"
   },
   "outputs": [
    {
     "data": {
      "text/html": [
       "<div>\n",
       "<style scoped>\n",
       "    .dataframe tbody tr th:only-of-type {\n",
       "        vertical-align: middle;\n",
       "    }\n",
       "\n",
       "    .dataframe tbody tr th {\n",
       "        vertical-align: top;\n",
       "    }\n",
       "\n",
       "    .dataframe thead th {\n",
       "        text-align: right;\n",
       "    }\n",
       "</style>\n",
       "<table border=\"1\" class=\"dataframe\">\n",
       "  <thead>\n",
       "    <tr style=\"text-align: right;\">\n",
       "      <th></th>\n",
       "      <th>age</th>\n",
       "      <th>job</th>\n",
       "      <th>marital</th>\n",
       "      <th>education</th>\n",
       "      <th>default</th>\n",
       "      <th>balance</th>\n",
       "      <th>housing</th>\n",
       "      <th>loan</th>\n",
       "      <th>contact</th>\n",
       "      <th>day</th>\n",
       "      <th>month</th>\n",
       "      <th>duration</th>\n",
       "      <th>campaign</th>\n",
       "      <th>pdays</th>\n",
       "      <th>previous</th>\n",
       "      <th>poutcome</th>\n",
       "      <th>y</th>\n",
       "    </tr>\n",
       "  </thead>\n",
       "  <tbody>\n",
       "    <tr>\n",
       "      <th>0</th>\n",
       "      <td>58</td>\n",
       "      <td>management</td>\n",
       "      <td>married</td>\n",
       "      <td>tertiary</td>\n",
       "      <td>no</td>\n",
       "      <td>2143</td>\n",
       "      <td>yes</td>\n",
       "      <td>no</td>\n",
       "      <td>unknown</td>\n",
       "      <td>5</td>\n",
       "      <td>may</td>\n",
       "      <td>261</td>\n",
       "      <td>1</td>\n",
       "      <td>-1</td>\n",
       "      <td>0</td>\n",
       "      <td>unknown</td>\n",
       "      <td>no</td>\n",
       "    </tr>\n",
       "    <tr>\n",
       "      <th>1</th>\n",
       "      <td>44</td>\n",
       "      <td>technician</td>\n",
       "      <td>single</td>\n",
       "      <td>secondary</td>\n",
       "      <td>no</td>\n",
       "      <td>29</td>\n",
       "      <td>yes</td>\n",
       "      <td>no</td>\n",
       "      <td>unknown</td>\n",
       "      <td>5</td>\n",
       "      <td>may</td>\n",
       "      <td>151</td>\n",
       "      <td>1</td>\n",
       "      <td>-1</td>\n",
       "      <td>0</td>\n",
       "      <td>unknown</td>\n",
       "      <td>no</td>\n",
       "    </tr>\n",
       "    <tr>\n",
       "      <th>2</th>\n",
       "      <td>33</td>\n",
       "      <td>entrepreneur</td>\n",
       "      <td>married</td>\n",
       "      <td>secondary</td>\n",
       "      <td>no</td>\n",
       "      <td>2</td>\n",
       "      <td>yes</td>\n",
       "      <td>yes</td>\n",
       "      <td>unknown</td>\n",
       "      <td>5</td>\n",
       "      <td>may</td>\n",
       "      <td>76</td>\n",
       "      <td>1</td>\n",
       "      <td>-1</td>\n",
       "      <td>0</td>\n",
       "      <td>unknown</td>\n",
       "      <td>no</td>\n",
       "    </tr>\n",
       "    <tr>\n",
       "      <th>3</th>\n",
       "      <td>47</td>\n",
       "      <td>blue-collar</td>\n",
       "      <td>married</td>\n",
       "      <td>unknown</td>\n",
       "      <td>no</td>\n",
       "      <td>1506</td>\n",
       "      <td>yes</td>\n",
       "      <td>no</td>\n",
       "      <td>unknown</td>\n",
       "      <td>5</td>\n",
       "      <td>may</td>\n",
       "      <td>92</td>\n",
       "      <td>1</td>\n",
       "      <td>-1</td>\n",
       "      <td>0</td>\n",
       "      <td>unknown</td>\n",
       "      <td>no</td>\n",
       "    </tr>\n",
       "    <tr>\n",
       "      <th>4</th>\n",
       "      <td>33</td>\n",
       "      <td>unknown</td>\n",
       "      <td>single</td>\n",
       "      <td>unknown</td>\n",
       "      <td>no</td>\n",
       "      <td>1</td>\n",
       "      <td>no</td>\n",
       "      <td>no</td>\n",
       "      <td>unknown</td>\n",
       "      <td>5</td>\n",
       "      <td>may</td>\n",
       "      <td>198</td>\n",
       "      <td>1</td>\n",
       "      <td>-1</td>\n",
       "      <td>0</td>\n",
       "      <td>unknown</td>\n",
       "      <td>no</td>\n",
       "    </tr>\n",
       "  </tbody>\n",
       "</table>\n",
       "</div>"
      ],
      "text/plain": [
       "   age           job  marital  education default  balance housing loan  \\\n",
       "0   58    management  married   tertiary      no     2143     yes   no   \n",
       "1   44    technician   single  secondary      no       29     yes   no   \n",
       "2   33  entrepreneur  married  secondary      no        2     yes  yes   \n",
       "3   47   blue-collar  married    unknown      no     1506     yes   no   \n",
       "4   33       unknown   single    unknown      no        1      no   no   \n",
       "\n",
       "   contact  day month  duration  campaign  pdays  previous poutcome   y  \n",
       "0  unknown    5   may       261         1     -1         0  unknown  no  \n",
       "1  unknown    5   may       151         1     -1         0  unknown  no  \n",
       "2  unknown    5   may        76         1     -1         0  unknown  no  \n",
       "3  unknown    5   may        92         1     -1         0  unknown  no  \n",
       "4  unknown    5   may       198         1     -1         0  unknown  no  "
      ]
     },
     "execution_count": 3,
     "metadata": {},
     "output_type": "execute_result"
    }
   ],
   "source": [
    "df.head()"
   ]
  },
  {
   "cell_type": "code",
   "execution_count": 4,
   "metadata": {
    "colab": {
     "base_uri": "https://localhost:8080/"
    },
    "executionInfo": {
     "elapsed": 10,
     "status": "ok",
     "timestamp": 1647267686715,
     "user": {
      "displayName": "Ramadhan Adi Putra",
      "photoUrl": "https://lh3.googleusercontent.com/a-/AOh14Ghwdoo2XwKDMyjKGaLxynmKohSaQKWtP9kSEg4AmA=s64",
      "userId": "17134522319796101163"
     },
     "user_tz": -420
    },
    "id": "Dpl8wYY8Qe5p",
    "outputId": "2843238a-7f71-4290-d9f0-80f24d6cfbcd"
   },
   "outputs": [
    {
     "name": "stdout",
     "output_type": "stream",
     "text": [
      "<class 'pandas.core.frame.DataFrame'>\n",
      "RangeIndex: 45211 entries, 0 to 45210\n",
      "Data columns (total 17 columns):\n",
      " #   Column     Non-Null Count  Dtype \n",
      "---  ------     --------------  ----- \n",
      " 0   age        45211 non-null  int64 \n",
      " 1   job        45211 non-null  object\n",
      " 2   marital    45211 non-null  object\n",
      " 3   education  45211 non-null  object\n",
      " 4   default    45211 non-null  object\n",
      " 5   balance    45211 non-null  int64 \n",
      " 6   housing    45211 non-null  object\n",
      " 7   loan       45211 non-null  object\n",
      " 8   contact    45211 non-null  object\n",
      " 9   day        45211 non-null  int64 \n",
      " 10  month      45211 non-null  object\n",
      " 11  duration   45211 non-null  int64 \n",
      " 12  campaign   45211 non-null  int64 \n",
      " 13  pdays      45211 non-null  int64 \n",
      " 14  previous   45211 non-null  int64 \n",
      " 15  poutcome   45211 non-null  object\n",
      " 16  y          45211 non-null  object\n",
      "dtypes: int64(7), object(10)\n",
      "memory usage: 5.9+ MB\n"
     ]
    }
   ],
   "source": [
    "#the dataframe has 45211 entries and 17 columns\n",
    "#there are 17 columns with 7 int64 dtype and 10 object dtype\n",
    "df.info()"
   ]
  },
  {
   "cell_type": "markdown",
   "metadata": {
    "id": "zcsDyHtVJ5kO"
   },
   "source": [
    "#Data Cleansing"
   ]
  },
  {
   "cell_type": "markdown",
   "metadata": {
    "id": "zjWSbQ8fJ9x0"
   },
   "source": [
    "## Handle Missing Values"
   ]
  },
  {
   "cell_type": "code",
   "execution_count": 5,
   "metadata": {
    "colab": {
     "base_uri": "https://localhost:8080/"
    },
    "executionInfo": {
     "elapsed": 11,
     "status": "ok",
     "timestamp": 1647267688223,
     "user": {
      "displayName": "Ramadhan Adi Putra",
      "photoUrl": "https://lh3.googleusercontent.com/a-/AOh14Ghwdoo2XwKDMyjKGaLxynmKohSaQKWtP9kSEg4AmA=s64",
      "userId": "17134522319796101163"
     },
     "user_tz": -420
    },
    "id": "N1mHLtQGKB4v",
    "outputId": "7e928e2e-d119-4f33-b702-164cf374742c"
   },
   "outputs": [
    {
     "data": {
      "text/plain": [
       "age          0\n",
       "job          0\n",
       "marital      0\n",
       "education    0\n",
       "default      0\n",
       "balance      0\n",
       "housing      0\n",
       "loan         0\n",
       "contact      0\n",
       "day          0\n",
       "month        0\n",
       "duration     0\n",
       "campaign     0\n",
       "pdays        0\n",
       "previous     0\n",
       "poutcome     0\n",
       "y            0\n",
       "dtype: int64"
      ]
     },
     "execution_count": 5,
     "metadata": {},
     "output_type": "execute_result"
    }
   ],
   "source": [
    "#check for missing values\n",
    "df.isnull().sum()"
   ]
  },
  {
   "cell_type": "markdown",
   "metadata": {
    "id": "itNU2ue_QrVl"
   },
   "source": [
    "Seperti yang ditampilkan di atas, tidak terdapat missing values pada setiap kolomnya."
   ]
  },
  {
   "cell_type": "markdown",
   "metadata": {
    "id": "HMFyXcwBKC-L"
   },
   "source": [
    "## Handle Duplicate Data"
   ]
  },
  {
   "cell_type": "code",
   "execution_count": 6,
   "metadata": {
    "colab": {
     "base_uri": "https://localhost:8080/"
    },
    "executionInfo": {
     "elapsed": 892,
     "status": "ok",
     "timestamp": 1647267692839,
     "user": {
      "displayName": "Ramadhan Adi Putra",
      "photoUrl": "https://lh3.googleusercontent.com/a-/AOh14Ghwdoo2XwKDMyjKGaLxynmKohSaQKWtP9kSEg4AmA=s64",
      "userId": "17134522319796101163"
     },
     "user_tz": -420
    },
    "id": "Y7ej09k_KCWQ",
    "outputId": "e689101b-ea4d-4eb9-cf6e-bb7c7bd4f2c1"
   },
   "outputs": [
    {
     "data": {
      "text/plain": [
       "0"
      ]
     },
     "execution_count": 6,
     "metadata": {},
     "output_type": "execute_result"
    }
   ],
   "source": [
    "df.duplicated().sum()"
   ]
  },
  {
   "cell_type": "markdown",
   "metadata": {
    "id": "KRQSC-JyQz0f"
   },
   "source": [
    "berdasarkan semua kolom, tidak terdapat kolom yang duplikat. Hal ini dikarenakan dia menghitung nilai duplicated berdasarkan semua kolom\n",
    "\n",
    "Kita harus menggunakan kolom yang memiliki hubungan dengan bank client, yang bisa digunakan sebagai identifier tiap customernya, dalam dataframe ini, kita bisa menggunakan kolom:\n",
    "- age : Umur Customer\n",
    "- job : Jenis pekerjaan customer(categorical: \"admin.\",\"unknown\",\"unemployed\",\"management\",\"housemaid\",\"entrepreneur\",\"student\", \"blue-collar\",\"self-employed\",\"retired\",\"technician\",\"services\")\n",
    "- marital : Status pernikahan Customer(categorical: \"married\",\"divorced\",\"single\"; note: \"divorced\" means divorced or widowed)\n",
    "- education : Tingkat pendidikan customer (categorical: \"unknown\",\"secondary\",\"primary\",\"tertiary\")\n",
    "- default: kepemilikan customer terhadap credit default? (binary: \"yes\",\"no\")\n",
    "- balance: rata-rata pendapatan customer per tahun, in euros (numeric)\n",
    "- housing: kepemilikan customer terhadap pinjaman rumah? (binary: \"yes\",\"no\")\n",
    "- loan: kepemilikan customer terhadap pinjaman pribadi? (binary: \"yes\",\"no\")"
   ]
  },
  {
   "cell_type": "code",
   "execution_count": 7,
   "metadata": {
    "colab": {
     "base_uri": "https://localhost:8080/"
    },
    "executionInfo": {
     "elapsed": 7,
     "status": "ok",
     "timestamp": 1647267694830,
     "user": {
      "displayName": "Ramadhan Adi Putra",
      "photoUrl": "https://lh3.googleusercontent.com/a-/AOh14Ghwdoo2XwKDMyjKGaLxynmKohSaQKWtP9kSEg4AmA=s64",
      "userId": "17134522319796101163"
     },
     "user_tz": -420
    },
    "id": "WCqZYmOcQxTZ",
    "outputId": "811ee1d6-6709-49b9-952b-16633dd411d0"
   },
   "outputs": [
    {
     "data": {
      "text/plain": [
       "4163"
      ]
     },
     "execution_count": 7,
     "metadata": {},
     "output_type": "execute_result"
    }
   ],
   "source": [
    "df.duplicated(subset='age balance job marital education default housing loan'.split()).sum()"
   ]
  },
  {
   "cell_type": "code",
   "execution_count": 8,
   "metadata": {
    "colab": {
     "base_uri": "https://localhost:8080/",
     "height": 399
    },
    "executionInfo": {
     "elapsed": 9,
     "status": "ok",
     "timestamp": 1647267695545,
     "user": {
      "displayName": "Ramadhan Adi Putra",
      "photoUrl": "https://lh3.googleusercontent.com/a-/AOh14Ghwdoo2XwKDMyjKGaLxynmKohSaQKWtP9kSEg4AmA=s64",
      "userId": "17134522319796101163"
     },
     "user_tz": -420
    },
    "id": "kU-PjsBdQ5QI",
    "outputId": "49a829c9-4fe0-43a0-fde3-debd9001db1a"
   },
   "outputs": [
    {
     "data": {
      "text/html": [
       "<div>\n",
       "<style scoped>\n",
       "    .dataframe tbody tr th:only-of-type {\n",
       "        vertical-align: middle;\n",
       "    }\n",
       "\n",
       "    .dataframe tbody tr th {\n",
       "        vertical-align: top;\n",
       "    }\n",
       "\n",
       "    .dataframe thead th {\n",
       "        text-align: right;\n",
       "    }\n",
       "</style>\n",
       "<table border=\"1\" class=\"dataframe\">\n",
       "  <thead>\n",
       "    <tr style=\"text-align: right;\">\n",
       "      <th></th>\n",
       "      <th>age</th>\n",
       "      <th>job</th>\n",
       "      <th>marital</th>\n",
       "      <th>education</th>\n",
       "      <th>default</th>\n",
       "      <th>balance</th>\n",
       "      <th>housing</th>\n",
       "      <th>loan</th>\n",
       "      <th>contact</th>\n",
       "      <th>day</th>\n",
       "      <th>month</th>\n",
       "      <th>duration</th>\n",
       "      <th>campaign</th>\n",
       "      <th>pdays</th>\n",
       "      <th>previous</th>\n",
       "      <th>poutcome</th>\n",
       "      <th>y</th>\n",
       "    </tr>\n",
       "  </thead>\n",
       "  <tbody>\n",
       "    <tr>\n",
       "      <th>492</th>\n",
       "      <td>36</td>\n",
       "      <td>blue-collar</td>\n",
       "      <td>married</td>\n",
       "      <td>secondary</td>\n",
       "      <td>no</td>\n",
       "      <td>0</td>\n",
       "      <td>yes</td>\n",
       "      <td>no</td>\n",
       "      <td>unknown</td>\n",
       "      <td>6</td>\n",
       "      <td>may</td>\n",
       "      <td>337</td>\n",
       "      <td>1</td>\n",
       "      <td>-1</td>\n",
       "      <td>0</td>\n",
       "      <td>unknown</td>\n",
       "      <td>no</td>\n",
       "    </tr>\n",
       "    <tr>\n",
       "      <th>523</th>\n",
       "      <td>29</td>\n",
       "      <td>management</td>\n",
       "      <td>single</td>\n",
       "      <td>tertiary</td>\n",
       "      <td>no</td>\n",
       "      <td>0</td>\n",
       "      <td>yes</td>\n",
       "      <td>no</td>\n",
       "      <td>unknown</td>\n",
       "      <td>6</td>\n",
       "      <td>may</td>\n",
       "      <td>211</td>\n",
       "      <td>1</td>\n",
       "      <td>-1</td>\n",
       "      <td>0</td>\n",
       "      <td>unknown</td>\n",
       "      <td>no</td>\n",
       "    </tr>\n",
       "    <tr>\n",
       "      <th>644</th>\n",
       "      <td>43</td>\n",
       "      <td>unemployed</td>\n",
       "      <td>married</td>\n",
       "      <td>secondary</td>\n",
       "      <td>no</td>\n",
       "      <td>0</td>\n",
       "      <td>yes</td>\n",
       "      <td>no</td>\n",
       "      <td>unknown</td>\n",
       "      <td>6</td>\n",
       "      <td>may</td>\n",
       "      <td>37</td>\n",
       "      <td>2</td>\n",
       "      <td>-1</td>\n",
       "      <td>0</td>\n",
       "      <td>unknown</td>\n",
       "      <td>no</td>\n",
       "    </tr>\n",
       "    <tr>\n",
       "      <th>772</th>\n",
       "      <td>42</td>\n",
       "      <td>technician</td>\n",
       "      <td>single</td>\n",
       "      <td>secondary</td>\n",
       "      <td>no</td>\n",
       "      <td>0</td>\n",
       "      <td>yes</td>\n",
       "      <td>no</td>\n",
       "      <td>unknown</td>\n",
       "      <td>7</td>\n",
       "      <td>may</td>\n",
       "      <td>275</td>\n",
       "      <td>4</td>\n",
       "      <td>-1</td>\n",
       "      <td>0</td>\n",
       "      <td>unknown</td>\n",
       "      <td>no</td>\n",
       "    </tr>\n",
       "    <tr>\n",
       "      <th>779</th>\n",
       "      <td>42</td>\n",
       "      <td>admin.</td>\n",
       "      <td>married</td>\n",
       "      <td>secondary</td>\n",
       "      <td>no</td>\n",
       "      <td>445</td>\n",
       "      <td>yes</td>\n",
       "      <td>no</td>\n",
       "      <td>unknown</td>\n",
       "      <td>7</td>\n",
       "      <td>may</td>\n",
       "      <td>202</td>\n",
       "      <td>2</td>\n",
       "      <td>-1</td>\n",
       "      <td>0</td>\n",
       "      <td>unknown</td>\n",
       "      <td>no</td>\n",
       "    </tr>\n",
       "    <tr>\n",
       "      <th>...</th>\n",
       "      <td>...</td>\n",
       "      <td>...</td>\n",
       "      <td>...</td>\n",
       "      <td>...</td>\n",
       "      <td>...</td>\n",
       "      <td>...</td>\n",
       "      <td>...</td>\n",
       "      <td>...</td>\n",
       "      <td>...</td>\n",
       "      <td>...</td>\n",
       "      <td>...</td>\n",
       "      <td>...</td>\n",
       "      <td>...</td>\n",
       "      <td>...</td>\n",
       "      <td>...</td>\n",
       "      <td>...</td>\n",
       "      <td>...</td>\n",
       "    </tr>\n",
       "    <tr>\n",
       "      <th>45193</th>\n",
       "      <td>28</td>\n",
       "      <td>self-employed</td>\n",
       "      <td>single</td>\n",
       "      <td>tertiary</td>\n",
       "      <td>no</td>\n",
       "      <td>159</td>\n",
       "      <td>no</td>\n",
       "      <td>no</td>\n",
       "      <td>cellular</td>\n",
       "      <td>16</td>\n",
       "      <td>nov</td>\n",
       "      <td>449</td>\n",
       "      <td>2</td>\n",
       "      <td>33</td>\n",
       "      <td>4</td>\n",
       "      <td>success</td>\n",
       "      <td>yes</td>\n",
       "    </tr>\n",
       "    <tr>\n",
       "      <th>45194</th>\n",
       "      <td>59</td>\n",
       "      <td>management</td>\n",
       "      <td>married</td>\n",
       "      <td>tertiary</td>\n",
       "      <td>no</td>\n",
       "      <td>138</td>\n",
       "      <td>yes</td>\n",
       "      <td>yes</td>\n",
       "      <td>cellular</td>\n",
       "      <td>16</td>\n",
       "      <td>nov</td>\n",
       "      <td>162</td>\n",
       "      <td>2</td>\n",
       "      <td>187</td>\n",
       "      <td>5</td>\n",
       "      <td>failure</td>\n",
       "      <td>no</td>\n",
       "    </tr>\n",
       "    <tr>\n",
       "      <th>45195</th>\n",
       "      <td>68</td>\n",
       "      <td>retired</td>\n",
       "      <td>married</td>\n",
       "      <td>secondary</td>\n",
       "      <td>no</td>\n",
       "      <td>1146</td>\n",
       "      <td>no</td>\n",
       "      <td>no</td>\n",
       "      <td>cellular</td>\n",
       "      <td>16</td>\n",
       "      <td>nov</td>\n",
       "      <td>212</td>\n",
       "      <td>1</td>\n",
       "      <td>187</td>\n",
       "      <td>6</td>\n",
       "      <td>success</td>\n",
       "      <td>yes</td>\n",
       "    </tr>\n",
       "    <tr>\n",
       "      <th>45204</th>\n",
       "      <td>73</td>\n",
       "      <td>retired</td>\n",
       "      <td>married</td>\n",
       "      <td>secondary</td>\n",
       "      <td>no</td>\n",
       "      <td>2850</td>\n",
       "      <td>no</td>\n",
       "      <td>no</td>\n",
       "      <td>cellular</td>\n",
       "      <td>17</td>\n",
       "      <td>nov</td>\n",
       "      <td>300</td>\n",
       "      <td>1</td>\n",
       "      <td>40</td>\n",
       "      <td>8</td>\n",
       "      <td>failure</td>\n",
       "      <td>yes</td>\n",
       "    </tr>\n",
       "    <tr>\n",
       "      <th>45208</th>\n",
       "      <td>72</td>\n",
       "      <td>retired</td>\n",
       "      <td>married</td>\n",
       "      <td>secondary</td>\n",
       "      <td>no</td>\n",
       "      <td>5715</td>\n",
       "      <td>no</td>\n",
       "      <td>no</td>\n",
       "      <td>cellular</td>\n",
       "      <td>17</td>\n",
       "      <td>nov</td>\n",
       "      <td>1127</td>\n",
       "      <td>5</td>\n",
       "      <td>184</td>\n",
       "      <td>3</td>\n",
       "      <td>success</td>\n",
       "      <td>yes</td>\n",
       "    </tr>\n",
       "  </tbody>\n",
       "</table>\n",
       "<p>4163 rows × 17 columns</p>\n",
       "</div>"
      ],
      "text/plain": [
       "       age            job  marital  education default  balance housing loan  \\\n",
       "492     36    blue-collar  married  secondary      no        0     yes   no   \n",
       "523     29     management   single   tertiary      no        0     yes   no   \n",
       "644     43     unemployed  married  secondary      no        0     yes   no   \n",
       "772     42     technician   single  secondary      no        0     yes   no   \n",
       "779     42         admin.  married  secondary      no      445     yes   no   \n",
       "...    ...            ...      ...        ...     ...      ...     ...  ...   \n",
       "45193   28  self-employed   single   tertiary      no      159      no   no   \n",
       "45194   59     management  married   tertiary      no      138     yes  yes   \n",
       "45195   68        retired  married  secondary      no     1146      no   no   \n",
       "45204   73        retired  married  secondary      no     2850      no   no   \n",
       "45208   72        retired  married  secondary      no     5715      no   no   \n",
       "\n",
       "        contact  day month  duration  campaign  pdays  previous poutcome    y  \n",
       "492     unknown    6   may       337         1     -1         0  unknown   no  \n",
       "523     unknown    6   may       211         1     -1         0  unknown   no  \n",
       "644     unknown    6   may        37         2     -1         0  unknown   no  \n",
       "772     unknown    7   may       275         4     -1         0  unknown   no  \n",
       "779     unknown    7   may       202         2     -1         0  unknown   no  \n",
       "...         ...  ...   ...       ...       ...    ...       ...      ...  ...  \n",
       "45193  cellular   16   nov       449         2     33         4  success  yes  \n",
       "45194  cellular   16   nov       162         2    187         5  failure   no  \n",
       "45195  cellular   16   nov       212         1    187         6  success  yes  \n",
       "45204  cellular   17   nov       300         1     40         8  failure  yes  \n",
       "45208  cellular   17   nov      1127         5    184         3  success  yes  \n",
       "\n",
       "[4163 rows x 17 columns]"
      ]
     },
     "execution_count": 8,
     "metadata": {},
     "output_type": "execute_result"
    }
   ],
   "source": [
    "#show the duplicate column\n",
    "df[df.duplicated(subset='age balance job marital education default housing loan'.split())]"
   ]
  },
  {
   "cell_type": "markdown",
   "metadata": {
    "id": "rzADetm-Q_dS"
   },
   "source": [
    "Terdapat 4163 baris yang memiliki nilai duplikat berdasarkan kolom age, balance, job, marital, education, default, housing, dan loan\n",
    "\n",
    "drop the duplicate column"
   ]
  },
  {
   "cell_type": "code",
   "execution_count": 9,
   "metadata": {
    "executionInfo": {
     "elapsed": 3,
     "status": "ok",
     "timestamp": 1647267696091,
     "user": {
      "displayName": "Ramadhan Adi Putra",
      "photoUrl": "https://lh3.googleusercontent.com/a-/AOh14Ghwdoo2XwKDMyjKGaLxynmKohSaQKWtP9kSEg4AmA=s64",
      "userId": "17134522319796101163"
     },
     "user_tz": -420
    },
    "id": "ForBPZhvRExE"
   },
   "outputs": [],
   "source": [
    "df.drop_duplicates(subset='age balance job marital education default housing loan'.split(), inplace=True)"
   ]
  },
  {
   "cell_type": "code",
   "execution_count": 10,
   "metadata": {
    "colab": {
     "base_uri": "https://localhost:8080/"
    },
    "executionInfo": {
     "elapsed": 18,
     "status": "ok",
     "timestamp": 1647267696551,
     "user": {
      "displayName": "Ramadhan Adi Putra",
      "photoUrl": "https://lh3.googleusercontent.com/a-/AOh14Ghwdoo2XwKDMyjKGaLxynmKohSaQKWtP9kSEg4AmA=s64",
      "userId": "17134522319796101163"
     },
     "user_tz": -420
    },
    "id": "LcP6WcSbRHvn",
    "outputId": "8b1a461b-c74b-4c78-ac5b-8dec74489534"
   },
   "outputs": [
    {
     "data": {
      "text/plain": [
       "0"
      ]
     },
     "execution_count": 10,
     "metadata": {},
     "output_type": "execute_result"
    }
   ],
   "source": [
    "df.duplicated(subset='age balance job marital education default housing loan'.split()).sum()"
   ]
  },
  {
   "cell_type": "markdown",
   "metadata": {
    "id": "QMKnVFUzRLS2"
   },
   "source": [
    "the duplicate values have been dropped succesfully"
   ]
  },
  {
   "cell_type": "markdown",
   "metadata": {
    "id": "ZWVkCyK2RT0t"
   },
   "source": [
    "## Handling Data Bermasalah Lainnnya"
   ]
  },
  {
   "cell_type": "code",
   "execution_count": 11,
   "metadata": {
    "colab": {
     "base_uri": "https://localhost:8080/"
    },
    "executionInfo": {
     "elapsed": 692,
     "status": "ok",
     "timestamp": 1647267698319,
     "user": {
      "displayName": "Ramadhan Adi Putra",
      "photoUrl": "https://lh3.googleusercontent.com/a-/AOh14Ghwdoo2XwKDMyjKGaLxynmKohSaQKWtP9kSEg4AmA=s64",
      "userId": "17134522319796101163"
     },
     "user_tz": -420
    },
    "id": "a9fk7nrVRJVw",
    "outputId": "51ea43bc-670b-40df-e19b-4139689e104e"
   },
   "outputs": [
    {
     "data": {
      "text/plain": [
       "age          0\n",
       "job          0\n",
       "marital      0\n",
       "education    0\n",
       "default      0\n",
       "balance      0\n",
       "housing      0\n",
       "loan         0\n",
       "contact      0\n",
       "day          0\n",
       "month        0\n",
       "duration     0\n",
       "campaign     0\n",
       "pdays        0\n",
       "previous     0\n",
       "poutcome     0\n",
       "y            0\n",
       "dtype: int64"
      ]
     },
     "execution_count": 11,
     "metadata": {},
     "output_type": "execute_result"
    }
   ],
   "source": [
    "df.isnull().sum()"
   ]
  },
  {
   "cell_type": "markdown",
   "metadata": {
    "id": "hY8Xo46lRgRO"
   },
   "source": [
    "Walaupun tidak terdapat missing value pada setiap kolom, tetapi kita tetap perlu melihat nilai dari setiap masing-masing kolom. Apakah terdapat nilai-nilai yang unik, aneh, ataupun yang bermasalah yang kita perlua lakukan treatment?"
   ]
  },
  {
   "cell_type": "markdown",
   "metadata": {
    "id": "lNTCXgjdWZhQ"
   },
   "source": [
    "### For categorical datatype"
   ]
  },
  {
   "cell_type": "code",
   "execution_count": 12,
   "metadata": {
    "colab": {
     "base_uri": "https://localhost:8080/",
     "height": 164
    },
    "executionInfo": {
     "elapsed": 7,
     "status": "ok",
     "timestamp": 1647267699094,
     "user": {
      "displayName": "Ramadhan Adi Putra",
      "photoUrl": "https://lh3.googleusercontent.com/a-/AOh14Ghwdoo2XwKDMyjKGaLxynmKohSaQKWtP9kSEg4AmA=s64",
      "userId": "17134522319796101163"
     },
     "user_tz": -420
    },
    "id": "XWtD5MhKRiv_",
    "outputId": "496e7ad0-32a5-4647-9a50-0393aa04ecf5"
   },
   "outputs": [
    {
     "data": {
      "text/html": [
       "<div>\n",
       "<style scoped>\n",
       "    .dataframe tbody tr th:only-of-type {\n",
       "        vertical-align: middle;\n",
       "    }\n",
       "\n",
       "    .dataframe tbody tr th {\n",
       "        vertical-align: top;\n",
       "    }\n",
       "\n",
       "    .dataframe thead th {\n",
       "        text-align: right;\n",
       "    }\n",
       "</style>\n",
       "<table border=\"1\" class=\"dataframe\">\n",
       "  <thead>\n",
       "    <tr style=\"text-align: right;\">\n",
       "      <th></th>\n",
       "      <th>job</th>\n",
       "      <th>marital</th>\n",
       "      <th>education</th>\n",
       "      <th>default</th>\n",
       "      <th>housing</th>\n",
       "      <th>loan</th>\n",
       "      <th>contact</th>\n",
       "      <th>month</th>\n",
       "      <th>poutcome</th>\n",
       "      <th>y</th>\n",
       "    </tr>\n",
       "  </thead>\n",
       "  <tbody>\n",
       "    <tr>\n",
       "      <th>count</th>\n",
       "      <td>41048</td>\n",
       "      <td>41048</td>\n",
       "      <td>41048</td>\n",
       "      <td>41048</td>\n",
       "      <td>41048</td>\n",
       "      <td>41048</td>\n",
       "      <td>41048</td>\n",
       "      <td>41048</td>\n",
       "      <td>41048</td>\n",
       "      <td>41048</td>\n",
       "    </tr>\n",
       "    <tr>\n",
       "      <th>unique</th>\n",
       "      <td>12</td>\n",
       "      <td>3</td>\n",
       "      <td>4</td>\n",
       "      <td>2</td>\n",
       "      <td>2</td>\n",
       "      <td>2</td>\n",
       "      <td>3</td>\n",
       "      <td>12</td>\n",
       "      <td>4</td>\n",
       "      <td>2</td>\n",
       "    </tr>\n",
       "    <tr>\n",
       "      <th>top</th>\n",
       "      <td>blue-collar</td>\n",
       "      <td>married</td>\n",
       "      <td>secondary</td>\n",
       "      <td>no</td>\n",
       "      <td>yes</td>\n",
       "      <td>no</td>\n",
       "      <td>cellular</td>\n",
       "      <td>may</td>\n",
       "      <td>unknown</td>\n",
       "      <td>no</td>\n",
       "    </tr>\n",
       "    <tr>\n",
       "      <th>freq</th>\n",
       "      <td>9068</td>\n",
       "      <td>24571</td>\n",
       "      <td>21188</td>\n",
       "      <td>40251</td>\n",
       "      <td>23097</td>\n",
       "      <td>34172</td>\n",
       "      <td>25620</td>\n",
       "      <td>13022</td>\n",
       "      <td>35636</td>\n",
       "      <td>36707</td>\n",
       "    </tr>\n",
       "  </tbody>\n",
       "</table>\n",
       "</div>"
      ],
      "text/plain": [
       "                job  marital  education default housing   loan   contact  \\\n",
       "count         41048    41048      41048   41048   41048  41048     41048   \n",
       "unique           12        3          4       2       2      2         3   \n",
       "top     blue-collar  married  secondary      no     yes     no  cellular   \n",
       "freq           9068    24571      21188   40251   23097  34172     25620   \n",
       "\n",
       "        month poutcome      y  \n",
       "count   41048    41048  41048  \n",
       "unique     12        4      2  \n",
       "top       may  unknown     no  \n",
       "freq    13022    35636  36707  "
      ]
     },
     "execution_count": 12,
     "metadata": {},
     "output_type": "execute_result"
    }
   ],
   "source": [
    "df.describe(include=['O'])"
   ]
  },
  {
   "cell_type": "markdown",
   "metadata": {
    "id": "9bmMvunnRoBw"
   },
   "source": [
    "Jika kita lihat dari nilai statistik deskriptif untuk kolom kategorikal, seperti tidak terlihat ada data-data yang bermasalah. Kita perlu mencoba untuk menghitung nilai yang muncul pada setiap kolom kategorikal"
   ]
  },
  {
   "cell_type": "code",
   "execution_count": 13,
   "metadata": {
    "colab": {
     "base_uri": "https://localhost:8080/"
    },
    "executionInfo": {
     "elapsed": 23,
     "status": "ok",
     "timestamp": 1647267700620,
     "user": {
      "displayName": "Ramadhan Adi Putra",
      "photoUrl": "https://lh3.googleusercontent.com/a-/AOh14Ghwdoo2XwKDMyjKGaLxynmKohSaQKWtP9kSEg4AmA=s64",
      "userId": "17134522319796101163"
     },
     "user_tz": -420
    },
    "id": "yGueEnewRndo",
    "outputId": "e31c8d8f-284a-477b-b584-3c2b4bd6752a"
   },
   "outputs": [
    {
     "data": {
      "text/plain": [
       "blue-collar      9068\n",
       "management       8301\n",
       "technician       6817\n",
       "admin.           4711\n",
       "services         3863\n",
       "retired          1997\n",
       "self-employed    1455\n",
       "entrepreneur     1388\n",
       "unemployed       1210\n",
       "housemaid        1148\n",
       "student           818\n",
       "unknown           272\n",
       "Name: job, dtype: int64"
      ]
     },
     "execution_count": 13,
     "metadata": {},
     "output_type": "execute_result"
    }
   ],
   "source": [
    "#value_counts untuk kolom job\n",
    "df.job.value_counts()"
   ]
  },
  {
   "cell_type": "code",
   "execution_count": 14,
   "metadata": {
    "colab": {
     "base_uri": "https://localhost:8080/"
    },
    "executionInfo": {
     "elapsed": 12,
     "status": "ok",
     "timestamp": 1647267700621,
     "user": {
      "displayName": "Ramadhan Adi Putra",
      "photoUrl": "https://lh3.googleusercontent.com/a-/AOh14Ghwdoo2XwKDMyjKGaLxynmKohSaQKWtP9kSEg4AmA=s64",
      "userId": "17134522319796101163"
     },
     "user_tz": -420
    },
    "id": "Ql2GQ90oRrbQ",
    "outputId": "987d279c-d35d-4f98-b7a6-afed2fdefa62"
   },
   "outputs": [
    {
     "data": {
      "text/plain": [
       "married     24571\n",
       "single      11630\n",
       "divorced     4847\n",
       "Name: marital, dtype: int64"
      ]
     },
     "execution_count": 14,
     "metadata": {},
     "output_type": "execute_result"
    }
   ],
   "source": [
    "#value_counts untuk kolom marital\n",
    "df.marital.value_counts()"
   ]
  },
  {
   "cell_type": "code",
   "execution_count": 15,
   "metadata": {
    "colab": {
     "base_uri": "https://localhost:8080/"
    },
    "executionInfo": {
     "elapsed": 10,
     "status": "ok",
     "timestamp": 1647267701515,
     "user": {
      "displayName": "Ramadhan Adi Putra",
      "photoUrl": "https://lh3.googleusercontent.com/a-/AOh14Ghwdoo2XwKDMyjKGaLxynmKohSaQKWtP9kSEg4AmA=s64",
      "userId": "17134522319796101163"
     },
     "user_tz": -420
    },
    "id": "O90HbUuaRtOn",
    "outputId": "f9188f7f-5002-4121-f076-dd2fdbe06063"
   },
   "outputs": [
    {
     "data": {
      "text/plain": [
       "secondary    21188\n",
       "tertiary     11710\n",
       "primary       6408\n",
       "unknown       1742\n",
       "Name: education, dtype: int64"
      ]
     },
     "execution_count": 15,
     "metadata": {},
     "output_type": "execute_result"
    }
   ],
   "source": [
    "#value_counts untuk kolom education\n",
    "df.education.value_counts()"
   ]
  },
  {
   "cell_type": "code",
   "execution_count": 16,
   "metadata": {
    "colab": {
     "base_uri": "https://localhost:8080/"
    },
    "executionInfo": {
     "elapsed": 10,
     "status": "ok",
     "timestamp": 1647267701517,
     "user": {
      "displayName": "Ramadhan Adi Putra",
      "photoUrl": "https://lh3.googleusercontent.com/a-/AOh14Ghwdoo2XwKDMyjKGaLxynmKohSaQKWtP9kSEg4AmA=s64",
      "userId": "17134522319796101163"
     },
     "user_tz": -420
    },
    "id": "9tkAeX1fRvMF",
    "outputId": "a4adf401-6749-4b0d-b5c7-6389c777eec4"
   },
   "outputs": [
    {
     "data": {
      "text/plain": [
       "no     40251\n",
       "yes      797\n",
       "Name: default, dtype: int64"
      ]
     },
     "execution_count": 16,
     "metadata": {},
     "output_type": "execute_result"
    }
   ],
   "source": [
    "#value_counts untuk kolom default\n",
    "df.default.value_counts()"
   ]
  },
  {
   "cell_type": "code",
   "execution_count": 17,
   "metadata": {
    "colab": {
     "base_uri": "https://localhost:8080/"
    },
    "executionInfo": {
     "elapsed": 20,
     "status": "ok",
     "timestamp": 1647267702476,
     "user": {
      "displayName": "Ramadhan Adi Putra",
      "photoUrl": "https://lh3.googleusercontent.com/a-/AOh14Ghwdoo2XwKDMyjKGaLxynmKohSaQKWtP9kSEg4AmA=s64",
      "userId": "17134522319796101163"
     },
     "user_tz": -420
    },
    "id": "HOIPq-P5Rxux",
    "outputId": "584e99f2-5dd8-48b1-b23d-3b29a270a9ed"
   },
   "outputs": [
    {
     "data": {
      "text/plain": [
       "yes    23097\n",
       "no     17951\n",
       "Name: housing, dtype: int64"
      ]
     },
     "execution_count": 17,
     "metadata": {},
     "output_type": "execute_result"
    }
   ],
   "source": [
    "#value_counts untuk kolom housing\n",
    "df.housing.value_counts()"
   ]
  },
  {
   "cell_type": "code",
   "execution_count": 18,
   "metadata": {
    "colab": {
     "base_uri": "https://localhost:8080/"
    },
    "executionInfo": {
     "elapsed": 19,
     "status": "ok",
     "timestamp": 1647267702476,
     "user": {
      "displayName": "Ramadhan Adi Putra",
      "photoUrl": "https://lh3.googleusercontent.com/a-/AOh14Ghwdoo2XwKDMyjKGaLxynmKohSaQKWtP9kSEg4AmA=s64",
      "userId": "17134522319796101163"
     },
     "user_tz": -420
    },
    "id": "c0eDWSI6Rz05",
    "outputId": "99b4d9b5-9262-4008-b7dc-35f4effbdf21"
   },
   "outputs": [
    {
     "data": {
      "text/plain": [
       "no     34172\n",
       "yes     6876\n",
       "Name: loan, dtype: int64"
      ]
     },
     "execution_count": 18,
     "metadata": {},
     "output_type": "execute_result"
    }
   ],
   "source": [
    "#value_counts untuk kolom loan\n",
    "df.loan.value_counts()"
   ]
  },
  {
   "cell_type": "code",
   "execution_count": 19,
   "metadata": {
    "colab": {
     "base_uri": "https://localhost:8080/"
    },
    "executionInfo": {
     "elapsed": 17,
     "status": "ok",
     "timestamp": 1647267702477,
     "user": {
      "displayName": "Ramadhan Adi Putra",
      "photoUrl": "https://lh3.googleusercontent.com/a-/AOh14Ghwdoo2XwKDMyjKGaLxynmKohSaQKWtP9kSEg4AmA=s64",
      "userId": "17134522319796101163"
     },
     "user_tz": -420
    },
    "id": "utYS4zS0R2QU",
    "outputId": "8e6ffc42-9605-4ec8-938d-814e661987f3"
   },
   "outputs": [
    {
     "data": {
      "text/plain": [
       "cellular     25620\n",
       "unknown      12823\n",
       "telephone     2605\n",
       "Name: contact, dtype: int64"
      ]
     },
     "execution_count": 19,
     "metadata": {},
     "output_type": "execute_result"
    }
   ],
   "source": [
    "#value_counts untuk kolom contact\n",
    "df.contact.value_counts()"
   ]
  },
  {
   "cell_type": "code",
   "execution_count": 20,
   "metadata": {
    "colab": {
     "base_uri": "https://localhost:8080/"
    },
    "executionInfo": {
     "elapsed": 15,
     "status": "ok",
     "timestamp": 1647267702477,
     "user": {
      "displayName": "Ramadhan Adi Putra",
      "photoUrl": "https://lh3.googleusercontent.com/a-/AOh14Ghwdoo2XwKDMyjKGaLxynmKohSaQKWtP9kSEg4AmA=s64",
      "userId": "17134522319796101163"
     },
     "user_tz": -420
    },
    "id": "E9igYwqQR5IZ",
    "outputId": "4f90b3bd-631e-4ee4-85fb-4b6d19728ae8"
   },
   "outputs": [
    {
     "data": {
      "text/plain": [
       "may    13022\n",
       "jul     6533\n",
       "aug     5560\n",
       "jun     5081\n",
       "nov     3266\n",
       "apr     2540\n",
       "feb     2278\n",
       "jan     1211\n",
       "oct      560\n",
       "sep      439\n",
       "mar      391\n",
       "dec      167\n",
       "Name: month, dtype: int64"
      ]
     },
     "execution_count": 20,
     "metadata": {},
     "output_type": "execute_result"
    }
   ],
   "source": [
    "#value_counts untuk kolom month\n",
    "df.month.value_counts()"
   ]
  },
  {
   "cell_type": "code",
   "execution_count": 21,
   "metadata": {
    "colab": {
     "base_uri": "https://localhost:8080/"
    },
    "executionInfo": {
     "elapsed": 12,
     "status": "ok",
     "timestamp": 1647267702478,
     "user": {
      "displayName": "Ramadhan Adi Putra",
      "photoUrl": "https://lh3.googleusercontent.com/a-/AOh14Ghwdoo2XwKDMyjKGaLxynmKohSaQKWtP9kSEg4AmA=s64",
      "userId": "17134522319796101163"
     },
     "user_tz": -420
    },
    "id": "2BehqNsMR6kT",
    "outputId": "4509b7a0-bc04-4faa-cc7a-2d0901324e9a"
   },
   "outputs": [
    {
     "data": {
      "text/plain": [
       "unknown    35636\n",
       "failure     3052\n",
       "other       1722\n",
       "success      638\n",
       "Name: poutcome, dtype: int64"
      ]
     },
     "execution_count": 21,
     "metadata": {},
     "output_type": "execute_result"
    }
   ],
   "source": [
    "#value_counts untuk kolom poutcome\n",
    "df.poutcome.value_counts()"
   ]
  },
  {
   "cell_type": "code",
   "execution_count": 22,
   "metadata": {
    "colab": {
     "base_uri": "https://localhost:8080/"
    },
    "executionInfo": {
     "elapsed": 9,
     "status": "ok",
     "timestamp": 1647267703039,
     "user": {
      "displayName": "Ramadhan Adi Putra",
      "photoUrl": "https://lh3.googleusercontent.com/a-/AOh14Ghwdoo2XwKDMyjKGaLxynmKohSaQKWtP9kSEg4AmA=s64",
      "userId": "17134522319796101163"
     },
     "user_tz": -420
    },
    "id": "NlW5eFlYR77x",
    "outputId": "cd8cf9bb-cca5-4268-86d3-0814d44ab05f"
   },
   "outputs": [
    {
     "data": {
      "text/plain": [
       "no     36707\n",
       "yes     4341\n",
       "Name: y, dtype: int64"
      ]
     },
     "execution_count": 22,
     "metadata": {},
     "output_type": "execute_result"
    }
   ],
   "source": [
    "#value_counts untuk kolom y\n",
    "df.y.value_counts()"
   ]
  },
  {
   "cell_type": "code",
   "execution_count": 23,
   "metadata": {
    "colab": {
     "base_uri": "https://localhost:8080/",
     "height": 1000
    },
    "executionInfo": {
     "elapsed": 1830,
     "status": "ok",
     "timestamp": 1647267704862,
     "user": {
      "displayName": "Ramadhan Adi Putra",
      "photoUrl": "https://lh3.googleusercontent.com/a-/AOh14Ghwdoo2XwKDMyjKGaLxynmKohSaQKWtP9kSEg4AmA=s64",
      "userId": "17134522319796101163"
     },
     "user_tz": -420
    },
    "id": "54PYY_GWR9Uy",
    "outputId": "73ac3828-b93b-43be-f636-012387795415"
   },
   "outputs": [
    {
     "data": {
      "image/png": "[encoded data removed]",
      "text/plain": [
       "<Figure size 1800x2160 with 4 Axes>"
      ]
     },
     "metadata": {
      "needs_background": "light"
     },
     "output_type": "display_data"
    }
   ],
   "source": [
    "cat='job education contact poutcome'.split()\n",
    "plt.figure(figsize=(25,30))\n",
    "for i in range(0, len(cat)):\n",
    "    plt.subplot(5,1,i+1)\n",
    "    sns.countplot(x=df[cat[i]])\n",
    "    plt.xticks(rotation=45)\n",
    "    plt.xlabel(cat[i],fontsize=20)\n",
    "    plt.tick_params(axis = 'both', which = 'major', labelsize = 15)\n",
    "    plt.tight_layout()"
   ]
  },
  {
   "cell_type": "markdown",
   "metadata": {
    "id": "FS77yLFOSIEt"
   },
   "source": [
    "Setelah kita hitung nilai pada setiap kolom kategorikalnya ternyata ditemukan beberapa hal, yaitu:\n",
    "- terdapat 272 nilai 'unknown' pada kolom job\n",
    "- terdapat 1742 nilai 'unknown' pada kolom education\n",
    "- terdapat 12823 nilai 'unknown' pada kolom contact\n",
    "- terdapat 35636 nilai 'unknown' pada kolom poutcome"
   ]
  },
  {
   "cell_type": "markdown",
   "metadata": {
    "id": "gNVdils5PH5-"
   },
   "source": [
    "*Mereplace nilai 'unknown' pada kolom job, education, dan contact dengan nilai modus dari masing-masing kolom tersebut*"
   ]
  },
  {
   "cell_type": "code",
   "execution_count": 24,
   "metadata": {
    "executionInfo": {
     "elapsed": 10,
     "status": "ok",
     "timestamp": 1647267705402,
     "user": {
      "displayName": "Ramadhan Adi Putra",
      "photoUrl": "https://lh3.googleusercontent.com/a-/AOh14Ghwdoo2XwKDMyjKGaLxynmKohSaQKWtP9kSEg4AmA=s64",
      "userId": "17134522319796101163"
     },
     "user_tz": -420
    },
    "id": "d5LUYWNsPOC8"
   },
   "outputs": [],
   "source": [
    "#lakukan imputasi/replace nilai modus pada kolom job, education, dan contact yang memiliki nilai 'unknown'\n",
    "col='job education contact'.split()\n",
    "#replace kolom job\n",
    "for i in col:\n",
    "  df[i]=df[i].replace(['unknown'],df[i].mode()[0])"
   ]
  },
  {
   "cell_type": "markdown",
   "metadata": {
    "id": "l_j1TFGfUz2G"
   },
   "source": [
    "*Untuk kolom poutcome, nilai 'unknown' dibiarkan saja karena nantinya kolom poutcome akan didrop karena dinilai memiliki potensi redundant dengan kolom pdays*"
   ]
  },
  {
   "cell_type": "code",
   "execution_count": 25,
   "metadata": {
    "colab": {
     "base_uri": "https://localhost:8080/",
     "height": 1000
    },
    "executionInfo": {
     "elapsed": 1696,
     "status": "ok",
     "timestamp": 1647267707089,
     "user": {
      "displayName": "Ramadhan Adi Putra",
      "photoUrl": "https://lh3.googleusercontent.com/a-/AOh14Ghwdoo2XwKDMyjKGaLxynmKohSaQKWtP9kSEg4AmA=s64",
      "userId": "17134522319796101163"
     },
     "user_tz": -420
    },
    "id": "W0uxW-RvRMLU",
    "outputId": "da9668b7-335f-4e6a-9f28-439bb2cc7559"
   },
   "outputs": [
    {
     "data": {
      "image/png": "[encoded data removed]",
      "text/plain": [
       "<Figure size 1800x2160 with 4 Axes>"
      ]
     },
     "metadata": {
      "needs_background": "light"
     },
     "output_type": "display_data"
    }
   ],
   "source": [
    "plt.figure(figsize=(25,30))\n",
    "for i in range(0, len(cat)):\n",
    "    plt.subplot(5,1,i+1)\n",
    "    sns.countplot(x=df[cat[i]])\n",
    "    plt.xticks(rotation=45)\n",
    "    plt.xlabel(cat[i],fontsize=20)\n",
    "    plt.tick_params(axis = 'both', which = 'major', labelsize = 15)\n",
    "    plt.tight_layout()"
   ]
  },
  {
   "cell_type": "markdown",
   "metadata": {
    "id": "9mQOco-rWhdE"
   },
   "source": [
    "### For numerical datatype"
   ]
  },
  {
   "cell_type": "code",
   "execution_count": 26,
   "metadata": {
    "colab": {
     "base_uri": "https://localhost:8080/",
     "height": 282
    },
    "executionInfo": {
     "elapsed": 26,
     "status": "ok",
     "timestamp": 1647267707090,
     "user": {
      "displayName": "Ramadhan Adi Putra",
      "photoUrl": "https://lh3.googleusercontent.com/a-/AOh14Ghwdoo2XwKDMyjKGaLxynmKohSaQKWtP9kSEg4AmA=s64",
      "userId": "17134522319796101163"
     },
     "user_tz": -420
    },
    "id": "4JBDDZ9LRd1i",
    "outputId": "ed1fc17e-9af2-458c-f24e-b79b15ec9d9a"
   },
   "outputs": [
    {
     "data": {
      "text/html": [
       "<div>\n",
       "<style scoped>\n",
       "    .dataframe tbody tr th:only-of-type {\n",
       "        vertical-align: middle;\n",
       "    }\n",
       "\n",
       "    .dataframe tbody tr th {\n",
       "        vertical-align: top;\n",
       "    }\n",
       "\n",
       "    .dataframe thead th {\n",
       "        text-align: right;\n",
       "    }\n",
       "</style>\n",
       "<table border=\"1\" class=\"dataframe\">\n",
       "  <thead>\n",
       "    <tr style=\"text-align: right;\">\n",
       "      <th></th>\n",
       "      <th>age</th>\n",
       "      <th>balance</th>\n",
       "      <th>day</th>\n",
       "      <th>duration</th>\n",
       "      <th>campaign</th>\n",
       "      <th>pdays</th>\n",
       "      <th>previous</th>\n",
       "    </tr>\n",
       "  </thead>\n",
       "  <tbody>\n",
       "    <tr>\n",
       "      <th>count</th>\n",
       "      <td>41048.000000</td>\n",
       "      <td>41048.000000</td>\n",
       "      <td>41048.000000</td>\n",
       "      <td>41048.000000</td>\n",
       "      <td>41048.000000</td>\n",
       "      <td>41048.000000</td>\n",
       "      <td>41048.000000</td>\n",
       "    </tr>\n",
       "    <tr>\n",
       "      <th>mean</th>\n",
       "      <td>40.920483</td>\n",
       "      <td>1375.931129</td>\n",
       "      <td>15.819017</td>\n",
       "      <td>258.792365</td>\n",
       "      <td>2.801525</td>\n",
       "      <td>33.526189</td>\n",
       "      <td>0.425526</td>\n",
       "    </tr>\n",
       "    <tr>\n",
       "      <th>std</th>\n",
       "      <td>10.540510</td>\n",
       "      <td>3055.188601</td>\n",
       "      <td>8.309649</td>\n",
       "      <td>259.885728</td>\n",
       "      <td>3.144602</td>\n",
       "      <td>97.857183</td>\n",
       "      <td>2.189537</td>\n",
       "    </tr>\n",
       "    <tr>\n",
       "      <th>min</th>\n",
       "      <td>18.000000</td>\n",
       "      <td>-8019.000000</td>\n",
       "      <td>1.000000</td>\n",
       "      <td>0.000000</td>\n",
       "      <td>1.000000</td>\n",
       "      <td>-1.000000</td>\n",
       "      <td>0.000000</td>\n",
       "    </tr>\n",
       "    <tr>\n",
       "      <th>25%</th>\n",
       "      <td>33.000000</td>\n",
       "      <td>91.000000</td>\n",
       "      <td>8.000000</td>\n",
       "      <td>102.000000</td>\n",
       "      <td>1.000000</td>\n",
       "      <td>-1.000000</td>\n",
       "      <td>0.000000</td>\n",
       "    </tr>\n",
       "    <tr>\n",
       "      <th>50%</th>\n",
       "      <td>39.000000</td>\n",
       "      <td>469.000000</td>\n",
       "      <td>16.000000</td>\n",
       "      <td>180.000000</td>\n",
       "      <td>2.000000</td>\n",
       "      <td>-1.000000</td>\n",
       "      <td>0.000000</td>\n",
       "    </tr>\n",
       "    <tr>\n",
       "      <th>75%</th>\n",
       "      <td>48.000000</td>\n",
       "      <td>1449.000000</td>\n",
       "      <td>21.000000</td>\n",
       "      <td>319.000000</td>\n",
       "      <td>3.000000</td>\n",
       "      <td>-1.000000</td>\n",
       "      <td>0.000000</td>\n",
       "    </tr>\n",
       "    <tr>\n",
       "      <th>max</th>\n",
       "      <td>95.000000</td>\n",
       "      <td>102127.000000</td>\n",
       "      <td>31.000000</td>\n",
       "      <td>4918.000000</td>\n",
       "      <td>63.000000</td>\n",
       "      <td>871.000000</td>\n",
       "      <td>275.000000</td>\n",
       "    </tr>\n",
       "  </tbody>\n",
       "</table>\n",
       "</div>"
      ],
      "text/plain": [
       "                age        balance           day      duration      campaign  \\\n",
       "count  41048.000000   41048.000000  41048.000000  41048.000000  41048.000000   \n",
       "mean      40.920483    1375.931129     15.819017    258.792365      2.801525   \n",
       "std       10.540510    3055.188601      8.309649    259.885728      3.144602   \n",
       "min       18.000000   -8019.000000      1.000000      0.000000      1.000000   \n",
       "25%       33.000000      91.000000      8.000000    102.000000      1.000000   \n",
       "50%       39.000000     469.000000     16.000000    180.000000      2.000000   \n",
       "75%       48.000000    1449.000000     21.000000    319.000000      3.000000   \n",
       "max       95.000000  102127.000000     31.000000   4918.000000     63.000000   \n",
       "\n",
       "              pdays      previous  \n",
       "count  41048.000000  41048.000000  \n",
       "mean      33.526189      0.425526  \n",
       "std       97.857183      2.189537  \n",
       "min       -1.000000      0.000000  \n",
       "25%       -1.000000      0.000000  \n",
       "50%       -1.000000      0.000000  \n",
       "75%       -1.000000      0.000000  \n",
       "max      871.000000    275.000000  "
      ]
     },
     "execution_count": 26,
     "metadata": {},
     "output_type": "execute_result"
    }
   ],
   "source": [
    "df.describe()"
   ]
  },
  {
   "cell_type": "markdown",
   "metadata": {
    "id": "jv_c9dkZRjpC"
   },
   "source": [
    "Jika kita lihat dari nilai statistik deskriptif untuk kolom numerical, terdapat beberapa kolom yang memiliki nilai yang perlu perhatian:\n",
    "- kolom balance yang memiliki nilai minimum bernilai negatif,\n",
    "- kolom pdays yang memiliki nilai -1 ini memiliki arti bahwa customer tidak ditelpon dari campaign sebelumnya."
   ]
  },
  {
   "cell_type": "markdown",
   "metadata": {
    "id": "zKUA-QoA1yIR"
   },
   "source": [
    "**Mereplace nilai minus pada kolom balance dengan nilai 0**"
   ]
  },
  {
   "cell_type": "code",
   "execution_count": 27,
   "metadata": {
    "colab": {
     "base_uri": "https://localhost:8080/"
    },
    "executionInfo": {
     "elapsed": 23,
     "status": "ok",
     "timestamp": 1647267707091,
     "user": {
      "displayName": "Ramadhan Adi Putra",
      "photoUrl": "https://lh3.googleusercontent.com/a-/AOh14Ghwdoo2XwKDMyjKGaLxynmKohSaQKWtP9kSEg4AmA=s64",
      "userId": "17134522319796101163"
     },
     "user_tz": -420
    },
    "id": "uED_y_q31ujN",
    "outputId": "5ceb4169-6e32-40a3-ad7a-e827d2c4e3b6"
   },
   "outputs": [],
   "source": [
    "import warnings\n",
    "warnings.filterwarnings('ignore')\n",
    "\n",
    "df['balance'][df['balance']<0]=0"
   ]
  },
  {
   "cell_type": "markdown",
   "metadata": {
    "id": "3Q4xaoyG4oqT"
   },
   "source": [
    "Untuk kolom pdays tidak dilakukan treatment terhadap nilai anehnya, karena **nantinya kolom pdays ini akan didrop karena memiliki potensi redundant dengan kolom poutcome**"
   ]
  },
  {
   "cell_type": "markdown",
   "metadata": {
    "id": "PoUBiQV-n3IU"
   },
   "source": [
    "## Handle outliers"
   ]
  },
  {
   "cell_type": "code",
   "execution_count": 28,
   "metadata": {
    "colab": {
     "base_uri": "https://localhost:8080/",
     "height": 194
    },
    "executionInfo": {
     "elapsed": 21,
     "status": "ok",
     "timestamp": 1647267707709,
     "user": {
      "displayName": "Ramadhan Adi Putra",
      "photoUrl": "https://lh3.googleusercontent.com/a-/AOh14Ghwdoo2XwKDMyjKGaLxynmKohSaQKWtP9kSEg4AmA=s64",
      "userId": "17134522319796101163"
     },
     "user_tz": -420
    },
    "id": "IYZ95Ba-nulZ",
    "outputId": "d8a3b008-8a17-442a-b6c2-80f9ace1e08b"
   },
   "outputs": [
    {
     "data": {
      "text/html": [
       "<div>\n",
       "<style scoped>\n",
       "    .dataframe tbody tr th:only-of-type {\n",
       "        vertical-align: middle;\n",
       "    }\n",
       "\n",
       "    .dataframe tbody tr th {\n",
       "        vertical-align: top;\n",
       "    }\n",
       "\n",
       "    .dataframe thead th {\n",
       "        text-align: right;\n",
       "    }\n",
       "</style>\n",
       "<table border=\"1\" class=\"dataframe\">\n",
       "  <thead>\n",
       "    <tr style=\"text-align: right;\">\n",
       "      <th></th>\n",
       "      <th>age</th>\n",
       "      <th>job</th>\n",
       "      <th>marital</th>\n",
       "      <th>education</th>\n",
       "      <th>default</th>\n",
       "      <th>balance</th>\n",
       "      <th>housing</th>\n",
       "      <th>loan</th>\n",
       "      <th>contact</th>\n",
       "      <th>day</th>\n",
       "      <th>month</th>\n",
       "      <th>duration</th>\n",
       "      <th>campaign</th>\n",
       "      <th>pdays</th>\n",
       "      <th>previous</th>\n",
       "      <th>poutcome</th>\n",
       "      <th>y</th>\n",
       "    </tr>\n",
       "  </thead>\n",
       "  <tbody>\n",
       "    <tr>\n",
       "      <th>0</th>\n",
       "      <td>58</td>\n",
       "      <td>management</td>\n",
       "      <td>married</td>\n",
       "      <td>tertiary</td>\n",
       "      <td>no</td>\n",
       "      <td>2143</td>\n",
       "      <td>yes</td>\n",
       "      <td>no</td>\n",
       "      <td>cellular</td>\n",
       "      <td>5</td>\n",
       "      <td>may</td>\n",
       "      <td>261</td>\n",
       "      <td>1</td>\n",
       "      <td>-1</td>\n",
       "      <td>0</td>\n",
       "      <td>unknown</td>\n",
       "      <td>no</td>\n",
       "    </tr>\n",
       "    <tr>\n",
       "      <th>1</th>\n",
       "      <td>44</td>\n",
       "      <td>technician</td>\n",
       "      <td>single</td>\n",
       "      <td>secondary</td>\n",
       "      <td>no</td>\n",
       "      <td>29</td>\n",
       "      <td>yes</td>\n",
       "      <td>no</td>\n",
       "      <td>cellular</td>\n",
       "      <td>5</td>\n",
       "      <td>may</td>\n",
       "      <td>151</td>\n",
       "      <td>1</td>\n",
       "      <td>-1</td>\n",
       "      <td>0</td>\n",
       "      <td>unknown</td>\n",
       "      <td>no</td>\n",
       "    </tr>\n",
       "    <tr>\n",
       "      <th>2</th>\n",
       "      <td>33</td>\n",
       "      <td>entrepreneur</td>\n",
       "      <td>married</td>\n",
       "      <td>secondary</td>\n",
       "      <td>no</td>\n",
       "      <td>2</td>\n",
       "      <td>yes</td>\n",
       "      <td>yes</td>\n",
       "      <td>cellular</td>\n",
       "      <td>5</td>\n",
       "      <td>may</td>\n",
       "      <td>76</td>\n",
       "      <td>1</td>\n",
       "      <td>-1</td>\n",
       "      <td>0</td>\n",
       "      <td>unknown</td>\n",
       "      <td>no</td>\n",
       "    </tr>\n",
       "    <tr>\n",
       "      <th>3</th>\n",
       "      <td>47</td>\n",
       "      <td>blue-collar</td>\n",
       "      <td>married</td>\n",
       "      <td>secondary</td>\n",
       "      <td>no</td>\n",
       "      <td>1506</td>\n",
       "      <td>yes</td>\n",
       "      <td>no</td>\n",
       "      <td>cellular</td>\n",
       "      <td>5</td>\n",
       "      <td>may</td>\n",
       "      <td>92</td>\n",
       "      <td>1</td>\n",
       "      <td>-1</td>\n",
       "      <td>0</td>\n",
       "      <td>unknown</td>\n",
       "      <td>no</td>\n",
       "    </tr>\n",
       "    <tr>\n",
       "      <th>4</th>\n",
       "      <td>33</td>\n",
       "      <td>blue-collar</td>\n",
       "      <td>single</td>\n",
       "      <td>secondary</td>\n",
       "      <td>no</td>\n",
       "      <td>1</td>\n",
       "      <td>no</td>\n",
       "      <td>no</td>\n",
       "      <td>cellular</td>\n",
       "      <td>5</td>\n",
       "      <td>may</td>\n",
       "      <td>198</td>\n",
       "      <td>1</td>\n",
       "      <td>-1</td>\n",
       "      <td>0</td>\n",
       "      <td>unknown</td>\n",
       "      <td>no</td>\n",
       "    </tr>\n",
       "  </tbody>\n",
       "</table>\n",
       "</div>"
      ],
      "text/plain": [
       "   age           job  marital  education default  balance housing loan  \\\n",
       "0   58    management  married   tertiary      no     2143     yes   no   \n",
       "1   44    technician   single  secondary      no       29     yes   no   \n",
       "2   33  entrepreneur  married  secondary      no        2     yes  yes   \n",
       "3   47   blue-collar  married  secondary      no     1506     yes   no   \n",
       "4   33   blue-collar   single  secondary      no        1      no   no   \n",
       "\n",
       "    contact  day month  duration  campaign  pdays  previous poutcome   y  \n",
       "0  cellular    5   may       261         1     -1         0  unknown  no  \n",
       "1  cellular    5   may       151         1     -1         0  unknown  no  \n",
       "2  cellular    5   may        76         1     -1         0  unknown  no  \n",
       "3  cellular    5   may        92         1     -1         0  unknown  no  \n",
       "4  cellular    5   may       198         1     -1         0  unknown  no  "
      ]
     },
     "execution_count": 28,
     "metadata": {},
     "output_type": "execute_result"
    }
   ],
   "source": [
    "df.head()"
   ]
  },
  {
   "cell_type": "code",
   "execution_count": 29,
   "metadata": {
    "colab": {
     "base_uri": "https://localhost:8080/",
     "height": 282
    },
    "executionInfo": {
     "elapsed": 20,
     "status": "ok",
     "timestamp": 1647267707710,
     "user": {
      "displayName": "Ramadhan Adi Putra",
      "photoUrl": "https://lh3.googleusercontent.com/a-/AOh14Ghwdoo2XwKDMyjKGaLxynmKohSaQKWtP9kSEg4AmA=s64",
      "userId": "17134522319796101163"
     },
     "user_tz": -420
    },
    "id": "kUdaXn7QKXQZ",
    "outputId": "9e776e8c-927b-43b5-bf3c-f63aef9aa523"
   },
   "outputs": [
    {
     "data": {
      "text/html": [
       "<div>\n",
       "<style scoped>\n",
       "    .dataframe tbody tr th:only-of-type {\n",
       "        vertical-align: middle;\n",
       "    }\n",
       "\n",
       "    .dataframe tbody tr th {\n",
       "        vertical-align: top;\n",
       "    }\n",
       "\n",
       "    .dataframe thead th {\n",
       "        text-align: right;\n",
       "    }\n",
       "</style>\n",
       "<table border=\"1\" class=\"dataframe\">\n",
       "  <thead>\n",
       "    <tr style=\"text-align: right;\">\n",
       "      <th></th>\n",
       "      <th>age</th>\n",
       "      <th>balance</th>\n",
       "      <th>day</th>\n",
       "      <th>duration</th>\n",
       "      <th>campaign</th>\n",
       "      <th>pdays</th>\n",
       "      <th>previous</th>\n",
       "    </tr>\n",
       "  </thead>\n",
       "  <tbody>\n",
       "    <tr>\n",
       "      <th>count</th>\n",
       "      <td>41048.000000</td>\n",
       "      <td>41048.000000</td>\n",
       "      <td>41048.000000</td>\n",
       "      <td>41048.000000</td>\n",
       "      <td>41048.000000</td>\n",
       "      <td>41048.000000</td>\n",
       "      <td>41048.000000</td>\n",
       "    </tr>\n",
       "    <tr>\n",
       "      <th>mean</th>\n",
       "      <td>40.920483</td>\n",
       "      <td>1404.503191</td>\n",
       "      <td>15.819017</td>\n",
       "      <td>258.792365</td>\n",
       "      <td>2.801525</td>\n",
       "      <td>33.526189</td>\n",
       "      <td>0.425526</td>\n",
       "    </tr>\n",
       "    <tr>\n",
       "      <th>std</th>\n",
       "      <td>10.540510</td>\n",
       "      <td>3038.626528</td>\n",
       "      <td>8.309649</td>\n",
       "      <td>259.885728</td>\n",
       "      <td>3.144602</td>\n",
       "      <td>97.857183</td>\n",
       "      <td>2.189537</td>\n",
       "    </tr>\n",
       "    <tr>\n",
       "      <th>min</th>\n",
       "      <td>18.000000</td>\n",
       "      <td>0.000000</td>\n",
       "      <td>1.000000</td>\n",
       "      <td>0.000000</td>\n",
       "      <td>1.000000</td>\n",
       "      <td>-1.000000</td>\n",
       "      <td>0.000000</td>\n",
       "    </tr>\n",
       "    <tr>\n",
       "      <th>25%</th>\n",
       "      <td>33.000000</td>\n",
       "      <td>91.000000</td>\n",
       "      <td>8.000000</td>\n",
       "      <td>102.000000</td>\n",
       "      <td>1.000000</td>\n",
       "      <td>-1.000000</td>\n",
       "      <td>0.000000</td>\n",
       "    </tr>\n",
       "    <tr>\n",
       "      <th>50%</th>\n",
       "      <td>39.000000</td>\n",
       "      <td>469.000000</td>\n",
       "      <td>16.000000</td>\n",
       "      <td>180.000000</td>\n",
       "      <td>2.000000</td>\n",
       "      <td>-1.000000</td>\n",
       "      <td>0.000000</td>\n",
       "    </tr>\n",
       "    <tr>\n",
       "      <th>75%</th>\n",
       "      <td>48.000000</td>\n",
       "      <td>1449.000000</td>\n",
       "      <td>21.000000</td>\n",
       "      <td>319.000000</td>\n",
       "      <td>3.000000</td>\n",
       "      <td>-1.000000</td>\n",
       "      <td>0.000000</td>\n",
       "    </tr>\n",
       "    <tr>\n",
       "      <th>max</th>\n",
       "      <td>95.000000</td>\n",
       "      <td>102127.000000</td>\n",
       "      <td>31.000000</td>\n",
       "      <td>4918.000000</td>\n",
       "      <td>63.000000</td>\n",
       "      <td>871.000000</td>\n",
       "      <td>275.000000</td>\n",
       "    </tr>\n",
       "  </tbody>\n",
       "</table>\n",
       "</div>"
      ],
      "text/plain": [
       "                age        balance           day      duration      campaign  \\\n",
       "count  41048.000000   41048.000000  41048.000000  41048.000000  41048.000000   \n",
       "mean      40.920483    1404.503191     15.819017    258.792365      2.801525   \n",
       "std       10.540510    3038.626528      8.309649    259.885728      3.144602   \n",
       "min       18.000000       0.000000      1.000000      0.000000      1.000000   \n",
       "25%       33.000000      91.000000      8.000000    102.000000      1.000000   \n",
       "50%       39.000000     469.000000     16.000000    180.000000      2.000000   \n",
       "75%       48.000000    1449.000000     21.000000    319.000000      3.000000   \n",
       "max       95.000000  102127.000000     31.000000   4918.000000     63.000000   \n",
       "\n",
       "              pdays      previous  \n",
       "count  41048.000000  41048.000000  \n",
       "mean      33.526189      0.425526  \n",
       "std       97.857183      2.189537  \n",
       "min       -1.000000      0.000000  \n",
       "25%       -1.000000      0.000000  \n",
       "50%       -1.000000      0.000000  \n",
       "75%       -1.000000      0.000000  \n",
       "max      871.000000    275.000000  "
      ]
     },
     "execution_count": 29,
     "metadata": {},
     "output_type": "execute_result"
    }
   ],
   "source": [
    "df.describe()"
   ]
  },
  {
   "cell_type": "code",
   "execution_count": 30,
   "metadata": {
    "colab": {
     "base_uri": "https://localhost:8080/"
    },
    "executionInfo": {
     "elapsed": 19,
     "status": "ok",
     "timestamp": 1647267707712,
     "user": {
      "displayName": "Ramadhan Adi Putra",
      "photoUrl": "https://lh3.googleusercontent.com/a-/AOh14Ghwdoo2XwKDMyjKGaLxynmKohSaQKWtP9kSEg4AmA=s64",
      "userId": "17134522319796101163"
     },
     "user_tz": -420
    },
    "id": "qiUuZafR2xYd",
    "outputId": "0dcfc45f-5dd6-42b1-ce47-f7bd2b406e3d"
   },
   "outputs": [
    {
     "data": {
      "text/plain": [
       "age          0\n",
       "job          0\n",
       "marital      0\n",
       "education    0\n",
       "default      0\n",
       "balance      0\n",
       "housing      0\n",
       "loan         0\n",
       "contact      0\n",
       "day          0\n",
       "month        0\n",
       "duration     0\n",
       "campaign     0\n",
       "pdays        0\n",
       "previous     0\n",
       "poutcome     0\n",
       "y            0\n",
       "dtype: int64"
      ]
     },
     "execution_count": 30,
     "metadata": {},
     "output_type": "execute_result"
    }
   ],
   "source": [
    "# Mengecek Data kosong\n",
    "df.isna().sum()"
   ]
  },
  {
   "cell_type": "code",
   "execution_count": 31,
   "metadata": {
    "colab": {
     "base_uri": "https://localhost:8080/"
    },
    "executionInfo": {
     "elapsed": 17,
     "status": "ok",
     "timestamp": 1647267707713,
     "user": {
      "displayName": "Ramadhan Adi Putra",
      "photoUrl": "https://lh3.googleusercontent.com/a-/AOh14Ghwdoo2XwKDMyjKGaLxynmKohSaQKWtP9kSEg4AmA=s64",
      "userId": "17134522319796101163"
     },
     "user_tz": -420
    },
    "id": "xpd2WNvut6EX",
    "outputId": "2e67a23a-8cf4-4e28-e0f3-b03721351568"
   },
   "outputs": [
    {
     "name": "stdout",
     "output_type": "stream",
     "text": [
      "<class 'pandas.core.frame.DataFrame'>\n",
      "Int64Index: 41048 entries, 0 to 45210\n",
      "Data columns (total 17 columns):\n",
      " #   Column     Non-Null Count  Dtype \n",
      "---  ------     --------------  ----- \n",
      " 0   age        41048 non-null  int64 \n",
      " 1   job        41048 non-null  object\n",
      " 2   marital    41048 non-null  object\n",
      " 3   education  41048 non-null  object\n",
      " 4   default    41048 non-null  object\n",
      " 5   balance    41048 non-null  int64 \n",
      " 6   housing    41048 non-null  object\n",
      " 7   loan       41048 non-null  object\n",
      " 8   contact    41048 non-null  object\n",
      " 9   day        41048 non-null  int64 \n",
      " 10  month      41048 non-null  object\n",
      " 11  duration   41048 non-null  int64 \n",
      " 12  campaign   41048 non-null  int64 \n",
      " 13  pdays      41048 non-null  int64 \n",
      " 14  previous   41048 non-null  int64 \n",
      " 15  poutcome   41048 non-null  object\n",
      " 16  y          41048 non-null  object\n",
      "dtypes: int64(7), object(10)\n",
      "memory usage: 6.6+ MB\n"
     ]
    }
   ],
   "source": [
    "df.info()"
   ]
  },
  {
   "cell_type": "markdown",
   "metadata": {
    "id": "s4ffKnHT3BD0"
   },
   "source": [
    "Tidak ada data yang kosong"
   ]
  },
  {
   "cell_type": "code",
   "execution_count": 32,
   "metadata": {
    "colab": {
     "base_uri": "https://localhost:8080/"
    },
    "executionInfo": {
     "elapsed": 4,
     "status": "ok",
     "timestamp": 1647267708891,
     "user": {
      "displayName": "Ramadhan Adi Putra",
      "photoUrl": "https://lh3.googleusercontent.com/a-/AOh14Ghwdoo2XwKDMyjKGaLxynmKohSaQKWtP9kSEg4AmA=s64",
      "userId": "17134522319796101163"
     },
     "user_tz": -420
    },
    "id": "IrdWvZZOnwI4",
    "outputId": "e8e5f0f2-88c4-42a4-ad7b-58260fd30c8f"
   },
   "outputs": [
    {
     "data": {
      "text/plain": [
       "0"
      ]
     },
     "execution_count": 32,
     "metadata": {},
     "output_type": "execute_result"
    }
   ],
   "source": [
    "#df.duplicated(subset=['age','job','marital','education','default','balance','housing','loan','y']).sum()\n",
    "df.duplicated().sum()"
   ]
  },
  {
   "cell_type": "markdown",
   "metadata": {
    "id": "vZnME7z-22j9"
   },
   "source": [
    "Tidak ada data duplikat"
   ]
  },
  {
   "cell_type": "code",
   "execution_count": 33,
   "metadata": {
    "executionInfo": {
     "elapsed": 3,
     "status": "ok",
     "timestamp": 1647267710753,
     "user": {
      "displayName": "Ramadhan Adi Putra",
      "photoUrl": "https://lh3.googleusercontent.com/a-/AOh14Ghwdoo2XwKDMyjKGaLxynmKohSaQKWtP9kSEg4AmA=s64",
      "userId": "17134522319796101163"
     },
     "user_tz": -420
    },
    "id": "_bW0JeE-A7DW"
   },
   "outputs": [],
   "source": [
    "cats = ['job','marital','education','default','housing','loan','contact','month','poutcome','y']\n",
    "nums = ['age','balance','day','duration','campaign','pdays','previous']"
   ]
  },
  {
   "cell_type": "markdown",
   "metadata": {
    "id": "oSh8_zUC3jzb"
   },
   "source": [
    "Dari tampilan boxplot, terlihat bahwa terdapat **outlier** pada kolom : **Age, Balance, Duration, Campaign, Pdays, dan Previous**"
   ]
  },
  {
   "cell_type": "code",
   "execution_count": 34,
   "metadata": {
    "colab": {
     "base_uri": "https://localhost:8080/",
     "height": 369
    },
    "executionInfo": {
     "elapsed": 6886,
     "status": "ok",
     "timestamp": 1647267719080,
     "user": {
      "displayName": "Ramadhan Adi Putra",
      "photoUrl": "https://lh3.googleusercontent.com/a-/AOh14Ghwdoo2XwKDMyjKGaLxynmKohSaQKWtP9kSEg4AmA=s64",
      "userId": "17134522319796101163"
     },
     "user_tz": -420
    },
    "id": "0GCLKkMYQl-i",
    "outputId": "e8443bd6-b2d3-411a-d871-73db7919e9b2"
   },
   "outputs": [
    {
     "data": {
      "image/png": "[encoded data removed]",
      "text/plain": [
       "<Figure size 864x360 with 7 Axes>"
      ]
     },
     "metadata": {
      "needs_background": "light"
     },
     "output_type": "display_data"
    }
   ],
   "source": [
    "# kolom numerical dengan distplot\n",
    "features = nums\n",
    "plt.figure(figsize=(12, 5))\n",
    "for i in range(0, len(nums)):\n",
    "    plt.subplot(2, 4, i+1)\n",
    "    sns.kdeplot(x=df[features[i]])\n",
    "    plt.xlabel(features[i])\n",
    "    plt.tight_layout()"
   ]
  },
  {
   "cell_type": "markdown",
   "metadata": {
    "id": "8LcfV06ZRCjh"
   },
   "source": [
    "Dari data numerik, yang **skewed positive** adalah **Age, Balance, Duration, Campaign, Pdays, dan Previous**. Maka data tersebut dapat ditransformasi menggunakan log transformation"
   ]
  },
  {
   "cell_type": "code",
   "execution_count": 35,
   "metadata": {
    "colab": {
     "base_uri": "https://localhost:8080/",
     "height": 282
    },
    "executionInfo": {
     "elapsed": 30,
     "status": "ok",
     "timestamp": 1647267719086,
     "user": {
      "displayName": "Ramadhan Adi Putra",
      "photoUrl": "https://lh3.googleusercontent.com/a-/AOh14Ghwdoo2XwKDMyjKGaLxynmKohSaQKWtP9kSEg4AmA=s64",
      "userId": "17134522319796101163"
     },
     "user_tz": -420
    },
    "id": "xHbn7VMd3sYc",
    "outputId": "d857211d-88bf-4913-c266-832928ec1f3d"
   },
   "outputs": [
    {
     "data": {
      "text/html": [
       "<div>\n",
       "<style scoped>\n",
       "    .dataframe tbody tr th:only-of-type {\n",
       "        vertical-align: middle;\n",
       "    }\n",
       "\n",
       "    .dataframe tbody tr th {\n",
       "        vertical-align: top;\n",
       "    }\n",
       "\n",
       "    .dataframe thead th {\n",
       "        text-align: right;\n",
       "    }\n",
       "</style>\n",
       "<table border=\"1\" class=\"dataframe\">\n",
       "  <thead>\n",
       "    <tr style=\"text-align: right;\">\n",
       "      <th></th>\n",
       "      <th>age</th>\n",
       "      <th>balance</th>\n",
       "      <th>day</th>\n",
       "      <th>duration</th>\n",
       "      <th>campaign</th>\n",
       "      <th>pdays</th>\n",
       "      <th>previous</th>\n",
       "    </tr>\n",
       "  </thead>\n",
       "  <tbody>\n",
       "    <tr>\n",
       "      <th>count</th>\n",
       "      <td>41048.000000</td>\n",
       "      <td>41048.000000</td>\n",
       "      <td>41048.000000</td>\n",
       "      <td>41048.000000</td>\n",
       "      <td>41048.000000</td>\n",
       "      <td>41048.000000</td>\n",
       "      <td>41048.000000</td>\n",
       "    </tr>\n",
       "    <tr>\n",
       "      <th>mean</th>\n",
       "      <td>40.920483</td>\n",
       "      <td>1404.503191</td>\n",
       "      <td>15.819017</td>\n",
       "      <td>258.792365</td>\n",
       "      <td>2.801525</td>\n",
       "      <td>33.526189</td>\n",
       "      <td>0.425526</td>\n",
       "    </tr>\n",
       "    <tr>\n",
       "      <th>std</th>\n",
       "      <td>10.540510</td>\n",
       "      <td>3038.626528</td>\n",
       "      <td>8.309649</td>\n",
       "      <td>259.885728</td>\n",
       "      <td>3.144602</td>\n",
       "      <td>97.857183</td>\n",
       "      <td>2.189537</td>\n",
       "    </tr>\n",
       "    <tr>\n",
       "      <th>min</th>\n",
       "      <td>18.000000</td>\n",
       "      <td>0.000000</td>\n",
       "      <td>1.000000</td>\n",
       "      <td>0.000000</td>\n",
       "      <td>1.000000</td>\n",
       "      <td>-1.000000</td>\n",
       "      <td>0.000000</td>\n",
       "    </tr>\n",
       "    <tr>\n",
       "      <th>25%</th>\n",
       "      <td>33.000000</td>\n",
       "      <td>91.000000</td>\n",
       "      <td>8.000000</td>\n",
       "      <td>102.000000</td>\n",
       "      <td>1.000000</td>\n",
       "      <td>-1.000000</td>\n",
       "      <td>0.000000</td>\n",
       "    </tr>\n",
       "    <tr>\n",
       "      <th>50%</th>\n",
       "      <td>39.000000</td>\n",
       "      <td>469.000000</td>\n",
       "      <td>16.000000</td>\n",
       "      <td>180.000000</td>\n",
       "      <td>2.000000</td>\n",
       "      <td>-1.000000</td>\n",
       "      <td>0.000000</td>\n",
       "    </tr>\n",
       "    <tr>\n",
       "      <th>75%</th>\n",
       "      <td>48.000000</td>\n",
       "      <td>1449.000000</td>\n",
       "      <td>21.000000</td>\n",
       "      <td>319.000000</td>\n",
       "      <td>3.000000</td>\n",
       "      <td>-1.000000</td>\n",
       "      <td>0.000000</td>\n",
       "    </tr>\n",
       "    <tr>\n",
       "      <th>max</th>\n",
       "      <td>95.000000</td>\n",
       "      <td>102127.000000</td>\n",
       "      <td>31.000000</td>\n",
       "      <td>4918.000000</td>\n",
       "      <td>63.000000</td>\n",
       "      <td>871.000000</td>\n",
       "      <td>275.000000</td>\n",
       "    </tr>\n",
       "  </tbody>\n",
       "</table>\n",
       "</div>"
      ],
      "text/plain": [
       "                age        balance           day      duration      campaign  \\\n",
       "count  41048.000000   41048.000000  41048.000000  41048.000000  41048.000000   \n",
       "mean      40.920483    1404.503191     15.819017    258.792365      2.801525   \n",
       "std       10.540510    3038.626528      8.309649    259.885728      3.144602   \n",
       "min       18.000000       0.000000      1.000000      0.000000      1.000000   \n",
       "25%       33.000000      91.000000      8.000000    102.000000      1.000000   \n",
       "50%       39.000000     469.000000     16.000000    180.000000      2.000000   \n",
       "75%       48.000000    1449.000000     21.000000    319.000000      3.000000   \n",
       "max       95.000000  102127.000000     31.000000   4918.000000     63.000000   \n",
       "\n",
       "              pdays      previous  \n",
       "count  41048.000000  41048.000000  \n",
       "mean      33.526189      0.425526  \n",
       "std       97.857183      2.189537  \n",
       "min       -1.000000      0.000000  \n",
       "25%       -1.000000      0.000000  \n",
       "50%       -1.000000      0.000000  \n",
       "75%       -1.000000      0.000000  \n",
       "max      871.000000    275.000000  "
      ]
     },
     "execution_count": 35,
     "metadata": {},
     "output_type": "execute_result"
    }
   ],
   "source": [
    "df[nums].describe()"
   ]
  },
  {
   "cell_type": "code",
   "execution_count": 36,
   "metadata": {
    "colab": {
     "base_uri": "https://localhost:8080/"
    },
    "executionInfo": {
     "elapsed": 29,
     "status": "ok",
     "timestamp": 1647267719087,
     "user": {
      "displayName": "Ramadhan Adi Putra",
      "photoUrl": "https://lh3.googleusercontent.com/a-/AOh14Ghwdoo2XwKDMyjKGaLxynmKohSaQKWtP9kSEg4AmA=s64",
      "userId": "17134522319796101163"
     },
     "user_tz": -420
    },
    "id": "GLGN4-tGA5NU",
    "outputId": "d1dddabd-8c55-4d62-d26b-e3cb7e5e883d"
   },
   "outputs": [
    {
     "name": "stdout",
     "output_type": "stream",
     "text": [
      "job:\n",
      "blue-collar      9340\n",
      "management       8301\n",
      "technician       6817\n",
      "admin.           4711\n",
      "services         3863\n",
      "retired          1997\n",
      "self-employed    1455\n",
      "entrepreneur     1388\n",
      "unemployed       1210\n",
      "housemaid        1148\n",
      "student           818\n",
      "Name: job, dtype: int64\n",
      "\n",
      "marital:\n",
      "married     24571\n",
      "single      11630\n",
      "divorced     4847\n",
      "Name: marital, dtype: int64\n",
      "\n",
      "education:\n",
      "secondary    22930\n",
      "tertiary     11710\n",
      "primary       6408\n",
      "Name: education, dtype: int64\n",
      "\n",
      "default:\n",
      "no     40251\n",
      "yes      797\n",
      "Name: default, dtype: int64\n",
      "\n",
      "housing:\n",
      "yes    23097\n",
      "no     17951\n",
      "Name: housing, dtype: int64\n",
      "\n",
      "loan:\n",
      "no     34172\n",
      "yes     6876\n",
      "Name: loan, dtype: int64\n",
      "\n",
      "contact:\n",
      "cellular     38443\n",
      "telephone     2605\n",
      "Name: contact, dtype: int64\n",
      "\n",
      "month:\n",
      "may    13022\n",
      "jul     6533\n",
      "aug     5560\n",
      "jun     5081\n",
      "nov     3266\n",
      "apr     2540\n",
      "feb     2278\n",
      "jan     1211\n",
      "oct      560\n",
      "sep      439\n",
      "mar      391\n",
      "dec      167\n",
      "Name: month, dtype: int64\n",
      "\n",
      "poutcome:\n",
      "unknown    35636\n",
      "failure     3052\n",
      "other       1722\n",
      "success      638\n",
      "Name: poutcome, dtype: int64\n",
      "\n",
      "y:\n",
      "no     36707\n",
      "yes     4341\n",
      "Name: y, dtype: int64\n",
      "\n"
     ]
    }
   ],
   "source": [
    "for col in cats:\n",
    "    print(f'''{col}:''')\n",
    "    print(df[col].value_counts())\n",
    "    print()"
   ]
  },
  {
   "cell_type": "markdown",
   "metadata": {
    "id": "E0EuyBd3789M"
   },
   "source": [
    "Data numerical:\n",
    "1. age\t    : Normalisasi \n",
    "2. balance  : Log transformasi -> normalisasi -> z-score\n",
    "3. day\t    :  Masih bingung fungsinya utk apa,too many unique value (**drop?**)\n",
    ">Ide : Bisa dibuat perminggu (1-4), tapi soal tgl 25 gmn tuh orang2 ada yg gajian awal bulan, ada yg akhir bulan(?)\n",
    "4. duration\t: Log transformasi -> Normalisasi -> z-score\n",
    "5. campaign\t: (Drop) terlalu banyak (Q3) yang nilainya <=3 pdhl (max=63) \n",
    "6. pdays\t  : (Drop) terlalu banyak (Q3) yang nilai -1 (max=871)\n",
    "7. previous : (Drop soalnya sampe Q3 masih  0 ->max=275) Log tranformasi\n",
    "\n",
    "Data kategorikal:\n",
    "1. job : Label encoding -> **Drop values unknown 288** -setau saya kalo job bisa diisi dengan modus-\n",
    "2. marital : One hot encoding (**class imbalance atau no??**)\n",
    "3. education : Label encoding -> **Drop baris value unknown karena cuma 1857**{tapi bingung krn ada 1000++} -mungkin penerapannya bisa sama dengan job diisi dengan modus?-\n",
    "4. default (bin) : Label encoding (Class imbalance)-> **Oversampling**/drop\n",
    "5. housing (bin) : Label encoding \n",
    "6. loan (bin): Label encoding (Class imbalance) -> **Oversampling**/drop\n",
    "7. contact : Value 'unknown' terlalu banyak ~1/3 data -> **Drop**/oversampling\n",
    "8. month : One Hot encoding/**Drop** -> Too many unique values\n",
    "9. poutcome : **Drop**(/oversampling) Terlalu banyak kategori 'Unknown'"
   ]
  },
  {
   "cell_type": "markdown",
   "metadata": {
    "id": "ohdDjSHTSjSR"
   },
   "source": [
    "**Ada berapa jumlah baris dengan nominal 'balance' negative**"
   ]
  },
  {
   "cell_type": "code",
   "execution_count": 37,
   "metadata": {
    "colab": {
     "base_uri": "https://localhost:8080/"
    },
    "executionInfo": {
     "elapsed": 25,
     "status": "ok",
     "timestamp": 1647267719089,
     "user": {
      "displayName": "Ramadhan Adi Putra",
      "photoUrl": "https://lh3.googleusercontent.com/a-/AOh14Ghwdoo2XwKDMyjKGaLxynmKohSaQKWtP9kSEg4AmA=s64",
      "userId": "17134522319796101163"
     },
     "user_tz": -420
    },
    "id": "kKSnfoPEqLch",
    "outputId": "394392f1-eeb4-4784-8538-955c603bb50f"
   },
   "outputs": [
    {
     "data": {
      "text/plain": [
       "0"
      ]
     },
     "execution_count": 37,
     "metadata": {},
     "output_type": "execute_result"
    }
   ],
   "source": [
    "df[df['balance']<0].shape[0]"
   ]
  },
  {
   "cell_type": "markdown",
   "metadata": {
    "id": "2EUxJKE7UGBv"
   },
   "source": [
    "### Handling Outlier dengan Z-Score ##"
   ]
  },
  {
   "cell_type": "code",
   "execution_count": 38,
   "metadata": {
    "executionInfo": {
     "elapsed": 10,
     "status": "ok",
     "timestamp": 1647267720077,
     "user": {
      "displayName": "Ramadhan Adi Putra",
      "photoUrl": "https://lh3.googleusercontent.com/a-/AOh14Ghwdoo2XwKDMyjKGaLxynmKohSaQKWtP9kSEg4AmA=s64",
      "userId": "17134522319796101163"
     },
     "user_tz": -420
    },
    "id": "dVO9S4X_Ts6g"
   },
   "outputs": [],
   "source": [
    "from scipy import stats\n",
    "import numpy as np"
   ]
  },
  {
   "cell_type": "code",
   "execution_count": 39,
   "metadata": {
    "executionInfo": {
     "elapsed": 10,
     "status": "ok",
     "timestamp": 1647267720077,
     "user": {
      "displayName": "Ramadhan Adi Putra",
      "photoUrl": "https://lh3.googleusercontent.com/a-/AOh14Ghwdoo2XwKDMyjKGaLxynmKohSaQKWtP9kSEg4AmA=s64",
      "userId": "17134522319796101163"
     },
     "user_tz": -420
    },
    "id": "kypwNKkTayRN"
   },
   "outputs": [],
   "source": [
    "nums_skew = ['age','balance','duration','campaign','pdays','previous']"
   ]
  },
  {
   "cell_type": "code",
   "execution_count": 40,
   "metadata": {
    "colab": {
     "base_uri": "https://localhost:8080/"
    },
    "executionInfo": {
     "elapsed": 10,
     "status": "ok",
     "timestamp": 1647267720078,
     "user": {
      "displayName": "Ramadhan Adi Putra",
      "photoUrl": "https://lh3.googleusercontent.com/a-/AOh14Ghwdoo2XwKDMyjKGaLxynmKohSaQKWtP9kSEg4AmA=s64",
      "userId": "17134522319796101163"
     },
     "user_tz": -420
    },
    "id": "JFJ9RV2kTxPF",
    "outputId": "966f98b0-e58e-405c-b469-668d284b819b"
   },
   "outputs": [
    {
     "name": "stdout",
     "output_type": "stream",
     "text": [
      "Jumlah baris sebelum memfilter outlier: 41048\n",
      "Jumlah baris setelah memfilter outlier: 36206\n"
     ]
    }
   ],
   "source": [
    "print(f'Jumlah baris sebelum memfilter outlier: {len(df)}')\n",
    "\n",
    "filtered_entries = np.array([True] * len(df))\n",
    "\n",
    "for col in nums:\n",
    "    zscore = abs(stats.zscore(df[col])) # hitung absolute z-scorenya\n",
    "    filtered_entries = (zscore < 3) & filtered_entries # keep yang kurang dari 3 absolute z-scorenya\n",
    "    \n",
    "df = df[filtered_entries] # filter, cuma ambil yang z-scorenya dibawah 3\n",
    "\n",
    "print(f'Jumlah baris setelah memfilter outlier: {len(df)}')"
   ]
  },
  {
   "cell_type": "markdown",
   "metadata": {
    "id": "4Hvc7UrJK7D2"
   },
   "source": [
    "###Visualisasi Data Setelah Penghapusan Outlier###"
   ]
  },
  {
   "cell_type": "code",
   "execution_count": 41,
   "metadata": {
    "colab": {
     "base_uri": "https://localhost:8080/",
     "height": 369
    },
    "executionInfo": {
     "elapsed": 1649,
     "status": "ok",
     "timestamp": 1647267721718,
     "user": {
      "displayName": "Ramadhan Adi Putra",
      "photoUrl": "https://lh3.googleusercontent.com/a-/AOh14Ghwdoo2XwKDMyjKGaLxynmKohSaQKWtP9kSEg4AmA=s64",
      "userId": "17134522319796101163"
     },
     "user_tz": -420
    },
    "id": "a9CsTFdfZ1mx",
    "outputId": "eab2c79c-632f-4d4d-9e19-84734ea207b4"
   },
   "outputs": [
    {
     "data": {
      "image/png": "[encoded data removed]",
      "text/plain": [
       "<Figure size 864x360 with 7 Axes>"
      ]
     },
     "metadata": {
      "needs_background": "light"
     },
     "output_type": "display_data"
    }
   ],
   "source": [
    "# kolom numerical dengan distplot\n",
    "features = nums\n",
    "plt.figure(figsize=(12, 5))\n",
    "for i in range(0, len(nums)):\n",
    "    plt.subplot(2, 4, i+1)\n",
    "    sns.kdeplot(x=df[features[i]])\n",
    "    plt.xlabel(features[i])\n",
    "    plt.tight_layout()"
   ]
  },
  {
   "cell_type": "code",
   "execution_count": 42,
   "metadata": {
    "colab": {
     "base_uri": "https://localhost:8080/",
     "height": 369
    },
    "executionInfo": {
     "elapsed": 1074,
     "status": "ok",
     "timestamp": 1647267722783,
     "user": {
      "displayName": "Ramadhan Adi Putra",
      "photoUrl": "https://lh3.googleusercontent.com/a-/AOh14Ghwdoo2XwKDMyjKGaLxynmKohSaQKWtP9kSEg4AmA=s64",
      "userId": "17134522319796101163"
     },
     "user_tz": -420
    },
    "id": "zMKIlaIMWqPo",
    "outputId": "a57eb689-0a97-45ff-91c6-03723dda55cb"
   },
   "outputs": [
    {
     "data": {
      "image/png": "[encoded data removed]",
      "text/plain": [
       "<Figure size 864x360 with 7 Axes>"
      ]
     },
     "metadata": {
      "needs_background": "light"
     },
     "output_type": "display_data"
    }
   ],
   "source": [
    "# kolom numerical dengan boxplot\n",
    "features = nums\n",
    "plt.figure(figsize=(12,5))\n",
    "\n",
    "for i in range(0, len(nums)):\n",
    "    plt.subplot(1,len(features) , i+1)\n",
    "    sns.boxplot(y=df[features[i]], orient='v')\n",
    "    plt.xlabel(features[i])\n",
    "    plt.tight_layout()"
   ]
  },
  {
   "cell_type": "code",
   "execution_count": 43,
   "metadata": {
    "colab": {
     "base_uri": "https://localhost:8080/",
     "height": 282
    },
    "executionInfo": {
     "elapsed": 20,
     "status": "ok",
     "timestamp": 1647267722789,
     "user": {
      "displayName": "Ramadhan Adi Putra",
      "photoUrl": "https://lh3.googleusercontent.com/a-/AOh14Ghwdoo2XwKDMyjKGaLxynmKohSaQKWtP9kSEg4AmA=s64",
      "userId": "17134522319796101163"
     },
     "user_tz": -420
    },
    "id": "SnXYrMZo3Rva",
    "outputId": "692cc580-33c4-46e2-f650-1e65e7c67a8a"
   },
   "outputs": [
    {
     "data": {
      "text/html": [
       "<div>\n",
       "<style scoped>\n",
       "    .dataframe tbody tr th:only-of-type {\n",
       "        vertical-align: middle;\n",
       "    }\n",
       "\n",
       "    .dataframe tbody tr th {\n",
       "        vertical-align: top;\n",
       "    }\n",
       "\n",
       "    .dataframe thead th {\n",
       "        text-align: right;\n",
       "    }\n",
       "</style>\n",
       "<table border=\"1\" class=\"dataframe\">\n",
       "  <thead>\n",
       "    <tr style=\"text-align: right;\">\n",
       "      <th></th>\n",
       "      <th>age</th>\n",
       "      <th>balance</th>\n",
       "      <th>day</th>\n",
       "      <th>duration</th>\n",
       "      <th>campaign</th>\n",
       "      <th>pdays</th>\n",
       "      <th>previous</th>\n",
       "    </tr>\n",
       "  </thead>\n",
       "  <tbody>\n",
       "    <tr>\n",
       "      <th>count</th>\n",
       "      <td>36206.000000</td>\n",
       "      <td>36206.000000</td>\n",
       "      <td>36206.000000</td>\n",
       "      <td>36206.000000</td>\n",
       "      <td>36206.000000</td>\n",
       "      <td>36206.000000</td>\n",
       "      <td>36206.000000</td>\n",
       "    </tr>\n",
       "    <tr>\n",
       "      <th>mean</th>\n",
       "      <td>40.698752</td>\n",
       "      <td>1124.963597</td>\n",
       "      <td>15.845385</td>\n",
       "      <td>236.377203</td>\n",
       "      <td>2.495553</td>\n",
       "      <td>14.971193</td>\n",
       "      <td>0.189554</td>\n",
       "    </tr>\n",
       "    <tr>\n",
       "      <th>std</th>\n",
       "      <td>10.076242</td>\n",
       "      <td>1699.870716</td>\n",
       "      <td>8.368657</td>\n",
       "      <td>192.631082</td>\n",
       "      <td>1.973312</td>\n",
       "      <td>58.446110</td>\n",
       "      <td>0.757453</td>\n",
       "    </tr>\n",
       "    <tr>\n",
       "      <th>min</th>\n",
       "      <td>18.000000</td>\n",
       "      <td>0.000000</td>\n",
       "      <td>1.000000</td>\n",
       "      <td>0.000000</td>\n",
       "      <td>1.000000</td>\n",
       "      <td>-1.000000</td>\n",
       "      <td>0.000000</td>\n",
       "    </tr>\n",
       "    <tr>\n",
       "      <th>25%</th>\n",
       "      <td>33.000000</td>\n",
       "      <td>84.000000</td>\n",
       "      <td>8.000000</td>\n",
       "      <td>103.000000</td>\n",
       "      <td>1.000000</td>\n",
       "      <td>-1.000000</td>\n",
       "      <td>0.000000</td>\n",
       "    </tr>\n",
       "    <tr>\n",
       "      <th>50%</th>\n",
       "      <td>39.000000</td>\n",
       "      <td>449.000000</td>\n",
       "      <td>16.000000</td>\n",
       "      <td>177.000000</td>\n",
       "      <td>2.000000</td>\n",
       "      <td>-1.000000</td>\n",
       "      <td>0.000000</td>\n",
       "    </tr>\n",
       "    <tr>\n",
       "      <th>75%</th>\n",
       "      <td>48.000000</td>\n",
       "      <td>1364.000000</td>\n",
       "      <td>21.000000</td>\n",
       "      <td>307.000000</td>\n",
       "      <td>3.000000</td>\n",
       "      <td>-1.000000</td>\n",
       "      <td>0.000000</td>\n",
       "    </tr>\n",
       "    <tr>\n",
       "      <th>max</th>\n",
       "      <td>72.000000</td>\n",
       "      <td>10500.000000</td>\n",
       "      <td>31.000000</td>\n",
       "      <td>1038.000000</td>\n",
       "      <td>12.000000</td>\n",
       "      <td>327.000000</td>\n",
       "      <td>6.000000</td>\n",
       "    </tr>\n",
       "  </tbody>\n",
       "</table>\n",
       "</div>"
      ],
      "text/plain": [
       "                age       balance           day      duration      campaign  \\\n",
       "count  36206.000000  36206.000000  36206.000000  36206.000000  36206.000000   \n",
       "mean      40.698752   1124.963597     15.845385    236.377203      2.495553   \n",
       "std       10.076242   1699.870716      8.368657    192.631082      1.973312   \n",
       "min       18.000000      0.000000      1.000000      0.000000      1.000000   \n",
       "25%       33.000000     84.000000      8.000000    103.000000      1.000000   \n",
       "50%       39.000000    449.000000     16.000000    177.000000      2.000000   \n",
       "75%       48.000000   1364.000000     21.000000    307.000000      3.000000   \n",
       "max       72.000000  10500.000000     31.000000   1038.000000     12.000000   \n",
       "\n",
       "              pdays      previous  \n",
       "count  36206.000000  36206.000000  \n",
       "mean      14.971193      0.189554  \n",
       "std       58.446110      0.757453  \n",
       "min       -1.000000      0.000000  \n",
       "25%       -1.000000      0.000000  \n",
       "50%       -1.000000      0.000000  \n",
       "75%       -1.000000      0.000000  \n",
       "max      327.000000      6.000000  "
      ]
     },
     "execution_count": 43,
     "metadata": {},
     "output_type": "execute_result"
    }
   ],
   "source": [
    "df.describe()"
   ]
  },
  {
   "cell_type": "markdown",
   "metadata": {
    "id": "PaCb4yd8XTNW"
   },
   "source": [
    "**Setelah menghapus outlier, data menjadi seperti di atas**"
   ]
  },
  {
   "cell_type": "markdown",
   "metadata": {
    "id": "8GNZqR8qUmax"
   },
   "source": [
    "# Data Transformation"
   ]
  },
  {
   "cell_type": "markdown",
   "metadata": {
    "id": "cgqz2PsrfT1T"
   },
   "source": [
    "**Distribusi age, balance,duration, campaign, pdays, previous (setelah log transformation)**"
   ]
  },
  {
   "cell_type": "markdown",
   "metadata": {
    "id": "eSO0da8mKY5T"
   },
   "source": [
    "Data numerical:\n",
    "1. age\t    : Norm\n",
    "2. balance  : STD aja deh\n",
    "3. day\t    : Norm\n",
    "4. duration\t: Log\n",
    "5. campaign\t: STD\n",
    "6. pdays\t  : Clipping (kl gk std)\n",
    "7. previous : Clipping (kl gk std)\n",
    "\n",
    "Income jangan make norm, karena penghasilan bisa ngjomplang orang satu dengan lainnya\n",
    "\n",
    "Klo norm itu usahakan yang gk banyak outlier, dan lebih ke normal\n"
   ]
  },
  {
   "cell_type": "markdown",
   "metadata": {
    "id": "r9NzAo-TRUSg"
   },
   "source": [
    "### Hasil Visualiasi jika transform menggunakan Log-Transformation ###"
   ]
  },
  {
   "cell_type": "code",
   "execution_count": 44,
   "metadata": {
    "colab": {
     "base_uri": "https://localhost:8080/",
     "height": 511
    },
    "executionInfo": {
     "elapsed": 3349,
     "status": "ok",
     "timestamp": 1647267726119,
     "user": {
      "displayName": "Ramadhan Adi Putra",
      "photoUrl": "https://lh3.googleusercontent.com/a-/AOh14Ghwdoo2XwKDMyjKGaLxynmKohSaQKWtP9kSEg4AmA=s64",
      "userId": "17134522319796101163"
     },
     "user_tz": -420
    },
    "id": "JJvwI5vjX0gl",
    "outputId": "b0d0950a-a54c-4b7d-a805-73e4388d700e"
   },
   "outputs": [
    {
     "data": {
      "image/png": "[encoded data removed]",
      "text/plain": [
       "<Figure size 864x360 with 7 Axes>"
      ]
     },
     "metadata": {
      "needs_background": "light"
     },
     "output_type": "display_data"
    }
   ],
   "source": [
    "# distribusi age, balance,duration, campaign, pdays, previous (setelah log transformation)\n",
    "\n",
    "#sns.kdeplot(np.log(df[nums_skew]))\n",
    "\n",
    "features = nums\n",
    "plt.figure(figsize=(12, 5))\n",
    "for i in range(0, len(nums)):\n",
    "    plt.subplot(2, 4, i+1)\n",
    "    sns.kdeplot(x=np.log(df[features[i]]))\n",
    "    plt.xlabel(features[i])\n",
    "    plt.tight_layout()"
   ]
  },
  {
   "cell_type": "markdown",
   "metadata": {
    "id": "xAsd5n_xjRp4"
   },
   "source": [
    "### Kita coba transformasi Kolom numerik ###"
   ]
  },
  {
   "cell_type": "code",
   "execution_count": 45,
   "metadata": {
    "executionInfo": {
     "elapsed": 31,
     "status": "ok",
     "timestamp": 1647267726121,
     "user": {
      "displayName": "Ramadhan Adi Putra",
      "photoUrl": "https://lh3.googleusercontent.com/a-/AOh14Ghwdoo2XwKDMyjKGaLxynmKohSaQKWtP9kSEg4AmA=s64",
      "userId": "17134522319796101163"
     },
     "user_tz": -420
    },
    "id": "v_suOB4Xyxgi"
   },
   "outputs": [],
   "source": [
    "from sklearn.preprocessing import MinMaxScaler, StandardScaler"
   ]
  },
  {
   "cell_type": "code",
   "execution_count": 46,
   "metadata": {
    "executionInfo": {
     "elapsed": 31,
     "status": "ok",
     "timestamp": 1647267726122,
     "user": {
      "displayName": "Ramadhan Adi Putra",
      "photoUrl": "https://lh3.googleusercontent.com/a-/AOh14Ghwdoo2XwKDMyjKGaLxynmKohSaQKWtP9kSEg4AmA=s64",
      "userId": "17134522319796101163"
     },
     "user_tz": -420
    },
    "id": "aFV8irbtjQlX"
   },
   "outputs": [],
   "source": [
    "# kita tranformasi\n",
    "df['age_norm'] = MinMaxScaler().fit_transform(df['age'].values.reshape(len(df), 1))\n",
    "df['balance_std'] = StandardScaler().fit_transform(df['balance'].values.reshape(len(df), 1))\n",
    "df['day_norm'] = MinMaxScaler().fit_transform(df['day'].values.reshape(len(df), 1))\n",
    "df['duration_std'] = StandardScaler().fit_transform(df['duration'].values.reshape(len(df), 1))\n",
    "df['campaign_std'] = StandardScaler().fit_transform(df['campaign'].values.reshape(len(df), 1))\n",
    "df['pdays_std'] = StandardScaler().fit_transform(df['pdays'].values.reshape(len(df), 1))\n",
    "df['previous_std'] = StandardScaler().fit_transform(df['previous'].values.reshape(len(df), 1))\n",
    "\n",
    "# drop kolom age, balance, duration, day, pdays, campaign, dan previous (nilai asli)\n",
    "df = df.drop(columns=['age','balance','duration','day','pdays', 'campaign', 'previous'])"
   ]
  },
  {
   "cell_type": "code",
   "execution_count": 47,
   "metadata": {
    "colab": {
     "base_uri": "https://localhost:8080/",
     "height": 282
    },
    "executionInfo": {
     "elapsed": 32,
     "status": "ok",
     "timestamp": 1647267726124,
     "user": {
      "displayName": "Ramadhan Adi Putra",
      "photoUrl": "https://lh3.googleusercontent.com/a-/AOh14Ghwdoo2XwKDMyjKGaLxynmKohSaQKWtP9kSEg4AmA=s64",
      "userId": "17134522319796101163"
     },
     "user_tz": -420
    },
    "id": "pTy57bF7jsWT",
    "outputId": "1719a92c-aae8-4805-c6df-6dcb3d8f273d"
   },
   "outputs": [
    {
     "data": {
      "text/html": [
       "<div>\n",
       "<style scoped>\n",
       "    .dataframe tbody tr th:only-of-type {\n",
       "        vertical-align: middle;\n",
       "    }\n",
       "\n",
       "    .dataframe tbody tr th {\n",
       "        vertical-align: top;\n",
       "    }\n",
       "\n",
       "    .dataframe thead th {\n",
       "        text-align: right;\n",
       "    }\n",
       "</style>\n",
       "<table border=\"1\" class=\"dataframe\">\n",
       "  <thead>\n",
       "    <tr style=\"text-align: right;\">\n",
       "      <th></th>\n",
       "      <th>age_norm</th>\n",
       "      <th>balance_std</th>\n",
       "      <th>day_norm</th>\n",
       "      <th>duration_std</th>\n",
       "      <th>campaign_std</th>\n",
       "      <th>pdays_std</th>\n",
       "      <th>previous_std</th>\n",
       "    </tr>\n",
       "  </thead>\n",
       "  <tbody>\n",
       "    <tr>\n",
       "      <th>count</th>\n",
       "      <td>36206.000000</td>\n",
       "      <td>3.620600e+04</td>\n",
       "      <td>36206.000000</td>\n",
       "      <td>3.620600e+04</td>\n",
       "      <td>3.620600e+04</td>\n",
       "      <td>3.620600e+04</td>\n",
       "      <td>3.620600e+04</td>\n",
       "    </tr>\n",
       "    <tr>\n",
       "      <th>mean</th>\n",
       "      <td>0.420347</td>\n",
       "      <td>1.256000e-17</td>\n",
       "      <td>0.494846</td>\n",
       "      <td>5.652000e-17</td>\n",
       "      <td>-1.884000e-17</td>\n",
       "      <td>-5.024000e-17</td>\n",
       "      <td>1.130400e-16</td>\n",
       "    </tr>\n",
       "    <tr>\n",
       "      <th>std</th>\n",
       "      <td>0.186597</td>\n",
       "      <td>1.000014e+00</td>\n",
       "      <td>0.278955</td>\n",
       "      <td>1.000014e+00</td>\n",
       "      <td>1.000014e+00</td>\n",
       "      <td>1.000014e+00</td>\n",
       "      <td>1.000014e+00</td>\n",
       "    </tr>\n",
       "    <tr>\n",
       "      <th>min</th>\n",
       "      <td>0.000000</td>\n",
       "      <td>-6.618028e-01</td>\n",
       "      <td>0.000000</td>\n",
       "      <td>-1.227115e+00</td>\n",
       "      <td>-7.579005e-01</td>\n",
       "      <td>-2.732673e-01</td>\n",
       "      <td>-2.502555e-01</td>\n",
       "    </tr>\n",
       "    <tr>\n",
       "      <th>25%</th>\n",
       "      <td>0.277778</td>\n",
       "      <td>-6.123866e-01</td>\n",
       "      <td>0.233333</td>\n",
       "      <td>-6.924067e-01</td>\n",
       "      <td>-7.579005e-01</td>\n",
       "      <td>-2.732673e-01</td>\n",
       "      <td>-2.502555e-01</td>\n",
       "    </tr>\n",
       "    <tr>\n",
       "      <th>50%</th>\n",
       "      <td>0.388889</td>\n",
       "      <td>-3.976614e-01</td>\n",
       "      <td>0.500000</td>\n",
       "      <td>-3.082474e-01</td>\n",
       "      <td>-2.511312e-01</td>\n",
       "      <td>-2.732673e-01</td>\n",
       "      <td>-2.502555e-01</td>\n",
       "    </tr>\n",
       "    <tr>\n",
       "      <th>75%</th>\n",
       "      <td>0.555556</td>\n",
       "      <td>1.406223e-01</td>\n",
       "      <td>0.666667</td>\n",
       "      <td>3.666271e-01</td>\n",
       "      <td>2.556381e-01</td>\n",
       "      <td>-2.732673e-01</td>\n",
       "      <td>-2.502555e-01</td>\n",
       "    </tr>\n",
       "    <tr>\n",
       "      <th>max</th>\n",
       "      <td>1.000000</td>\n",
       "      <td>5.515223e+00</td>\n",
       "      <td>1.000000</td>\n",
       "      <td>4.161498e+00</td>\n",
       "      <td>4.816562e+00</td>\n",
       "      <td>5.338817e+00</td>\n",
       "      <td>7.671135e+00</td>\n",
       "    </tr>\n",
       "  </tbody>\n",
       "</table>\n",
       "</div>"
      ],
      "text/plain": [
       "           age_norm   balance_std      day_norm  duration_std  campaign_std  \\\n",
       "count  36206.000000  3.620600e+04  36206.000000  3.620600e+04  3.620600e+04   \n",
       "mean       0.420347  1.256000e-17      0.494846  5.652000e-17 -1.884000e-17   \n",
       "std        0.186597  1.000014e+00      0.278955  1.000014e+00  1.000014e+00   \n",
       "min        0.000000 -6.618028e-01      0.000000 -1.227115e+00 -7.579005e-01   \n",
       "25%        0.277778 -6.123866e-01      0.233333 -6.924067e-01 -7.579005e-01   \n",
       "50%        0.388889 -3.976614e-01      0.500000 -3.082474e-01 -2.511312e-01   \n",
       "75%        0.555556  1.406223e-01      0.666667  3.666271e-01  2.556381e-01   \n",
       "max        1.000000  5.515223e+00      1.000000  4.161498e+00  4.816562e+00   \n",
       "\n",
       "          pdays_std  previous_std  \n",
       "count  3.620600e+04  3.620600e+04  \n",
       "mean  -5.024000e-17  1.130400e-16  \n",
       "std    1.000014e+00  1.000014e+00  \n",
       "min   -2.732673e-01 -2.502555e-01  \n",
       "25%   -2.732673e-01 -2.502555e-01  \n",
       "50%   -2.732673e-01 -2.502555e-01  \n",
       "75%   -2.732673e-01 -2.502555e-01  \n",
       "max    5.338817e+00  7.671135e+00  "
      ]
     },
     "execution_count": 47,
     "metadata": {},
     "output_type": "execute_result"
    }
   ],
   "source": [
    "df.describe()"
   ]
  },
  {
   "cell_type": "code",
   "execution_count": 48,
   "metadata": {
    "colab": {
     "base_uri": "https://localhost:8080/",
     "height": 369
    },
    "executionInfo": {
     "elapsed": 1544,
     "status": "ok",
     "timestamp": 1647267727639,
     "user": {
      "displayName": "Ramadhan Adi Putra",
      "photoUrl": "https://lh3.googleusercontent.com/a-/AOh14Ghwdoo2XwKDMyjKGaLxynmKohSaQKWtP9kSEg4AmA=s64",
      "userId": "17134522319796101163"
     },
     "user_tz": -420
    },
    "id": "pZC5xi4aM5Eo",
    "outputId": "6b17c640-a5d3-4973-ecf8-6230e2077a3d"
   },
   "outputs": [
    {
     "data": {
      "image/png": "[encoded data removed]",
      "text/plain": [
       "<Figure size 864x360 with 7 Axes>"
      ]
     },
     "metadata": {
      "needs_background": "light"
     },
     "output_type": "display_data"
    }
   ],
   "source": [
    "# kolom numerical dengan boxplot\n",
    "nums_trans_check = ['age_norm',\t'balance_std',\t'duration_std','day_norm', 'pdays_std', 'campaign_std', 'previous_std']\n",
    "\n",
    "features = nums_trans_check\n",
    "plt.figure(figsize=(12,5))\n",
    "\n",
    "for i in range(0, len(nums_trans_check)):\n",
    "    plt.subplot(1,len(features) , i+1)\n",
    "    sns.boxplot(y=df[features[i]], orient='v')\n",
    "    plt.xlabel(features[i])\n",
    "    plt.tight_layout()"
   ]
  },
  {
   "cell_type": "code",
   "execution_count": 49,
   "metadata": {
    "colab": {
     "base_uri": "https://localhost:8080/",
     "height": 282
    },
    "executionInfo": {
     "elapsed": 24,
     "status": "ok",
     "timestamp": 1647267727641,
     "user": {
      "displayName": "Ramadhan Adi Putra",
      "photoUrl": "https://lh3.googleusercontent.com/a-/AOh14Ghwdoo2XwKDMyjKGaLxynmKohSaQKWtP9kSEg4AmA=s64",
      "userId": "17134522319796101163"
     },
     "user_tz": -420
    },
    "id": "vjryI6LOGY31",
    "outputId": "a8868882-6360-4dff-8c77-ab208f8ebd51"
   },
   "outputs": [
    {
     "data": {
      "text/html": [
       "<div>\n",
       "<style scoped>\n",
       "    .dataframe tbody tr th:only-of-type {\n",
       "        vertical-align: middle;\n",
       "    }\n",
       "\n",
       "    .dataframe tbody tr th {\n",
       "        vertical-align: top;\n",
       "    }\n",
       "\n",
       "    .dataframe thead th {\n",
       "        text-align: right;\n",
       "    }\n",
       "</style>\n",
       "<table border=\"1\" class=\"dataframe\">\n",
       "  <thead>\n",
       "    <tr style=\"text-align: right;\">\n",
       "      <th></th>\n",
       "      <th>age_norm</th>\n",
       "      <th>balance_std</th>\n",
       "      <th>day_norm</th>\n",
       "      <th>duration_std</th>\n",
       "      <th>campaign_std</th>\n",
       "      <th>pdays_std</th>\n",
       "      <th>previous_std</th>\n",
       "    </tr>\n",
       "  </thead>\n",
       "  <tbody>\n",
       "    <tr>\n",
       "      <th>count</th>\n",
       "      <td>36206.000000</td>\n",
       "      <td>3.620600e+04</td>\n",
       "      <td>36206.000000</td>\n",
       "      <td>3.620600e+04</td>\n",
       "      <td>3.620600e+04</td>\n",
       "      <td>3.620600e+04</td>\n",
       "      <td>3.620600e+04</td>\n",
       "    </tr>\n",
       "    <tr>\n",
       "      <th>mean</th>\n",
       "      <td>0.420347</td>\n",
       "      <td>1.256000e-17</td>\n",
       "      <td>0.494846</td>\n",
       "      <td>5.652000e-17</td>\n",
       "      <td>-1.884000e-17</td>\n",
       "      <td>-5.024000e-17</td>\n",
       "      <td>1.130400e-16</td>\n",
       "    </tr>\n",
       "    <tr>\n",
       "      <th>std</th>\n",
       "      <td>0.186597</td>\n",
       "      <td>1.000014e+00</td>\n",
       "      <td>0.278955</td>\n",
       "      <td>1.000014e+00</td>\n",
       "      <td>1.000014e+00</td>\n",
       "      <td>1.000014e+00</td>\n",
       "      <td>1.000014e+00</td>\n",
       "    </tr>\n",
       "    <tr>\n",
       "      <th>min</th>\n",
       "      <td>0.000000</td>\n",
       "      <td>-6.618028e-01</td>\n",
       "      <td>0.000000</td>\n",
       "      <td>-1.227115e+00</td>\n",
       "      <td>-7.579005e-01</td>\n",
       "      <td>-2.732673e-01</td>\n",
       "      <td>-2.502555e-01</td>\n",
       "    </tr>\n",
       "    <tr>\n",
       "      <th>25%</th>\n",
       "      <td>0.277778</td>\n",
       "      <td>-6.123866e-01</td>\n",
       "      <td>0.233333</td>\n",
       "      <td>-6.924067e-01</td>\n",
       "      <td>-7.579005e-01</td>\n",
       "      <td>-2.732673e-01</td>\n",
       "      <td>-2.502555e-01</td>\n",
       "    </tr>\n",
       "    <tr>\n",
       "      <th>50%</th>\n",
       "      <td>0.388889</td>\n",
       "      <td>-3.976614e-01</td>\n",
       "      <td>0.500000</td>\n",
       "      <td>-3.082474e-01</td>\n",
       "      <td>-2.511312e-01</td>\n",
       "      <td>-2.732673e-01</td>\n",
       "      <td>-2.502555e-01</td>\n",
       "    </tr>\n",
       "    <tr>\n",
       "      <th>75%</th>\n",
       "      <td>0.555556</td>\n",
       "      <td>1.406223e-01</td>\n",
       "      <td>0.666667</td>\n",
       "      <td>3.666271e-01</td>\n",
       "      <td>2.556381e-01</td>\n",
       "      <td>-2.732673e-01</td>\n",
       "      <td>-2.502555e-01</td>\n",
       "    </tr>\n",
       "    <tr>\n",
       "      <th>max</th>\n",
       "      <td>1.000000</td>\n",
       "      <td>5.515223e+00</td>\n",
       "      <td>1.000000</td>\n",
       "      <td>4.161498e+00</td>\n",
       "      <td>4.816562e+00</td>\n",
       "      <td>5.338817e+00</td>\n",
       "      <td>7.671135e+00</td>\n",
       "    </tr>\n",
       "  </tbody>\n",
       "</table>\n",
       "</div>"
      ],
      "text/plain": [
       "           age_norm   balance_std      day_norm  duration_std  campaign_std  \\\n",
       "count  36206.000000  3.620600e+04  36206.000000  3.620600e+04  3.620600e+04   \n",
       "mean       0.420347  1.256000e-17      0.494846  5.652000e-17 -1.884000e-17   \n",
       "std        0.186597  1.000014e+00      0.278955  1.000014e+00  1.000014e+00   \n",
       "min        0.000000 -6.618028e-01      0.000000 -1.227115e+00 -7.579005e-01   \n",
       "25%        0.277778 -6.123866e-01      0.233333 -6.924067e-01 -7.579005e-01   \n",
       "50%        0.388889 -3.976614e-01      0.500000 -3.082474e-01 -2.511312e-01   \n",
       "75%        0.555556  1.406223e-01      0.666667  3.666271e-01  2.556381e-01   \n",
       "max        1.000000  5.515223e+00      1.000000  4.161498e+00  4.816562e+00   \n",
       "\n",
       "          pdays_std  previous_std  \n",
       "count  3.620600e+04  3.620600e+04  \n",
       "mean  -5.024000e-17  1.130400e-16  \n",
       "std    1.000014e+00  1.000014e+00  \n",
       "min   -2.732673e-01 -2.502555e-01  \n",
       "25%   -2.732673e-01 -2.502555e-01  \n",
       "50%   -2.732673e-01 -2.502555e-01  \n",
       "75%   -2.732673e-01 -2.502555e-01  \n",
       "max    5.338817e+00  7.671135e+00  "
      ]
     },
     "execution_count": 49,
     "metadata": {},
     "output_type": "execute_result"
    }
   ],
   "source": [
    "df.describe()"
   ]
  },
  {
   "cell_type": "code",
   "execution_count": 50,
   "metadata": {
    "colab": {
     "base_uri": "https://localhost:8080/"
    },
    "executionInfo": {
     "elapsed": 23,
     "status": "ok",
     "timestamp": 1647267727643,
     "user": {
      "displayName": "Ramadhan Adi Putra",
      "photoUrl": "https://lh3.googleusercontent.com/a-/AOh14Ghwdoo2XwKDMyjKGaLxynmKohSaQKWtP9kSEg4AmA=s64",
      "userId": "17134522319796101163"
     },
     "user_tz": -420
    },
    "id": "5wVEjL6m0izl",
    "outputId": "dc596a00-8f15-40cb-cf01-672826a58cfa"
   },
   "outputs": [
    {
     "data": {
      "text/plain": [
       "-0.661803    5167\n",
       "-0.661214     172\n",
       "-0.660626     131\n",
       "-0.659450     119\n",
       "-0.660038     109\n",
       "             ... \n",
       " 0.406529       1\n",
       " 3.675646       1\n",
       " 2.334937       1\n",
       " 3.849191       1\n",
       " 5.050475       1\n",
       "Name: balance_std, Length: 5500, dtype: int64"
      ]
     },
     "execution_count": 50,
     "metadata": {},
     "output_type": "execute_result"
    }
   ],
   "source": [
    "df['balance_std'].value_counts()"
   ]
  },
  {
   "cell_type": "code",
   "execution_count": 51,
   "metadata": {
    "colab": {
     "base_uri": "https://localhost:8080/",
     "height": 369
    },
    "executionInfo": {
     "elapsed": 3085,
     "status": "ok",
     "timestamp": 1647267730709,
     "user": {
      "displayName": "Ramadhan Adi Putra",
      "photoUrl": "https://lh3.googleusercontent.com/a-/AOh14Ghwdoo2XwKDMyjKGaLxynmKohSaQKWtP9kSEg4AmA=s64",
      "userId": "17134522319796101163"
     },
     "user_tz": -420
    },
    "id": "hzjqCCkw5VSQ",
    "outputId": "e3c8c151-9228-41bc-b9f8-d18edd89c882"
   },
   "outputs": [
    {
     "data": {
      "image/png": "[encoded data removed]",
      "text/plain": [
       "<Figure size 864x360 with 7 Axes>"
      ]
     },
     "metadata": {
      "needs_background": "light"
     },
     "output_type": "display_data"
    }
   ],
   "source": [
    "nums_trans_check = ['age_norm',\t'balance_std',\t'duration_std','day_norm', 'pdays_std', 'campaign_std', 'previous_std']\n",
    "\n",
    "features = nums_trans_check\n",
    "plt.figure(figsize=(12, 5))\n",
    "for i in range(0, len(nums_trans_check)):\n",
    "    plt.subplot(2, 4, i+1)\n",
    "    sns.kdeplot(x=(df[features[i]]))\n",
    "    plt.xlabel(features[i])\n",
    "    plt.tight_layout()"
   ]
  },
  {
   "cell_type": "markdown",
   "metadata": {
    "id": "--_uQVGcNGvG"
   },
   "source": [
    "### Hasil analisa:\n",
    "\n",
    "1. Untuk kolom Day dan Age sementara dipilih menggunakan Normaliasasi, sedangkan lainnya menggunakan Standarisasi karena yang lain terlihat di boxplot banyak sekali terdapat outlier\n",
    "\n",
    "2. Berdasarkan boxplot:\n",
    "*   Kolom Age masih memiliki sedikit outlier\n",
    "*   Kolom Day Tidak memiliki outlier (sejak awal) ->karena nilai maksimalnya sudah pasti \n",
    "*   Kolom Balance, Duration, Pdays, Campaign dan Previous memiliki banyak outlier (pdays & previous = extreme)\n",
    "\n",
    "3. Berdasarkan histogram:\n",
    "* Kebanyakan grafik masih bersifat skewed kecuali kolom Day dan age yang mendekati normal\n",
    "<br></br>\n",
    "\n",
    "** Untuk tahapan transformasi ini sebenarnya bisa menyesuaikan dengan model Machine Learning yang akan dipilih nanti, tidak semua harus ditransformasi/harus menggunakan teknik tertentu (pemilihan teknik dapat bervariasi menyesuaikan syarat model) . Nantinya mungkin tahap ini akan diterka lagi."
   ]
  },
  {
   "cell_type": "markdown",
   "metadata": {
    "id": "iylBNx3RRZFG"
   },
   "source": [
    "#Feature Encoding"
   ]
  },
  {
   "cell_type": "code",
   "execution_count": 52,
   "metadata": {
    "colab": {
     "base_uri": "https://localhost:8080/",
     "height": 164
    },
    "executionInfo": {
     "elapsed": 938,
     "status": "ok",
     "timestamp": 1647267731633,
     "user": {
      "displayName": "Ramadhan Adi Putra",
      "photoUrl": "https://lh3.googleusercontent.com/a-/AOh14Ghwdoo2XwKDMyjKGaLxynmKohSaQKWtP9kSEg4AmA=s64",
      "userId": "17134522319796101163"
     },
     "user_tz": -420
    },
    "id": "LRFtLDRQRdM9",
    "outputId": "8bdee893-b049-4bd2-b1f0-10ca4b62f0fd"
   },
   "outputs": [
    {
     "data": {
      "text/html": [
       "<div>\n",
       "<style scoped>\n",
       "    .dataframe tbody tr th:only-of-type {\n",
       "        vertical-align: middle;\n",
       "    }\n",
       "\n",
       "    .dataframe tbody tr th {\n",
       "        vertical-align: top;\n",
       "    }\n",
       "\n",
       "    .dataframe thead th {\n",
       "        text-align: right;\n",
       "    }\n",
       "</style>\n",
       "<table border=\"1\" class=\"dataframe\">\n",
       "  <thead>\n",
       "    <tr style=\"text-align: right;\">\n",
       "      <th></th>\n",
       "      <th>job</th>\n",
       "      <th>marital</th>\n",
       "      <th>education</th>\n",
       "      <th>default</th>\n",
       "      <th>housing</th>\n",
       "      <th>loan</th>\n",
       "      <th>contact</th>\n",
       "      <th>month</th>\n",
       "      <th>poutcome</th>\n",
       "      <th>y</th>\n",
       "    </tr>\n",
       "  </thead>\n",
       "  <tbody>\n",
       "    <tr>\n",
       "      <th>count</th>\n",
       "      <td>36206</td>\n",
       "      <td>36206</td>\n",
       "      <td>36206</td>\n",
       "      <td>36206</td>\n",
       "      <td>36206</td>\n",
       "      <td>36206</td>\n",
       "      <td>36206</td>\n",
       "      <td>36206</td>\n",
       "      <td>36206</td>\n",
       "      <td>36206</td>\n",
       "    </tr>\n",
       "    <tr>\n",
       "      <th>unique</th>\n",
       "      <td>11</td>\n",
       "      <td>3</td>\n",
       "      <td>3</td>\n",
       "      <td>2</td>\n",
       "      <td>2</td>\n",
       "      <td>2</td>\n",
       "      <td>2</td>\n",
       "      <td>12</td>\n",
       "      <td>4</td>\n",
       "      <td>2</td>\n",
       "    </tr>\n",
       "    <tr>\n",
       "      <th>top</th>\n",
       "      <td>blue-collar</td>\n",
       "      <td>married</td>\n",
       "      <td>secondary</td>\n",
       "      <td>no</td>\n",
       "      <td>yes</td>\n",
       "      <td>no</td>\n",
       "      <td>cellular</td>\n",
       "      <td>may</td>\n",
       "      <td>unknown</td>\n",
       "      <td>no</td>\n",
       "    </tr>\n",
       "    <tr>\n",
       "      <th>freq</th>\n",
       "      <td>8196</td>\n",
       "      <td>21749</td>\n",
       "      <td>20284</td>\n",
       "      <td>35470</td>\n",
       "      <td>20092</td>\n",
       "      <td>29968</td>\n",
       "      <td>34121</td>\n",
       "      <td>11139</td>\n",
       "      <td>33299</td>\n",
       "      <td>32961</td>\n",
       "    </tr>\n",
       "  </tbody>\n",
       "</table>\n",
       "</div>"
      ],
      "text/plain": [
       "                job  marital  education default housing   loan   contact  \\\n",
       "count         36206    36206      36206   36206   36206  36206     36206   \n",
       "unique           11        3          3       2       2      2         2   \n",
       "top     blue-collar  married  secondary      no     yes     no  cellular   \n",
       "freq           8196    21749      20284   35470   20092  29968     34121   \n",
       "\n",
       "        month poutcome      y  \n",
       "count   36206    36206  36206  \n",
       "unique     12        4      2  \n",
       "top       may  unknown     no  \n",
       "freq    11139    33299  32961  "
      ]
     },
     "execution_count": 52,
     "metadata": {},
     "output_type": "execute_result"
    }
   ],
   "source": [
    "df[cats].describe()"
   ]
  },
  {
   "cell_type": "markdown",
   "metadata": {
    "id": "XHsVnVCRSGqP"
   },
   "source": [
    "## Label Encoding"
   ]
  },
  {
   "cell_type": "code",
   "execution_count": 53,
   "metadata": {
    "executionInfo": {
     "elapsed": 53,
     "status": "ok",
     "timestamp": 1647267731635,
     "user": {
      "displayName": "Ramadhan Adi Putra",
      "photoUrl": "https://lh3.googleusercontent.com/a-/AOh14Ghwdoo2XwKDMyjKGaLxynmKohSaQKWtP9kSEg4AmA=s64",
      "userId": "17134522319796101163"
     },
     "user_tz": -420
    },
    "id": "pFn6Gqw5SDpJ"
   },
   "outputs": [],
   "source": [
    "mapping_default = {\n",
    "    'no' : 0,\n",
    "    'yes' : 1\n",
    "}\n",
    "\n",
    "mapping_housing = {\n",
    "    'no' : 0,\n",
    "    'yes' : 1,\n",
    "}\n",
    "\n",
    "mapping_loan = {\n",
    "    'no' : 0,\n",
    "    'yes' : 1\n",
    "}\n",
    "\n",
    "mapping_y = {\n",
    "    'no' : 0,\n",
    "    'yes' : 1\n",
    "}\n",
    "\n",
    "df['default'] = df['default'].map(mapping_default)\n",
    "df['housing'] = df['housing'].map(mapping_housing)\n",
    "df['loan'] = df['loan'].map(mapping_loan)\n",
    "df['y'] = df['y'].map(mapping_y)"
   ]
  },
  {
   "cell_type": "markdown",
   "metadata": {
    "id": "gIFW1uMhSX4I"
   },
   "source": [
    "## One Hot Encoding"
   ]
  },
  {
   "cell_type": "code",
   "execution_count": 54,
   "metadata": {
    "executionInfo": {
     "elapsed": 53,
     "status": "ok",
     "timestamp": 1647267731637,
     "user": {
      "displayName": "Ramadhan Adi Putra",
      "photoUrl": "https://lh3.googleusercontent.com/a-/AOh14Ghwdoo2XwKDMyjKGaLxynmKohSaQKWtP9kSEg4AmA=s64",
      "userId": "17134522319796101163"
     },
     "user_tz": -420
    },
    "id": "EWQJEkZASfTv"
   },
   "outputs": [],
   "source": [
    "for cat in ['job', 'marital','education','contact','month','poutcome']:\n",
    "    onehots = pd.get_dummies(df[cat], prefix=cat)\n",
    "    df = df.join(onehots)"
   ]
  },
  {
   "cell_type": "code",
   "execution_count": 55,
   "metadata": {
    "executionInfo": {
     "elapsed": 55,
     "status": "ok",
     "timestamp": 1647267731639,
     "user": {
      "displayName": "Ramadhan Adi Putra",
      "photoUrl": "https://lh3.googleusercontent.com/a-/AOh14Ghwdoo2XwKDMyjKGaLxynmKohSaQKWtP9kSEg4AmA=s64",
      "userId": "17134522319796101163"
     },
     "user_tz": -420
    },
    "id": "TiOGxv9TSv3J"
   },
   "outputs": [],
   "source": [
    "df = df.drop(columns=['job', 'marital','education','contact','month','poutcome'])"
   ]
  },
  {
   "cell_type": "code",
   "execution_count": 56,
   "metadata": {
    "colab": {
     "base_uri": "https://localhost:8080/",
     "height": 287
    },
    "executionInfo": {
     "elapsed": 55,
     "status": "ok",
     "timestamp": 1647267731640,
     "user": {
      "displayName": "Ramadhan Adi Putra",
      "photoUrl": "https://lh3.googleusercontent.com/a-/AOh14Ghwdoo2XwKDMyjKGaLxynmKohSaQKWtP9kSEg4AmA=s64",
      "userId": "17134522319796101163"
     },
     "user_tz": -420
    },
    "id": "CjHnju78Sr2R",
    "outputId": "9bd02ed4-e6db-4bcb-dd97-9a16a0efd511"
   },
   "outputs": [
    {
     "data": {
      "text/html": [
       "<div>\n",
       "<style scoped>\n",
       "    .dataframe tbody tr th:only-of-type {\n",
       "        vertical-align: middle;\n",
       "    }\n",
       "\n",
       "    .dataframe tbody tr th {\n",
       "        vertical-align: top;\n",
       "    }\n",
       "\n",
       "    .dataframe thead th {\n",
       "        text-align: right;\n",
       "    }\n",
       "</style>\n",
       "<table border=\"1\" class=\"dataframe\">\n",
       "  <thead>\n",
       "    <tr style=\"text-align: right;\">\n",
       "      <th></th>\n",
       "      <th>default</th>\n",
       "      <th>housing</th>\n",
       "      <th>loan</th>\n",
       "      <th>y</th>\n",
       "      <th>age_norm</th>\n",
       "      <th>balance_std</th>\n",
       "      <th>day_norm</th>\n",
       "      <th>duration_std</th>\n",
       "      <th>campaign_std</th>\n",
       "      <th>pdays_std</th>\n",
       "      <th>...</th>\n",
       "      <th>month_jun</th>\n",
       "      <th>month_mar</th>\n",
       "      <th>month_may</th>\n",
       "      <th>month_nov</th>\n",
       "      <th>month_oct</th>\n",
       "      <th>month_sep</th>\n",
       "      <th>poutcome_failure</th>\n",
       "      <th>poutcome_other</th>\n",
       "      <th>poutcome_success</th>\n",
       "      <th>poutcome_unknown</th>\n",
       "    </tr>\n",
       "  </thead>\n",
       "  <tbody>\n",
       "    <tr>\n",
       "      <th>0</th>\n",
       "      <td>0</td>\n",
       "      <td>1</td>\n",
       "      <td>0</td>\n",
       "      <td>0</td>\n",
       "      <td>0.740741</td>\n",
       "      <td>0.598899</td>\n",
       "      <td>0.133333</td>\n",
       "      <td>0.127825</td>\n",
       "      <td>-0.7579</td>\n",
       "      <td>-0.273267</td>\n",
       "      <td>...</td>\n",
       "      <td>0</td>\n",
       "      <td>0</td>\n",
       "      <td>1</td>\n",
       "      <td>0</td>\n",
       "      <td>0</td>\n",
       "      <td>0</td>\n",
       "      <td>0</td>\n",
       "      <td>0</td>\n",
       "      <td>0</td>\n",
       "      <td>1</td>\n",
       "    </tr>\n",
       "    <tr>\n",
       "      <th>1</th>\n",
       "      <td>0</td>\n",
       "      <td>1</td>\n",
       "      <td>0</td>\n",
       "      <td>0</td>\n",
       "      <td>0.481481</td>\n",
       "      <td>-0.644742</td>\n",
       "      <td>0.133333</td>\n",
       "      <td>-0.443222</td>\n",
       "      <td>-0.7579</td>\n",
       "      <td>-0.273267</td>\n",
       "      <td>...</td>\n",
       "      <td>0</td>\n",
       "      <td>0</td>\n",
       "      <td>1</td>\n",
       "      <td>0</td>\n",
       "      <td>0</td>\n",
       "      <td>0</td>\n",
       "      <td>0</td>\n",
       "      <td>0</td>\n",
       "      <td>0</td>\n",
       "      <td>1</td>\n",
       "    </tr>\n",
       "    <tr>\n",
       "      <th>2</th>\n",
       "      <td>0</td>\n",
       "      <td>1</td>\n",
       "      <td>1</td>\n",
       "      <td>0</td>\n",
       "      <td>0.277778</td>\n",
       "      <td>-0.660626</td>\n",
       "      <td>0.133333</td>\n",
       "      <td>-0.832573</td>\n",
       "      <td>-0.7579</td>\n",
       "      <td>-0.273267</td>\n",
       "      <td>...</td>\n",
       "      <td>0</td>\n",
       "      <td>0</td>\n",
       "      <td>1</td>\n",
       "      <td>0</td>\n",
       "      <td>0</td>\n",
       "      <td>0</td>\n",
       "      <td>0</td>\n",
       "      <td>0</td>\n",
       "      <td>0</td>\n",
       "      <td>1</td>\n",
       "    </tr>\n",
       "    <tr>\n",
       "      <th>3</th>\n",
       "      <td>0</td>\n",
       "      <td>1</td>\n",
       "      <td>0</td>\n",
       "      <td>0</td>\n",
       "      <td>0.537037</td>\n",
       "      <td>0.224159</td>\n",
       "      <td>0.133333</td>\n",
       "      <td>-0.749511</td>\n",
       "      <td>-0.7579</td>\n",
       "      <td>-0.273267</td>\n",
       "      <td>...</td>\n",
       "      <td>0</td>\n",
       "      <td>0</td>\n",
       "      <td>1</td>\n",
       "      <td>0</td>\n",
       "      <td>0</td>\n",
       "      <td>0</td>\n",
       "      <td>0</td>\n",
       "      <td>0</td>\n",
       "      <td>0</td>\n",
       "      <td>1</td>\n",
       "    </tr>\n",
       "    <tr>\n",
       "      <th>4</th>\n",
       "      <td>0</td>\n",
       "      <td>0</td>\n",
       "      <td>0</td>\n",
       "      <td>0</td>\n",
       "      <td>0.277778</td>\n",
       "      <td>-0.661214</td>\n",
       "      <td>0.133333</td>\n",
       "      <td>-0.199229</td>\n",
       "      <td>-0.7579</td>\n",
       "      <td>-0.273267</td>\n",
       "      <td>...</td>\n",
       "      <td>0</td>\n",
       "      <td>0</td>\n",
       "      <td>1</td>\n",
       "      <td>0</td>\n",
       "      <td>0</td>\n",
       "      <td>0</td>\n",
       "      <td>0</td>\n",
       "      <td>0</td>\n",
       "      <td>0</td>\n",
       "      <td>1</td>\n",
       "    </tr>\n",
       "  </tbody>\n",
       "</table>\n",
       "<p>5 rows × 46 columns</p>\n",
       "</div>"
      ],
      "text/plain": [
       "   default  housing  loan  y  age_norm  balance_std  day_norm  duration_std  \\\n",
       "0        0        1     0  0  0.740741     0.598899  0.133333      0.127825   \n",
       "1        0        1     0  0  0.481481    -0.644742  0.133333     -0.443222   \n",
       "2        0        1     1  0  0.277778    -0.660626  0.133333     -0.832573   \n",
       "3        0        1     0  0  0.537037     0.224159  0.133333     -0.749511   \n",
       "4        0        0     0  0  0.277778    -0.661214  0.133333     -0.199229   \n",
       "\n",
       "   campaign_std  pdays_std  ...  month_jun  month_mar  month_may  month_nov  \\\n",
       "0       -0.7579  -0.273267  ...          0          0          1          0   \n",
       "1       -0.7579  -0.273267  ...          0          0          1          0   \n",
       "2       -0.7579  -0.273267  ...          0          0          1          0   \n",
       "3       -0.7579  -0.273267  ...          0          0          1          0   \n",
       "4       -0.7579  -0.273267  ...          0          0          1          0   \n",
       "\n",
       "   month_oct  month_sep  poutcome_failure  poutcome_other  poutcome_success  \\\n",
       "0          0          0                 0               0                 0   \n",
       "1          0          0                 0               0                 0   \n",
       "2          0          0                 0               0                 0   \n",
       "3          0          0                 0               0                 0   \n",
       "4          0          0                 0               0                 0   \n",
       "\n",
       "   poutcome_unknown  \n",
       "0                 1  \n",
       "1                 1  \n",
       "2                 1  \n",
       "3                 1  \n",
       "4                 1  \n",
       "\n",
       "[5 rows x 46 columns]"
      ]
     },
     "execution_count": 56,
     "metadata": {},
     "output_type": "execute_result"
    }
   ],
   "source": [
    "df.head()"
   ]
  },
  {
   "cell_type": "code",
   "execution_count": 57,
   "metadata": {
    "colab": {
     "base_uri": "https://localhost:8080/"
    },
    "executionInfo": {
     "elapsed": 55,
     "status": "ok",
     "timestamp": 1647267731642,
     "user": {
      "displayName": "Ramadhan Adi Putra",
      "photoUrl": "https://lh3.googleusercontent.com/a-/AOh14Ghwdoo2XwKDMyjKGaLxynmKohSaQKWtP9kSEg4AmA=s64",
      "userId": "17134522319796101163"
     },
     "user_tz": -420
    },
    "id": "OTAHRpAeS57z",
    "outputId": "935b844b-4cd8-41ae-f02e-3f6e5871c4ef"
   },
   "outputs": [
    {
     "name": "stdout",
     "output_type": "stream",
     "text": [
      "<class 'pandas.core.frame.DataFrame'>\n",
      "Int64Index: 36206 entries, 0 to 45209\n",
      "Data columns (total 46 columns):\n",
      " #   Column               Non-Null Count  Dtype  \n",
      "---  ------               --------------  -----  \n",
      " 0   default              36206 non-null  int64  \n",
      " 1   housing              36206 non-null  int64  \n",
      " 2   loan                 36206 non-null  int64  \n",
      " 3   y                    36206 non-null  int64  \n",
      " 4   age_norm             36206 non-null  float64\n",
      " 5   balance_std          36206 non-null  float64\n",
      " 6   day_norm             36206 non-null  float64\n",
      " 7   duration_std         36206 non-null  float64\n",
      " 8   campaign_std         36206 non-null  float64\n",
      " 9   pdays_std            36206 non-null  float64\n",
      " 10  previous_std         36206 non-null  float64\n",
      " 11  job_admin.           36206 non-null  uint8  \n",
      " 12  job_blue-collar      36206 non-null  uint8  \n",
      " 13  job_entrepreneur     36206 non-null  uint8  \n",
      " 14  job_housemaid        36206 non-null  uint8  \n",
      " 15  job_management       36206 non-null  uint8  \n",
      " 16  job_retired          36206 non-null  uint8  \n",
      " 17  job_self-employed    36206 non-null  uint8  \n",
      " 18  job_services         36206 non-null  uint8  \n",
      " 19  job_student          36206 non-null  uint8  \n",
      " 20  job_technician       36206 non-null  uint8  \n",
      " 21  job_unemployed       36206 non-null  uint8  \n",
      " 22  marital_divorced     36206 non-null  uint8  \n",
      " 23  marital_married      36206 non-null  uint8  \n",
      " 24  marital_single       36206 non-null  uint8  \n",
      " 25  education_primary    36206 non-null  uint8  \n",
      " 26  education_secondary  36206 non-null  uint8  \n",
      " 27  education_tertiary   36206 non-null  uint8  \n",
      " 28  contact_cellular     36206 non-null  uint8  \n",
      " 29  contact_telephone    36206 non-null  uint8  \n",
      " 30  month_apr            36206 non-null  uint8  \n",
      " 31  month_aug            36206 non-null  uint8  \n",
      " 32  month_dec            36206 non-null  uint8  \n",
      " 33  month_feb            36206 non-null  uint8  \n",
      " 34  month_jan            36206 non-null  uint8  \n",
      " 35  month_jul            36206 non-null  uint8  \n",
      " 36  month_jun            36206 non-null  uint8  \n",
      " 37  month_mar            36206 non-null  uint8  \n",
      " 38  month_may            36206 non-null  uint8  \n",
      " 39  month_nov            36206 non-null  uint8  \n",
      " 40  month_oct            36206 non-null  uint8  \n",
      " 41  month_sep            36206 non-null  uint8  \n",
      " 42  poutcome_failure     36206 non-null  uint8  \n",
      " 43  poutcome_other       36206 non-null  uint8  \n",
      " 44  poutcome_success     36206 non-null  uint8  \n",
      " 45  poutcome_unknown     36206 non-null  uint8  \n",
      "dtypes: float64(7), int64(4), uint8(35)\n",
      "memory usage: 5.5 MB\n"
     ]
    }
   ],
   "source": [
    "df.info()"
   ]
  },
  {
   "cell_type": "markdown",
   "metadata": {
    "id": "kpCtvhZgTAmT"
   },
   "source": [
    "# Imbalance Dataset"
   ]
  },
  {
   "cell_type": "code",
   "execution_count": 58,
   "metadata": {
    "colab": {
     "base_uri": "https://localhost:8080/"
    },
    "executionInfo": {
     "elapsed": 52,
     "status": "ok",
     "timestamp": 1647267731643,
     "user": {
      "displayName": "Ramadhan Adi Putra",
      "photoUrl": "https://lh3.googleusercontent.com/a-/AOh14Ghwdoo2XwKDMyjKGaLxynmKohSaQKWtP9kSEg4AmA=s64",
      "userId": "17134522319796101163"
     },
     "user_tz": -420
    },
    "id": "-TjeJaYtS-b1",
    "outputId": "0fc7b1f5-152a-4671-a25b-9eb2b6dced5f"
   },
   "outputs": [
    {
     "data": {
      "text/plain": [
       "0    32961\n",
       "1     3245\n",
       "Name: y, dtype: int64"
      ]
     },
     "execution_count": 58,
     "metadata": {},
     "output_type": "execute_result"
    }
   ],
   "source": [
    "df['y'].value_counts()"
   ]
  },
  {
   "cell_type": "code",
   "execution_count": 59,
   "metadata": {
    "colab": {
     "base_uri": "https://localhost:8080/"
    },
    "executionInfo": {
     "elapsed": 50,
     "status": "ok",
     "timestamp": 1647267731645,
     "user": {
      "displayName": "Ramadhan Adi Putra",
      "photoUrl": "https://lh3.googleusercontent.com/a-/AOh14Ghwdoo2XwKDMyjKGaLxynmKohSaQKWtP9kSEg4AmA=s64",
      "userId": "17134522319796101163"
     },
     "user_tz": -420
    },
    "id": "9zaVlFu7THxU",
    "outputId": "6be91924-43da-452f-fb69-50ff320b46a3"
   },
   "outputs": [
    {
     "name": "stdout",
     "output_type": "stream",
     "text": [
      "(36206, 45)\n",
      "(36206,)\n"
     ]
    }
   ],
   "source": [
    "X = df[[col for col in df.columns if (str(df[col].dtype) != 'object') and col not in ['y']]]\n",
    "y = df['y'].values\n",
    "print(X.shape)\n",
    "print(y.shape)"
   ]
  },
  {
   "cell_type": "code",
   "execution_count": 60,
   "metadata": {
    "colab": {
     "base_uri": "https://localhost:8080/"
    },
    "executionInfo": {
     "elapsed": 48,
     "status": "ok",
     "timestamp": 1647267731648,
     "user": {
      "displayName": "Ramadhan Adi Putra",
      "photoUrl": "https://lh3.googleusercontent.com/a-/AOh14Ghwdoo2XwKDMyjKGaLxynmKohSaQKWtP9kSEg4AmA=s64",
      "userId": "17134522319796101163"
     },
     "user_tz": -420
    },
    "id": "f6g9s2r4TL-R",
    "outputId": "b71ea2d5-fd78-4d6e-8618-8a612ab284b2"
   },
   "outputs": [],
   "source": [
    "from imblearn import under_sampling, over_sampling\n",
    "X_under, y_under = under_sampling.RandomUnderSampler(sampling_strategy=0.5).fit_resample(X, y)\n",
    "X_over, y_over = over_sampling.RandomOverSampler(sampling_strategy=0.5, random_state=1).fit_resample(X, y)\n",
    "X_over_SMOTE, y_over_SMOTE = over_sampling.SMOTE(sampling_strategy=0.5).fit_resample(X, y)"
   ]
  },
  {
   "cell_type": "code",
   "execution_count": 61,
   "metadata": {
    "colab": {
     "base_uri": "https://localhost:8080/"
    },
    "executionInfo": {
     "elapsed": 47,
     "status": "ok",
     "timestamp": 1647267731650,
     "user": {
      "displayName": "Ramadhan Adi Putra",
      "photoUrl": "https://lh3.googleusercontent.com/a-/AOh14Ghwdoo2XwKDMyjKGaLxynmKohSaQKWtP9kSEg4AmA=s64",
      "userId": "17134522319796101163"
     },
     "user_tz": -420
    },
    "id": "fPC_9KDbTsv_",
    "outputId": "452f3791-963c-4ca6-8174-372625dd729d"
   },
   "outputs": [
    {
     "name": "stdout",
     "output_type": "stream",
     "text": [
      "Original\n",
      "0    32961\n",
      "1     3245\n",
      "dtype: int64\n",
      "Undersampling\n",
      "0    6490\n",
      "1    3245\n",
      "dtype: int64\n",
      "Oversampling\n",
      "0    32961\n",
      "1    16480\n",
      "dtype: int64\n",
      "oversampling Smote\n",
      "0    32961\n",
      "1    16480\n",
      "dtype: int64\n"
     ]
    }
   ],
   "source": [
    "print('Original')\n",
    "print(pd.Series(y).value_counts())\n",
    "print('Undersampling')\n",
    "print(pd.Series(y_under).value_counts())\n",
    "print('Oversampling')\n",
    "print(pd.Series(y_over).value_counts())\n",
    "print('oversampling Smote')\n",
    "print(pd.Series(y_over_SMOTE).value_counts())"
   ]
  },
  {
   "cell_type": "markdown",
   "metadata": {
    "id": "UndzGPsZKOAi"
   },
   "source": [
    "# Feature Engineering"
   ]
  },
  {
   "cell_type": "code",
   "execution_count": 62,
   "metadata": {
    "colab": {
     "base_uri": "https://localhost:8080/",
     "height": 258
    },
    "executionInfo": {
     "elapsed": 645,
     "status": "ok",
     "timestamp": 1647267922381,
     "user": {
      "displayName": "Ramadhan Adi Putra",
      "photoUrl": "https://lh3.googleusercontent.com/a-/AOh14Ghwdoo2XwKDMyjKGaLxynmKohSaQKWtP9kSEg4AmA=s64",
      "userId": "17134522319796101163"
     },
     "user_tz": -420
    },
    "id": "72fL9dDXj2J5",
    "outputId": "ea441e23-08a1-4cc6-a192-9ccbc1533d35"
   },
   "outputs": [
    {
     "data": {
      "text/html": [
       "<div>\n",
       "<style scoped>\n",
       "    .dataframe tbody tr th:only-of-type {\n",
       "        vertical-align: middle;\n",
       "    }\n",
       "\n",
       "    .dataframe tbody tr th {\n",
       "        vertical-align: top;\n",
       "    }\n",
       "\n",
       "    .dataframe thead th {\n",
       "        text-align: right;\n",
       "    }\n",
       "</style>\n",
       "<table border=\"1\" class=\"dataframe\">\n",
       "  <thead>\n",
       "    <tr style=\"text-align: right;\">\n",
       "      <th></th>\n",
       "      <th>age</th>\n",
       "      <th>job</th>\n",
       "      <th>marital</th>\n",
       "      <th>education</th>\n",
       "      <th>default</th>\n",
       "      <th>balance</th>\n",
       "      <th>housing</th>\n",
       "      <th>loan</th>\n",
       "      <th>contact</th>\n",
       "      <th>day</th>\n",
       "      <th>month</th>\n",
       "      <th>duration</th>\n",
       "      <th>campaign</th>\n",
       "      <th>pdays</th>\n",
       "      <th>previous</th>\n",
       "      <th>poutcome</th>\n",
       "      <th>y</th>\n",
       "      <th>defaults</th>\n",
       "      <th>loans</th>\n",
       "      <th>converted</th>\n",
       "    </tr>\n",
       "  </thead>\n",
       "  <tbody>\n",
       "    <tr>\n",
       "      <th>23933</th>\n",
       "      <td>39</td>\n",
       "      <td>technician</td>\n",
       "      <td>divorced</td>\n",
       "      <td>secondary</td>\n",
       "      <td>no</td>\n",
       "      <td>8</td>\n",
       "      <td>no</td>\n",
       "      <td>no</td>\n",
       "      <td>cellular</td>\n",
       "      <td>29</td>\n",
       "      <td>aug</td>\n",
       "      <td>1028</td>\n",
       "      <td>2</td>\n",
       "      <td>-1</td>\n",
       "      <td>0</td>\n",
       "      <td>unknown</td>\n",
       "      <td>no</td>\n",
       "      <td>0</td>\n",
       "      <td>0</td>\n",
       "      <td>0</td>\n",
       "    </tr>\n",
       "    <tr>\n",
       "      <th>13025</th>\n",
       "      <td>42</td>\n",
       "      <td>management</td>\n",
       "      <td>married</td>\n",
       "      <td>secondary</td>\n",
       "      <td>no</td>\n",
       "      <td>4314</td>\n",
       "      <td>no</td>\n",
       "      <td>no</td>\n",
       "      <td>cellular</td>\n",
       "      <td>7</td>\n",
       "      <td>jul</td>\n",
       "      <td>214</td>\n",
       "      <td>1</td>\n",
       "      <td>-1</td>\n",
       "      <td>0</td>\n",
       "      <td>unknown</td>\n",
       "      <td>no</td>\n",
       "      <td>0</td>\n",
       "      <td>0</td>\n",
       "      <td>0</td>\n",
       "    </tr>\n",
       "    <tr>\n",
       "      <th>12429</th>\n",
       "      <td>34</td>\n",
       "      <td>blue-collar</td>\n",
       "      <td>married</td>\n",
       "      <td>secondary</td>\n",
       "      <td>no</td>\n",
       "      <td>0</td>\n",
       "      <td>yes</td>\n",
       "      <td>no</td>\n",
       "      <td>unknown</td>\n",
       "      <td>30</td>\n",
       "      <td>jun</td>\n",
       "      <td>780</td>\n",
       "      <td>3</td>\n",
       "      <td>-1</td>\n",
       "      <td>0</td>\n",
       "      <td>unknown</td>\n",
       "      <td>no</td>\n",
       "      <td>0</td>\n",
       "      <td>0</td>\n",
       "      <td>0</td>\n",
       "    </tr>\n",
       "    <tr>\n",
       "      <th>12927</th>\n",
       "      <td>58</td>\n",
       "      <td>technician</td>\n",
       "      <td>divorced</td>\n",
       "      <td>secondary</td>\n",
       "      <td>no</td>\n",
       "      <td>-354</td>\n",
       "      <td>yes</td>\n",
       "      <td>yes</td>\n",
       "      <td>cellular</td>\n",
       "      <td>7</td>\n",
       "      <td>jul</td>\n",
       "      <td>98</td>\n",
       "      <td>1</td>\n",
       "      <td>-1</td>\n",
       "      <td>0</td>\n",
       "      <td>unknown</td>\n",
       "      <td>no</td>\n",
       "      <td>0</td>\n",
       "      <td>1</td>\n",
       "      <td>0</td>\n",
       "    </tr>\n",
       "    <tr>\n",
       "      <th>2088</th>\n",
       "      <td>55</td>\n",
       "      <td>services</td>\n",
       "      <td>single</td>\n",
       "      <td>secondary</td>\n",
       "      <td>no</td>\n",
       "      <td>-40</td>\n",
       "      <td>yes</td>\n",
       "      <td>no</td>\n",
       "      <td>unknown</td>\n",
       "      <td>12</td>\n",
       "      <td>may</td>\n",
       "      <td>178</td>\n",
       "      <td>2</td>\n",
       "      <td>-1</td>\n",
       "      <td>0</td>\n",
       "      <td>unknown</td>\n",
       "      <td>no</td>\n",
       "      <td>0</td>\n",
       "      <td>0</td>\n",
       "      <td>0</td>\n",
       "    </tr>\n",
       "  </tbody>\n",
       "</table>\n",
       "</div>"
      ],
      "text/plain": [
       "       age          job   marital  education default  balance housing loan  \\\n",
       "23933   39   technician  divorced  secondary      no        8      no   no   \n",
       "13025   42   management   married  secondary      no     4314      no   no   \n",
       "12429   34  blue-collar   married  secondary      no        0     yes   no   \n",
       "12927   58   technician  divorced  secondary      no     -354     yes  yes   \n",
       "2088    55     services    single  secondary      no      -40     yes   no   \n",
       "\n",
       "        contact  day month  duration  campaign  pdays  previous poutcome   y  \\\n",
       "23933  cellular   29   aug      1028         2     -1         0  unknown  no   \n",
       "13025  cellular    7   jul       214         1     -1         0  unknown  no   \n",
       "12429   unknown   30   jun       780         3     -1         0  unknown  no   \n",
       "12927  cellular    7   jul        98         1     -1         0  unknown  no   \n",
       "2088    unknown   12   may       178         2     -1         0  unknown  no   \n",
       "\n",
       "       defaults  loans  converted  \n",
       "23933         0      0          0  \n",
       "13025         0      0          0  \n",
       "12429         0      0          0  \n",
       "12927         0      1          0  \n",
       "2088          0      0          0  "
      ]
     },
     "execution_count": 62,
     "metadata": {},
     "output_type": "execute_result"
    }
   ],
   "source": [
    "nums = ['age','balance','day','duration','campaign','pdays','previous', 'converted']\n",
    "cats = ['job','marital','education','default','housing','loan','contact','month','poutcome','y']\n",
    "\n",
    "dfs= pd.read_csv('https://raw.githubusercontent.com/angkasatech/ds/37146328bc5814f4e7a0adb739e6574def32b6dc/banking_train.csv', delimiter=';')\n",
    "\n",
    "dfs['defaults'] = dfs['default'].apply(lambda x: 1 if 'yes' in x else 0)\n",
    "dfs['loans'] = dfs['loan'].apply(lambda x: 1 if 'yes' in x else 0)\n",
    "dfs['converted'] = dfs['y'].apply(lambda x: 1 if 'yes' in x else 0)\n",
    "\n",
    "dfs.sample(5)"
   ]
  },
  {
   "cell_type": "code",
   "execution_count": 63,
   "metadata": {
    "colab": {
     "base_uri": "https://localhost:8080/",
     "height": 545
    },
    "executionInfo": {
     "elapsed": 1827,
     "status": "ok",
     "timestamp": 1647267931130,
     "user": {
      "displayName": "Ramadhan Adi Putra",
      "photoUrl": "https://lh3.googleusercontent.com/a-/AOh14Ghwdoo2XwKDMyjKGaLxynmKohSaQKWtP9kSEg4AmA=s64",
      "userId": "17134522319796101163"
     },
     "user_tz": -420
    },
    "id": "xFVve1QAKOm5",
    "outputId": "64dadf9c-c747-445f-c776-276370c8e248"
   },
   "outputs": [
    {
     "data": {
      "text/plain": [
       "<AxesSubplot:>"
      ]
     },
     "execution_count": 63,
     "metadata": {},
     "output_type": "execute_result"
    },
    {
     "data": {
      "image/png": "[encoded data removed]",
      "text/plain": [
       "<Figure size 576x576 with 2 Axes>"
      ]
     },
     "metadata": {
      "needs_background": "light"
     },
     "output_type": "display_data"
    }
   ],
   "source": [
    "plt.figure(figsize=(8, 8))\n",
    "sns.heatmap(dfs.corr(), cmap='Blues', annot=True, fmt='.2f')"
   ]
  },
  {
   "cell_type": "code",
   "execution_count": 64,
   "metadata": {
    "colab": {
     "base_uri": "https://localhost:8080/",
     "height": 953
    },
    "executionInfo": {
     "elapsed": 7689,
     "status": "ok",
     "timestamp": 1647267952011,
     "user": {
      "displayName": "Ramadhan Adi Putra",
      "photoUrl": "https://lh3.googleusercontent.com/a-/AOh14Ghwdoo2XwKDMyjKGaLxynmKohSaQKWtP9kSEg4AmA=s64",
      "userId": "17134522319796101163"
     },
     "user_tz": -420
    },
    "id": "7HHAWiQrkNsj",
    "outputId": "f6eb53d5-e2f5-44e5-bfdd-e0c829e41aea"
   },
   "outputs": [
    {
     "data": {
      "image/png": "[encoded data removed]",
      "text/plain": [
       "<Figure size 1224x1224 with 10 Axes>"
      ]
     },
     "metadata": {
      "needs_background": "light"
     },
     "output_type": "display_data"
    }
   ],
   "source": [
    "features = cats\n",
    "plt.figure(figsize=(17, 17))\n",
    "for i in range(0, len(features)):\n",
    "    plt.subplot(4, 4, i+1) \n",
    "    sns.countplot(data=dfs, x='converted', hue=features[i])\n",
    "    plt.xlabel(features[i])\n",
    "    plt.tight_layout()"
   ]
  },
  {
   "cell_type": "code",
   "execution_count": 65,
   "metadata": {
    "colab": {
     "base_uri": "https://localhost:8080/"
    },
    "executionInfo": {
     "elapsed": 20,
     "status": "ok",
     "timestamp": 1647267953474,
     "user": {
      "displayName": "Ramadhan Adi Putra",
      "photoUrl": "https://lh3.googleusercontent.com/a-/AOh14Ghwdoo2XwKDMyjKGaLxynmKohSaQKWtP9kSEg4AmA=s64",
      "userId": "17134522319796101163"
     },
     "user_tz": -420
    },
    "id": "UyCTk1O1kXOs",
    "outputId": "edb417f7-ecb0-4842-f00a-681112b894c5"
   },
   "outputs": [
    {
     "data": {
      "text/plain": [
       "-1      36954\n",
       " 182      167\n",
       " 92       147\n",
       " 91       126\n",
       " 183      126\n",
       "        ...  \n",
       " 449        1\n",
       " 452        1\n",
       " 648        1\n",
       " 595        1\n",
       " 530        1\n",
       "Name: pdays, Length: 559, dtype: int64"
      ]
     },
     "execution_count": 65,
     "metadata": {},
     "output_type": "execute_result"
    }
   ],
   "source": [
    "dfs['pdays'].value_counts()"
   ]
  },
  {
   "cell_type": "markdown",
   "metadata": {
    "id": "ciTGLXrjKaQL"
   },
   "source": [
    "## A. Feature selection"
   ]
  },
  {
   "cell_type": "markdown",
   "metadata": {
    "id": "rz3EQr6Lm_5j"
   },
   "source": [
    "\n",
    "A. selection: \n",
    "*Hasil dari analisa diatas dipilih beberapa feature yang kemungkinan paling berpengaruh:\n",
    "\n",
    "Feature reduction: \n",
    "categorical: job, marital, education (kurang ada relasi dengan target), default (mirip dengan loan), month, poutcome\n",
    "numerical: nums = pdays (ada nilai -1).\n",
    "\n",
    "Jadi fitur yang akan dicoba adalah:\n",
    "Optional feature 1: housing, loan, contact, y , age, balance, duration, campaign, previous, day.\n",
    "\n",
    "Optional feature 2: housing, loan, contact, y , age, duration, campaign\n",
    "\n",
    "Optional feature 3: *kemungkinan akan ada perubahan fitur yg dipilih/diuji lagi di next stage."
   ]
  },
  {
   "cell_type": "markdown",
   "metadata": {
    "id": "QeDplsL3KdvC"
   },
   "source": [
    "## B. Feature extraction"
   ]
  },
  {
   "cell_type": "markdown",
   "metadata": {
    "id": "WIRmL6L_nenB"
   },
   "source": [
    "Tidak ada fitur yang perlu diekstrak, karena setiap fitur sudah cukup fungsional dengan data aslinya, mungkin beberapa perlu di encoding."
   ]
  },
  {
   "cell_type": "markdown",
   "metadata": {
    "id": "cB7UQaVnnYrI"
   },
   "source": [
    "## C. New Feature Idea"
   ]
  },
  {
   "cell_type": "markdown",
   "metadata": {
    "id": "wUIkh5oVnN7Y"
   },
   "source": [
    "\n",
    "Ide fitur tambahan: mempunyai anak/tanggungan berapa, gaji, gagal bayar, status pegawai tetap, saran terhadap fitur 'job' untuk diisi dengan : PNS/Pengusaha/Karyawan/Frelencer (agar segmentasinya agar tidak terlalu lebih banyak)."
   ]
  }
 ],
 "metadata": {
  "colab": {
   "collapsed_sections": [],
   "name": "Stage 2_Kelompok Pegasus.ipynb",
   "provenance": [],
   "toc_visible": true
  },
  "kernelspec": {
   "display_name": "Python 3 (ipykernel)",
   "language": "python",
   "name": "python3"
  },
  "language_info": {
   "codemirror_mode": {
    "name": "ipython",
    "version": 3
   },
   "file_extension": ".py",
   "mimetype": "text/x-python",
   "name": "python",
   "nbconvert_exporter": "python",
   "pygments_lexer": "ipython3",
   "version": "3.9.7"
  }
 },
 "nbformat": 4,
 "nbformat_minor": 4
}
