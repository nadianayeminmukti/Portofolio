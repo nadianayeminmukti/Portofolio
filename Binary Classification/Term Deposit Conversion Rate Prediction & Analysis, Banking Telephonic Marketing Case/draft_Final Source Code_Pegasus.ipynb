{
 "cells": [
  {
   "cell_type": "code",
   "execution_count": 1,
   "id": "74009982-e22b-4b83-bd74-fb2eefe8e298",
   "metadata": {},
   "outputs": [],
   "source": [
    "import pandas as pd\n",
    "import numpy as np\n",
    "import matplotlib.pyplot as plt\n",
    "import seaborn as sns\n",
    "import warnings\n",
    "warnings.filterwarnings('ignore')\n",
    "import math"
   ]
  },
  {
   "cell_type": "code",
   "execution_count": 2,
   "id": "909e71e2-8e19-4ec3-bd11-a59b52290d5b",
   "metadata": {
    "id": "3jvn1ZYPJC6_"
   },
   "outputs": [],
   "source": [
    "df= pd.read_csv('https://raw.githubusercontent.com/angkasatech/ds/37146328bc5814f4e7a0adb739e6574def32b6dc/banking_train.csv', delimiter=';')"
   ]
  },
  {
   "cell_type": "code",
   "execution_count": 3,
   "id": "606cbe75-abd7-4d79-aa12-8839857eba55",
   "metadata": {
    "colab": {
     "base_uri": "https://localhost:8080/",
     "height": 194
    },
    "id": "9YxcHDZbI_hp",
    "outputId": "27e52255-823d-43c0-dcc4-f03789d5bb03"
   },
   "outputs": [
    {
     "data": {
      "text/html": [
       "<div>\n",
       "<style scoped>\n",
       "    .dataframe tbody tr th:only-of-type {\n",
       "        vertical-align: middle;\n",
       "    }\n",
       "\n",
       "    .dataframe tbody tr th {\n",
       "        vertical-align: top;\n",
       "    }\n",
       "\n",
       "    .dataframe thead th {\n",
       "        text-align: right;\n",
       "    }\n",
       "</style>\n",
       "<table border=\"1\" class=\"dataframe\">\n",
       "  <thead>\n",
       "    <tr style=\"text-align: right;\">\n",
       "      <th></th>\n",
       "      <th>age</th>\n",
       "      <th>job</th>\n",
       "      <th>marital</th>\n",
       "      <th>education</th>\n",
       "      <th>default</th>\n",
       "      <th>balance</th>\n",
       "      <th>housing</th>\n",
       "      <th>loan</th>\n",
       "      <th>contact</th>\n",
       "      <th>day</th>\n",
       "      <th>month</th>\n",
       "      <th>duration</th>\n",
       "      <th>campaign</th>\n",
       "      <th>pdays</th>\n",
       "      <th>previous</th>\n",
       "      <th>poutcome</th>\n",
       "      <th>y</th>\n",
       "    </tr>\n",
       "  </thead>\n",
       "  <tbody>\n",
       "    <tr>\n",
       "      <th>0</th>\n",
       "      <td>58</td>\n",
       "      <td>management</td>\n",
       "      <td>married</td>\n",
       "      <td>tertiary</td>\n",
       "      <td>no</td>\n",
       "      <td>2143</td>\n",
       "      <td>yes</td>\n",
       "      <td>no</td>\n",
       "      <td>unknown</td>\n",
       "      <td>5</td>\n",
       "      <td>may</td>\n",
       "      <td>261</td>\n",
       "      <td>1</td>\n",
       "      <td>-1</td>\n",
       "      <td>0</td>\n",
       "      <td>unknown</td>\n",
       "      <td>no</td>\n",
       "    </tr>\n",
       "    <tr>\n",
       "      <th>1</th>\n",
       "      <td>44</td>\n",
       "      <td>technician</td>\n",
       "      <td>single</td>\n",
       "      <td>secondary</td>\n",
       "      <td>no</td>\n",
       "      <td>29</td>\n",
       "      <td>yes</td>\n",
       "      <td>no</td>\n",
       "      <td>unknown</td>\n",
       "      <td>5</td>\n",
       "      <td>may</td>\n",
       "      <td>151</td>\n",
       "      <td>1</td>\n",
       "      <td>-1</td>\n",
       "      <td>0</td>\n",
       "      <td>unknown</td>\n",
       "      <td>no</td>\n",
       "    </tr>\n",
       "    <tr>\n",
       "      <th>2</th>\n",
       "      <td>33</td>\n",
       "      <td>entrepreneur</td>\n",
       "      <td>married</td>\n",
       "      <td>secondary</td>\n",
       "      <td>no</td>\n",
       "      <td>2</td>\n",
       "      <td>yes</td>\n",
       "      <td>yes</td>\n",
       "      <td>unknown</td>\n",
       "      <td>5</td>\n",
       "      <td>may</td>\n",
       "      <td>76</td>\n",
       "      <td>1</td>\n",
       "      <td>-1</td>\n",
       "      <td>0</td>\n",
       "      <td>unknown</td>\n",
       "      <td>no</td>\n",
       "    </tr>\n",
       "    <tr>\n",
       "      <th>3</th>\n",
       "      <td>47</td>\n",
       "      <td>blue-collar</td>\n",
       "      <td>married</td>\n",
       "      <td>unknown</td>\n",
       "      <td>no</td>\n",
       "      <td>1506</td>\n",
       "      <td>yes</td>\n",
       "      <td>no</td>\n",
       "      <td>unknown</td>\n",
       "      <td>5</td>\n",
       "      <td>may</td>\n",
       "      <td>92</td>\n",
       "      <td>1</td>\n",
       "      <td>-1</td>\n",
       "      <td>0</td>\n",
       "      <td>unknown</td>\n",
       "      <td>no</td>\n",
       "    </tr>\n",
       "    <tr>\n",
       "      <th>4</th>\n",
       "      <td>33</td>\n",
       "      <td>unknown</td>\n",
       "      <td>single</td>\n",
       "      <td>unknown</td>\n",
       "      <td>no</td>\n",
       "      <td>1</td>\n",
       "      <td>no</td>\n",
       "      <td>no</td>\n",
       "      <td>unknown</td>\n",
       "      <td>5</td>\n",
       "      <td>may</td>\n",
       "      <td>198</td>\n",
       "      <td>1</td>\n",
       "      <td>-1</td>\n",
       "      <td>0</td>\n",
       "      <td>unknown</td>\n",
       "      <td>no</td>\n",
       "    </tr>\n",
       "  </tbody>\n",
       "</table>\n",
       "</div>"
      ],
      "text/plain": [
       "   age           job  marital  education default  balance housing loan  \\\n",
       "0   58    management  married   tertiary      no     2143     yes   no   \n",
       "1   44    technician   single  secondary      no       29     yes   no   \n",
       "2   33  entrepreneur  married  secondary      no        2     yes  yes   \n",
       "3   47   blue-collar  married    unknown      no     1506     yes   no   \n",
       "4   33       unknown   single    unknown      no        1      no   no   \n",
       "\n",
       "   contact  day month  duration  campaign  pdays  previous poutcome   y  \n",
       "0  unknown    5   may       261         1     -1         0  unknown  no  \n",
       "1  unknown    5   may       151         1     -1         0  unknown  no  \n",
       "2  unknown    5   may        76         1     -1         0  unknown  no  \n",
       "3  unknown    5   may        92         1     -1         0  unknown  no  \n",
       "4  unknown    5   may       198         1     -1         0  unknown  no  "
      ]
     },
     "execution_count": 3,
     "metadata": {},
     "output_type": "execute_result"
    }
   ],
   "source": [
    "df.head()"
   ]
  },
  {
   "cell_type": "code",
   "execution_count": 4,
   "id": "e45d2282-6716-4cb5-949a-03b72c45662f",
   "metadata": {
    "colab": {
     "base_uri": "https://localhost:8080/"
    },
    "id": "Dpl8wYY8Qe5p",
    "outputId": "2843238a-7f71-4290-d9f0-80f24d6cfbcd"
   },
   "outputs": [
    {
     "name": "stdout",
     "output_type": "stream",
     "text": [
      "<class 'pandas.core.frame.DataFrame'>\n",
      "RangeIndex: 45211 entries, 0 to 45210\n",
      "Data columns (total 17 columns):\n",
      " #   Column     Non-Null Count  Dtype \n",
      "---  ------     --------------  ----- \n",
      " 0   age        45211 non-null  int64 \n",
      " 1   job        45211 non-null  object\n",
      " 2   marital    45211 non-null  object\n",
      " 3   education  45211 non-null  object\n",
      " 4   default    45211 non-null  object\n",
      " 5   balance    45211 non-null  int64 \n",
      " 6   housing    45211 non-null  object\n",
      " 7   loan       45211 non-null  object\n",
      " 8   contact    45211 non-null  object\n",
      " 9   day        45211 non-null  int64 \n",
      " 10  month      45211 non-null  object\n",
      " 11  duration   45211 non-null  int64 \n",
      " 12  campaign   45211 non-null  int64 \n",
      " 13  pdays      45211 non-null  int64 \n",
      " 14  previous   45211 non-null  int64 \n",
      " 15  poutcome   45211 non-null  object\n",
      " 16  y          45211 non-null  object\n",
      "dtypes: int64(7), object(10)\n",
      "memory usage: 5.9+ MB\n"
     ]
    }
   ],
   "source": [
    "#the dataframe has 45211 entries and 17 columns\n",
    "#there are 17 columns with 7 int64 dtype and 10 object dtype\n",
    "df.info()"
   ]
  },
  {
   "cell_type": "code",
   "execution_count": 5,
   "id": "93abea48-2914-463e-9264-aa5ca68a1d9e",
   "metadata": {},
   "outputs": [
    {
     "data": {
      "text/html": [
       "<div>\n",
       "<style scoped>\n",
       "    .dataframe tbody tr th:only-of-type {\n",
       "        vertical-align: middle;\n",
       "    }\n",
       "\n",
       "    .dataframe tbody tr th {\n",
       "        vertical-align: top;\n",
       "    }\n",
       "\n",
       "    .dataframe thead th {\n",
       "        text-align: right;\n",
       "    }\n",
       "</style>\n",
       "<table border=\"1\" class=\"dataframe\">\n",
       "  <thead>\n",
       "    <tr style=\"text-align: right;\">\n",
       "      <th></th>\n",
       "      <th>age</th>\n",
       "      <th>balance</th>\n",
       "      <th>day</th>\n",
       "      <th>duration</th>\n",
       "      <th>campaign</th>\n",
       "      <th>pdays</th>\n",
       "      <th>previous</th>\n",
       "    </tr>\n",
       "  </thead>\n",
       "  <tbody>\n",
       "    <tr>\n",
       "      <th>count</th>\n",
       "      <td>45211.000000</td>\n",
       "      <td>45211.000000</td>\n",
       "      <td>45211.000000</td>\n",
       "      <td>45211.000000</td>\n",
       "      <td>45211.000000</td>\n",
       "      <td>45211.000000</td>\n",
       "      <td>45211.000000</td>\n",
       "    </tr>\n",
       "    <tr>\n",
       "      <th>mean</th>\n",
       "      <td>40.936210</td>\n",
       "      <td>1362.272058</td>\n",
       "      <td>15.806419</td>\n",
       "      <td>258.163080</td>\n",
       "      <td>2.763841</td>\n",
       "      <td>40.197828</td>\n",
       "      <td>0.580323</td>\n",
       "    </tr>\n",
       "    <tr>\n",
       "      <th>std</th>\n",
       "      <td>10.618762</td>\n",
       "      <td>3044.765829</td>\n",
       "      <td>8.322476</td>\n",
       "      <td>257.527812</td>\n",
       "      <td>3.098021</td>\n",
       "      <td>100.128746</td>\n",
       "      <td>2.303441</td>\n",
       "    </tr>\n",
       "    <tr>\n",
       "      <th>min</th>\n",
       "      <td>18.000000</td>\n",
       "      <td>-8019.000000</td>\n",
       "      <td>1.000000</td>\n",
       "      <td>0.000000</td>\n",
       "      <td>1.000000</td>\n",
       "      <td>-1.000000</td>\n",
       "      <td>0.000000</td>\n",
       "    </tr>\n",
       "    <tr>\n",
       "      <th>25%</th>\n",
       "      <td>33.000000</td>\n",
       "      <td>72.000000</td>\n",
       "      <td>8.000000</td>\n",
       "      <td>103.000000</td>\n",
       "      <td>1.000000</td>\n",
       "      <td>-1.000000</td>\n",
       "      <td>0.000000</td>\n",
       "    </tr>\n",
       "    <tr>\n",
       "      <th>50%</th>\n",
       "      <td>39.000000</td>\n",
       "      <td>448.000000</td>\n",
       "      <td>16.000000</td>\n",
       "      <td>180.000000</td>\n",
       "      <td>2.000000</td>\n",
       "      <td>-1.000000</td>\n",
       "      <td>0.000000</td>\n",
       "    </tr>\n",
       "    <tr>\n",
       "      <th>75%</th>\n",
       "      <td>48.000000</td>\n",
       "      <td>1428.000000</td>\n",
       "      <td>21.000000</td>\n",
       "      <td>319.000000</td>\n",
       "      <td>3.000000</td>\n",
       "      <td>-1.000000</td>\n",
       "      <td>0.000000</td>\n",
       "    </tr>\n",
       "    <tr>\n",
       "      <th>max</th>\n",
       "      <td>95.000000</td>\n",
       "      <td>102127.000000</td>\n",
       "      <td>31.000000</td>\n",
       "      <td>4918.000000</td>\n",
       "      <td>63.000000</td>\n",
       "      <td>871.000000</td>\n",
       "      <td>275.000000</td>\n",
       "    </tr>\n",
       "  </tbody>\n",
       "</table>\n",
       "</div>"
      ],
      "text/plain": [
       "                age        balance           day      duration      campaign  \\\n",
       "count  45211.000000   45211.000000  45211.000000  45211.000000  45211.000000   \n",
       "mean      40.936210    1362.272058     15.806419    258.163080      2.763841   \n",
       "std       10.618762    3044.765829      8.322476    257.527812      3.098021   \n",
       "min       18.000000   -8019.000000      1.000000      0.000000      1.000000   \n",
       "25%       33.000000      72.000000      8.000000    103.000000      1.000000   \n",
       "50%       39.000000     448.000000     16.000000    180.000000      2.000000   \n",
       "75%       48.000000    1428.000000     21.000000    319.000000      3.000000   \n",
       "max       95.000000  102127.000000     31.000000   4918.000000     63.000000   \n",
       "\n",
       "              pdays      previous  \n",
       "count  45211.000000  45211.000000  \n",
       "mean      40.197828      0.580323  \n",
       "std      100.128746      2.303441  \n",
       "min       -1.000000      0.000000  \n",
       "25%       -1.000000      0.000000  \n",
       "50%       -1.000000      0.000000  \n",
       "75%       -1.000000      0.000000  \n",
       "max      871.000000    275.000000  "
      ]
     },
     "execution_count": 5,
     "metadata": {},
     "output_type": "execute_result"
    }
   ],
   "source": [
    "df.describe()"
   ]
  },
  {
   "cell_type": "markdown",
   "id": "6cc677e0-3d65-4bb4-95e8-b789e6e85aaa",
   "metadata": {},
   "source": [
    "# Pre Processing"
   ]
  },
  {
   "cell_type": "markdown",
   "id": "b33cbae7-a3f6-4f2a-8223-a2dadbb5eae8",
   "metadata": {},
   "source": [
    "## Duplicate"
   ]
  },
  {
   "cell_type": "code",
   "execution_count": 6,
   "id": "f88e0b90-d64c-4edc-b35f-06c5690780cc",
   "metadata": {
    "colab": {
     "base_uri": "https://localhost:8080/"
    },
    "id": "WCqZYmOcQxTZ",
    "outputId": "811ee1d6-6709-49b9-952b-16633dd411d0"
   },
   "outputs": [
    {
     "data": {
      "text/plain": [
       "4163"
      ]
     },
     "execution_count": 6,
     "metadata": {},
     "output_type": "execute_result"
    }
   ],
   "source": [
    "df.duplicated(subset='age balance job marital education default housing loan'.split()).sum()"
   ]
  },
  {
   "cell_type": "code",
   "execution_count": 7,
   "id": "ddfccbf9-6766-4750-a0ac-f1aa9a911389",
   "metadata": {
    "id": "ForBPZhvRExE"
   },
   "outputs": [
    {
     "data": {
      "text/plain": [
       "0"
      ]
     },
     "execution_count": 7,
     "metadata": {},
     "output_type": "execute_result"
    }
   ],
   "source": [
    "df.drop_duplicates(subset='age balance job marital education default housing loan'.split(), inplace=True)\n",
    "df.duplicated(subset='age balance job marital education default housing loan'.split()).sum()"
   ]
  },
  {
   "cell_type": "markdown",
   "id": "a29d8b33-8e96-47d5-bd60-14153da1e070",
   "metadata": {},
   "source": [
    "## Replace Unknown with mode value for job, education, and contact columns"
   ]
  },
  {
   "cell_type": "code",
   "execution_count": 8,
   "id": "0287605d-7b48-41b3-aa3e-2c7fc760d0f1",
   "metadata": {
    "id": "d5LUYWNsPOC8"
   },
   "outputs": [],
   "source": [
    "#lakukan imputasi/replace nilai modus pada kolom job, education, dan contact yang memiliki nilai 'unknown'\n",
    "col='job education contact'.split()\n",
    "#replace kolom job\n",
    "for i in col:\n",
    "  df[i]=df[i].replace(['unknown'],df[i].mode()[0])"
   ]
  },
  {
   "cell_type": "markdown",
   "id": "0ad4bdeb-72f9-41f1-b65f-83072ca44a84",
   "metadata": {
    "id": "l_j1TFGfUz2G"
   },
   "source": [
    "*Untuk kolom poutcome, nilai 'unknown' dibiarkan saja karena nantinya kolom poutcome akan didrop karena dinilai memiliki potensi redundant dengan kolom pdays*"
   ]
  },
  {
   "cell_type": "markdown",
   "id": "9d0999ff-e21e-4c78-93bd-a70fa01cfa9a",
   "metadata": {},
   "source": [
    "## Outliers"
   ]
  },
  {
   "cell_type": "code",
   "execution_count": 9,
   "id": "7b73fc53-e884-4697-bae6-4d23d8ff3bfe",
   "metadata": {},
   "outputs": [],
   "source": [
    "#handle with z score\n",
    "from scipy import stats\n",
    "import numpy as np"
   ]
  },
  {
   "cell_type": "code",
   "execution_count": 10,
   "id": "902a4345-8f24-4ea5-8012-a42f24815bc4",
   "metadata": {},
   "outputs": [],
   "source": [
    "nums = ['age','balance','day','duration','campaign','pdays','previous']"
   ]
  },
  {
   "cell_type": "code",
   "execution_count": 11,
   "id": "da4c29fd-4f6d-4319-a0b2-d6d0b575d52f",
   "metadata": {
    "colab": {
     "base_uri": "https://localhost:8080/"
    },
    "id": "JFJ9RV2kTxPF",
    "outputId": "966f98b0-e58e-405c-b469-668d284b819b"
   },
   "outputs": [
    {
     "name": "stdout",
     "output_type": "stream",
     "text": [
      "Jumlah baris sebelum memfilter outlier: 41048\n",
      "Jumlah baris setelah memfilter outlier: 36208\n"
     ]
    }
   ],
   "source": [
    "print(f'Jumlah baris sebelum memfilter outlier: {len(df)}')\n",
    "\n",
    "filtered_entries = np.array([True] * len(df))\n",
    "\n",
    "for col in nums:\n",
    "    zscore = abs(stats.zscore(df[col])) # hitung absolute z-scorenya\n",
    "    filtered_entries = (zscore < 3) & filtered_entries # keep yang kurang dari 3 absolute z-scorenya\n",
    "    \n",
    "df = df[filtered_entries] # filter, cuma ambil yang z-scorenya dibawah 3\n",
    "\n",
    "print(f'Jumlah baris setelah memfilter outlier: {len(df)}')"
   ]
  },
  {
   "cell_type": "markdown",
   "id": "ce924e02-04d7-419f-b0a4-45ee5d624bb4",
   "metadata": {},
   "source": [
    "## Data Transformation"
   ]
  },
  {
   "cell_type": "code",
   "execution_count": 12,
   "id": "274fec8c-33aa-4f38-bc8e-ee474c7a3832",
   "metadata": {},
   "outputs": [
    {
     "data": {
      "image/png": "[encoded data removed]",
      "text/plain": [
       "<Figure size 864x360 with 7 Axes>"
      ]
     },
     "metadata": {
      "needs_background": "light"
     },
     "output_type": "display_data"
    }
   ],
   "source": [
    "features = nums\n",
    "plt.figure(figsize=(12, 5))\n",
    "for i in range(0, len(nums)):\n",
    "    plt.subplot(2, 4, i+1)\n",
    "    sns.kdeplot(x=(df[features[i]]))\n",
    "    plt.xlabel(features[i])\n",
    "    plt.tight_layout()"
   ]
  },
  {
   "cell_type": "code",
   "execution_count": 13,
   "id": "c42ea32d-3eae-4c09-89a5-3d9d002bbcfb",
   "metadata": {},
   "outputs": [
    {
     "data": {
      "image/png": "[encoded data removed]",
      "text/plain": [
       "<Figure size 864x360 with 7 Axes>"
      ]
     },
     "metadata": {
      "needs_background": "light"
     },
     "output_type": "display_data"
    }
   ],
   "source": [
    "features = nums\n",
    "plt.figure(figsize=(12, 5))\n",
    "for i in range(0, len(nums)):\n",
    "    plt.subplot(2, 4, i+1)\n",
    "    sns.boxplot(x=(df[features[i]]))\n",
    "    plt.xlabel(features[i])\n",
    "    plt.tight_layout()"
   ]
  },
  {
   "cell_type": "code",
   "execution_count": 14,
   "id": "ae4089c0-4afe-4f00-a439-8ab141c0a0e6",
   "metadata": {},
   "outputs": [],
   "source": [
    "# kita tranformasi fitur yang akan dipakai\n",
    "from sklearn.preprocessing import MinMaxScaler, StandardScaler\n",
    "\n",
    "#log transform data skewed\n",
    "df['age'] = np.log(df['age'])\n",
    "df['campaign'] = np.log(df['campaign'])\n",
    "#df['balance'] = np.log(df['balance']) #menurun hasilnya\n",
    "#df['duration'] = np.log(df['duration']) #menurun hasilnya\n",
    "\n",
    "df['age_std'] = StandardScaler().fit_transform(df['age'].values.reshape(len(df), 1))\n",
    "df['balance_std'] = StandardScaler().fit_transform(df['balance'].values.reshape(len(df), 1))\n",
    "df['day_std'] = StandardScaler().fit_transform(df['day'].values.reshape(len(df), 1))\n",
    "df['duration_std'] = StandardScaler().fit_transform(df['duration'].values.reshape(len(df), 1))\n",
    "df['campaign_std'] = StandardScaler().fit_transform(df['campaign'].values.reshape(len(df), 1))\n",
    "df['previous'] = StandardScaler().fit_transform(df['previous'].values.reshape(len(df), 1))\n",
    "df['pdays'] = StandardScaler().fit_transform(df['pdays'].values.reshape(len(df), 1))\n",
    "\n",
    "df = df.drop(columns=['age', 'day', 'campaign', 'balance', 'duration'])"
   ]
  },
  {
   "cell_type": "code",
   "execution_count": 15,
   "id": "452f9e0b-15c6-479b-ba5c-7420e86e13d4",
   "metadata": {},
   "outputs": [
    {
     "data": {
      "image/png": "[encoded data removed]",
      "text/plain": [
       "<Figure size 864x360 with 7 Axes>"
      ]
     },
     "metadata": {
      "needs_background": "light"
     },
     "output_type": "display_data"
    }
   ],
   "source": [
    "nums_trans_check = ['age_std', 'balance_std', 'duration_std','day_std', 'campaign_std', 'pdays', 'previous']\n",
    "features = nums_trans_check\n",
    "plt.figure(figsize=(12, 5))\n",
    "for i in range(0, len(features)):\n",
    "    plt.subplot(2, 4, i+1)\n",
    "    sns.kdeplot(x=(df[features[i]]))\n",
    "    plt.xlabel(features[i])\n",
    "    plt.tight_layout()"
   ]
  },
  {
   "cell_type": "code",
   "execution_count": 16,
   "id": "e61cc8d9-7ee2-4b4a-bcbc-6d829b0fc208",
   "metadata": {},
   "outputs": [
    {
     "data": {
      "text/html": [
       "<div>\n",
       "<style scoped>\n",
       "    .dataframe tbody tr th:only-of-type {\n",
       "        vertical-align: middle;\n",
       "    }\n",
       "\n",
       "    .dataframe tbody tr th {\n",
       "        vertical-align: top;\n",
       "    }\n",
       "\n",
       "    .dataframe thead th {\n",
       "        text-align: right;\n",
       "    }\n",
       "</style>\n",
       "<table border=\"1\" class=\"dataframe\">\n",
       "  <thead>\n",
       "    <tr style=\"text-align: right;\">\n",
       "      <th></th>\n",
       "      <th>pdays</th>\n",
       "      <th>previous</th>\n",
       "      <th>age_std</th>\n",
       "      <th>balance_std</th>\n",
       "      <th>day_std</th>\n",
       "      <th>duration_std</th>\n",
       "      <th>campaign_std</th>\n",
       "    </tr>\n",
       "  </thead>\n",
       "  <tbody>\n",
       "    <tr>\n",
       "      <th>count</th>\n",
       "      <td>3.620800e+04</td>\n",
       "      <td>3.620800e+04</td>\n",
       "      <td>3.620800e+04</td>\n",
       "      <td>3.620800e+04</td>\n",
       "      <td>3.620800e+04</td>\n",
       "      <td>3.620800e+04</td>\n",
       "      <td>3.620800e+04</td>\n",
       "    </tr>\n",
       "    <tr>\n",
       "      <th>mean</th>\n",
       "      <td>-2.511861e-17</td>\n",
       "      <td>-7.535584e-17</td>\n",
       "      <td>-4.332961e-16</td>\n",
       "      <td>-2.197879e-17</td>\n",
       "      <td>-1.067541e-16</td>\n",
       "      <td>-5.651688e-17</td>\n",
       "      <td>-4.395757e-17</td>\n",
       "    </tr>\n",
       "    <tr>\n",
       "      <th>std</th>\n",
       "      <td>1.000014e+00</td>\n",
       "      <td>1.000014e+00</td>\n",
       "      <td>1.000014e+00</td>\n",
       "      <td>1.000014e+00</td>\n",
       "      <td>1.000014e+00</td>\n",
       "      <td>1.000014e+00</td>\n",
       "      <td>1.000014e+00</td>\n",
       "    </tr>\n",
       "    <tr>\n",
       "      <th>min</th>\n",
       "      <td>-2.732592e-01</td>\n",
       "      <td>-2.502482e-01</td>\n",
       "      <td>-3.163048e+00</td>\n",
       "      <td>-4.599733e+00</td>\n",
       "      <td>-1.773944e+00</td>\n",
       "      <td>-1.227122e+00</td>\n",
       "      <td>-1.039446e+00</td>\n",
       "    </tr>\n",
       "    <tr>\n",
       "      <th>25%</th>\n",
       "      <td>-2.732592e-01</td>\n",
       "      <td>-2.502482e-01</td>\n",
       "      <td>-7.214311e-01</td>\n",
       "      <td>-5.863458e-01</td>\n",
       "      <td>-9.374913e-01</td>\n",
       "      <td>-6.924022e-01</td>\n",
       "      <td>-1.039446e+00</td>\n",
       "    </tr>\n",
       "    <tr>\n",
       "      <th>50%</th>\n",
       "      <td>-2.732592e-01</td>\n",
       "      <td>-2.502482e-01</td>\n",
       "      <td>-4.850910e-02</td>\n",
       "      <td>-3.749930e-01</td>\n",
       "      <td>1.845466e-02</td>\n",
       "      <td>-3.082347e-01</td>\n",
       "      <td>2.036016e-02</td>\n",
       "    </tr>\n",
       "    <tr>\n",
       "      <th>75%</th>\n",
       "      <td>-2.732592e-01</td>\n",
       "      <td>-2.502482e-01</td>\n",
       "      <td>7.878973e-01</td>\n",
       "      <td>1.554156e-01</td>\n",
       "      <td>6.159209e-01</td>\n",
       "      <td>3.666540e-01</td>\n",
       "      <td>6.403068e-01</td>\n",
       "    </tr>\n",
       "    <tr>\n",
       "      <th>max</th>\n",
       "      <td>5.338969e+00</td>\n",
       "      <td>7.671348e+00</td>\n",
       "      <td>2.421179e+00</td>\n",
       "      <td>5.468767e+00</td>\n",
       "      <td>1.810853e+00</td>\n",
       "      <td>4.161605e+00</td>\n",
       "      <td>2.759918e+00</td>\n",
       "    </tr>\n",
       "  </tbody>\n",
       "</table>\n",
       "</div>"
      ],
      "text/plain": [
       "              pdays      previous       age_std   balance_std       day_std  \\\n",
       "count  3.620800e+04  3.620800e+04  3.620800e+04  3.620800e+04  3.620800e+04   \n",
       "mean  -2.511861e-17 -7.535584e-17 -4.332961e-16 -2.197879e-17 -1.067541e-16   \n",
       "std    1.000014e+00  1.000014e+00  1.000014e+00  1.000014e+00  1.000014e+00   \n",
       "min   -2.732592e-01 -2.502482e-01 -3.163048e+00 -4.599733e+00 -1.773944e+00   \n",
       "25%   -2.732592e-01 -2.502482e-01 -7.214311e-01 -5.863458e-01 -9.374913e-01   \n",
       "50%   -2.732592e-01 -2.502482e-01 -4.850910e-02 -3.749930e-01  1.845466e-02   \n",
       "75%   -2.732592e-01 -2.502482e-01  7.878973e-01  1.554156e-01  6.159209e-01   \n",
       "max    5.338969e+00  7.671348e+00  2.421179e+00  5.468767e+00  1.810853e+00   \n",
       "\n",
       "       duration_std  campaign_std  \n",
       "count  3.620800e+04  3.620800e+04  \n",
       "mean  -5.651688e-17 -4.395757e-17  \n",
       "std    1.000014e+00  1.000014e+00  \n",
       "min   -1.227122e+00 -1.039446e+00  \n",
       "25%   -6.924022e-01 -1.039446e+00  \n",
       "50%   -3.082347e-01  2.036016e-02  \n",
       "75%    3.666540e-01  6.403068e-01  \n",
       "max    4.161605e+00  2.759918e+00  "
      ]
     },
     "execution_count": 16,
     "metadata": {},
     "output_type": "execute_result"
    }
   ],
   "source": [
    "df.describe()"
   ]
  },
  {
   "cell_type": "markdown",
   "id": "0f899c1e-7b13-4d3a-947c-1e662bdeb152",
   "metadata": {},
   "source": [
    "## Feature Encoding"
   ]
  },
  {
   "cell_type": "code",
   "execution_count": 17,
   "id": "f1164024",
   "metadata": {},
   "outputs": [],
   "source": [
    "cats = ['job','marital','education','default','housing','loan','contact','month','poutcome','y']\n",
    "nums = ['age','balance','day','duration','campaign','pdays','previous']"
   ]
  },
  {
   "cell_type": "markdown",
   "id": "17c9a3c4-9b9a-4592-bc48-94528b960765",
   "metadata": {},
   "source": [
    "### Label Encoding"
   ]
  },
  {
   "cell_type": "code",
   "execution_count": 18,
   "id": "e027a6a7-bbb7-432a-881b-160465364923",
   "metadata": {},
   "outputs": [],
   "source": [
    "mapping_default = {\n",
    "    'no' : 0,\n",
    "    'yes' : 1\n",
    "}\n",
    "\n",
    "mapping_housing = {\n",
    "    'no' : 0,\n",
    "    'yes' : 1,\n",
    "}\n",
    "\n",
    "mapping_loan = {\n",
    "    'no' : 0,\n",
    "    'yes' : 1\n",
    "}\n",
    "\n",
    "mapping_y = {\n",
    "    'no' : 0,\n",
    "    'yes' : 1\n",
    "}\n",
    "\n",
    "df['default'] = df['default'].map(mapping_default)\n",
    "df['housing'] = df['housing'].map(mapping_housing)\n",
    "df['loan'] = df['loan'].map(mapping_loan)\n",
    "df['y'] = df['y'].map(mapping_y)"
   ]
  },
  {
   "cell_type": "markdown",
   "id": "75e9443e-3fad-4029-a4b3-2d120aa4f76d",
   "metadata": {},
   "source": [
    "### One Hot Encoding"
   ]
  },
  {
   "cell_type": "code",
   "execution_count": 19,
   "id": "7e4dfba6-0a9f-46f5-b010-a7c21830adde",
   "metadata": {},
   "outputs": [],
   "source": [
    "for cat in ['job', 'marital','contact','month','education','poutcome']:\n",
    "    onehots = pd.get_dummies(df[cat], prefix=cat)\n",
    "    df = df.join(onehots)"
   ]
  },
  {
   "cell_type": "code",
   "execution_count": 20,
   "id": "3bb538b2",
   "metadata": {},
   "outputs": [],
   "source": [
    "df = df.drop(columns=['job', 'marital','education','contact','month','poutcome'])"
   ]
  },
  {
   "cell_type": "markdown",
   "id": "e84f3904-f466-465a-a123-ecd7593fa105",
   "metadata": {
    "tags": []
   },
   "source": [
    "## Split Feature & Target"
   ]
  },
  {
   "cell_type": "code",
   "execution_count": 21,
   "id": "27fc2a0a-1fd5-4c6b-b012-52b3a8002187",
   "metadata": {},
   "outputs": [],
   "source": [
    "#feature\n",
    "X=df.drop(['y'],axis=1)\n",
    "#X=df['age_std marital_divorced marital_married marital_single contact_cellular contact_telephone balance_std default housing loan duration_std campaign_std'.split()]\n",
    "#X=df['age_std balance_std default housing loan duration_std campaign_std'.split()]\n",
    "\n",
    "\n",
    "#target\n",
    "y=df['y']"
   ]
  },
  {
   "cell_type": "code",
   "execution_count": 22,
   "id": "48731ef1-1699-4d90-a603-b9ac7a7bbfd5",
   "metadata": {},
   "outputs": [],
   "source": [
    "#Splitting the data into Train and Test 7:3\n",
    "from sklearn.model_selection import train_test_split\n",
    "X_train, X_test, y_train, y_test = train_test_split(X, y, test_size = 0.3, random_state = 45)"
   ]
  },
  {
   "cell_type": "code",
   "execution_count": 23,
   "id": "7f7684fc-df98-4a2f-9163-aeeb5433fb79",
   "metadata": {},
   "outputs": [
    {
     "name": "stdout",
     "output_type": "stream",
     "text": [
      "<class 'pandas.core.frame.DataFrame'>\n",
      "Int64Index: 36208 entries, 0 to 45209\n",
      "Data columns (total 45 columns):\n",
      " #   Column               Non-Null Count  Dtype  \n",
      "---  ------               --------------  -----  \n",
      " 0   default              36208 non-null  int64  \n",
      " 1   housing              36208 non-null  int64  \n",
      " 2   loan                 36208 non-null  int64  \n",
      " 3   pdays                36208 non-null  float64\n",
      " 4   previous             36208 non-null  float64\n",
      " 5   age_std              36208 non-null  float64\n",
      " 6   balance_std          36208 non-null  float64\n",
      " 7   day_std              36208 non-null  float64\n",
      " 8   duration_std         36208 non-null  float64\n",
      " 9   campaign_std         36208 non-null  float64\n",
      " 10  job_admin.           36208 non-null  uint8  \n",
      " 11  job_blue-collar      36208 non-null  uint8  \n",
      " 12  job_entrepreneur     36208 non-null  uint8  \n",
      " 13  job_housemaid        36208 non-null  uint8  \n",
      " 14  job_management       36208 non-null  uint8  \n",
      " 15  job_retired          36208 non-null  uint8  \n",
      " 16  job_self-employed    36208 non-null  uint8  \n",
      " 17  job_services         36208 non-null  uint8  \n",
      " 18  job_student          36208 non-null  uint8  \n",
      " 19  job_technician       36208 non-null  uint8  \n",
      " 20  job_unemployed       36208 non-null  uint8  \n",
      " 21  marital_divorced     36208 non-null  uint8  \n",
      " 22  marital_married      36208 non-null  uint8  \n",
      " 23  marital_single       36208 non-null  uint8  \n",
      " 24  contact_cellular     36208 non-null  uint8  \n",
      " 25  contact_telephone    36208 non-null  uint8  \n",
      " 26  month_apr            36208 non-null  uint8  \n",
      " 27  month_aug            36208 non-null  uint8  \n",
      " 28  month_dec            36208 non-null  uint8  \n",
      " 29  month_feb            36208 non-null  uint8  \n",
      " 30  month_jan            36208 non-null  uint8  \n",
      " 31  month_jul            36208 non-null  uint8  \n",
      " 32  month_jun            36208 non-null  uint8  \n",
      " 33  month_mar            36208 non-null  uint8  \n",
      " 34  month_may            36208 non-null  uint8  \n",
      " 35  month_nov            36208 non-null  uint8  \n",
      " 36  month_oct            36208 non-null  uint8  \n",
      " 37  month_sep            36208 non-null  uint8  \n",
      " 38  education_primary    36208 non-null  uint8  \n",
      " 39  education_secondary  36208 non-null  uint8  \n",
      " 40  education_tertiary   36208 non-null  uint8  \n",
      " 41  poutcome_failure     36208 non-null  uint8  \n",
      " 42  poutcome_other       36208 non-null  uint8  \n",
      " 43  poutcome_success     36208 non-null  uint8  \n",
      " 44  poutcome_unknown     36208 non-null  uint8  \n",
      "dtypes: float64(7), int64(3), uint8(35)\n",
      "memory usage: 5.3 MB\n"
     ]
    }
   ],
   "source": [
    "X.info()"
   ]
  },
  {
   "cell_type": "markdown",
   "id": "0cc9c53b-b508-4b5e-9867-bc98537a1a20",
   "metadata": {},
   "source": [
    "# Modelling"
   ]
  },
  {
   "cell_type": "code",
   "execution_count": 24,
   "id": "627a81dc-a34e-4a65-8bdc-6f0462b01b5a",
   "metadata": {},
   "outputs": [],
   "source": [
    "def show_feature_importance(model):\n",
    "    feat_importances = pd.Series(model.feature_importances_, index=X.columns)\n",
    "    ax = feat_importances.nlargest(25).plot(kind='barh', figsize=(10, 8))\n",
    "    ax.invert_yaxis()\n",
    "\n",
    "    plt.xlabel('score')\n",
    "    plt.ylabel('feature')\n",
    "    plt.title('feature importance score')\n",
    "\n",
    "def show_best_hyperparameter(model):\n",
    "    print(model.best_estimator_.get_params())"
   ]
  },
  {
   "cell_type": "code",
   "execution_count": 25,
   "id": "7c9a0644",
   "metadata": {},
   "outputs": [],
   "source": [
    "from sklearn.metrics import accuracy_score, precision_score, recall_score, f1_score, roc_auc_score\n",
    "from sklearn.metrics import confusion_matrix\n",
    "from numpy import arange\n",
    "from numpy import argmax\n",
    "def eval_classification(model, xtrain, ytrain, xtest, ytest):\n",
    "    def to_labels(pos_probs, threshold):\n",
    "        return (pos_probs >= threshold).astype('int')\n",
    "    #eval test model\n",
    "    \n",
    "    #Threshold moving for Test Data\n",
    "    # predict probabilities\n",
    "    yhat = model.predict_proba(xtest)\n",
    "    # keep probabilities for the positive outcome only\n",
    "    probs = yhat[:, 1]\n",
    "    # define thresholds\n",
    "    thresholds = arange(0, 1, 0.001)\n",
    "    # evaluate each threshold\n",
    "    scores = [f1_score(ytest, to_labels(probs, t)) for t in thresholds]\n",
    "    # get best threshold\n",
    "    ix = argmax(scores)\n",
    "\n",
    "    #Threshold moving for Train Data \n",
    "    yhat_train = model.predict_proba(xtrain)\n",
    "    # keep probabilities for the positive outcome only\n",
    "    probs_train = yhat_train[:, 1]\n",
    "    # define thresholds\n",
    "    thresholds_train = arange(0, 1, 0.001)\n",
    "    # evaluate each threshold\n",
    "    scores_train = [f1_score(ytrain, to_labels(probs_train, t)) for t in thresholds_train]\n",
    "    # get best threshold\n",
    "    ix_train = argmax(scores_train)\n",
    "    \n",
    "    \n",
    "    #eval test model\n",
    "    y_pred_proba = model.predict_proba(xtest)\n",
    "    ypred = np.where( y_pred_proba >= thresholds[ix],1,0 )\n",
    "    ypred = ypred[:, 1]\n",
    "    #calculate each parameter for test model\n",
    "    print('Threshold=%.3f, F-Score=%.5f' % (thresholds[ix], scores[ix]))\n",
    "    print('eval test model')\n",
    "    print(\"Accuracy (Test Set): %.2f\" % accuracy_score(ytest, ypred))\n",
    "    print(\"Precision (Test Set): %.2f\" % precision_score(ytest, ypred))\n",
    "    print(\"Recall (Test Set): %.2f\" % recall_score(ytest, ypred))\n",
    "    print(\"F1-Score (Test Set): %.2f\" % f1_score(ytest, ypred))\n",
    "    print(\"AUC: %.2f\" % roc_auc_score(ytest, y_pred_proba[:, 1]))\n",
    "    \n",
    "    \n",
    "    #eval train model\n",
    "    y_pred_proba_train = model.predict_proba(xtrain)\n",
    "    ypred_train = np.where( y_pred_proba_train >= thresholds[ix_train],1,0 )\n",
    "    ypred_train = ypred_train[:, 1]\n",
    "    print('Threshold=%.3f, F-Score=%.5f' % (thresholds[ix_train], scores[ix_train]))\n",
    "    print('eval train model')\n",
    "    print(\"Accuracy (Train Set): %.2f\" % accuracy_score(ytrain, ypred_train))\n",
    "    print(\"Precision (Train Set): %.2f\" % precision_score(ytrain, ypred_train))\n",
    "    print(\"Recall (Train Set): %.2f\" % recall_score(ytrain, ypred_train))\n",
    "    print(\"F1-Score (Train Set): %.2f\" % f1_score(ytrain, ypred_train))\n",
    "    print(\"AUC: %.2f\" % roc_auc_score(ytrain, y_pred_proba_train[:, 1]))\n",
    "    \n",
    "    #Get the confusion matrix\n",
    "    cf_matrix = confusion_matrix(ytest, ypred)\n",
    "    sns.heatmap(cf_matrix/np.sum(cf_matrix), annot=True, fmt='.2%', cmap='Blues', cbar=False)"
   ]
  },
  {
   "cell_type": "markdown",
   "id": "2fcb56f9-4f93-4411-8e7a-9719715224a7",
   "metadata": {},
   "source": [
    "## Logistics Regression"
   ]
  },
  {
   "cell_type": "markdown",
   "id": "c37fd0a4-8b06-4e25-90fc-7ffbb8ca95f0",
   "metadata": {},
   "source": [
    "### Model Evaluation"
   ]
  },
  {
   "cell_type": "code",
   "execution_count": 26,
   "id": "91e389ae-5508-4b11-8bb7-7404106a10e0",
   "metadata": {},
   "outputs": [
    {
     "data": {
      "text/plain": [
       "LogisticRegression(random_state=45)"
      ]
     },
     "execution_count": 26,
     "metadata": {},
     "output_type": "execute_result"
    }
   ],
   "source": [
    "from sklearn.linear_model import LogisticRegression\n",
    "model = LogisticRegression(random_state=45)\n",
    "model.fit(X_train, y_train)"
   ]
  },
  {
   "cell_type": "markdown",
   "id": "48d300fd-9039-4a61-a57c-d942c8a0566b",
   "metadata": {},
   "source": [
    "### Prediction"
   ]
  },
  {
   "cell_type": "code",
   "execution_count": 27,
   "id": "19286e33-210c-4726-b3b0-1df3add224a1",
   "metadata": {},
   "outputs": [],
   "source": [
    "#test prediction\n",
    "y_pred = model.predict(X_test)"
   ]
  },
  {
   "cell_type": "code",
   "execution_count": 28,
   "id": "a7e44270-ca7c-4406-8a0b-9183dbcf2759",
   "metadata": {},
   "outputs": [],
   "source": [
    "#train prediction\n",
    "y_pred_train = model.predict(X_train)"
   ]
  },
  {
   "cell_type": "markdown",
   "id": "0a98415c-e074-43bb-a5d6-8f601e8080c3",
   "metadata": {},
   "source": [
    "### Evaluation"
   ]
  },
  {
   "cell_type": "code",
   "execution_count": 29,
   "id": "bfeab89a-fce7-4e9b-bd5b-615c673c620f",
   "metadata": {},
   "outputs": [
    {
     "name": "stdout",
     "output_type": "stream",
     "text": [
      "Threshold=0.191, F-Score=0.48959\n",
      "eval test model\n",
      "Accuracy (Test Set): 0.89\n",
      "Precision (Test Set): 0.41\n",
      "Recall (Test Set): 0.61\n",
      "F1-Score (Test Set): 0.49\n",
      "AUC: 0.90\n",
      "Threshold=0.183, F-Score=0.48601\n",
      "eval train model\n",
      "Accuracy (Train Set): 0.89\n",
      "Precision (Train Set): 0.43\n",
      "Recall (Train Set): 0.63\n",
      "F1-Score (Train Set): 0.51\n",
      "AUC: 0.90\n"
     ]
    },
    {
     "data": {
      "image/png": "[encoded data removed]",
      "text/plain": [
       "<Figure size 432x288 with 1 Axes>"
      ]
     },
     "metadata": {
      "needs_background": "light"
     },
     "output_type": "display_data"
    }
   ],
   "source": [
    "eval_classification(model, X_train, y_train, X_test, y_test)"
   ]
  },
  {
   "cell_type": "markdown",
   "id": "0d9a8d6a-6f16-432b-893f-cc019fff82c5",
   "metadata": {},
   "source": [
    "### Tuning Hyperparameter"
   ]
  },
  {
   "cell_type": "code",
   "execution_count": 30,
   "id": "2d2320f3-d109-4247-9897-dfb05ec6a229",
   "metadata": {},
   "outputs": [
    {
     "name": "stdout",
     "output_type": "stream",
     "text": [
      "Threshold=0.190, F-Score=0.48896\n",
      "eval test model\n",
      "Accuracy (Test Set): 0.89\n",
      "Precision (Test Set): 0.41\n",
      "Recall (Test Set): 0.61\n",
      "F1-Score (Test Set): 0.49\n",
      "AUC: 0.90\n",
      "Threshold=0.182, F-Score=0.48604\n",
      "eval train model\n",
      "Accuracy (Train Set): 0.89\n",
      "Precision (Train Set): 0.43\n",
      "Recall (Train Set): 0.63\n",
      "F1-Score (Train Set): 0.51\n",
      "AUC: 0.90\n"
     ]
    },
    {
     "data": {
      "image/png": "[encoded data removed]",
      "text/plain": [
       "<Figure size 432x288 with 1 Axes>"
      ]
     },
     "metadata": {
      "needs_background": "light"
     },
     "output_type": "display_data"
    }
   ],
   "source": [
    "from sklearn.model_selection import RandomizedSearchCV\n",
    "#hyperparameter tuning using randomized search\n",
    "\n",
    "penalty = ['l2','l1','elasticnet']\n",
    "C = [float(x) for x in np.linspace(0.01, 10, num=100)]\n",
    "max_iter = [int(x) for x in np.linspace(250, 750, num=100)]\n",
    "\n",
    "hyperparams = dict(penalty=penalty, C=C, max_iter=max_iter)\n",
    "\n",
    "lr = LogisticRegression(random_state=45)\n",
    "rs = RandomizedSearchCV(lr, hyperparams, cv=5, scoring='precision', random_state=45)\n",
    "rs.fit(X_train, y_train)\n",
    "eval_classification(rs, X_train, y_train, X_test, y_test)"
   ]
  },
  {
   "cell_type": "code",
   "execution_count": 31,
   "id": "992e112e-d988-42f7-8437-279a763d6a51",
   "metadata": {},
   "outputs": [
    {
     "name": "stdout",
     "output_type": "stream",
     "text": [
      "Train score: 0.5752930568079351\n",
      "Test score:0.5865168539325842\n"
     ]
    }
   ],
   "source": [
    "print('Train score: ' + str(rs.score(X_train, y_train)))\n",
    "print('Test score:' + str(rs.score(X_test, y_test)))"
   ]
  },
  {
   "cell_type": "markdown",
   "id": "c5ddd509",
   "metadata": {},
   "source": [
    "### Feature Importance "
   ]
  },
  {
   "cell_type": "code",
   "execution_count": 32,
   "id": "82058a47-c371-4995-b9b4-d94fb7d54be2",
   "metadata": {},
   "outputs": [
    {
     "data": {
      "text/plain": [
       "{'C': 2.028181818181818,\n",
       " 'class_weight': None,\n",
       " 'dual': False,\n",
       " 'fit_intercept': True,\n",
       " 'intercept_scaling': 1,\n",
       " 'l1_ratio': None,\n",
       " 'max_iter': 270,\n",
       " 'multi_class': 'auto',\n",
       " 'n_jobs': None,\n",
       " 'penalty': 'l2',\n",
       " 'random_state': 45,\n",
       " 'solver': 'lbfgs',\n",
       " 'tol': 0.0001,\n",
       " 'verbose': 0,\n",
       " 'warm_start': False}"
      ]
     },
     "execution_count": 32,
     "metadata": {},
     "output_type": "execute_result"
    }
   ],
   "source": [
    "rs.best_estimator_.get_params()"
   ]
  },
  {
   "cell_type": "code",
   "execution_count": 33,
   "id": "fe039ad0-3f37-4414-a98e-a0b2a2a9fdc3",
   "metadata": {},
   "outputs": [
    {
     "data": {
      "text/plain": [
       "270"
      ]
     },
     "execution_count": 33,
     "metadata": {},
     "output_type": "execute_result"
    }
   ],
   "source": [
    "c=rs.best_estimator_.get_params()['C']\n",
    "maxiter=rs.best_estimator_.get_params()['max_iter']\n",
    "maxiter"
   ]
  },
  {
   "cell_type": "code",
   "execution_count": 34,
   "id": "007d2c30-b3d1-4bd8-8ba4-cd5f763ea821",
   "metadata": {},
   "outputs": [
    {
     "data": {
      "text/plain": [
       "['default',\n",
       " 'housing',\n",
       " 'loan',\n",
       " 'pdays',\n",
       " 'previous',\n",
       " 'age_std',\n",
       " 'balance_std',\n",
       " 'day_std',\n",
       " 'duration_std',\n",
       " 'campaign_std',\n",
       " 'job_admin.',\n",
       " 'job_blue-collar',\n",
       " 'job_entrepreneur',\n",
       " 'job_housemaid',\n",
       " 'job_management',\n",
       " 'job_retired',\n",
       " 'job_self-employed',\n",
       " 'job_services',\n",
       " 'job_student',\n",
       " 'job_technician',\n",
       " 'job_unemployed',\n",
       " 'marital_divorced',\n",
       " 'marital_married',\n",
       " 'marital_single',\n",
       " 'contact_cellular',\n",
       " 'contact_telephone',\n",
       " 'month_apr',\n",
       " 'month_aug',\n",
       " 'month_dec',\n",
       " 'month_feb',\n",
       " 'month_jan',\n",
       " 'month_jul',\n",
       " 'month_jun',\n",
       " 'month_mar',\n",
       " 'month_may',\n",
       " 'month_nov',\n",
       " 'month_oct',\n",
       " 'month_sep',\n",
       " 'education_primary',\n",
       " 'education_secondary',\n",
       " 'education_tertiary',\n",
       " 'poutcome_failure',\n",
       " 'poutcome_other',\n",
       " 'poutcome_success',\n",
       " 'poutcome_unknown']"
      ]
     },
     "execution_count": 34,
     "metadata": {},
     "output_type": "execute_result"
    }
   ],
   "source": [
    "list(X.columns)"
   ]
  },
  {
   "cell_type": "code",
   "execution_count": 35,
   "id": "9d14bbbf",
   "metadata": {},
   "outputs": [
    {
     "name": "stdout",
     "output_type": "stream",
     "text": [
      "Threshold=0.190, F-Score=0.48896\n",
      "eval test model\n",
      "Accuracy (Test Set): 0.89\n",
      "Precision (Test Set): 0.41\n",
      "Recall (Test Set): 0.61\n",
      "F1-Score (Test Set): 0.49\n",
      "AUC: 0.90\n",
      "Threshold=0.182, F-Score=0.48604\n",
      "eval train model\n",
      "Accuracy (Train Set): 0.89\n",
      "Precision (Train Set): 0.43\n",
      "Recall (Train Set): 0.63\n",
      "F1-Score (Train Set): 0.51\n",
      "AUC: 0.90\n"
     ]
    },
    {
     "data": {
      "image/png": "[encoded data removed]",
      "text/plain": [
       "<Figure size 432x288 with 1 Axes>"
      ]
     },
     "metadata": {
      "needs_background": "light"
     },
     "output_type": "display_data"
    }
   ],
   "source": [
    "lr = LogisticRegression(random_state=45, C=c, max_iter=maxiter)\n",
    "lr.fit(X_train, y_train)\n",
    "eval_classification(lr, X_train, y_train, X_test, y_test)"
   ]
  },
  {
   "cell_type": "code",
   "execution_count": 36,
   "id": "d51cfeb5-93fa-4cd1-9313-383083347bd6",
   "metadata": {},
   "outputs": [
    {
     "data": {
      "text/plain": [
       "array([ 1.48073917e-01, -9.04013053e-01, -4.96435048e-01, -1.51208568e-01,\n",
       "        8.42242817e-02, -9.28531025e-02,  6.55554651e-02, -4.97117096e-04,\n",
       "        1.10186235e+00, -2.43648743e-01,  1.43088716e-01, -1.77293618e-01,\n",
       "       -3.42768810e-01, -2.88464135e-01,  2.14399489e-02,  4.39608195e-01,\n",
       "       -1.82940789e-01, -1.16295920e-01,  6.24120832e-01,  3.47431085e-02,\n",
       "       -1.58935961e-01,  1.17601730e-01, -1.78609361e-01,  5.73091993e-02,\n",
       "       -1.26105652e-01,  1.22407221e-01,  2.88072208e-01, -7.31592552e-01,\n",
       "        1.02043569e+00, -7.00149074e-02, -1.30948610e+00, -9.10838038e-01,\n",
       "       -5.18807227e-01,  2.01129819e+00, -9.70616779e-01, -8.40964514e-01,\n",
       "        1.01579041e+00,  1.01302519e+00, -2.27709860e-01, -2.17600262e-02,\n",
       "        2.45771454e-01, -5.80018960e-01, -3.10352508e-01,  1.81741661e+00,\n",
       "       -9.30743571e-01])"
      ]
     },
     "execution_count": 36,
     "metadata": {},
     "output_type": "execute_result"
    }
   ],
   "source": [
    "w=lr.coef_[0]\n",
    "w"
   ]
  },
  {
   "cell_type": "code",
   "execution_count": 37,
   "id": "d20ab4e0-bbf1-4058-b0b6-263b2c00088f",
   "metadata": {},
   "outputs": [],
   "source": [
    "feature_importance=pd.DataFrame(list(X.columns), columns=['feature'])\n",
    "feature_importance['weight_value']=w"
   ]
  },
  {
   "cell_type": "code",
   "execution_count": 38,
   "id": "1b1dd85a-b7c0-41f7-afe0-03aaeba3bace",
   "metadata": {},
   "outputs": [
    {
     "data": {
      "text/html": [
       "<div>\n",
       "<style scoped>\n",
       "    .dataframe tbody tr th:only-of-type {\n",
       "        vertical-align: middle;\n",
       "    }\n",
       "\n",
       "    .dataframe tbody tr th {\n",
       "        vertical-align: top;\n",
       "    }\n",
       "\n",
       "    .dataframe thead th {\n",
       "        text-align: right;\n",
       "    }\n",
       "</style>\n",
       "<table border=\"1\" class=\"dataframe\">\n",
       "  <thead>\n",
       "    <tr style=\"text-align: right;\">\n",
       "      <th></th>\n",
       "      <th>feature</th>\n",
       "      <th>weight_value</th>\n",
       "    </tr>\n",
       "  </thead>\n",
       "  <tbody>\n",
       "    <tr>\n",
       "      <th>0</th>\n",
       "      <td>default</td>\n",
       "      <td>0.148074</td>\n",
       "    </tr>\n",
       "    <tr>\n",
       "      <th>1</th>\n",
       "      <td>housing</td>\n",
       "      <td>-0.904013</td>\n",
       "    </tr>\n",
       "    <tr>\n",
       "      <th>2</th>\n",
       "      <td>loan</td>\n",
       "      <td>-0.496435</td>\n",
       "    </tr>\n",
       "    <tr>\n",
       "      <th>3</th>\n",
       "      <td>pdays</td>\n",
       "      <td>-0.151209</td>\n",
       "    </tr>\n",
       "    <tr>\n",
       "      <th>4</th>\n",
       "      <td>previous</td>\n",
       "      <td>0.084224</td>\n",
       "    </tr>\n",
       "    <tr>\n",
       "      <th>5</th>\n",
       "      <td>age_std</td>\n",
       "      <td>-0.092853</td>\n",
       "    </tr>\n",
       "    <tr>\n",
       "      <th>6</th>\n",
       "      <td>balance_std</td>\n",
       "      <td>0.065555</td>\n",
       "    </tr>\n",
       "    <tr>\n",
       "      <th>7</th>\n",
       "      <td>day_std</td>\n",
       "      <td>-0.000497</td>\n",
       "    </tr>\n",
       "    <tr>\n",
       "      <th>8</th>\n",
       "      <td>duration_std</td>\n",
       "      <td>1.101862</td>\n",
       "    </tr>\n",
       "    <tr>\n",
       "      <th>9</th>\n",
       "      <td>campaign_std</td>\n",
       "      <td>-0.243649</td>\n",
       "    </tr>\n",
       "    <tr>\n",
       "      <th>10</th>\n",
       "      <td>job_admin.</td>\n",
       "      <td>0.143089</td>\n",
       "    </tr>\n",
       "    <tr>\n",
       "      <th>11</th>\n",
       "      <td>job_blue-collar</td>\n",
       "      <td>-0.177294</td>\n",
       "    </tr>\n",
       "    <tr>\n",
       "      <th>12</th>\n",
       "      <td>job_entrepreneur</td>\n",
       "      <td>-0.342769</td>\n",
       "    </tr>\n",
       "    <tr>\n",
       "      <th>13</th>\n",
       "      <td>job_housemaid</td>\n",
       "      <td>-0.288464</td>\n",
       "    </tr>\n",
       "    <tr>\n",
       "      <th>14</th>\n",
       "      <td>job_management</td>\n",
       "      <td>0.021440</td>\n",
       "    </tr>\n",
       "    <tr>\n",
       "      <th>15</th>\n",
       "      <td>job_retired</td>\n",
       "      <td>0.439608</td>\n",
       "    </tr>\n",
       "    <tr>\n",
       "      <th>16</th>\n",
       "      <td>job_self-employed</td>\n",
       "      <td>-0.182941</td>\n",
       "    </tr>\n",
       "    <tr>\n",
       "      <th>17</th>\n",
       "      <td>job_services</td>\n",
       "      <td>-0.116296</td>\n",
       "    </tr>\n",
       "    <tr>\n",
       "      <th>18</th>\n",
       "      <td>job_student</td>\n",
       "      <td>0.624121</td>\n",
       "    </tr>\n",
       "    <tr>\n",
       "      <th>19</th>\n",
       "      <td>job_technician</td>\n",
       "      <td>0.034743</td>\n",
       "    </tr>\n",
       "    <tr>\n",
       "      <th>20</th>\n",
       "      <td>job_unemployed</td>\n",
       "      <td>-0.158936</td>\n",
       "    </tr>\n",
       "    <tr>\n",
       "      <th>21</th>\n",
       "      <td>marital_divorced</td>\n",
       "      <td>0.117602</td>\n",
       "    </tr>\n",
       "    <tr>\n",
       "      <th>22</th>\n",
       "      <td>marital_married</td>\n",
       "      <td>-0.178609</td>\n",
       "    </tr>\n",
       "    <tr>\n",
       "      <th>23</th>\n",
       "      <td>marital_single</td>\n",
       "      <td>0.057309</td>\n",
       "    </tr>\n",
       "    <tr>\n",
       "      <th>24</th>\n",
       "      <td>contact_cellular</td>\n",
       "      <td>-0.126106</td>\n",
       "    </tr>\n",
       "    <tr>\n",
       "      <th>25</th>\n",
       "      <td>contact_telephone</td>\n",
       "      <td>0.122407</td>\n",
       "    </tr>\n",
       "    <tr>\n",
       "      <th>26</th>\n",
       "      <td>month_apr</td>\n",
       "      <td>0.288072</td>\n",
       "    </tr>\n",
       "    <tr>\n",
       "      <th>27</th>\n",
       "      <td>month_aug</td>\n",
       "      <td>-0.731593</td>\n",
       "    </tr>\n",
       "    <tr>\n",
       "      <th>28</th>\n",
       "      <td>month_dec</td>\n",
       "      <td>1.020436</td>\n",
       "    </tr>\n",
       "    <tr>\n",
       "      <th>29</th>\n",
       "      <td>month_feb</td>\n",
       "      <td>-0.070015</td>\n",
       "    </tr>\n",
       "    <tr>\n",
       "      <th>30</th>\n",
       "      <td>month_jan</td>\n",
       "      <td>-1.309486</td>\n",
       "    </tr>\n",
       "    <tr>\n",
       "      <th>31</th>\n",
       "      <td>month_jul</td>\n",
       "      <td>-0.910838</td>\n",
       "    </tr>\n",
       "    <tr>\n",
       "      <th>32</th>\n",
       "      <td>month_jun</td>\n",
       "      <td>-0.518807</td>\n",
       "    </tr>\n",
       "    <tr>\n",
       "      <th>33</th>\n",
       "      <td>month_mar</td>\n",
       "      <td>2.011298</td>\n",
       "    </tr>\n",
       "    <tr>\n",
       "      <th>34</th>\n",
       "      <td>month_may</td>\n",
       "      <td>-0.970617</td>\n",
       "    </tr>\n",
       "    <tr>\n",
       "      <th>35</th>\n",
       "      <td>month_nov</td>\n",
       "      <td>-0.840965</td>\n",
       "    </tr>\n",
       "    <tr>\n",
       "      <th>36</th>\n",
       "      <td>month_oct</td>\n",
       "      <td>1.015790</td>\n",
       "    </tr>\n",
       "    <tr>\n",
       "      <th>37</th>\n",
       "      <td>month_sep</td>\n",
       "      <td>1.013025</td>\n",
       "    </tr>\n",
       "    <tr>\n",
       "      <th>38</th>\n",
       "      <td>education_primary</td>\n",
       "      <td>-0.227710</td>\n",
       "    </tr>\n",
       "    <tr>\n",
       "      <th>39</th>\n",
       "      <td>education_secondary</td>\n",
       "      <td>-0.021760</td>\n",
       "    </tr>\n",
       "    <tr>\n",
       "      <th>40</th>\n",
       "      <td>education_tertiary</td>\n",
       "      <td>0.245771</td>\n",
       "    </tr>\n",
       "    <tr>\n",
       "      <th>41</th>\n",
       "      <td>poutcome_failure</td>\n",
       "      <td>-0.580019</td>\n",
       "    </tr>\n",
       "    <tr>\n",
       "      <th>42</th>\n",
       "      <td>poutcome_other</td>\n",
       "      <td>-0.310353</td>\n",
       "    </tr>\n",
       "    <tr>\n",
       "      <th>43</th>\n",
       "      <td>poutcome_success</td>\n",
       "      <td>1.817417</td>\n",
       "    </tr>\n",
       "    <tr>\n",
       "      <th>44</th>\n",
       "      <td>poutcome_unknown</td>\n",
       "      <td>-0.930744</td>\n",
       "    </tr>\n",
       "  </tbody>\n",
       "</table>\n",
       "</div>"
      ],
      "text/plain": [
       "                feature  weight_value\n",
       "0               default      0.148074\n",
       "1               housing     -0.904013\n",
       "2                  loan     -0.496435\n",
       "3                 pdays     -0.151209\n",
       "4              previous      0.084224\n",
       "5               age_std     -0.092853\n",
       "6           balance_std      0.065555\n",
       "7               day_std     -0.000497\n",
       "8          duration_std      1.101862\n",
       "9          campaign_std     -0.243649\n",
       "10           job_admin.      0.143089\n",
       "11      job_blue-collar     -0.177294\n",
       "12     job_entrepreneur     -0.342769\n",
       "13        job_housemaid     -0.288464\n",
       "14       job_management      0.021440\n",
       "15          job_retired      0.439608\n",
       "16    job_self-employed     -0.182941\n",
       "17         job_services     -0.116296\n",
       "18          job_student      0.624121\n",
       "19       job_technician      0.034743\n",
       "20       job_unemployed     -0.158936\n",
       "21     marital_divorced      0.117602\n",
       "22      marital_married     -0.178609\n",
       "23       marital_single      0.057309\n",
       "24     contact_cellular     -0.126106\n",
       "25    contact_telephone      0.122407\n",
       "26            month_apr      0.288072\n",
       "27            month_aug     -0.731593\n",
       "28            month_dec      1.020436\n",
       "29            month_feb     -0.070015\n",
       "30            month_jan     -1.309486\n",
       "31            month_jul     -0.910838\n",
       "32            month_jun     -0.518807\n",
       "33            month_mar      2.011298\n",
       "34            month_may     -0.970617\n",
       "35            month_nov     -0.840965\n",
       "36            month_oct      1.015790\n",
       "37            month_sep      1.013025\n",
       "38    education_primary     -0.227710\n",
       "39  education_secondary     -0.021760\n",
       "40   education_tertiary      0.245771\n",
       "41     poutcome_failure     -0.580019\n",
       "42       poutcome_other     -0.310353\n",
       "43     poutcome_success      1.817417\n",
       "44     poutcome_unknown     -0.930744"
      ]
     },
     "execution_count": 38,
     "metadata": {},
     "output_type": "execute_result"
    }
   ],
   "source": [
    "feature_importance"
   ]
  },
  {
   "cell_type": "code",
   "execution_count": 39,
   "id": "1c28437f-432e-4406-be3a-ad75d294ba92",
   "metadata": {},
   "outputs": [
    {
     "data": {
      "image/png": "[encoded data removed]",
      "text/plain": [
       "<Figure size 576x648 with 1 Axes>"
      ]
     },
     "metadata": {
      "needs_background": "light"
     },
     "output_type": "display_data"
    }
   ],
   "source": [
    "#feature_importance= feature_importance.sort_values(by = ['change_to_pred_value'], ascending=False)\n",
    "#plot feature importance\n",
    "fig, axes=plt.subplots(figsize=(8,9))\n",
    "\n",
    "sns.barplot(x='weight_value', y='feature', data=feature_importance, ax=axes, color='blue')\n",
    "\n",
    "axes.set_xlabel('Weight Value')\n",
    "axes.set_ylabel('Feature')\n",
    "axes.set_title('feature importances')\n",
    "axes.set_xlim(-7, 7)\n",
    "plt.show()"
   ]
  },
  {
   "cell_type": "code",
   "execution_count": 40,
   "id": "c2fb883a-72c6-4879-8cea-28697306e919",
   "metadata": {},
   "outputs": [],
   "source": [
    "feature_importance=pd.DataFrame(list(X.columns), columns=['feature'])\n",
    "feature_importance['change_to_pred_value']=pow(math.e, w)"
   ]
  },
  {
   "cell_type": "code",
   "execution_count": 41,
   "id": "18f2b036-a19d-4d9a-9e5e-edcd80db4cbf",
   "metadata": {},
   "outputs": [
    {
     "data": {
      "image/png": "[encoded data removed]",
      "text/plain": [
       "<Figure size 576x648 with 1 Axes>"
      ]
     },
     "metadata": {
      "needs_background": "light"
     },
     "output_type": "display_data"
    }
   ],
   "source": [
    "feature_importance= feature_importance.sort_values(by = ['change_to_pred_value'], ascending=False)\n",
    "#plot feature importance\n",
    "fig, axes=plt.subplots(figsize=(8,9))\n",
    "\n",
    "sns.barplot(x='change_to_pred_value', y='feature', data=feature_importance, ax=axes, color='blue')\n",
    "\n",
    "axes.set_xlabel('change_to_pred_value')\n",
    "axes.set_ylabel('Feature')\n",
    "axes.set_title('feature importances')\n",
    "#axes.set_xlim(-7, 7)\n",
    "plt.show()"
   ]
  },
  {
   "cell_type": "markdown",
   "id": "015cfbcd-c36d-43fd-a32f-68dc4cc0ca90",
   "metadata": {},
   "source": [
    "## Decision Tree"
   ]
  },
  {
   "cell_type": "markdown",
   "id": "3aa16761-8567-450b-a5c5-160398fe3689",
   "metadata": {},
   "source": [
    "### Model Evaluation"
   ]
  },
  {
   "cell_type": "code",
   "execution_count": 42,
   "id": "bb1edc3a-12ba-42df-a484-53b87bc5a323",
   "metadata": {},
   "outputs": [
    {
     "name": "stdout",
     "output_type": "stream",
     "text": [
      "Threshold=0.001, F-Score=0.39034\n",
      "eval test model\n",
      "Accuracy (Test Set): 0.89\n",
      "Precision (Test Set): 0.37\n",
      "Recall (Test Set): 0.41\n",
      "F1-Score (Test Set): 0.39\n",
      "AUC: 0.67\n",
      "Threshold=0.001, F-Score=0.39034\n",
      "eval train model\n",
      "Accuracy (Train Set): 1.00\n",
      "Precision (Train Set): 1.00\n",
      "Recall (Train Set): 1.00\n",
      "F1-Score (Train Set): 1.00\n",
      "AUC: 1.00\n"
     ]
    },
    {
     "data": {
      "image/png": "[encoded data removed]",
      "text/plain": [
       "<Figure size 432x288 with 1 Axes>"
      ]
     },
     "metadata": {
      "needs_background": "light"
     },
     "output_type": "display_data"
    }
   ],
   "source": [
    "from sklearn.tree import DecisionTreeClassifier\n",
    "model = DecisionTreeClassifier(random_state=42)\n",
    "model.fit(X_train,y_train)\n",
    "\n",
    "y_pred = model.predict(X_test)\n",
    "eval_classification(model, X_train, y_train, X_test, y_test)"
   ]
  },
  {
   "cell_type": "code",
   "execution_count": 43,
   "id": "af162c9f-e6eb-4279-9ae2-a754c982ad26",
   "metadata": {},
   "outputs": [
    {
     "name": "stdout",
     "output_type": "stream",
     "text": [
      "Train score: 1.0\n",
      "Test score:0.8884286108809721\n"
     ]
    }
   ],
   "source": [
    "print('Train score: ' + str(model.score(X_train, y_train))) #accuracy\n",
    "print('Test score:' + str(model.score(X_test, y_test))) #accuracy"
   ]
  },
  {
   "cell_type": "markdown",
   "id": "6e378480-565c-4799-a20b-16d2c6b94615",
   "metadata": {},
   "source": [
    "### Hyperparameter Tuning"
   ]
  },
  {
   "cell_type": "code",
   "execution_count": 44,
   "id": "a373795a-b830-4880-90d4-2b82c502d329",
   "metadata": {},
   "outputs": [
    {
     "name": "stdout",
     "output_type": "stream",
     "text": [
      "Threshold=0.244, F-Score=0.44709\n",
      "eval test model\n",
      "Accuracy (Test Set): 0.88\n",
      "Precision (Test Set): 0.37\n",
      "Recall (Test Set): 0.58\n",
      "F1-Score (Test Set): 0.45\n",
      "AUC: 0.87\n",
      "Threshold=0.215, F-Score=0.44151\n",
      "eval train model\n",
      "Accuracy (Train Set): 0.87\n",
      "Precision (Train Set): 0.38\n",
      "Recall (Train Set): 0.61\n",
      "F1-Score (Train Set): 0.47\n",
      "AUC: 0.89\n"
     ]
    },
    {
     "data": {
      "image/png": "[encoded data removed]",
      "text/plain": [
       "<Figure size 432x288 with 1 Axes>"
      ]
     },
     "metadata": {
      "needs_background": "light"
     },
     "output_type": "display_data"
    }
   ],
   "source": [
    "from sklearn.model_selection import RandomizedSearchCV\n",
    "from scipy.stats import uniform\n",
    "import numpy as np\n",
    "\n",
    "# List of hyperparameter\n",
    "max_depth = [int(x) for x in np.linspace(1, 110, num = 30)] # Maximum number of levels in tree\n",
    "min_samples_split = [2, 5, 10, 100, 200] # Minimum number of samples required to split a node\n",
    "min_samples_leaf = [1, 2, 4, 10, 20, 50] # Minimum number of samples required at each leaf node\n",
    "max_features = ['sqrt'] # Number of features to consider at every split\n",
    "\n",
    "hyperparameters = dict(max_depth=max_depth, \n",
    "                       min_samples_split=min_samples_split, \n",
    "                       min_samples_leaf=min_samples_leaf,\n",
    "                       max_features=max_features\n",
    "                      )\n",
    "\n",
    "# Inisialisasi Model\n",
    "dt = DecisionTreeClassifier(random_state=42)\n",
    "model = RandomizedSearchCV(dt, hyperparameters, cv=10, random_state=42, scoring='roc_auc')\n",
    "model.fit(X_train, y_train)\n",
    "\n",
    "# Predict & Evaluation\n",
    "y_pred = model.predict(X_test)#Check performa dari model\n",
    "eval_classification(model, X_train, y_train, X_test, y_test)"
   ]
  },
  {
   "cell_type": "code",
   "execution_count": 45,
   "id": "51186f3e-6eda-4449-a835-02ca7eeb86b0",
   "metadata": {},
   "outputs": [
    {
     "name": "stdout",
     "output_type": "stream",
     "text": [
      "Best max_depth: 34\n",
      "Best min_samples_split: 200\n",
      "Best min_samples_leaf: 50\n",
      "Best max_features: sqrt\n"
     ]
    }
   ],
   "source": [
    "print('Best max_depth:', model.best_estimator_.get_params()['max_depth'])\n",
    "print('Best min_samples_split:', model.best_estimator_.get_params()['min_samples_split'])\n",
    "print('Best min_samples_leaf:', model.best_estimator_.get_params()['min_samples_leaf'])\n",
    "print('Best max_features:', model.best_estimator_.get_params()['max_features'])"
   ]
  },
  {
   "cell_type": "markdown",
   "id": "7821370d-7d25-4b8b-9a58-68941e8ab65a",
   "metadata": {},
   "source": [
    "### Feature Importance"
   ]
  },
  {
   "cell_type": "code",
   "execution_count": 46,
   "id": "51604cbd-7167-4e5b-96c4-3380615ba5e4",
   "metadata": {},
   "outputs": [
    {
     "data": {
      "text/plain": [
       "array([0.00000000e+00, 9.48991790e-02, 1.87736585e-03, 5.69819759e-02,\n",
       "       0.00000000e+00, 9.05230355e-02, 2.51028700e-02, 1.18032445e-02,\n",
       "       5.54408253e-01, 9.56241144e-03, 1.40340664e-03, 1.07826302e-03,\n",
       "       1.80786419e-04, 0.00000000e+00, 8.11846648e-06, 0.00000000e+00,\n",
       "       0.00000000e+00, 2.52860522e-05, 0.00000000e+00, 6.66669969e-04,\n",
       "       1.88017740e-04, 1.34842621e-03, 4.10439993e-03, 5.31951656e-03,\n",
       "       0.00000000e+00, 2.06569834e-05, 3.31447286e-02, 1.00260625e-02,\n",
       "       0.00000000e+00, 5.91029156e-03, 1.66200872e-03, 6.25094107e-04,\n",
       "       1.56589580e-03, 0.00000000e+00, 1.54332202e-03, 1.13858094e-03,\n",
       "       3.53874836e-02, 1.52968794e-02, 1.01505095e-03, 6.39472098e-04,\n",
       "       5.42562811e-03, 2.71176184e-02, 0.00000000e+00, 0.00000000e+00,\n",
       "       0.00000000e+00])"
      ]
     },
     "execution_count": 46,
     "metadata": {},
     "output_type": "execute_result"
    }
   ],
   "source": [
    "model.best_estimator_.feature_importances_"
   ]
  },
  {
   "cell_type": "code",
   "execution_count": 47,
   "id": "c99a673d-81a4-44bd-be32-408bb285bf84",
   "metadata": {},
   "outputs": [
    {
     "data": {
      "text/plain": [
       "Text(0.5, 1.0, 'feature importance score')"
      ]
     },
     "execution_count": 47,
     "metadata": {},
     "output_type": "execute_result"
    },
    {
     "data": {
      "image/png": "[encoded data removed]",
      "text/plain": [
       "<Figure size 720x576 with 1 Axes>"
      ]
     },
     "metadata": {
      "needs_background": "light"
     },
     "output_type": "display_data"
    }
   ],
   "source": [
    "# plt.figsize(10, 8)\n",
    "feat_importances = pd.Series(model.best_estimator_.feature_importances_, index=X.columns)\n",
    "ax = feat_importances.nlargest(25).plot(kind='barh', figsize=(10, 8))\n",
    "ax.invert_yaxis()\n",
    "\n",
    "plt.xlabel('score')\n",
    "plt.ylabel('feature')\n",
    "plt.title('feature importance score')"
   ]
  },
  {
   "cell_type": "markdown",
   "id": "dd21ecb4",
   "metadata": {},
   "source": [
    "### Tree Visualization "
   ]
  },
  {
   "cell_type": "code",
   "execution_count": 48,
   "id": "63076fb7-d48f-4947-8913-69d71605e194",
   "metadata": {},
   "outputs": [
    {
     "data": {
      "image/png": "[encoded data removed]",
      "text/plain": [
       "<Figure size 720x720 with 1 Axes>"
      ]
     },
     "metadata": {
      "needs_background": "light"
     },
     "output_type": "display_data"
    }
   ],
   "source": [
    "from sklearn import tree\n",
    "import matplotlib.pyplot as plt\n",
    "fig, ax = plt.subplots(figsize=(10, 10))\n",
    "tree.plot_tree(model.best_estimator_,\n",
    "               feature_names = X.columns.tolist(), \n",
    "               class_names=['0','1'],\n",
    "               filled = True, max_depth=5, fontsize=10)\n",
    "plt.show()"
   ]
  },
  {
   "cell_type": "markdown",
   "id": "567b213d-08cb-433a-8ae8-6f88f3e644c8",
   "metadata": {},
   "source": [
    "## XGboost"
   ]
  },
  {
   "cell_type": "markdown",
   "id": "c9e4e283-7eeb-4363-bb6c-7fdae11e38b6",
   "metadata": {},
   "source": [
    "### Model Evaluation"
   ]
  },
  {
   "cell_type": "code",
   "execution_count": 49,
   "id": "e7f1f247-227b-421a-bf5e-5f63de013f3e",
   "metadata": {},
   "outputs": [
    {
     "name": "stdout",
     "output_type": "stream",
     "text": [
      "Threshold=0.239, F-Score=0.55200\n",
      "eval test model\n",
      "Accuracy (Test Set): 0.91\n",
      "Precision (Test Set): 0.47\n",
      "Recall (Test Set): 0.67\n",
      "F1-Score (Test Set): 0.55\n",
      "AUC: 0.92\n",
      "Threshold=0.346, F-Score=0.53423\n",
      "eval train model\n",
      "Accuracy (Train Set): 0.97\n",
      "Precision (Train Set): 0.83\n",
      "Recall (Train Set): 0.83\n",
      "F1-Score (Train Set): 0.83\n",
      "AUC: 0.99\n"
     ]
    },
    {
     "data": {
      "image/png": "[encoded data removed]",
      "text/plain": [
       "<Figure size 432x288 with 1 Axes>"
      ]
     },
     "metadata": {
      "needs_background": "light"
     },
     "output_type": "display_data"
    }
   ],
   "source": [
    "from xgboost import XGBClassifier\n",
    "import warnings\n",
    "warnings.filterwarnings('ignore')\n",
    "\n",
    "xg = XGBClassifier(eval_metric='logloss')\n",
    "xg.fit(X_train, y_train)\n",
    "eval_classification(xg,X_train, y_train, X_test, y_test)"
   ]
  },
  {
   "cell_type": "markdown",
   "id": "d2e0155d-88d0-433c-952c-26a1ad4100be",
   "metadata": {},
   "source": [
    "### Hyperparameter Tuning"
   ]
  },
  {
   "cell_type": "code",
   "execution_count": 50,
   "id": "f35d1bfd-9200-4832-b7c1-d101cf026bb8",
   "metadata": {},
   "outputs": [
    {
     "name": "stdout",
     "output_type": "stream",
     "text": [
      "Threshold=0.264, F-Score=0.54554\n",
      "eval test model\n",
      "Accuracy (Test Set): 0.91\n",
      "Precision (Test Set): 0.48\n",
      "Recall (Test Set): 0.62\n",
      "F1-Score (Test Set): 0.55\n",
      "AUC: 0.92\n",
      "Threshold=0.249, F-Score=0.54143\n",
      "eval train model\n",
      "Accuracy (Train Set): 0.92\n",
      "Precision (Train Set): 0.53\n",
      "Recall (Train Set): 0.70\n",
      "F1-Score (Train Set): 0.60\n",
      "AUC: 0.94\n"
     ]
    },
    {
     "data": {
      "image/png": "[encoded data removed]",
      "text/plain": [
       "<Figure size 432x288 with 1 Axes>"
      ]
     },
     "metadata": {
      "needs_background": "light"
     },
     "output_type": "display_data"
    }
   ],
   "source": [
    "from sklearn.model_selection import RandomizedSearchCV\n",
    "from scipy.stats import uniform\n",
    "import numpy as np\n",
    "\n",
    "# List of hyperparameter\n",
    "learning_rate = [0.001,0.01,0.1,0.25,0.5,0.4]\n",
    "max_depth = [1, 3, 5, 7, 9, 11] # Maximum number of levels in tree # Number of features to consider at every split\n",
    "gamma=[float(x) for x in np.linspace(0, 1, num = 5)]\n",
    "tree_method=['auto', 'exact', 'approx', 'hist']\n",
    "reg_alpha=[float(x) for x in np.linspace(0, 1, num = 5)]\n",
    "reg_lambda =[float(x) for x in np.linspace(0, 1, num = 5)]\n",
    "colsample_bytree = [float(x) for x in np.linspace(0, 1, num = 5)]\n",
    "min_child_weight = [int(x) for x in np.linspace(1, 20, num = 5)]\n",
    "n_estimators=[100, 150, 200]\n",
    "seed = [0]\n",
    "\n",
    "hyperparameters = dict(learning_rate=learning_rate, \n",
    "                       max_depth=max_depth,\n",
    "                       gamma = gamma,\n",
    "                       tree_method = tree_method,\n",
    "                       reg_alpha = reg_alpha,\n",
    "                       reg_lambda = reg_lambda,\n",
    "                       colsample_bytree = colsample_bytree,\n",
    "                       min_child_weight = min_child_weight,\n",
    "                       #n_estimators=n_estimators,\n",
    "                       seed = seed\n",
    "                      )\n",
    "\n",
    "# Inisialisasi Model\n",
    "xgtune = XGBClassifier(random_state=42, eval_metric='logloss')\n",
    "model = RandomizedSearchCV(xgtune, hyperparameters, cv=10, random_state=42, scoring='roc_auc')\n",
    "model.fit(X_train, y_train)\n",
    "\n",
    "# Predict & Evaluation\n",
    "y_pred = model.predict(X_test)#Check performa dari model\n",
    "eval_classification(model, X_train, y_train, X_test, y_test)"
   ]
  },
  {
   "cell_type": "code",
   "execution_count": 51,
   "id": "c36f10ad-f176-42c2-99c9-2578a35d79fd",
   "metadata": {},
   "outputs": [
    {
     "data": {
      "text/plain": [
       "{'objective': 'binary:logistic',\n",
       " 'use_label_encoder': True,\n",
       " 'base_score': 0.5,\n",
       " 'booster': 'gbtree',\n",
       " 'colsample_bylevel': 1,\n",
       " 'colsample_bynode': 1,\n",
       " 'colsample_bytree': 0.5,\n",
       " 'enable_categorical': False,\n",
       " 'gamma': 1.0,\n",
       " 'gpu_id': -1,\n",
       " 'importance_type': None,\n",
       " 'interaction_constraints': '',\n",
       " 'learning_rate': 0.1,\n",
       " 'max_delta_step': 0,\n",
       " 'max_depth': 5,\n",
       " 'min_child_weight': 5,\n",
       " 'missing': nan,\n",
       " 'monotone_constraints': '()',\n",
       " 'n_estimators': 100,\n",
       " 'n_jobs': 16,\n",
       " 'num_parallel_tree': 1,\n",
       " 'predictor': 'auto',\n",
       " 'random_state': 42,\n",
       " 'reg_alpha': 0.75,\n",
       " 'reg_lambda': 1.0,\n",
       " 'scale_pos_weight': 1,\n",
       " 'subsample': 1,\n",
       " 'tree_method': 'approx',\n",
       " 'validate_parameters': 1,\n",
       " 'verbosity': None,\n",
       " 'eval_metric': 'logloss',\n",
       " 'seed': 0}"
      ]
     },
     "execution_count": 51,
     "metadata": {},
     "output_type": "execute_result"
    }
   ],
   "source": [
    "model.best_estimator_.get_params()"
   ]
  },
  {
   "cell_type": "markdown",
   "id": "f5796e3a",
   "metadata": {},
   "source": [
    "### Confusion Matrix"
   ]
  },
  {
   "cell_type": "code",
   "execution_count": 52,
   "id": "a30e0b39",
   "metadata": {},
   "outputs": [
    {
     "data": {
      "text/plain": [
       "<sklearn.metrics._plot.confusion_matrix.ConfusionMatrixDisplay at 0x2363d849100>"
      ]
     },
     "execution_count": 52,
     "metadata": {},
     "output_type": "execute_result"
    },
    {
     "data": {
      "image/png": "[encoded data removed]",
      "text/plain": [
       "<Figure size 720x720 with 2 Axes>"
      ]
     },
     "metadata": {
      "needs_background": "light"
     },
     "output_type": "display_data"
    }
   ],
   "source": [
    "from sklearn.metrics import plot_confusion_matrix\n",
    "fig, ax = plt.subplots(figsize=(10, 10))\n",
    "\n",
    "plot_confusion_matrix(model,X_test,y_test,ax=ax)"
   ]
  },
  {
   "cell_type": "code",
   "execution_count": 53,
   "id": "107e3143-29e7-4d0c-905d-0d9b77cfaecc",
   "metadata": {},
   "outputs": [
    {
     "data": {
      "text/html": [
       "<div>\n",
       "<style scoped>\n",
       "    .dataframe tbody tr th:only-of-type {\n",
       "        vertical-align: middle;\n",
       "    }\n",
       "\n",
       "    .dataframe tbody tr th {\n",
       "        vertical-align: top;\n",
       "    }\n",
       "\n",
       "    .dataframe thead th {\n",
       "        text-align: right;\n",
       "    }\n",
       "</style>\n",
       "<table border=\"1\" class=\"dataframe\">\n",
       "  <thead>\n",
       "    <tr style=\"text-align: right;\">\n",
       "      <th></th>\n",
       "      <th>age</th>\n",
       "      <th>job</th>\n",
       "      <th>marital</th>\n",
       "      <th>education</th>\n",
       "      <th>default</th>\n",
       "      <th>balance</th>\n",
       "      <th>housing</th>\n",
       "      <th>loan</th>\n",
       "      <th>contact</th>\n",
       "      <th>day</th>\n",
       "      <th>month</th>\n",
       "      <th>duration</th>\n",
       "      <th>campaign</th>\n",
       "      <th>pdays</th>\n",
       "      <th>previous</th>\n",
       "      <th>poutcome</th>\n",
       "      <th>y</th>\n",
       "    </tr>\n",
       "  </thead>\n",
       "  <tbody>\n",
       "    <tr>\n",
       "      <th>0</th>\n",
       "      <td>58</td>\n",
       "      <td>management</td>\n",
       "      <td>married</td>\n",
       "      <td>tertiary</td>\n",
       "      <td>no</td>\n",
       "      <td>2143</td>\n",
       "      <td>yes</td>\n",
       "      <td>no</td>\n",
       "      <td>unknown</td>\n",
       "      <td>5</td>\n",
       "      <td>may</td>\n",
       "      <td>261</td>\n",
       "      <td>1</td>\n",
       "      <td>-1</td>\n",
       "      <td>0</td>\n",
       "      <td>unknown</td>\n",
       "      <td>no</td>\n",
       "    </tr>\n",
       "    <tr>\n",
       "      <th>1</th>\n",
       "      <td>44</td>\n",
       "      <td>technician</td>\n",
       "      <td>single</td>\n",
       "      <td>secondary</td>\n",
       "      <td>no</td>\n",
       "      <td>29</td>\n",
       "      <td>yes</td>\n",
       "      <td>no</td>\n",
       "      <td>unknown</td>\n",
       "      <td>5</td>\n",
       "      <td>may</td>\n",
       "      <td>151</td>\n",
       "      <td>1</td>\n",
       "      <td>-1</td>\n",
       "      <td>0</td>\n",
       "      <td>unknown</td>\n",
       "      <td>no</td>\n",
       "    </tr>\n",
       "    <tr>\n",
       "      <th>2</th>\n",
       "      <td>33</td>\n",
       "      <td>entrepreneur</td>\n",
       "      <td>married</td>\n",
       "      <td>secondary</td>\n",
       "      <td>no</td>\n",
       "      <td>2</td>\n",
       "      <td>yes</td>\n",
       "      <td>yes</td>\n",
       "      <td>unknown</td>\n",
       "      <td>5</td>\n",
       "      <td>may</td>\n",
       "      <td>76</td>\n",
       "      <td>1</td>\n",
       "      <td>-1</td>\n",
       "      <td>0</td>\n",
       "      <td>unknown</td>\n",
       "      <td>no</td>\n",
       "    </tr>\n",
       "    <tr>\n",
       "      <th>3</th>\n",
       "      <td>47</td>\n",
       "      <td>blue-collar</td>\n",
       "      <td>married</td>\n",
       "      <td>unknown</td>\n",
       "      <td>no</td>\n",
       "      <td>1506</td>\n",
       "      <td>yes</td>\n",
       "      <td>no</td>\n",
       "      <td>unknown</td>\n",
       "      <td>5</td>\n",
       "      <td>may</td>\n",
       "      <td>92</td>\n",
       "      <td>1</td>\n",
       "      <td>-1</td>\n",
       "      <td>0</td>\n",
       "      <td>unknown</td>\n",
       "      <td>no</td>\n",
       "    </tr>\n",
       "    <tr>\n",
       "      <th>4</th>\n",
       "      <td>33</td>\n",
       "      <td>unknown</td>\n",
       "      <td>single</td>\n",
       "      <td>unknown</td>\n",
       "      <td>no</td>\n",
       "      <td>1</td>\n",
       "      <td>no</td>\n",
       "      <td>no</td>\n",
       "      <td>unknown</td>\n",
       "      <td>5</td>\n",
       "      <td>may</td>\n",
       "      <td>198</td>\n",
       "      <td>1</td>\n",
       "      <td>-1</td>\n",
       "      <td>0</td>\n",
       "      <td>unknown</td>\n",
       "      <td>no</td>\n",
       "    </tr>\n",
       "  </tbody>\n",
       "</table>\n",
       "</div>"
      ],
      "text/plain": [
       "   age           job  marital  education default  balance housing loan  \\\n",
       "0   58    management  married   tertiary      no     2143     yes   no   \n",
       "1   44    technician   single  secondary      no       29     yes   no   \n",
       "2   33  entrepreneur  married  secondary      no        2     yes  yes   \n",
       "3   47   blue-collar  married    unknown      no     1506     yes   no   \n",
       "4   33       unknown   single    unknown      no        1      no   no   \n",
       "\n",
       "   contact  day month  duration  campaign  pdays  previous poutcome   y  \n",
       "0  unknown    5   may       261         1     -1         0  unknown  no  \n",
       "1  unknown    5   may       151         1     -1         0  unknown  no  \n",
       "2  unknown    5   may        76         1     -1         0  unknown  no  \n",
       "3  unknown    5   may        92         1     -1         0  unknown  no  \n",
       "4  unknown    5   may       198         1     -1         0  unknown  no  "
      ]
     },
     "execution_count": 53,
     "metadata": {},
     "output_type": "execute_result"
    }
   ],
   "source": [
    "df= pd.read_csv('https://raw.githubusercontent.com/angkasatech/ds/37146328bc5814f4e7a0adb739e6574def32b6dc/banking_train.csv', delimiter=';')\n",
    "df.head()"
   ]
  },
  {
   "cell_type": "code",
   "execution_count": 54,
   "id": "fbc4bc06-ad03-47d0-bb70-381dda8f1f55",
   "metadata": {},
   "outputs": [],
   "source": [
    "#lakukan imputasi/replace nilai modus pada kolom job, education, dan contact yang memiliki nilai 'unknown'\n",
    "col='job education contact'.split()\n",
    "#replace kolom job\n",
    "for i in col:\n",
    "  df[i]=df[i].replace(['unknown'],df[i].mode()[0])"
   ]
  },
  {
   "cell_type": "code",
   "execution_count": 55,
   "id": "8157ec94-0399-4930-9b80-220fcb70f2b7",
   "metadata": {},
   "outputs": [],
   "source": [
    "mapping_default = {\n",
    "    'no' : 0,\n",
    "    'yes' : 1\n",
    "}\n",
    "\n",
    "mapping_housing = {\n",
    "    'no' : 0,\n",
    "    'yes' : 1,\n",
    "}\n",
    "\n",
    "mapping_loan = {\n",
    "    'no' : 0,\n",
    "    'yes' : 1\n",
    "}\n",
    "\n",
    "mapping_y = {\n",
    "    'no' : 0,\n",
    "    'yes' : 1\n",
    "}\n",
    "\n",
    "df['default'] = df['default'].map(mapping_default)\n",
    "df['housing'] = df['housing'].map(mapping_housing)\n",
    "df['loan'] = df['loan'].map(mapping_loan)\n",
    "df['y'] = df['y'].map(mapping_y)"
   ]
  },
  {
   "cell_type": "code",
   "execution_count": 56,
   "id": "ecf8c8fb-1e67-45e2-852c-62de536dae62",
   "metadata": {},
   "outputs": [],
   "source": [
    "for cat in ['job', 'marital','contact','month','education','poutcome']:\n",
    "    onehots = pd.get_dummies(df[cat], prefix=cat)\n",
    "    df = df.join(onehots)"
   ]
  },
  {
   "cell_type": "code",
   "execution_count": 57,
   "id": "65b0f294-3a41-4d8d-ba74-ab1f77c08c89",
   "metadata": {},
   "outputs": [],
   "source": [
    "df = df.drop(columns=['job', 'marital','education','contact','month','poutcome'])"
   ]
  },
  {
   "cell_type": "code",
   "execution_count": 58,
   "id": "578119e5-19b0-45f8-b119-bc7bfa219f43",
   "metadata": {},
   "outputs": [],
   "source": [
    "#feature\n",
    "X=df.drop(['y'],axis=1)\n",
    "#X=df['age_std marital_divorced marital_married marital_single contact_cellular contact_telephone balance_std default housing loan duration_std campaign_std'.split()]\n",
    "#X=df['age_std balance_std default housing loan duration_std campaign_std'.split()]\n",
    "\n",
    "\n",
    "#target\n",
    "y=df['y']"
   ]
  },
  {
   "cell_type": "code",
   "execution_count": 59,
   "id": "be9d0354-6a5b-422e-b677-a75b0a285064",
   "metadata": {},
   "outputs": [
    {
     "data": {
      "text/plain": [
       "0    39922\n",
       "1     5289\n",
       "Name: y, dtype: int64"
      ]
     },
     "execution_count": 59,
     "metadata": {},
     "output_type": "execute_result"
    }
   ],
   "source": [
    "y.value_counts()"
   ]
  },
  {
   "cell_type": "code",
   "execution_count": 60,
   "id": "f59417f5-66a6-49f0-aad4-9178ad7e9440",
   "metadata": {},
   "outputs": [
    {
     "data": {
      "text/plain": [
       "array([0, 0, 0, ..., 1, 0, 1], dtype=int64)"
      ]
     },
     "execution_count": 60,
     "metadata": {},
     "output_type": "execute_result"
    }
   ],
   "source": [
    "ypred=model.predict(X)\n",
    "ypred"
   ]
  },
  {
   "cell_type": "code",
   "execution_count": 61,
   "id": "389c9dbf-0d23-407c-9348-e75a2beffda9",
   "metadata": {},
   "outputs": [
    {
     "data": {
      "text/html": [
       "<div>\n",
       "<style scoped>\n",
       "    .dataframe tbody tr th:only-of-type {\n",
       "        vertical-align: middle;\n",
       "    }\n",
       "\n",
       "    .dataframe tbody tr th {\n",
       "        vertical-align: top;\n",
       "    }\n",
       "\n",
       "    .dataframe thead th {\n",
       "        text-align: right;\n",
       "    }\n",
       "</style>\n",
       "<table border=\"1\" class=\"dataframe\">\n",
       "  <thead>\n",
       "    <tr style=\"text-align: right;\">\n",
       "      <th></th>\n",
       "      <th>0</th>\n",
       "    </tr>\n",
       "  </thead>\n",
       "  <tbody>\n",
       "    <tr>\n",
       "      <th>0</th>\n",
       "      <td>0</td>\n",
       "    </tr>\n",
       "    <tr>\n",
       "      <th>1</th>\n",
       "      <td>0</td>\n",
       "    </tr>\n",
       "    <tr>\n",
       "      <th>2</th>\n",
       "      <td>0</td>\n",
       "    </tr>\n",
       "    <tr>\n",
       "      <th>3</th>\n",
       "      <td>0</td>\n",
       "    </tr>\n",
       "    <tr>\n",
       "      <th>4</th>\n",
       "      <td>0</td>\n",
       "    </tr>\n",
       "    <tr>\n",
       "      <th>...</th>\n",
       "      <td>...</td>\n",
       "    </tr>\n",
       "    <tr>\n",
       "      <th>45206</th>\n",
       "      <td>0</td>\n",
       "    </tr>\n",
       "    <tr>\n",
       "      <th>45207</th>\n",
       "      <td>0</td>\n",
       "    </tr>\n",
       "    <tr>\n",
       "      <th>45208</th>\n",
       "      <td>1</td>\n",
       "    </tr>\n",
       "    <tr>\n",
       "      <th>45209</th>\n",
       "      <td>0</td>\n",
       "    </tr>\n",
       "    <tr>\n",
       "      <th>45210</th>\n",
       "      <td>1</td>\n",
       "    </tr>\n",
       "  </tbody>\n",
       "</table>\n",
       "<p>45211 rows × 1 columns</p>\n",
       "</div>"
      ],
      "text/plain": [
       "       0\n",
       "0      0\n",
       "1      0\n",
       "2      0\n",
       "3      0\n",
       "4      0\n",
       "...   ..\n",
       "45206  0\n",
       "45207  0\n",
       "45208  1\n",
       "45209  0\n",
       "45210  1\n",
       "\n",
       "[45211 rows x 1 columns]"
      ]
     },
     "execution_count": 61,
     "metadata": {},
     "output_type": "execute_result"
    }
   ],
   "source": [
    "ypred=pd.DataFrame(ypred)\n",
    "ypred"
   ]
  },
  {
   "cell_type": "code",
   "execution_count": 62,
   "id": "f064b1d0-decf-4909-9060-35e5b33f8f45",
   "metadata": {},
   "outputs": [
    {
     "data": {
      "text/plain": [
       "0    36972\n",
       "1     8239\n",
       "dtype: int64"
      ]
     },
     "execution_count": 62,
     "metadata": {},
     "output_type": "execute_result"
    }
   ],
   "source": [
    "ypred.value_counts()"
   ]
  },
  {
   "cell_type": "code",
   "execution_count": 63,
   "id": "94facb3d-57cc-4340-8f66-b3513eb465e6",
   "metadata": {},
   "outputs": [
    {
     "data": {
      "image/png": "[encoded data removed]",
      "text/plain": [
       "<Figure size 432x288 with 2 Axes>"
      ]
     },
     "metadata": {
      "needs_background": "light"
     },
     "output_type": "display_data"
    }
   ],
   "source": [
    "from sklearn.metrics import confusion_matrix, ConfusionMatrixDisplay\n",
    "# fig, ax = plt.subplots(figsize=(10, 10))\n",
    "\n",
    "cm = confusion_matrix(y, ypred, labels=model.classes_)\n",
    "disp = ConfusionMatrixDisplay(confusion_matrix=cm,\n",
    "                              display_labels=model.classes_)\n",
    "disp.plot()\n",
    "plt.show()"
   ]
  },
  {
   "cell_type": "code",
   "execution_count": 64,
   "id": "57bd6098-2c74-4fbd-a290-eaeef76fd132",
   "metadata": {},
   "outputs": [],
   "source": [
    "df['campaign*duration']=df['campaign']*df['duration']"
   ]
  },
  {
   "cell_type": "code",
   "execution_count": 65,
   "id": "6d04d7b7-a8df-4a6e-953e-7bb1c4780f76",
   "metadata": {},
   "outputs": [
    {
     "data": {
      "text/plain": [
       "count    45211.000000\n",
       "mean       646.051315\n",
       "std       1094.747093\n",
       "min          0.000000\n",
       "25%        176.000000\n",
       "50%        344.000000\n",
       "75%        706.000000\n",
       "max      60170.000000\n",
       "Name: campaign*duration, dtype: float64"
      ]
     },
     "execution_count": 65,
     "metadata": {},
     "output_type": "execute_result"
    }
   ],
   "source": [
    "#campaign duration before machine learnig model implemented\n",
    "df['campaign*duration'].describe()"
   ]
  },
  {
   "cell_type": "code",
   "execution_count": 66,
   "id": "02dade0f-a5d3-456a-bd65-076242db5d8c",
   "metadata": {},
   "outputs": [
    {
     "data": {
      "text/plain": [
       "29208626"
      ]
     },
     "execution_count": 66,
     "metadata": {},
     "output_type": "execute_result"
    }
   ],
   "source": [
    "sum(df['campaign*duration'])"
   ]
  },
  {
   "cell_type": "code",
   "execution_count": 67,
   "id": "729e8411-60da-4bb5-8b92-4ab5b0dfff3f",
   "metadata": {},
   "outputs": [
    {
     "data": {
      "text/html": [
       "<div>\n",
       "<style scoped>\n",
       "    .dataframe tbody tr th:only-of-type {\n",
       "        vertical-align: middle;\n",
       "    }\n",
       "\n",
       "    .dataframe tbody tr th {\n",
       "        vertical-align: top;\n",
       "    }\n",
       "\n",
       "    .dataframe thead th {\n",
       "        text-align: right;\n",
       "    }\n",
       "</style>\n",
       "<table border=\"1\" class=\"dataframe\">\n",
       "  <thead>\n",
       "    <tr style=\"text-align: right;\">\n",
       "      <th></th>\n",
       "      <th>age</th>\n",
       "      <th>default</th>\n",
       "      <th>balance</th>\n",
       "      <th>housing</th>\n",
       "      <th>loan</th>\n",
       "      <th>day</th>\n",
       "      <th>duration</th>\n",
       "      <th>campaign</th>\n",
       "      <th>pdays</th>\n",
       "      <th>previous</th>\n",
       "      <th>...</th>\n",
       "      <th>month_nov</th>\n",
       "      <th>month_oct</th>\n",
       "      <th>month_sep</th>\n",
       "      <th>education_primary</th>\n",
       "      <th>education_secondary</th>\n",
       "      <th>education_tertiary</th>\n",
       "      <th>poutcome_failure</th>\n",
       "      <th>poutcome_other</th>\n",
       "      <th>poutcome_success</th>\n",
       "      <th>poutcome_unknown</th>\n",
       "    </tr>\n",
       "  </thead>\n",
       "  <tbody>\n",
       "    <tr>\n",
       "      <th>0</th>\n",
       "      <td>58</td>\n",
       "      <td>0</td>\n",
       "      <td>2143</td>\n",
       "      <td>1</td>\n",
       "      <td>0</td>\n",
       "      <td>5</td>\n",
       "      <td>261</td>\n",
       "      <td>1</td>\n",
       "      <td>-1</td>\n",
       "      <td>0</td>\n",
       "      <td>...</td>\n",
       "      <td>0</td>\n",
       "      <td>0</td>\n",
       "      <td>0</td>\n",
       "      <td>0</td>\n",
       "      <td>0</td>\n",
       "      <td>1</td>\n",
       "      <td>0</td>\n",
       "      <td>0</td>\n",
       "      <td>0</td>\n",
       "      <td>1</td>\n",
       "    </tr>\n",
       "    <tr>\n",
       "      <th>1</th>\n",
       "      <td>44</td>\n",
       "      <td>0</td>\n",
       "      <td>29</td>\n",
       "      <td>1</td>\n",
       "      <td>0</td>\n",
       "      <td>5</td>\n",
       "      <td>151</td>\n",
       "      <td>1</td>\n",
       "      <td>-1</td>\n",
       "      <td>0</td>\n",
       "      <td>...</td>\n",
       "      <td>0</td>\n",
       "      <td>0</td>\n",
       "      <td>0</td>\n",
       "      <td>0</td>\n",
       "      <td>1</td>\n",
       "      <td>0</td>\n",
       "      <td>0</td>\n",
       "      <td>0</td>\n",
       "      <td>0</td>\n",
       "      <td>1</td>\n",
       "    </tr>\n",
       "    <tr>\n",
       "      <th>2</th>\n",
       "      <td>33</td>\n",
       "      <td>0</td>\n",
       "      <td>2</td>\n",
       "      <td>1</td>\n",
       "      <td>1</td>\n",
       "      <td>5</td>\n",
       "      <td>76</td>\n",
       "      <td>1</td>\n",
       "      <td>-1</td>\n",
       "      <td>0</td>\n",
       "      <td>...</td>\n",
       "      <td>0</td>\n",
       "      <td>0</td>\n",
       "      <td>0</td>\n",
       "      <td>0</td>\n",
       "      <td>1</td>\n",
       "      <td>0</td>\n",
       "      <td>0</td>\n",
       "      <td>0</td>\n",
       "      <td>0</td>\n",
       "      <td>1</td>\n",
       "    </tr>\n",
       "    <tr>\n",
       "      <th>3</th>\n",
       "      <td>47</td>\n",
       "      <td>0</td>\n",
       "      <td>1506</td>\n",
       "      <td>1</td>\n",
       "      <td>0</td>\n",
       "      <td>5</td>\n",
       "      <td>92</td>\n",
       "      <td>1</td>\n",
       "      <td>-1</td>\n",
       "      <td>0</td>\n",
       "      <td>...</td>\n",
       "      <td>0</td>\n",
       "      <td>0</td>\n",
       "      <td>0</td>\n",
       "      <td>0</td>\n",
       "      <td>1</td>\n",
       "      <td>0</td>\n",
       "      <td>0</td>\n",
       "      <td>0</td>\n",
       "      <td>0</td>\n",
       "      <td>1</td>\n",
       "    </tr>\n",
       "    <tr>\n",
       "      <th>4</th>\n",
       "      <td>33</td>\n",
       "      <td>0</td>\n",
       "      <td>1</td>\n",
       "      <td>0</td>\n",
       "      <td>0</td>\n",
       "      <td>5</td>\n",
       "      <td>198</td>\n",
       "      <td>1</td>\n",
       "      <td>-1</td>\n",
       "      <td>0</td>\n",
       "      <td>...</td>\n",
       "      <td>0</td>\n",
       "      <td>0</td>\n",
       "      <td>0</td>\n",
       "      <td>0</td>\n",
       "      <td>1</td>\n",
       "      <td>0</td>\n",
       "      <td>0</td>\n",
       "      <td>0</td>\n",
       "      <td>0</td>\n",
       "      <td>1</td>\n",
       "    </tr>\n",
       "  </tbody>\n",
       "</table>\n",
       "<p>5 rows × 45 columns</p>\n",
       "</div>"
      ],
      "text/plain": [
       "   age  default  balance  housing  loan  day  duration  campaign  pdays  \\\n",
       "0   58        0     2143        1     0    5       261         1     -1   \n",
       "1   44        0       29        1     0    5       151         1     -1   \n",
       "2   33        0        2        1     1    5        76         1     -1   \n",
       "3   47        0     1506        1     0    5        92         1     -1   \n",
       "4   33        0        1        0     0    5       198         1     -1   \n",
       "\n",
       "   previous  ...  month_nov  month_oct  month_sep  education_primary  \\\n",
       "0         0  ...          0          0          0                  0   \n",
       "1         0  ...          0          0          0                  0   \n",
       "2         0  ...          0          0          0                  0   \n",
       "3         0  ...          0          0          0                  0   \n",
       "4         0  ...          0          0          0                  0   \n",
       "\n",
       "   education_secondary  education_tertiary  poutcome_failure  poutcome_other  \\\n",
       "0                    0                   1                 0               0   \n",
       "1                    1                   0                 0               0   \n",
       "2                    1                   0                 0               0   \n",
       "3                    1                   0                 0               0   \n",
       "4                    1                   0                 0               0   \n",
       "\n",
       "   poutcome_success  poutcome_unknown  \n",
       "0                 0                 1  \n",
       "1                 0                 1  \n",
       "2                 0                 1  \n",
       "3                 0                 1  \n",
       "4                 0                 1  \n",
       "\n",
       "[5 rows x 45 columns]"
      ]
     },
     "execution_count": 67,
     "metadata": {},
     "output_type": "execute_result"
    }
   ],
   "source": [
    "X.head()"
   ]
  },
  {
   "cell_type": "code",
   "execution_count": 68,
   "id": "2cc64110-76fe-433c-b37e-6b2146ab69a9",
   "metadata": {},
   "outputs": [],
   "source": [
    "X['y']=ypred"
   ]
  },
  {
   "cell_type": "code",
   "execution_count": 69,
   "id": "2af42e57-cd71-4d47-a658-dc838a1cae64",
   "metadata": {},
   "outputs": [
    {
     "data": {
      "text/html": [
       "<div>\n",
       "<style scoped>\n",
       "    .dataframe tbody tr th:only-of-type {\n",
       "        vertical-align: middle;\n",
       "    }\n",
       "\n",
       "    .dataframe tbody tr th {\n",
       "        vertical-align: top;\n",
       "    }\n",
       "\n",
       "    .dataframe thead th {\n",
       "        text-align: right;\n",
       "    }\n",
       "</style>\n",
       "<table border=\"1\" class=\"dataframe\">\n",
       "  <thead>\n",
       "    <tr style=\"text-align: right;\">\n",
       "      <th></th>\n",
       "      <th>age</th>\n",
       "      <th>default</th>\n",
       "      <th>balance</th>\n",
       "      <th>housing</th>\n",
       "      <th>loan</th>\n",
       "      <th>day</th>\n",
       "      <th>duration</th>\n",
       "      <th>campaign</th>\n",
       "      <th>pdays</th>\n",
       "      <th>previous</th>\n",
       "      <th>...</th>\n",
       "      <th>month_oct</th>\n",
       "      <th>month_sep</th>\n",
       "      <th>education_primary</th>\n",
       "      <th>education_secondary</th>\n",
       "      <th>education_tertiary</th>\n",
       "      <th>poutcome_failure</th>\n",
       "      <th>poutcome_other</th>\n",
       "      <th>poutcome_success</th>\n",
       "      <th>poutcome_unknown</th>\n",
       "      <th>y</th>\n",
       "    </tr>\n",
       "  </thead>\n",
       "  <tbody>\n",
       "    <tr>\n",
       "      <th>0</th>\n",
       "      <td>58</td>\n",
       "      <td>0</td>\n",
       "      <td>2143</td>\n",
       "      <td>1</td>\n",
       "      <td>0</td>\n",
       "      <td>5</td>\n",
       "      <td>261</td>\n",
       "      <td>1</td>\n",
       "      <td>-1</td>\n",
       "      <td>0</td>\n",
       "      <td>...</td>\n",
       "      <td>0</td>\n",
       "      <td>0</td>\n",
       "      <td>0</td>\n",
       "      <td>0</td>\n",
       "      <td>1</td>\n",
       "      <td>0</td>\n",
       "      <td>0</td>\n",
       "      <td>0</td>\n",
       "      <td>1</td>\n",
       "      <td>0</td>\n",
       "    </tr>\n",
       "    <tr>\n",
       "      <th>1</th>\n",
       "      <td>44</td>\n",
       "      <td>0</td>\n",
       "      <td>29</td>\n",
       "      <td>1</td>\n",
       "      <td>0</td>\n",
       "      <td>5</td>\n",
       "      <td>151</td>\n",
       "      <td>1</td>\n",
       "      <td>-1</td>\n",
       "      <td>0</td>\n",
       "      <td>...</td>\n",
       "      <td>0</td>\n",
       "      <td>0</td>\n",
       "      <td>0</td>\n",
       "      <td>1</td>\n",
       "      <td>0</td>\n",
       "      <td>0</td>\n",
       "      <td>0</td>\n",
       "      <td>0</td>\n",
       "      <td>1</td>\n",
       "      <td>0</td>\n",
       "    </tr>\n",
       "    <tr>\n",
       "      <th>2</th>\n",
       "      <td>33</td>\n",
       "      <td>0</td>\n",
       "      <td>2</td>\n",
       "      <td>1</td>\n",
       "      <td>1</td>\n",
       "      <td>5</td>\n",
       "      <td>76</td>\n",
       "      <td>1</td>\n",
       "      <td>-1</td>\n",
       "      <td>0</td>\n",
       "      <td>...</td>\n",
       "      <td>0</td>\n",
       "      <td>0</td>\n",
       "      <td>0</td>\n",
       "      <td>1</td>\n",
       "      <td>0</td>\n",
       "      <td>0</td>\n",
       "      <td>0</td>\n",
       "      <td>0</td>\n",
       "      <td>1</td>\n",
       "      <td>0</td>\n",
       "    </tr>\n",
       "    <tr>\n",
       "      <th>3</th>\n",
       "      <td>47</td>\n",
       "      <td>0</td>\n",
       "      <td>1506</td>\n",
       "      <td>1</td>\n",
       "      <td>0</td>\n",
       "      <td>5</td>\n",
       "      <td>92</td>\n",
       "      <td>1</td>\n",
       "      <td>-1</td>\n",
       "      <td>0</td>\n",
       "      <td>...</td>\n",
       "      <td>0</td>\n",
       "      <td>0</td>\n",
       "      <td>0</td>\n",
       "      <td>1</td>\n",
       "      <td>0</td>\n",
       "      <td>0</td>\n",
       "      <td>0</td>\n",
       "      <td>0</td>\n",
       "      <td>1</td>\n",
       "      <td>0</td>\n",
       "    </tr>\n",
       "    <tr>\n",
       "      <th>4</th>\n",
       "      <td>33</td>\n",
       "      <td>0</td>\n",
       "      <td>1</td>\n",
       "      <td>0</td>\n",
       "      <td>0</td>\n",
       "      <td>5</td>\n",
       "      <td>198</td>\n",
       "      <td>1</td>\n",
       "      <td>-1</td>\n",
       "      <td>0</td>\n",
       "      <td>...</td>\n",
       "      <td>0</td>\n",
       "      <td>0</td>\n",
       "      <td>0</td>\n",
       "      <td>1</td>\n",
       "      <td>0</td>\n",
       "      <td>0</td>\n",
       "      <td>0</td>\n",
       "      <td>0</td>\n",
       "      <td>1</td>\n",
       "      <td>0</td>\n",
       "    </tr>\n",
       "  </tbody>\n",
       "</table>\n",
       "<p>5 rows × 46 columns</p>\n",
       "</div>"
      ],
      "text/plain": [
       "   age  default  balance  housing  loan  day  duration  campaign  pdays  \\\n",
       "0   58        0     2143        1     0    5       261         1     -1   \n",
       "1   44        0       29        1     0    5       151         1     -1   \n",
       "2   33        0        2        1     1    5        76         1     -1   \n",
       "3   47        0     1506        1     0    5        92         1     -1   \n",
       "4   33        0        1        0     0    5       198         1     -1   \n",
       "\n",
       "   previous  ...  month_oct  month_sep  education_primary  \\\n",
       "0         0  ...          0          0                  0   \n",
       "1         0  ...          0          0                  0   \n",
       "2         0  ...          0          0                  0   \n",
       "3         0  ...          0          0                  0   \n",
       "4         0  ...          0          0                  0   \n",
       "\n",
       "   education_secondary  education_tertiary  poutcome_failure  poutcome_other  \\\n",
       "0                    0                   1                 0               0   \n",
       "1                    1                   0                 0               0   \n",
       "2                    1                   0                 0               0   \n",
       "3                    1                   0                 0               0   \n",
       "4                    1                   0                 0               0   \n",
       "\n",
       "   poutcome_success  poutcome_unknown  y  \n",
       "0                 0                 1  0  \n",
       "1                 0                 1  0  \n",
       "2                 0                 1  0  \n",
       "3                 0                 1  0  \n",
       "4                 0                 1  0  \n",
       "\n",
       "[5 rows x 46 columns]"
      ]
     },
     "execution_count": 69,
     "metadata": {},
     "output_type": "execute_result"
    }
   ],
   "source": [
    "X.head()"
   ]
  },
  {
   "cell_type": "code",
   "execution_count": 70,
   "id": "5e81a9f7-f68e-4a9e-b33b-dfa422776a5e",
   "metadata": {},
   "outputs": [],
   "source": [
    "X['campaign*duration']=X['campaign']*X['duration']"
   ]
  },
  {
   "cell_type": "code",
   "execution_count": 78,
   "id": "6d117411-4908-4dfd-b0c7-62c9a0ddaf9c",
   "metadata": {},
   "outputs": [
    {
     "data": {
      "text/html": [
       "<div>\n",
       "<style scoped>\n",
       "    .dataframe tbody tr th:only-of-type {\n",
       "        vertical-align: middle;\n",
       "    }\n",
       "\n",
       "    .dataframe tbody tr th {\n",
       "        vertical-align: top;\n",
       "    }\n",
       "\n",
       "    .dataframe thead th {\n",
       "        text-align: right;\n",
       "    }\n",
       "</style>\n",
       "<table border=\"1\" class=\"dataframe\">\n",
       "  <thead>\n",
       "    <tr style=\"text-align: right;\">\n",
       "      <th></th>\n",
       "      <th>campaign*duration</th>\n",
       "    </tr>\n",
       "    <tr>\n",
       "      <th>y</th>\n",
       "      <th></th>\n",
       "    </tr>\n",
       "  </thead>\n",
       "  <tbody>\n",
       "    <tr>\n",
       "      <th>0</th>\n",
       "      <td>25064676</td>\n",
       "    </tr>\n",
       "    <tr>\n",
       "      <th>1</th>\n",
       "      <td>4143950</td>\n",
       "    </tr>\n",
       "  </tbody>\n",
       "</table>\n",
       "</div>"
      ],
      "text/plain": [
       "   campaign*duration\n",
       "y                   \n",
       "0           25064676\n",
       "1            4143950"
      ]
     },
     "execution_count": 78,
     "metadata": {},
     "output_type": "execute_result"
    }
   ],
   "source": [
    "X.groupby('y')[['campaign*duration']].agg('sum')"
   ]
  },
  {
   "cell_type": "code",
   "execution_count": 71,
   "id": "78d55fc0-30c7-429a-86fc-cc66a682c6d9",
   "metadata": {},
   "outputs": [
    {
     "data": {
      "text/plain": [
       "1    8239\n",
       "Name: y, dtype: int64"
      ]
     },
     "execution_count": 71,
     "metadata": {},
     "output_type": "execute_result"
    }
   ],
   "source": [
    "a=X['y']==1\n",
    "X['y'][a].value_counts()"
   ]
  },
  {
   "cell_type": "code",
   "execution_count": 72,
   "id": "c28e165a-cd7b-40e3-bde6-8c3dfc6d830b",
   "metadata": {},
   "outputs": [
    {
     "data": {
      "text/plain": [
       "4143950"
      ]
     },
     "execution_count": 72,
     "metadata": {},
     "output_type": "execute_result"
    }
   ],
   "source": [
    "sum(X['campaign*duration'][a])"
   ]
  },
  {
   "cell_type": "code",
   "execution_count": 73,
   "id": "426433ad-ce39-43f5-be2b-9c02f9f62b90",
   "metadata": {},
   "outputs": [
    {
     "data": {
      "text/plain": [
       "87.85174"
      ]
     },
     "execution_count": 73,
     "metadata": {},
     "output_type": "execute_result"
    }
   ],
   "source": [
    "#after implemented model\n",
    "sum(X['campaign*duration'][a])*21.2/10**6"
   ]
  },
  {
   "cell_type": "code",
   "execution_count": 74,
   "id": "b3e81bf4-5171-4cef-a861-ab446218d33a",
   "metadata": {},
   "outputs": [
    {
     "data": {
      "text/plain": [
       "619.2228711999999"
      ]
     },
     "execution_count": 74,
     "metadata": {},
     "output_type": "execute_result"
    }
   ],
   "source": [
    "#before implemented model\n",
    "sum(df['campaign*duration'])*21.2/10**6"
   ]
  },
  {
   "cell_type": "code",
   "execution_count": 75,
   "id": "106b9296-9940-439d-aff4-f12b2e5e7472",
   "metadata": {},
   "outputs": [
    {
     "data": {
      "text/plain": [
       "531.3711311999998"
      ]
     },
     "execution_count": 75,
     "metadata": {},
     "output_type": "execute_result"
    }
   ],
   "source": [
    "#selisih cost\n",
    "sum(df['campaign*duration'])*21.2/10**6 - sum(X['campaign*duration'][a])*21.2/10**6 #jutarupiah"
   ]
  },
  {
   "cell_type": "code",
   "execution_count": 76,
   "id": "9f074156-d529-4de5-8032-2207f1d854e1",
   "metadata": {},
   "outputs": [
    {
     "data": {
      "text/plain": [
       "117.07749502741538"
      ]
     },
     "execution_count": 76,
     "metadata": {},
     "output_type": "execute_result"
    }
   ],
   "source": [
    "#cost before implemented model #CPA total pengeluaran marketing dibagi dengan total customer yang subscribe deposit\n",
    "(sum(df['campaign*duration'])*21.2/10**3)/5289#ribu rupiah/ "
   ]
  },
  {
   "cell_type": "code",
   "execution_count": 77,
   "id": "7a28cbee-cca6-4154-98ef-c543b2f02d41",
   "metadata": {},
   "outputs": [
    {
     "data": {
      "text/plain": [
       "21.287070511267267"
      ]
     },
     "execution_count": 77,
     "metadata": {},
     "output_type": "execute_result"
    }
   ],
   "source": [
    "#cost afer implemented model\n",
    "(sum(X['campaign*duration'][a])*21.2/10**3)/4127#ribu rupiah"
   ]
  },
  {
   "cell_type": "markdown",
   "id": "4c4d0685-b96b-4b07-b4ce-e0b353803b0f",
   "metadata": {},
   "source": [
    "## KNN"
   ]
  },
  {
   "cell_type": "markdown",
   "id": "c07beccb-edb6-4b52-88d0-a4115c23479d",
   "metadata": {},
   "source": [
    "### Model Evaluation"
   ]
  },
  {
   "cell_type": "code",
   "execution_count": 79,
   "id": "7ba32ca3-62c7-413d-8cb1-14b3c4854b41",
   "metadata": {},
   "outputs": [
    {
     "name": "stdout",
     "output_type": "stream",
     "text": [
      "Threshold=0.201, F-Score=0.43565\n",
      "eval test model\n",
      "Accuracy (Test Set): 0.90\n",
      "Precision (Test Set): 0.43\n",
      "Recall (Test Set): 0.44\n",
      "F1-Score (Test Set): 0.44\n",
      "AUC: 0.79\n",
      "Threshold=0.201, F-Score=0.43565\n",
      "eval train model\n",
      "Accuracy (Train Set): 0.93\n",
      "Precision (Train Set): 0.62\n",
      "Recall (Train Set): 0.67\n",
      "F1-Score (Train Set): 0.64\n",
      "AUC: 0.96\n"
     ]
    },
    {
     "data": {
      "image/png": "[encoded data removed]",
      "text/plain": [
       "<Figure size 432x288 with 1 Axes>"
      ]
     },
     "metadata": {
      "needs_background": "light"
     },
     "output_type": "display_data"
    }
   ],
   "source": [
    "from sklearn.neighbors import KNeighborsClassifier\n",
    "#knn = KNeighborsClassifier()\n",
    "\n",
    "\n",
    "knn = KNeighborsClassifier(algorithm='auto')\n",
    "#knn = KNeighborsClassifier(n_neighbors=120)\n",
    "\n",
    "knn_model = knn.fit(X_train, np.ravel(y_train))\n",
    "eval_classification(knn_model, X_train, y_train, X_test, y_test)"
   ]
  },
  {
   "cell_type": "markdown",
   "id": "7167ed48-019e-4542-bbd8-d4f668441f2c",
   "metadata": {},
   "source": [
    "### Hyperparameter Tuning"
   ]
  },
  {
   "cell_type": "code",
   "execution_count": 80,
   "id": "f3bcfd93-4916-418d-9473-ccdb02ea589a",
   "metadata": {},
   "outputs": [
    {
     "name": "stdout",
     "output_type": "stream",
     "text": [
      "k: 1; auc(train): 1.0; auc(test): 0.6285099722486293\n",
      "k: 13; auc(train): 0.9379608281921311; auc(test): 0.8509799936196387\n",
      "k: 25; auc(train): 0.925437410804482; auc(test): 0.8697759191507932\n",
      "k: 37; auc(train): 0.9187704187536216; auc(test): 0.8789654532243765\n",
      "k: 49; auc(train): 0.9140059816398104; auc(test): 0.8829611278088794\n",
      "k: 61; auc(train): 0.9116073760486995; auc(test): 0.8853345581919891\n",
      "k: 73; auc(train): 0.9087060085188824; auc(test): 0.8863447464980032\n",
      "k: 85; auc(train): 0.906131929227015; auc(test): 0.8880730988817298\n",
      "k: 97; auc(train): 0.9043893611358479; auc(test): 0.8871595229026162\n",
      "k: 109; auc(train): 0.9030968921360447; auc(test): 0.8870391709371344\n",
      "k: 121; auc(train): 0.9012728177551033; auc(test): 0.8861092706222772\n",
      "k: 133; auc(train): 0.8997989838285564; auc(test): 0.8852661666938738\n",
      "k: 145; auc(train): 0.8985727604867311; auc(test): 0.8844563516069868\n",
      "k: 157; auc(train): 0.8972896137629295; auc(test): 0.8843053248276075\n",
      "k: 170; auc(train): 0.8962047327149827; auc(test): 0.8839521110140186\n"
     ]
    }
   ],
   "source": [
    "train_score = []\n",
    "test_score = []\n",
    "\n",
    "values = [int(x) for x in np.linspace(1, 170, num=15)]\n",
    "\n",
    "from sklearn.neighbors import KNeighborsClassifier\n",
    "for x in values:\n",
    "    model = KNeighborsClassifier(algorithm='auto', n_neighbors=x)\n",
    "    model.fit(X_train, np.ravel(y_train))\n",
    "    \n",
    "    # eval test\n",
    "    y_pred_proba = model.predict_proba(X_test)\n",
    "    auc_test = roc_auc_score(y_test, y_pred_proba[:,1])\n",
    "    test_score.append(auc_test)\n",
    "    \n",
    "    # eval train\n",
    "    y_pred_proba_train = model.predict_proba(X_train)\n",
    "    auc_train = roc_auc_score(y_train, y_pred_proba_train[:,1])\n",
    "    train_score.append(auc_train)\n",
    "    \n",
    "    print('k: '+ str(x) + '; auc(train): '+ str(auc_train) + '; auc(test): ' + str(auc_test))"
   ]
  },
  {
   "cell_type": "code",
   "execution_count": 81,
   "id": "554db7ed-3948-48fc-a72a-fd09decc7654",
   "metadata": {},
   "outputs": [
    {
     "data": {
      "image/png": "[encoded data removed]",
      "text/plain": [
       "<Figure size 432x288 with 1 Axes>"
      ]
     },
     "metadata": {
      "needs_background": "light"
     },
     "output_type": "display_data"
    }
   ],
   "source": [
    "from matplotlib import pyplot as plt\n",
    "\n",
    "fig, ax = plt.subplots(figsize=(6, 4))\n",
    "#ax.set_xlabel('age, balance, day, duration, campaign, previous, loans, housings,\\n contact_cellular, contact_telephone, contact_unknown')\n",
    "\n",
    "plt.plot(values, train_score, label='score train')\n",
    "plt.plot(values, test_score, label='score test')\n",
    "plt.legend()\n",
    "plt.show()"
   ]
  },
  {
   "cell_type": "code",
   "execution_count": 82,
   "id": "b7123410-058d-428b-9bef-94cc46866c25",
   "metadata": {},
   "outputs": [
    {
     "name": "stdout",
     "output_type": "stream",
     "text": [
      "Threshold=0.147, F-Score=0.46597\n",
      "eval test model\n",
      "Accuracy (Test Set): 0.88\n",
      "Precision (Test Set): 0.37\n",
      "Recall (Test Set): 0.62\n",
      "F1-Score (Test Set): 0.47\n",
      "AUC: 0.88\n",
      "Threshold=0.147, F-Score=0.46597\n",
      "eval train model\n",
      "Accuracy (Train Set): 0.88\n",
      "Precision (Train Set): 0.41\n",
      "Recall (Train Set): 0.63\n",
      "F1-Score (Train Set): 0.50\n",
      "AUC: 0.90\n"
     ]
    },
    {
     "data": {
      "image/png": "[encoded data removed]",
      "text/plain": [
       "<Figure size 432x288 with 1 Axes>"
      ]
     },
     "metadata": {
      "needs_background": "light"
     },
     "output_type": "display_data"
    }
   ],
   "source": [
    "from sklearn.neighbors import KNeighborsClassifier\n",
    "#knn = KNeighborsClassifier()\n",
    "\n",
    "knn = KNeighborsClassifier(algorithm='auto', n_neighbors=157)\n",
    "\n",
    "knn_model = knn.fit(X_train, np.ravel(y_train))\n",
    "eval_classification(knn_model, X_train, y_train, X_test, y_test)"
   ]
  },
  {
   "cell_type": "markdown",
   "id": "2b2f0295-b15c-411a-bf7b-d117b2fba883",
   "metadata": {},
   "source": [
    "## Random Forest"
   ]
  },
  {
   "cell_type": "markdown",
   "id": "2a6bf676-c5bf-4c2e-a44d-5c23fc1d52c0",
   "metadata": {},
   "source": [
    "### Model Evaluation"
   ]
  },
  {
   "cell_type": "code",
   "execution_count": 83,
   "id": "68d4ffa3-4a45-488d-aec6-ccda0c6d3b59",
   "metadata": {},
   "outputs": [
    {
     "name": "stdout",
     "output_type": "stream",
     "text": [
      "Threshold=0.221, F-Score=0.53915\n",
      "eval test model\n",
      "Accuracy (Test Set): 0.89\n",
      "Precision (Test Set): 0.43\n",
      "Recall (Test Set): 0.73\n",
      "F1-Score (Test Set): 0.54\n",
      "AUC: 0.91\n",
      "Threshold=0.361, F-Score=0.50000\n",
      "eval train model\n",
      "Accuracy (Train Set): 1.00\n",
      "Precision (Train Set): 1.00\n",
      "Recall (Train Set): 1.00\n",
      "F1-Score (Train Set): 1.00\n",
      "AUC: 1.00\n"
     ]
    },
    {
     "data": {
      "image/png": "[encoded data removed]",
      "text/plain": [
       "<Figure size 432x288 with 1 Axes>"
      ]
     },
     "metadata": {
      "needs_background": "light"
     },
     "output_type": "display_data"
    }
   ],
   "source": [
    "from sklearn.ensemble import RandomForestClassifier\n",
    "\n",
    "rf = RandomForestClassifier()\n",
    "rf_model = rf.fit(X_train, y_train)\n",
    "eval_classification(rf_model, X_train, y_train, X_test, y_test)"
   ]
  },
  {
   "cell_type": "markdown",
   "id": "c86b0483-0ba1-425d-93fe-2aeaf072c9e8",
   "metadata": {},
   "source": [
    "### Hyperparameter Tuning"
   ]
  },
  {
   "cell_type": "code",
   "execution_count": 84,
   "id": "9e8f1312-f0b6-463e-8973-43d1daefb9c3",
   "metadata": {},
   "outputs": [
    {
     "data": {
      "text/plain": [
       "RandomizedSearchCV(cv=10, error_score='raise',\n",
       "                   estimator=RandomForestClassifier(),\n",
       "                   param_distributions={'criterion': ['gini', 'entropy'],\n",
       "                                        'max_depth': [9, 10, 11, 12, 13],\n",
       "                                        'max_features': ['auto', 'sqrt',\n",
       "                                                         'log2'],\n",
       "                                        'min_samples_leaf': [2, 2, 3, 4, 5, 6,\n",
       "                                                             7, 8, 9, 10, 11,\n",
       "                                                             12, 13, 14, 15, 16,\n",
       "                                                             17, 18, 19, 20],\n",
       "                                        'min_samples_split': [2, 2, 3, 4, 5, 6,\n",
       "                                                              7, 8, 9, 10, 11,\n",
       "                                                              12, 13, 14, 15,\n",
       "                                                              16, 17, 18, 19,\n",
       "                                                              20, 21, 22, 23,\n",
       "                                                              24, 25, 26, 27,\n",
       "                                                              28, 29, 30, ...],\n",
       "                                        'n_estimators': [40, 50, 60, 70, 80, 90,\n",
       "                                                         100, 120, 150, 200]},\n",
       "                   random_state=42, scoring='roc_auc')"
      ]
     },
     "execution_count": 84,
     "metadata": {},
     "output_type": "execute_result"
    }
   ],
   "source": [
    "from sklearn.model_selection import RandomizedSearchCV, GridSearchCV\n",
    "\n",
    "hyperparameters=dict(\n",
    "                    n_estimators = [40,50,60,70,80,90,100,120,150,200],\n",
    "                    criterion = ['gini', 'entropy'],\n",
    "                    max_depth = [9,10,11,12,13],\n",
    "                    min_samples_split = [int(x) for x in np.linspace(2,40, num=40)],\n",
    "                    min_samples_leaf = [int(x) for x in np.linspace(2,20, num=20)],\n",
    "                    max_features = ['auto','sqrt','log2'],\n",
    "                    )\n",
    "\n",
    "rf = RandomForestClassifier()\n",
    "model = RandomizedSearchCV(rf, hyperparameters, random_state=42, cv=10, scoring='roc_auc',error_score='raise')\n",
    "model.fit(X_train, y_train)"
   ]
  },
  {
   "cell_type": "code",
   "execution_count": 85,
   "id": "b3c6cc97-4ea4-4a59-b9ef-c6aba11f0398",
   "metadata": {},
   "outputs": [
    {
     "name": "stdout",
     "output_type": "stream",
     "text": [
      "Threshold=0.248, F-Score=0.52606\n",
      "eval test model\n",
      "Accuracy (Test Set): 0.91\n",
      "Precision (Test Set): 0.48\n",
      "Recall (Test Set): 0.58\n",
      "F1-Score (Test Set): 0.53\n",
      "AUC: 0.91\n",
      "Threshold=0.242, F-Score=0.52210\n",
      "eval train model\n",
      "Accuracy (Train Set): 0.92\n",
      "Precision (Train Set): 0.54\n",
      "Recall (Train Set): 0.67\n",
      "F1-Score (Train Set): 0.60\n",
      "AUC: 0.94\n"
     ]
    },
    {
     "data": {
      "image/png": "[encoded data removed]",
      "text/plain": [
       "<Figure size 432x288 with 1 Axes>"
      ]
     },
     "metadata": {
      "needs_background": "light"
     },
     "output_type": "display_data"
    }
   ],
   "source": [
    "# Predict & Evaluation\n",
    "y_pred = model.predict(X_test)#Check performa dari model\n",
    "eval_classification(model, X_train, y_train, X_test, y_test)"
   ]
  },
  {
   "cell_type": "code",
   "execution_count": 86,
   "id": "a1098973-58e2-4d91-866a-9ed452277ddf",
   "metadata": {},
   "outputs": [
    {
     "data": {
      "text/plain": [
       "{'bootstrap': True,\n",
       " 'ccp_alpha': 0.0,\n",
       " 'class_weight': None,\n",
       " 'criterion': 'entropy',\n",
       " 'max_depth': 10,\n",
       " 'max_features': 'auto',\n",
       " 'max_leaf_nodes': None,\n",
       " 'max_samples': None,\n",
       " 'min_impurity_decrease': 0.0,\n",
       " 'min_samples_leaf': 8,\n",
       " 'min_samples_split': 7,\n",
       " 'min_weight_fraction_leaf': 0.0,\n",
       " 'n_estimators': 120,\n",
       " 'n_jobs': None,\n",
       " 'oob_score': False,\n",
       " 'random_state': None,\n",
       " 'verbose': 0,\n",
       " 'warm_start': False}"
      ]
     },
     "execution_count": 86,
     "metadata": {},
     "output_type": "execute_result"
    }
   ],
   "source": [
    "model.best_estimator_.get_params()"
   ]
  },
  {
   "cell_type": "markdown",
   "id": "f9317323-07cc-43d7-9b68-29820d19508f",
   "metadata": {},
   "source": [
    "### Feature Importance"
   ]
  },
  {
   "cell_type": "code",
   "execution_count": 87,
   "id": "63e70c1a-d5a4-4276-98a2-5c91db3b0f41",
   "metadata": {},
   "outputs": [],
   "source": [
    "feature = pd.DataFrame(data = rf_model.feature_importances_,\n",
    "                       index= X_train.columns.tolist()).reset_index()"
   ]
  },
  {
   "cell_type": "code",
   "execution_count": 88,
   "id": "973abf4b-c6a6-42f0-9766-8c55c4994ff1",
   "metadata": {},
   "outputs": [
    {
     "data": {
      "text/plain": [
       "<AxesSubplot:xlabel='0', ylabel='index'>"
      ]
     },
     "execution_count": 88,
     "metadata": {},
     "output_type": "execute_result"
    },
    {
     "data": {
      "image/png": "[encoded data removed]",
      "text/plain": [
       "<Figure size 720x576 with 1 Axes>"
      ]
     },
     "metadata": {
      "needs_background": "light"
     },
     "output_type": "display_data"
    }
   ],
   "source": [
    "plt.figure(figsize=(10,8))\n",
    "sns.barplot(y=feature['index'],x=feature[0],data=feature,orient='h')"
   ]
  },
  {
   "cell_type": "code",
   "execution_count": null,
   "id": "e5afb7cb-151e-46a3-a587-994a74a25add",
   "metadata": {},
   "outputs": [],
   "source": []
  }
 ],
 "metadata": {
  "kernelspec": {
   "display_name": "Python 3 (ipykernel)",
   "language": "python",
   "name": "python3"
  },
  "language_info": {
   "codemirror_mode": {
    "name": "ipython",
    "version": 3
   },
   "file_extension": ".py",
   "mimetype": "text/x-python",
   "name": "python",
   "nbconvert_exporter": "python",
   "pygments_lexer": "ipython3",
   "version": "3.9.7"
  }
 },
 "nbformat": 4,
 "nbformat_minor": 5
}
