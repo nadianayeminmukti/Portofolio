{
 "cells": [
  {
   "cell_type": "markdown",
   "id": "0e484b04-19c3-4ea3-81ab-3fb6e921fd9a",
   "metadata": {},
   "source": [
    "# Import Library"
   ]
  },
  {
   "cell_type": "code",
   "execution_count": 1,
   "id": "949e8d2d-4348-4f8c-a137-d944fcdb58cd",
   "metadata": {},
   "outputs": [],
   "source": [
    "import numpy as np\n",
    "import pandas as pd\n",
    "import matplotlib.pyplot as plt\n",
    "import seaborn as sns"
   ]
  },
  {
   "cell_type": "markdown",
   "id": "e89af001-b6e7-4765-9b83-4e90ba4315a9",
   "metadata": {},
   "source": [
    "# Import Data"
   ]
  },
  {
   "cell_type": "code",
   "execution_count": 2,
   "id": "c87081b9-f85e-45d4-953a-dfa3cf43df92",
   "metadata": {},
   "outputs": [],
   "source": [
    "df = pd.read_excel('C:/Users/Nadiana Yemin Mukti/Documents/SDN Sukamulya 2/raw data/nilai_kelas_x_unsupervised.xlsx')"
   ]
  },
  {
   "cell_type": "markdown",
   "id": "5ffa7c9a-ac67-4467-a4a5-60b29732cd52",
   "metadata": {},
   "source": [
    "## Cuplikan Data"
   ]
  },
  {
   "cell_type": "code",
   "execution_count": 3,
   "id": "3357a7df-4c1b-47b2-bdde-b230f8580929",
   "metadata": {},
   "outputs": [
    {
     "data": {
      "text/html": [
       "<div>\n",
       "<style scoped>\n",
       "    .dataframe tbody tr th:only-of-type {\n",
       "        vertical-align: middle;\n",
       "    }\n",
       "\n",
       "    .dataframe tbody tr th {\n",
       "        vertical-align: top;\n",
       "    }\n",
       "\n",
       "    .dataframe thead th {\n",
       "        text-align: right;\n",
       "    }\n",
       "</style>\n",
       "<table border=\"1\" class=\"dataframe\">\n",
       "  <thead>\n",
       "    <tr style=\"text-align: right;\">\n",
       "      <th></th>\n",
       "      <th>Nama</th>\n",
       "      <th>p_pai</th>\n",
       "      <th>p_pkn</th>\n",
       "      <th>p_indo</th>\n",
       "      <th>p_mtk</th>\n",
       "      <th>p_ipa</th>\n",
       "      <th>p_ips</th>\n",
       "      <th>p_pjok</th>\n",
       "      <th>p_sbk</th>\n",
       "      <th>p_sunda</th>\n",
       "      <th>k_pai</th>\n",
       "      <th>k_pkn</th>\n",
       "      <th>k_indo</th>\n",
       "      <th>k_mtk</th>\n",
       "      <th>k_ipa</th>\n",
       "      <th>k_ips</th>\n",
       "      <th>k_pjok</th>\n",
       "      <th>k_sbk</th>\n",
       "      <th>k_sunda</th>\n",
       "    </tr>\n",
       "  </thead>\n",
       "  <tbody>\n",
       "    <tr>\n",
       "      <th>6</th>\n",
       "      <td>ns93</td>\n",
       "      <td>96</td>\n",
       "      <td>95</td>\n",
       "      <td>94</td>\n",
       "      <td>97</td>\n",
       "      <td>NaN</td>\n",
       "      <td>NaN</td>\n",
       "      <td>89</td>\n",
       "      <td>86</td>\n",
       "      <td>94</td>\n",
       "      <td>96</td>\n",
       "      <td>92</td>\n",
       "      <td>96</td>\n",
       "      <td>92</td>\n",
       "      <td>NaN</td>\n",
       "      <td>NaN</td>\n",
       "      <td>77</td>\n",
       "      <td>85</td>\n",
       "      <td>95</td>\n",
       "    </tr>\n",
       "    <tr>\n",
       "      <th>3</th>\n",
       "      <td>ns58</td>\n",
       "      <td>88</td>\n",
       "      <td>86</td>\n",
       "      <td>86</td>\n",
       "      <td>88</td>\n",
       "      <td>NaN</td>\n",
       "      <td>NaN</td>\n",
       "      <td>81</td>\n",
       "      <td>78</td>\n",
       "      <td>78</td>\n",
       "      <td>88</td>\n",
       "      <td>75</td>\n",
       "      <td>75</td>\n",
       "      <td>70</td>\n",
       "      <td>NaN</td>\n",
       "      <td>NaN</td>\n",
       "      <td>72</td>\n",
       "      <td>70</td>\n",
       "      <td>90</td>\n",
       "    </tr>\n",
       "    <tr>\n",
       "      <th>2</th>\n",
       "      <td>ns33</td>\n",
       "      <td>92</td>\n",
       "      <td>85</td>\n",
       "      <td>86</td>\n",
       "      <td>84</td>\n",
       "      <td>NaN</td>\n",
       "      <td>NaN</td>\n",
       "      <td>80</td>\n",
       "      <td>84</td>\n",
       "      <td>91</td>\n",
       "      <td>92</td>\n",
       "      <td>96</td>\n",
       "      <td>85</td>\n",
       "      <td>75</td>\n",
       "      <td>NaN</td>\n",
       "      <td>NaN</td>\n",
       "      <td>70</td>\n",
       "      <td>95</td>\n",
       "      <td>95</td>\n",
       "    </tr>\n",
       "    <tr>\n",
       "      <th>25</th>\n",
       "      <td>ns182</td>\n",
       "      <td>75</td>\n",
       "      <td>70</td>\n",
       "      <td>70</td>\n",
       "      <td>70</td>\n",
       "      <td>NaN</td>\n",
       "      <td>NaN</td>\n",
       "      <td>70</td>\n",
       "      <td>70</td>\n",
       "      <td>70</td>\n",
       "      <td>70</td>\n",
       "      <td>70</td>\n",
       "      <td>70</td>\n",
       "      <td>70</td>\n",
       "      <td>NaN</td>\n",
       "      <td>NaN</td>\n",
       "      <td>70</td>\n",
       "      <td>70</td>\n",
       "      <td>70</td>\n",
       "    </tr>\n",
       "    <tr>\n",
       "      <th>10</th>\n",
       "      <td>ns110</td>\n",
       "      <td>92</td>\n",
       "      <td>92</td>\n",
       "      <td>78</td>\n",
       "      <td>70</td>\n",
       "      <td>NaN</td>\n",
       "      <td>NaN</td>\n",
       "      <td>70</td>\n",
       "      <td>70</td>\n",
       "      <td>90</td>\n",
       "      <td>92</td>\n",
       "      <td>80</td>\n",
       "      <td>81</td>\n",
       "      <td>89</td>\n",
       "      <td>NaN</td>\n",
       "      <td>NaN</td>\n",
       "      <td>77</td>\n",
       "      <td>70</td>\n",
       "      <td>88</td>\n",
       "    </tr>\n",
       "  </tbody>\n",
       "</table>\n",
       "</div>"
      ],
      "text/plain": [
       "     Nama  p_pai  p_pkn  p_indo  p_mtk  p_ipa  p_ips  p_pjok  p_sbk  p_sunda  \\\n",
       "6    ns93     96     95      94     97    NaN    NaN      89     86       94   \n",
       "3    ns58     88     86      86     88    NaN    NaN      81     78       78   \n",
       "2    ns33     92     85      86     84    NaN    NaN      80     84       91   \n",
       "25  ns182     75     70      70     70    NaN    NaN      70     70       70   \n",
       "10  ns110     92     92      78     70    NaN    NaN      70     70       90   \n",
       "\n",
       "    k_pai  k_pkn  k_indo  k_mtk  k_ipa  k_ips  k_pjok  k_sbk  k_sunda  \n",
       "6      96     92      96     92    NaN    NaN      77     85       95  \n",
       "3      88     75      75     70    NaN    NaN      72     70       90  \n",
       "2      92     96      85     75    NaN    NaN      70     95       95  \n",
       "25     70     70      70     70    NaN    NaN      70     70       70  \n",
       "10     92     80      81     89    NaN    NaN      77     70       88  "
      ]
     },
     "execution_count": 3,
     "metadata": {},
     "output_type": "execute_result"
    }
   ],
   "source": [
    "df.sample(5)"
   ]
  },
  {
   "cell_type": "markdown",
   "id": "989cd799-2d30-4084-afa1-5404df30b9a8",
   "metadata": {},
   "source": [
    "# Informasi Umum Data"
   ]
  },
  {
   "cell_type": "code",
   "execution_count": 4,
   "id": "ef5ba85f-0664-4ddf-98f4-6947efb93fdb",
   "metadata": {},
   "outputs": [
    {
     "name": "stdout",
     "output_type": "stream",
     "text": [
      "<class 'pandas.core.frame.DataFrame'>\n",
      "RangeIndex: 48 entries, 0 to 47\n",
      "Data columns (total 19 columns):\n",
      " #   Column   Non-Null Count  Dtype  \n",
      "---  ------   --------------  -----  \n",
      " 0   Nama     48 non-null     object \n",
      " 1   p_pai    48 non-null     int64  \n",
      " 2   p_pkn    48 non-null     int64  \n",
      " 3   p_indo   48 non-null     int64  \n",
      " 4   p_mtk    48 non-null     int64  \n",
      " 5   p_ipa    0 non-null      float64\n",
      " 6   p_ips    0 non-null      float64\n",
      " 7   p_pjok   48 non-null     int64  \n",
      " 8   p_sbk    48 non-null     int64  \n",
      " 9   p_sunda  48 non-null     int64  \n",
      " 10  k_pai    48 non-null     int64  \n",
      " 11  k_pkn    48 non-null     int64  \n",
      " 12  k_indo   48 non-null     int64  \n",
      " 13  k_mtk    48 non-null     int64  \n",
      " 14  k_ipa    0 non-null      float64\n",
      " 15  k_ips    0 non-null      float64\n",
      " 16  k_pjok   48 non-null     int64  \n",
      " 17  k_sbk    48 non-null     int64  \n",
      " 18  k_sunda  48 non-null     int64  \n",
      "dtypes: float64(4), int64(14), object(1)\n",
      "memory usage: 7.2+ KB\n"
     ]
    }
   ],
   "source": [
    "df.info()"
   ]
  },
  {
   "cell_type": "markdown",
   "id": "55e9c6b5-a539-4844-89ea-6361131e0897",
   "metadata": {},
   "source": [
    "# Statitics Summary"
   ]
  },
  {
   "cell_type": "code",
   "execution_count": 5,
   "id": "b720d347-904a-46b6-966a-2d206f097ef5",
   "metadata": {},
   "outputs": [
    {
     "data": {
      "text/html": [
       "<div>\n",
       "<style scoped>\n",
       "    .dataframe tbody tr th:only-of-type {\n",
       "        vertical-align: middle;\n",
       "    }\n",
       "\n",
       "    .dataframe tbody tr th {\n",
       "        vertical-align: top;\n",
       "    }\n",
       "\n",
       "    .dataframe thead th {\n",
       "        text-align: right;\n",
       "    }\n",
       "</style>\n",
       "<table border=\"1\" class=\"dataframe\">\n",
       "  <thead>\n",
       "    <tr style=\"text-align: right;\">\n",
       "      <th></th>\n",
       "      <th>p_pai</th>\n",
       "      <th>p_pkn</th>\n",
       "      <th>p_indo</th>\n",
       "      <th>p_mtk</th>\n",
       "      <th>p_ipa</th>\n",
       "      <th>p_ips</th>\n",
       "      <th>p_pjok</th>\n",
       "      <th>p_sbk</th>\n",
       "      <th>p_sunda</th>\n",
       "      <th>k_pai</th>\n",
       "      <th>k_pkn</th>\n",
       "      <th>k_indo</th>\n",
       "      <th>k_mtk</th>\n",
       "      <th>k_ipa</th>\n",
       "      <th>k_ips</th>\n",
       "      <th>k_pjok</th>\n",
       "      <th>k_sbk</th>\n",
       "      <th>k_sunda</th>\n",
       "    </tr>\n",
       "  </thead>\n",
       "  <tbody>\n",
       "    <tr>\n",
       "      <th>count</th>\n",
       "      <td>48.000000</td>\n",
       "      <td>48.000000</td>\n",
       "      <td>48.000000</td>\n",
       "      <td>48.000000</td>\n",
       "      <td>0.0</td>\n",
       "      <td>0.0</td>\n",
       "      <td>48.000000</td>\n",
       "      <td>48.000000</td>\n",
       "      <td>48.000000</td>\n",
       "      <td>48.000000</td>\n",
       "      <td>48.000000</td>\n",
       "      <td>48.000000</td>\n",
       "      <td>48.000000</td>\n",
       "      <td>0.0</td>\n",
       "      <td>0.0</td>\n",
       "      <td>48.000000</td>\n",
       "      <td>48.000000</td>\n",
       "      <td>48.000000</td>\n",
       "    </tr>\n",
       "    <tr>\n",
       "      <th>mean</th>\n",
       "      <td>83.333333</td>\n",
       "      <td>82.083333</td>\n",
       "      <td>84.166667</td>\n",
       "      <td>85.479167</td>\n",
       "      <td>NaN</td>\n",
       "      <td>NaN</td>\n",
       "      <td>83.208333</td>\n",
       "      <td>80.833333</td>\n",
       "      <td>83.500000</td>\n",
       "      <td>83.270833</td>\n",
       "      <td>86.958333</td>\n",
       "      <td>81.979167</td>\n",
       "      <td>82.020833</td>\n",
       "      <td>NaN</td>\n",
       "      <td>NaN</td>\n",
       "      <td>77.375000</td>\n",
       "      <td>87.562500</td>\n",
       "      <td>86.937500</td>\n",
       "    </tr>\n",
       "    <tr>\n",
       "      <th>std</th>\n",
       "      <td>8.169308</td>\n",
       "      <td>6.337438</td>\n",
       "      <td>6.281799</td>\n",
       "      <td>6.215936</td>\n",
       "      <td>NaN</td>\n",
       "      <td>NaN</td>\n",
       "      <td>5.607587</td>\n",
       "      <td>4.655508</td>\n",
       "      <td>5.469451</td>\n",
       "      <td>8.276446</td>\n",
       "      <td>8.228023</td>\n",
       "      <td>7.108549</td>\n",
       "      <td>9.131404</td>\n",
       "      <td>NaN</td>\n",
       "      <td>NaN</td>\n",
       "      <td>6.846726</td>\n",
       "      <td>7.808632</td>\n",
       "      <td>15.842854</td>\n",
       "    </tr>\n",
       "    <tr>\n",
       "      <th>min</th>\n",
       "      <td>75.000000</td>\n",
       "      <td>70.000000</td>\n",
       "      <td>70.000000</td>\n",
       "      <td>70.000000</td>\n",
       "      <td>NaN</td>\n",
       "      <td>NaN</td>\n",
       "      <td>70.000000</td>\n",
       "      <td>70.000000</td>\n",
       "      <td>70.000000</td>\n",
       "      <td>70.000000</td>\n",
       "      <td>70.000000</td>\n",
       "      <td>70.000000</td>\n",
       "      <td>70.000000</td>\n",
       "      <td>NaN</td>\n",
       "      <td>NaN</td>\n",
       "      <td>70.000000</td>\n",
       "      <td>70.000000</td>\n",
       "      <td>0.000000</td>\n",
       "    </tr>\n",
       "    <tr>\n",
       "      <th>25%</th>\n",
       "      <td>75.000000</td>\n",
       "      <td>78.000000</td>\n",
       "      <td>80.000000</td>\n",
       "      <td>82.750000</td>\n",
       "      <td>NaN</td>\n",
       "      <td>NaN</td>\n",
       "      <td>80.000000</td>\n",
       "      <td>78.000000</td>\n",
       "      <td>79.000000</td>\n",
       "      <td>75.000000</td>\n",
       "      <td>80.000000</td>\n",
       "      <td>75.000000</td>\n",
       "      <td>70.000000</td>\n",
       "      <td>NaN</td>\n",
       "      <td>NaN</td>\n",
       "      <td>70.000000</td>\n",
       "      <td>85.000000</td>\n",
       "      <td>83.750000</td>\n",
       "    </tr>\n",
       "    <tr>\n",
       "      <th>50%</th>\n",
       "      <td>84.000000</td>\n",
       "      <td>81.000000</td>\n",
       "      <td>85.000000</td>\n",
       "      <td>86.000000</td>\n",
       "      <td>NaN</td>\n",
       "      <td>NaN</td>\n",
       "      <td>83.000000</td>\n",
       "      <td>81.500000</td>\n",
       "      <td>83.000000</td>\n",
       "      <td>84.000000</td>\n",
       "      <td>90.000000</td>\n",
       "      <td>80.000000</td>\n",
       "      <td>83.500000</td>\n",
       "      <td>NaN</td>\n",
       "      <td>NaN</td>\n",
       "      <td>77.000000</td>\n",
       "      <td>90.000000</td>\n",
       "      <td>95.000000</td>\n",
       "    </tr>\n",
       "    <tr>\n",
       "      <th>75%</th>\n",
       "      <td>92.000000</td>\n",
       "      <td>85.250000</td>\n",
       "      <td>88.250000</td>\n",
       "      <td>89.250000</td>\n",
       "      <td>NaN</td>\n",
       "      <td>NaN</td>\n",
       "      <td>87.250000</td>\n",
       "      <td>84.000000</td>\n",
       "      <td>86.750000</td>\n",
       "      <td>92.000000</td>\n",
       "      <td>92.750000</td>\n",
       "      <td>86.250000</td>\n",
       "      <td>90.000000</td>\n",
       "      <td>NaN</td>\n",
       "      <td>NaN</td>\n",
       "      <td>82.000000</td>\n",
       "      <td>95.000000</td>\n",
       "      <td>95.000000</td>\n",
       "    </tr>\n",
       "    <tr>\n",
       "      <th>max</th>\n",
       "      <td>96.000000</td>\n",
       "      <td>95.000000</td>\n",
       "      <td>96.000000</td>\n",
       "      <td>97.000000</td>\n",
       "      <td>NaN</td>\n",
       "      <td>NaN</td>\n",
       "      <td>94.000000</td>\n",
       "      <td>90.000000</td>\n",
       "      <td>94.000000</td>\n",
       "      <td>96.000000</td>\n",
       "      <td>98.000000</td>\n",
       "      <td>96.000000</td>\n",
       "      <td>96.000000</td>\n",
       "      <td>NaN</td>\n",
       "      <td>NaN</td>\n",
       "      <td>92.000000</td>\n",
       "      <td>98.000000</td>\n",
       "      <td>98.000000</td>\n",
       "    </tr>\n",
       "  </tbody>\n",
       "</table>\n",
       "</div>"
      ],
      "text/plain": [
       "           p_pai      p_pkn     p_indo      p_mtk  p_ipa  p_ips     p_pjok  \\\n",
       "count  48.000000  48.000000  48.000000  48.000000    0.0    0.0  48.000000   \n",
       "mean   83.333333  82.083333  84.166667  85.479167    NaN    NaN  83.208333   \n",
       "std     8.169308   6.337438   6.281799   6.215936    NaN    NaN   5.607587   \n",
       "min    75.000000  70.000000  70.000000  70.000000    NaN    NaN  70.000000   \n",
       "25%    75.000000  78.000000  80.000000  82.750000    NaN    NaN  80.000000   \n",
       "50%    84.000000  81.000000  85.000000  86.000000    NaN    NaN  83.000000   \n",
       "75%    92.000000  85.250000  88.250000  89.250000    NaN    NaN  87.250000   \n",
       "max    96.000000  95.000000  96.000000  97.000000    NaN    NaN  94.000000   \n",
       "\n",
       "           p_sbk    p_sunda      k_pai      k_pkn     k_indo      k_mtk  \\\n",
       "count  48.000000  48.000000  48.000000  48.000000  48.000000  48.000000   \n",
       "mean   80.833333  83.500000  83.270833  86.958333  81.979167  82.020833   \n",
       "std     4.655508   5.469451   8.276446   8.228023   7.108549   9.131404   \n",
       "min    70.000000  70.000000  70.000000  70.000000  70.000000  70.000000   \n",
       "25%    78.000000  79.000000  75.000000  80.000000  75.000000  70.000000   \n",
       "50%    81.500000  83.000000  84.000000  90.000000  80.000000  83.500000   \n",
       "75%    84.000000  86.750000  92.000000  92.750000  86.250000  90.000000   \n",
       "max    90.000000  94.000000  96.000000  98.000000  96.000000  96.000000   \n",
       "\n",
       "       k_ipa  k_ips     k_pjok      k_sbk    k_sunda  \n",
       "count    0.0    0.0  48.000000  48.000000  48.000000  \n",
       "mean     NaN    NaN  77.375000  87.562500  86.937500  \n",
       "std      NaN    NaN   6.846726   7.808632  15.842854  \n",
       "min      NaN    NaN  70.000000  70.000000   0.000000  \n",
       "25%      NaN    NaN  70.000000  85.000000  83.750000  \n",
       "50%      NaN    NaN  77.000000  90.000000  95.000000  \n",
       "75%      NaN    NaN  82.000000  95.000000  95.000000  \n",
       "max      NaN    NaN  92.000000  98.000000  98.000000  "
      ]
     },
     "execution_count": 5,
     "metadata": {},
     "output_type": "execute_result"
    }
   ],
   "source": [
    "df.describe()"
   ]
  },
  {
   "cell_type": "markdown",
   "id": "62694fc8-1029-489c-be6c-ad731c1902b9",
   "metadata": {},
   "source": [
    "Catatan: \n",
    "\n",
    "Terdapat kolom yang tidak berisi, drop kolom pelajaran tersebut."
   ]
  },
  {
   "cell_type": "markdown",
   "id": "caae7781-405d-4b23-914b-2e4df8cff520",
   "metadata": {},
   "source": [
    "# Penanganan Missing Value"
   ]
  },
  {
   "cell_type": "markdown",
   "id": "90f0b5f1-29e0-43f0-b34d-925a5af9e6b1",
   "metadata": {},
   "source": [
    "## Cek Data"
   ]
  },
  {
   "cell_type": "code",
   "execution_count": 6,
   "id": "f0bdacdd-55c2-4245-9a6a-694ea9912a13",
   "metadata": {},
   "outputs": [
    {
     "data": {
      "text/plain": [
       "Nama        0\n",
       "p_pai       0\n",
       "p_pkn       0\n",
       "p_indo      0\n",
       "p_mtk       0\n",
       "p_ipa      48\n",
       "p_ips      48\n",
       "p_pjok      0\n",
       "p_sbk       0\n",
       "p_sunda     0\n",
       "k_pai       0\n",
       "k_pkn       0\n",
       "k_indo      0\n",
       "k_mtk       0\n",
       "k_ipa      48\n",
       "k_ips      48\n",
       "k_pjok      0\n",
       "k_sbk       0\n",
       "k_sunda     0\n",
       "dtype: int64"
      ]
     },
     "execution_count": 6,
     "metadata": {},
     "output_type": "execute_result"
    }
   ],
   "source": [
    "df.isnull().sum()"
   ]
  },
  {
   "cell_type": "markdown",
   "id": "2ee95a7c-fdfc-4fb9-a437-edea2363ad0b",
   "metadata": {},
   "source": [
    "## Penanganan \n",
    "(drop columns)"
   ]
  },
  {
   "cell_type": "code",
   "execution_count": 7,
   "id": "d925170a-e474-4e2a-b6ba-a54727dbf43a",
   "metadata": {},
   "outputs": [],
   "source": [
    "df = df.dropna(axis=1)"
   ]
  },
  {
   "cell_type": "markdown",
   "id": "db635731-d140-434e-b3ce-cc87be5e820b",
   "metadata": {},
   "source": [
    "## Cuplikan Data Setelah Penanganan Missing Value"
   ]
  },
  {
   "cell_type": "code",
   "execution_count": 8,
   "id": "af570f1d-10eb-4893-975d-8aad924d8154",
   "metadata": {},
   "outputs": [
    {
     "data": {
      "text/html": [
       "<div>\n",
       "<style scoped>\n",
       "    .dataframe tbody tr th:only-of-type {\n",
       "        vertical-align: middle;\n",
       "    }\n",
       "\n",
       "    .dataframe tbody tr th {\n",
       "        vertical-align: top;\n",
       "    }\n",
       "\n",
       "    .dataframe thead th {\n",
       "        text-align: right;\n",
       "    }\n",
       "</style>\n",
       "<table border=\"1\" class=\"dataframe\">\n",
       "  <thead>\n",
       "    <tr style=\"text-align: right;\">\n",
       "      <th></th>\n",
       "      <th>Nama</th>\n",
       "      <th>p_pai</th>\n",
       "      <th>p_pkn</th>\n",
       "      <th>p_indo</th>\n",
       "      <th>p_mtk</th>\n",
       "      <th>p_pjok</th>\n",
       "      <th>p_sbk</th>\n",
       "      <th>p_sunda</th>\n",
       "      <th>k_pai</th>\n",
       "      <th>k_pkn</th>\n",
       "      <th>k_indo</th>\n",
       "      <th>k_mtk</th>\n",
       "      <th>k_pjok</th>\n",
       "      <th>k_sbk</th>\n",
       "      <th>k_sunda</th>\n",
       "    </tr>\n",
       "  </thead>\n",
       "  <tbody>\n",
       "    <tr>\n",
       "      <th>0</th>\n",
       "      <td>ns1</td>\n",
       "      <td>75</td>\n",
       "      <td>70</td>\n",
       "      <td>71</td>\n",
       "      <td>75</td>\n",
       "      <td>75</td>\n",
       "      <td>78</td>\n",
       "      <td>79</td>\n",
       "      <td>75</td>\n",
       "      <td>92</td>\n",
       "      <td>80</td>\n",
       "      <td>80</td>\n",
       "      <td>70</td>\n",
       "      <td>90</td>\n",
       "      <td>95</td>\n",
       "    </tr>\n",
       "    <tr>\n",
       "      <th>1</th>\n",
       "      <td>ns28</td>\n",
       "      <td>75</td>\n",
       "      <td>77</td>\n",
       "      <td>81</td>\n",
       "      <td>86</td>\n",
       "      <td>79</td>\n",
       "      <td>76</td>\n",
       "      <td>80</td>\n",
       "      <td>79</td>\n",
       "      <td>96</td>\n",
       "      <td>82</td>\n",
       "      <td>86</td>\n",
       "      <td>76</td>\n",
       "      <td>70</td>\n",
       "      <td>85</td>\n",
       "    </tr>\n",
       "    <tr>\n",
       "      <th>2</th>\n",
       "      <td>ns33</td>\n",
       "      <td>92</td>\n",
       "      <td>85</td>\n",
       "      <td>86</td>\n",
       "      <td>84</td>\n",
       "      <td>80</td>\n",
       "      <td>84</td>\n",
       "      <td>91</td>\n",
       "      <td>92</td>\n",
       "      <td>96</td>\n",
       "      <td>85</td>\n",
       "      <td>75</td>\n",
       "      <td>70</td>\n",
       "      <td>95</td>\n",
       "      <td>95</td>\n",
       "    </tr>\n",
       "    <tr>\n",
       "      <th>3</th>\n",
       "      <td>ns58</td>\n",
       "      <td>88</td>\n",
       "      <td>86</td>\n",
       "      <td>86</td>\n",
       "      <td>88</td>\n",
       "      <td>81</td>\n",
       "      <td>78</td>\n",
       "      <td>78</td>\n",
       "      <td>88</td>\n",
       "      <td>75</td>\n",
       "      <td>75</td>\n",
       "      <td>70</td>\n",
       "      <td>72</td>\n",
       "      <td>70</td>\n",
       "      <td>90</td>\n",
       "    </tr>\n",
       "    <tr>\n",
       "      <th>4</th>\n",
       "      <td>ns68</td>\n",
       "      <td>84</td>\n",
       "      <td>79</td>\n",
       "      <td>84</td>\n",
       "      <td>84</td>\n",
       "      <td>88</td>\n",
       "      <td>78</td>\n",
       "      <td>84</td>\n",
       "      <td>84</td>\n",
       "      <td>90</td>\n",
       "      <td>80</td>\n",
       "      <td>90</td>\n",
       "      <td>86</td>\n",
       "      <td>85</td>\n",
       "      <td>95</td>\n",
       "    </tr>\n",
       "  </tbody>\n",
       "</table>\n",
       "</div>"
      ],
      "text/plain": [
       "   Nama  p_pai  p_pkn  p_indo  p_mtk  p_pjok  p_sbk  p_sunda  k_pai  k_pkn  \\\n",
       "0   ns1     75     70      71     75      75     78       79     75     92   \n",
       "1  ns28     75     77      81     86      79     76       80     79     96   \n",
       "2  ns33     92     85      86     84      80     84       91     92     96   \n",
       "3  ns58     88     86      86     88      81     78       78     88     75   \n",
       "4  ns68     84     79      84     84      88     78       84     84     90   \n",
       "\n",
       "   k_indo  k_mtk  k_pjok  k_sbk  k_sunda  \n",
       "0      80     80      70     90       95  \n",
       "1      82     86      76     70       85  \n",
       "2      85     75      70     95       95  \n",
       "3      75     70      72     70       90  \n",
       "4      80     90      86     85       95  "
      ]
     },
     "execution_count": 8,
     "metadata": {},
     "output_type": "execute_result"
    }
   ],
   "source": [
    "df.head()"
   ]
  },
  {
   "cell_type": "markdown",
   "id": "8b4c9e8b-c3c5-4f70-acb6-bd774b6af903",
   "metadata": {},
   "source": [
    "# Standardisasi Data"
   ]
  },
  {
   "cell_type": "code",
   "execution_count": 9,
   "id": "ed5b5155-a218-42bc-8427-a55160063561",
   "metadata": {},
   "outputs": [],
   "source": [
    "feats = ['p_pai','p_pkn','p_indo','p_mtk','p_pjok','p_sbk','p_sunda','k_pai','k_pkn','k_indo','k_mtk','k_pjok','k_sbk','k_sunda']\n",
    "\n",
    "from sklearn.preprocessing import StandardScaler\n",
    "df_std = StandardScaler().fit_transform(df[feats])\n",
    "new_df = pd.DataFrame(data = df_std, columns = feats)"
   ]
  },
  {
   "cell_type": "markdown",
   "id": "af84503d-e219-4f7e-8d8e-436de1c7a5af",
   "metadata": {},
   "source": [
    "## Cuplikan Data Setelah Standardisasi"
   ]
  },
  {
   "cell_type": "code",
   "execution_count": 10,
   "id": "7b61f14a-69e5-4cae-99ee-a1577e67632c",
   "metadata": {},
   "outputs": [
    {
     "data": {
      "text/html": [
       "<div>\n",
       "<style scoped>\n",
       "    .dataframe tbody tr th:only-of-type {\n",
       "        vertical-align: middle;\n",
       "    }\n",
       "\n",
       "    .dataframe tbody tr th {\n",
       "        vertical-align: top;\n",
       "    }\n",
       "\n",
       "    .dataframe thead th {\n",
       "        text-align: right;\n",
       "    }\n",
       "</style>\n",
       "<table border=\"1\" class=\"dataframe\">\n",
       "  <thead>\n",
       "    <tr style=\"text-align: right;\">\n",
       "      <th></th>\n",
       "      <th>p_pai</th>\n",
       "      <th>p_pkn</th>\n",
       "      <th>p_indo</th>\n",
       "      <th>p_mtk</th>\n",
       "      <th>p_pjok</th>\n",
       "      <th>p_sbk</th>\n",
       "      <th>p_sunda</th>\n",
       "      <th>k_pai</th>\n",
       "      <th>k_pkn</th>\n",
       "      <th>k_indo</th>\n",
       "      <th>k_mtk</th>\n",
       "      <th>k_pjok</th>\n",
       "      <th>k_sbk</th>\n",
       "      <th>k_sunda</th>\n",
       "    </tr>\n",
       "  </thead>\n",
       "  <tbody>\n",
       "    <tr>\n",
       "      <th>0</th>\n",
       "      <td>-1.030873</td>\n",
       "      <td>-1.926836</td>\n",
       "      <td>-2.118183</td>\n",
       "      <td>-1.703695</td>\n",
       "      <td>-1.479281</td>\n",
       "      <td>-0.615038</td>\n",
       "      <td>-0.831458</td>\n",
       "      <td>-1.009897</td>\n",
       "      <td>0.619228</td>\n",
       "      <td>-0.281367</td>\n",
       "      <td>-0.223648</td>\n",
       "      <td>-1.088556</td>\n",
       "      <td>0.315458</td>\n",
       "      <td>0.514290</td>\n",
       "    </tr>\n",
       "    <tr>\n",
       "      <th>1</th>\n",
       "      <td>-1.030873</td>\n",
       "      <td>-0.810600</td>\n",
       "      <td>-0.509436</td>\n",
       "      <td>0.084677</td>\n",
       "      <td>-0.758413</td>\n",
       "      <td>-1.049183</td>\n",
       "      <td>-0.646690</td>\n",
       "      <td>-0.521483</td>\n",
       "      <td>1.110516</td>\n",
       "      <td>0.002962</td>\n",
       "      <td>0.440379</td>\n",
       "      <td>-0.202951</td>\n",
       "      <td>-2.272914</td>\n",
       "      <td>-0.123589</td>\n",
       "    </tr>\n",
       "    <tr>\n",
       "      <th>2</th>\n",
       "      <td>1.072108</td>\n",
       "      <td>0.465098</td>\n",
       "      <td>0.294937</td>\n",
       "      <td>-0.240482</td>\n",
       "      <td>-0.578196</td>\n",
       "      <td>0.687396</td>\n",
       "      <td>1.385764</td>\n",
       "      <td>1.065861</td>\n",
       "      <td>1.110516</td>\n",
       "      <td>0.429455</td>\n",
       "      <td>-0.777003</td>\n",
       "      <td>-1.088556</td>\n",
       "      <td>0.962551</td>\n",
       "      <td>0.514290</td>\n",
       "    </tr>\n",
       "    <tr>\n",
       "      <th>3</th>\n",
       "      <td>0.577289</td>\n",
       "      <td>0.624561</td>\n",
       "      <td>0.294937</td>\n",
       "      <td>0.409835</td>\n",
       "      <td>-0.397979</td>\n",
       "      <td>-0.615038</td>\n",
       "      <td>-1.016227</td>\n",
       "      <td>0.577447</td>\n",
       "      <td>-1.468747</td>\n",
       "      <td>-0.992189</td>\n",
       "      <td>-1.330359</td>\n",
       "      <td>-0.793354</td>\n",
       "      <td>-2.272914</td>\n",
       "      <td>0.195350</td>\n",
       "    </tr>\n",
       "    <tr>\n",
       "      <th>4</th>\n",
       "      <td>0.082470</td>\n",
       "      <td>-0.491675</td>\n",
       "      <td>-0.026812</td>\n",
       "      <td>-0.240482</td>\n",
       "      <td>0.863540</td>\n",
       "      <td>-0.615038</td>\n",
       "      <td>0.092384</td>\n",
       "      <td>0.089034</td>\n",
       "      <td>0.373584</td>\n",
       "      <td>-0.281367</td>\n",
       "      <td>0.883063</td>\n",
       "      <td>1.273057</td>\n",
       "      <td>-0.331635</td>\n",
       "      <td>0.514290</td>\n",
       "    </tr>\n",
       "  </tbody>\n",
       "</table>\n",
       "</div>"
      ],
      "text/plain": [
       "      p_pai     p_pkn    p_indo     p_mtk    p_pjok     p_sbk   p_sunda  \\\n",
       "0 -1.030873 -1.926836 -2.118183 -1.703695 -1.479281 -0.615038 -0.831458   \n",
       "1 -1.030873 -0.810600 -0.509436  0.084677 -0.758413 -1.049183 -0.646690   \n",
       "2  1.072108  0.465098  0.294937 -0.240482 -0.578196  0.687396  1.385764   \n",
       "3  0.577289  0.624561  0.294937  0.409835 -0.397979 -0.615038 -1.016227   \n",
       "4  0.082470 -0.491675 -0.026812 -0.240482  0.863540 -0.615038  0.092384   \n",
       "\n",
       "      k_pai     k_pkn    k_indo     k_mtk    k_pjok     k_sbk   k_sunda  \n",
       "0 -1.009897  0.619228 -0.281367 -0.223648 -1.088556  0.315458  0.514290  \n",
       "1 -0.521483  1.110516  0.002962  0.440379 -0.202951 -2.272914 -0.123589  \n",
       "2  1.065861  1.110516  0.429455 -0.777003 -1.088556  0.962551  0.514290  \n",
       "3  0.577447 -1.468747 -0.992189 -1.330359 -0.793354 -2.272914  0.195350  \n",
       "4  0.089034  0.373584 -0.281367  0.883063  1.273057 -0.331635  0.514290  "
      ]
     },
     "execution_count": 10,
     "metadata": {},
     "output_type": "execute_result"
    }
   ],
   "source": [
    "new_df.head()"
   ]
  },
  {
   "cell_type": "markdown",
   "id": "bbbd09f6-562f-4fe2-af3d-8c6ac5484dde",
   "metadata": {},
   "source": [
    "## Visualisasi Data Setelah Standardisasi"
   ]
  },
  {
   "cell_type": "code",
   "execution_count": 11,
   "id": "77e49168-061e-4b46-bf8d-375de9570486",
   "metadata": {},
   "outputs": [
    {
     "data": {
      "image/png": "[encoded data removed]",
      "text/plain": [
       "<Figure size 432x288 with 1 Axes>"
      ]
     },
     "metadata": {
      "needs_background": "light"
     },
     "output_type": "display_data"
    }
   ],
   "source": [
    "sns.histplot(new_df)\n",
    "plt.tight_layout()"
   ]
  },
  {
   "cell_type": "markdown",
   "id": "336a06f1-b70f-4cde-a21e-a5e6e1a7f37d",
   "metadata": {},
   "source": [
    "# Pemodelan Machine Learning"
   ]
  },
  {
   "cell_type": "markdown",
   "id": "d2950c4d-dda3-4686-b63b-5677d8b67a02",
   "metadata": {},
   "source": [
    "## Pengetahuan & Keterampilan"
   ]
  },
  {
   "cell_type": "markdown",
   "id": "76df23cf-b2a7-4f7b-aa22-b6b16aaaa085",
   "metadata": {},
   "source": [
    "### Cuplikan Data Pengetahuan"
   ]
  },
  {
   "cell_type": "code",
   "execution_count": 12,
   "id": "573504e5-faa6-4ef4-addf-1016ac416f1d",
   "metadata": {},
   "outputs": [],
   "source": [
    "pengetahuan = new_df.iloc[:,:7]"
   ]
  },
  {
   "cell_type": "code",
   "execution_count": 13,
   "id": "645a0594-9d9c-408b-b920-20ae5fb3ce80",
   "metadata": {},
   "outputs": [
    {
     "data": {
      "text/html": [
       "<div>\n",
       "<style scoped>\n",
       "    .dataframe tbody tr th:only-of-type {\n",
       "        vertical-align: middle;\n",
       "    }\n",
       "\n",
       "    .dataframe tbody tr th {\n",
       "        vertical-align: top;\n",
       "    }\n",
       "\n",
       "    .dataframe thead th {\n",
       "        text-align: right;\n",
       "    }\n",
       "</style>\n",
       "<table border=\"1\" class=\"dataframe\">\n",
       "  <thead>\n",
       "    <tr style=\"text-align: right;\">\n",
       "      <th></th>\n",
       "      <th>p_pai</th>\n",
       "      <th>p_pkn</th>\n",
       "      <th>p_indo</th>\n",
       "      <th>p_mtk</th>\n",
       "      <th>p_pjok</th>\n",
       "      <th>p_sbk</th>\n",
       "      <th>p_sunda</th>\n",
       "    </tr>\n",
       "  </thead>\n",
       "  <tbody>\n",
       "    <tr>\n",
       "      <th>0</th>\n",
       "      <td>-1.030873</td>\n",
       "      <td>-1.926836</td>\n",
       "      <td>-2.118183</td>\n",
       "      <td>-1.703695</td>\n",
       "      <td>-1.479281</td>\n",
       "      <td>-0.615038</td>\n",
       "      <td>-0.831458</td>\n",
       "    </tr>\n",
       "    <tr>\n",
       "      <th>1</th>\n",
       "      <td>-1.030873</td>\n",
       "      <td>-0.810600</td>\n",
       "      <td>-0.509436</td>\n",
       "      <td>0.084677</td>\n",
       "      <td>-0.758413</td>\n",
       "      <td>-1.049183</td>\n",
       "      <td>-0.646690</td>\n",
       "    </tr>\n",
       "    <tr>\n",
       "      <th>2</th>\n",
       "      <td>1.072108</td>\n",
       "      <td>0.465098</td>\n",
       "      <td>0.294937</td>\n",
       "      <td>-0.240482</td>\n",
       "      <td>-0.578196</td>\n",
       "      <td>0.687396</td>\n",
       "      <td>1.385764</td>\n",
       "    </tr>\n",
       "    <tr>\n",
       "      <th>3</th>\n",
       "      <td>0.577289</td>\n",
       "      <td>0.624561</td>\n",
       "      <td>0.294937</td>\n",
       "      <td>0.409835</td>\n",
       "      <td>-0.397979</td>\n",
       "      <td>-0.615038</td>\n",
       "      <td>-1.016227</td>\n",
       "    </tr>\n",
       "    <tr>\n",
       "      <th>4</th>\n",
       "      <td>0.082470</td>\n",
       "      <td>-0.491675</td>\n",
       "      <td>-0.026812</td>\n",
       "      <td>-0.240482</td>\n",
       "      <td>0.863540</td>\n",
       "      <td>-0.615038</td>\n",
       "      <td>0.092384</td>\n",
       "    </tr>\n",
       "  </tbody>\n",
       "</table>\n",
       "</div>"
      ],
      "text/plain": [
       "      p_pai     p_pkn    p_indo     p_mtk    p_pjok     p_sbk   p_sunda\n",
       "0 -1.030873 -1.926836 -2.118183 -1.703695 -1.479281 -0.615038 -0.831458\n",
       "1 -1.030873 -0.810600 -0.509436  0.084677 -0.758413 -1.049183 -0.646690\n",
       "2  1.072108  0.465098  0.294937 -0.240482 -0.578196  0.687396  1.385764\n",
       "3  0.577289  0.624561  0.294937  0.409835 -0.397979 -0.615038 -1.016227\n",
       "4  0.082470 -0.491675 -0.026812 -0.240482  0.863540 -0.615038  0.092384"
      ]
     },
     "execution_count": 13,
     "metadata": {},
     "output_type": "execute_result"
    }
   ],
   "source": [
    "pengetahuan.head()"
   ]
  },
  {
   "cell_type": "markdown",
   "id": "c40944bf-1cdc-4d8e-99d9-1c3856c6d9cf",
   "metadata": {},
   "source": [
    "### Cuplikan Data Keterampilan"
   ]
  },
  {
   "cell_type": "code",
   "execution_count": 14,
   "id": "3631e124-ec38-4f5b-b535-61f47550d2a1",
   "metadata": {},
   "outputs": [],
   "source": [
    "keterampilan = new_df.iloc[:,7:]"
   ]
  },
  {
   "cell_type": "code",
   "execution_count": 15,
   "id": "37a950ef-b03c-4e65-9d23-e7dc1d3fc6ad",
   "metadata": {},
   "outputs": [
    {
     "data": {
      "text/html": [
       "<div>\n",
       "<style scoped>\n",
       "    .dataframe tbody tr th:only-of-type {\n",
       "        vertical-align: middle;\n",
       "    }\n",
       "\n",
       "    .dataframe tbody tr th {\n",
       "        vertical-align: top;\n",
       "    }\n",
       "\n",
       "    .dataframe thead th {\n",
       "        text-align: right;\n",
       "    }\n",
       "</style>\n",
       "<table border=\"1\" class=\"dataframe\">\n",
       "  <thead>\n",
       "    <tr style=\"text-align: right;\">\n",
       "      <th></th>\n",
       "      <th>k_pai</th>\n",
       "      <th>k_pkn</th>\n",
       "      <th>k_indo</th>\n",
       "      <th>k_mtk</th>\n",
       "      <th>k_pjok</th>\n",
       "      <th>k_sbk</th>\n",
       "      <th>k_sunda</th>\n",
       "    </tr>\n",
       "  </thead>\n",
       "  <tbody>\n",
       "    <tr>\n",
       "      <th>0</th>\n",
       "      <td>-1.009897</td>\n",
       "      <td>0.619228</td>\n",
       "      <td>-0.281367</td>\n",
       "      <td>-0.223648</td>\n",
       "      <td>-1.088556</td>\n",
       "      <td>0.315458</td>\n",
       "      <td>0.514290</td>\n",
       "    </tr>\n",
       "    <tr>\n",
       "      <th>1</th>\n",
       "      <td>-0.521483</td>\n",
       "      <td>1.110516</td>\n",
       "      <td>0.002962</td>\n",
       "      <td>0.440379</td>\n",
       "      <td>-0.202951</td>\n",
       "      <td>-2.272914</td>\n",
       "      <td>-0.123589</td>\n",
       "    </tr>\n",
       "    <tr>\n",
       "      <th>2</th>\n",
       "      <td>1.065861</td>\n",
       "      <td>1.110516</td>\n",
       "      <td>0.429455</td>\n",
       "      <td>-0.777003</td>\n",
       "      <td>-1.088556</td>\n",
       "      <td>0.962551</td>\n",
       "      <td>0.514290</td>\n",
       "    </tr>\n",
       "    <tr>\n",
       "      <th>3</th>\n",
       "      <td>0.577447</td>\n",
       "      <td>-1.468747</td>\n",
       "      <td>-0.992189</td>\n",
       "      <td>-1.330359</td>\n",
       "      <td>-0.793354</td>\n",
       "      <td>-2.272914</td>\n",
       "      <td>0.195350</td>\n",
       "    </tr>\n",
       "    <tr>\n",
       "      <th>4</th>\n",
       "      <td>0.089034</td>\n",
       "      <td>0.373584</td>\n",
       "      <td>-0.281367</td>\n",
       "      <td>0.883063</td>\n",
       "      <td>1.273057</td>\n",
       "      <td>-0.331635</td>\n",
       "      <td>0.514290</td>\n",
       "    </tr>\n",
       "  </tbody>\n",
       "</table>\n",
       "</div>"
      ],
      "text/plain": [
       "      k_pai     k_pkn    k_indo     k_mtk    k_pjok     k_sbk   k_sunda\n",
       "0 -1.009897  0.619228 -0.281367 -0.223648 -1.088556  0.315458  0.514290\n",
       "1 -0.521483  1.110516  0.002962  0.440379 -0.202951 -2.272914 -0.123589\n",
       "2  1.065861  1.110516  0.429455 -0.777003 -1.088556  0.962551  0.514290\n",
       "3  0.577447 -1.468747 -0.992189 -1.330359 -0.793354 -2.272914  0.195350\n",
       "4  0.089034  0.373584 -0.281367  0.883063  1.273057 -0.331635  0.514290"
      ]
     },
     "execution_count": 15,
     "metadata": {},
     "output_type": "execute_result"
    }
   ],
   "source": [
    "keterampilan.head()"
   ]
  },
  {
   "cell_type": "markdown",
   "id": "a205f29d-b894-4a7f-8c38-d9cd7831ed94",
   "metadata": {},
   "source": [
    "### Principal Component Analysis"
   ]
  },
  {
   "cell_type": "code",
   "execution_count": 16,
   "id": "f84375f7-7893-40ed-8ebe-6abfa126c577",
   "metadata": {},
   "outputs": [
    {
     "data": {
      "text/html": [
       "<div>\n",
       "<style scoped>\n",
       "    .dataframe tbody tr th:only-of-type {\n",
       "        vertical-align: middle;\n",
       "    }\n",
       "\n",
       "    .dataframe tbody tr th {\n",
       "        vertical-align: top;\n",
       "    }\n",
       "\n",
       "    .dataframe thead th {\n",
       "        text-align: right;\n",
       "    }\n",
       "</style>\n",
       "<table border=\"1\" class=\"dataframe\">\n",
       "  <thead>\n",
       "    <tr style=\"text-align: right;\">\n",
       "      <th></th>\n",
       "      <th>pengetahuan</th>\n",
       "    </tr>\n",
       "  </thead>\n",
       "  <tbody>\n",
       "    <tr>\n",
       "      <th>0</th>\n",
       "      <td>3.789591</td>\n",
       "    </tr>\n",
       "    <tr>\n",
       "      <th>1</th>\n",
       "      <td>1.706710</td>\n",
       "    </tr>\n",
       "    <tr>\n",
       "      <th>2</th>\n",
       "      <td>-0.919129</td>\n",
       "    </tr>\n",
       "    <tr>\n",
       "      <th>3</th>\n",
       "      <td>-0.058914</td>\n",
       "    </tr>\n",
       "    <tr>\n",
       "      <th>4</th>\n",
       "      <td>0.106541</td>\n",
       "    </tr>\n",
       "  </tbody>\n",
       "</table>\n",
       "</div>"
      ],
      "text/plain": [
       "   pengetahuan\n",
       "0     3.789591\n",
       "1     1.706710\n",
       "2    -0.919129\n",
       "3    -0.058914\n",
       "4     0.106541"
      ]
     },
     "execution_count": 16,
     "metadata": {},
     "output_type": "execute_result"
    }
   ],
   "source": [
    "from sklearn.decomposition import PCA \n",
    "pca = PCA(n_components=1)\n",
    "\n",
    "pca.fit(pengetahuan)\n",
    "pcs_array= pca.transform(pengetahuan)\n",
    "\n",
    "pca_pengetahuan = pd.DataFrame(pcs_array, columns = ['pengetahuan'])\n",
    "pca_pengetahuan.head()"
   ]
  },
  {
   "cell_type": "code",
   "execution_count": 17,
   "id": "8af94194-7a28-45c5-b338-c398b2df114c",
   "metadata": {},
   "outputs": [
    {
     "data": {
      "text/html": [
       "<div>\n",
       "<style scoped>\n",
       "    .dataframe tbody tr th:only-of-type {\n",
       "        vertical-align: middle;\n",
       "    }\n",
       "\n",
       "    .dataframe tbody tr th {\n",
       "        vertical-align: top;\n",
       "    }\n",
       "\n",
       "    .dataframe thead th {\n",
       "        text-align: right;\n",
       "    }\n",
       "</style>\n",
       "<table border=\"1\" class=\"dataframe\">\n",
       "  <thead>\n",
       "    <tr style=\"text-align: right;\">\n",
       "      <th></th>\n",
       "      <th>keterampilan</th>\n",
       "    </tr>\n",
       "  </thead>\n",
       "  <tbody>\n",
       "    <tr>\n",
       "      <th>0</th>\n",
       "      <td>0.564125</td>\n",
       "    </tr>\n",
       "    <tr>\n",
       "      <th>1</th>\n",
       "      <td>-0.168809</td>\n",
       "    </tr>\n",
       "    <tr>\n",
       "      <th>2</th>\n",
       "      <td>-0.154807</td>\n",
       "    </tr>\n",
       "    <tr>\n",
       "      <th>3</th>\n",
       "      <td>2.552340</td>\n",
       "    </tr>\n",
       "    <tr>\n",
       "      <th>4</th>\n",
       "      <td>-1.038373</td>\n",
       "    </tr>\n",
       "  </tbody>\n",
       "</table>\n",
       "</div>"
      ],
      "text/plain": [
       "   keterampilan\n",
       "0      0.564125\n",
       "1     -0.168809\n",
       "2     -0.154807\n",
       "3      2.552340\n",
       "4     -1.038373"
      ]
     },
     "execution_count": 17,
     "metadata": {},
     "output_type": "execute_result"
    }
   ],
   "source": [
    "from sklearn.decomposition import PCA \n",
    "pca = PCA(n_components=1)\n",
    "\n",
    "pca.fit(keterampilan)\n",
    "pcs_array= pca.transform(keterampilan)\n",
    "\n",
    "pca_keterampilan = pd.DataFrame(pcs_array, columns = ['keterampilan'])\n",
    "pca_keterampilan.head()"
   ]
  },
  {
   "cell_type": "code",
   "execution_count": 18,
   "id": "2d5faf70-bd1f-41a1-b4c5-a46e01a9b30c",
   "metadata": {},
   "outputs": [],
   "source": [
    "pca_nilai = pd.concat([pca_pengetahuan,pca_keterampilan],axis=1)"
   ]
  },
  {
   "cell_type": "code",
   "execution_count": 19,
   "id": "831220de-0256-4860-808f-f05743f0d9a4",
   "metadata": {},
   "outputs": [
    {
     "data": {
      "text/html": [
       "<div>\n",
       "<style scoped>\n",
       "    .dataframe tbody tr th:only-of-type {\n",
       "        vertical-align: middle;\n",
       "    }\n",
       "\n",
       "    .dataframe tbody tr th {\n",
       "        vertical-align: top;\n",
       "    }\n",
       "\n",
       "    .dataframe thead th {\n",
       "        text-align: right;\n",
       "    }\n",
       "</style>\n",
       "<table border=\"1\" class=\"dataframe\">\n",
       "  <thead>\n",
       "    <tr style=\"text-align: right;\">\n",
       "      <th></th>\n",
       "      <th>pengetahuan</th>\n",
       "      <th>keterampilan</th>\n",
       "    </tr>\n",
       "  </thead>\n",
       "  <tbody>\n",
       "    <tr>\n",
       "      <th>34</th>\n",
       "      <td>0.096054</td>\n",
       "      <td>-0.665837</td>\n",
       "    </tr>\n",
       "    <tr>\n",
       "      <th>42</th>\n",
       "      <td>-1.400015</td>\n",
       "      <td>-1.520103</td>\n",
       "    </tr>\n",
       "    <tr>\n",
       "      <th>18</th>\n",
       "      <td>-1.306755</td>\n",
       "      <td>-1.893707</td>\n",
       "    </tr>\n",
       "    <tr>\n",
       "      <th>17</th>\n",
       "      <td>2.619983</td>\n",
       "      <td>-0.131088</td>\n",
       "    </tr>\n",
       "    <tr>\n",
       "      <th>35</th>\n",
       "      <td>2.229806</td>\n",
       "      <td>-0.248590</td>\n",
       "    </tr>\n",
       "  </tbody>\n",
       "</table>\n",
       "</div>"
      ],
      "text/plain": [
       "    pengetahuan  keterampilan\n",
       "34     0.096054     -0.665837\n",
       "42    -1.400015     -1.520103\n",
       "18    -1.306755     -1.893707\n",
       "17     2.619983     -0.131088\n",
       "35     2.229806     -0.248590"
      ]
     },
     "execution_count": 19,
     "metadata": {},
     "output_type": "execute_result"
    }
   ],
   "source": [
    "pca_nilai.sample(5)"
   ]
  },
  {
   "cell_type": "markdown",
   "id": "eac143b0-201e-45fe-aa6c-453b65f96b18",
   "metadata": {},
   "source": [
    "### Elbow Method"
   ]
  },
  {
   "cell_type": "code",
   "execution_count": 20,
   "id": "2e5f881f-60ba-4ed1-9802-e400145d1188",
   "metadata": {},
   "outputs": [
    {
     "name": "stdout",
     "output_type": "stream",
     "text": [
      "[168.240958794508, 121.44641543376076, 84.30811545619913, 59.515507407501644, 42.56424408934602, 35.14700862935263, 29.55260942895074, 23.39165602361762, 19.972517748514065, 17.394939265416532, 15.734150525455751, 13.536662489375528, 12.013801871235719]\n"
     ]
    },
    {
     "data": {
      "image/png": "[encoded data removed]",
      "text/plain": [
       "<Figure size 432x288 with 1 Axes>"
      ]
     },
     "metadata": {
      "needs_background": "light"
     },
     "output_type": "display_data"
    }
   ],
   "source": [
    "from sklearn.cluster import KMeans\n",
    "inertia = []\n",
    "\n",
    "for i in range(2, 15):\n",
    "    kmeans = KMeans(n_clusters=i, random_state=0)\n",
    "    kmeans.fit(pca_nilai.values)\n",
    "    inertia.append(kmeans.inertia_)\n",
    "\n",
    "\n",
    "print(inertia)\n",
    "\n",
    "# plt.figure(figsize=(10, 5))\n",
    "# plt.plot(inertia)\n",
    "\n",
    "sns.lineplot(x=range(2, 15), y=inertia, color='#000087', linewidth = 4)\n",
    "sns.scatterplot(x=range(2, 15), y=inertia, s=300, color='#800000',  linestyle='--')\n",
    "plt.tight_layout()"
   ]
  },
  {
   "cell_type": "markdown",
   "id": "1bad43ce-26fb-4e1f-b4f1-0c65b864eb97",
   "metadata": {},
   "source": [
    "### Silhouette Score"
   ]
  },
  {
   "cell_type": "code",
   "execution_count": 21,
   "id": "496e4edd-fb50-4035-a1a4-5ac3d353ae49",
   "metadata": {},
   "outputs": [
    {
     "data": {
      "image/png": "[encoded data removed]",
      "text/plain": [
       "<Figure size 432x288 with 1 Axes>"
      ]
     },
     "metadata": {
      "needs_background": "light"
     },
     "output_type": "display_data"
    }
   ],
   "source": [
    "from sklearn.metrics import silhouette_score\n",
    "siscore=[]\n",
    "for i in range(2,15):\n",
    "    KMean= KMeans(n_clusters=i)\n",
    "    KMean.fit(pca_nilai.values)\n",
    "    label= KMean.predict(pca_nilai.values)\n",
    "    siscore.append(silhouette_score(pca_nilai.values, labels=label))\n",
    "    \n",
    "# plt.figure(figsize=(10,5))\n",
    "\n",
    "sns.lineplot(x=range(2,15), y=siscore, color='blue', linewidth=3)\n",
    "sns.scatterplot(x=range(2,15), y=siscore, color='green', s=300, linewidth=3)\n",
    "plt.tight_layout()\n",
    "\n",
    "for i in range(2,15):\n",
    "    plt.text(x=i+0.25, y=siscore[i-2], color='black', s=str(round(siscore[i-2],2)), size=10)\n",
    "plt.show()"
   ]
  },
  {
   "cell_type": "markdown",
   "id": "afa5785a-13cf-4193-a1e6-3ec4278ffe2c",
   "metadata": {},
   "source": [
    "### KMeans Clustering"
   ]
  },
  {
   "cell_type": "code",
   "execution_count": 22,
   "id": "af44d67b-00b5-40b3-b8c6-fb864d908859",
   "metadata": {},
   "outputs": [
    {
     "data": {
      "text/plain": [
       "KMeans(n_clusters=6, random_state=0)"
      ]
     },
     "execution_count": 22,
     "metadata": {},
     "output_type": "execute_result"
    }
   ],
   "source": [
    "from sklearn.cluster import KMeans\n",
    "kmeans = KMeans(n_clusters = 6, random_state=0)\n",
    "kmeans.fit(pca_nilai.values)"
   ]
  },
  {
   "cell_type": "code",
   "execution_count": 23,
   "id": "c6fdbedb-852f-4108-a7d1-5e7d6ccace07",
   "metadata": {},
   "outputs": [],
   "source": [
    "pca_nilai['cluster'] = kmeans.labels_"
   ]
  },
  {
   "cell_type": "markdown",
   "id": "dc32d1b5-8737-419a-9436-4f516cc0f515",
   "metadata": {},
   "source": [
    "#### Visualisasi Hasil KMeans Clustering"
   ]
  },
  {
   "cell_type": "code",
   "execution_count": 24,
   "id": "125c0ecd-b0c3-45a2-918d-356a0b244c57",
   "metadata": {},
   "outputs": [
    {
     "data": {
      "image/png": "[encoded data removed]",
      "text/plain": [
       "<Figure size 432x288 with 1 Axes>"
      ]
     },
     "metadata": {
      "needs_background": "light"
     },
     "output_type": "display_data"
    }
   ],
   "source": [
    "fig, ax = plt.subplots()\n",
    "\n",
    "sns.scatterplot(\n",
    "    x=\"pengetahuan\", y=\"keterampilan\",\n",
    "    hue='cluster',\n",
    "    edgecolor='black',\n",
    "    linestyle='--',\n",
    "    data=pca_nilai,\n",
    "    palette='Spectral',\n",
    "    s=160,\n",
    "    ax=ax)\n",
    "plt.tight_layout()\n",
    "plt.show()"
   ]
  },
  {
   "cell_type": "markdown",
   "id": "ccb9cbbe-8c42-4285-b2af-89cf00d08482",
   "metadata": {},
   "source": [
    "#### Tabulasi Hasil KMeans Clustering"
   ]
  },
  {
   "cell_type": "code",
   "execution_count": 25,
   "id": "4fdc8cf7-fb04-4374-972a-178ed322ace1",
   "metadata": {},
   "outputs": [
    {
     "data": {
      "text/html": [
       "<div>\n",
       "<style scoped>\n",
       "    .dataframe tbody tr th:only-of-type {\n",
       "        vertical-align: middle;\n",
       "    }\n",
       "\n",
       "    .dataframe tbody tr th {\n",
       "        vertical-align: top;\n",
       "    }\n",
       "\n",
       "    .dataframe thead th {\n",
       "        text-align: right;\n",
       "    }\n",
       "</style>\n",
       "<table border=\"1\" class=\"dataframe\">\n",
       "  <thead>\n",
       "    <tr style=\"text-align: right;\">\n",
       "      <th></th>\n",
       "      <th>Nama</th>\n",
       "      <th>pengetahuan</th>\n",
       "      <th>keterampilan</th>\n",
       "      <th>cluster</th>\n",
       "    </tr>\n",
       "  </thead>\n",
       "  <tbody>\n",
       "    <tr>\n",
       "      <th>0</th>\n",
       "      <td>ns1</td>\n",
       "      <td>3.789591</td>\n",
       "      <td>0.564125</td>\n",
       "      <td>3</td>\n",
       "    </tr>\n",
       "    <tr>\n",
       "      <th>1</th>\n",
       "      <td>ns28</td>\n",
       "      <td>1.706710</td>\n",
       "      <td>-0.168809</td>\n",
       "      <td>3</td>\n",
       "    </tr>\n",
       "    <tr>\n",
       "      <th>2</th>\n",
       "      <td>ns33</td>\n",
       "      <td>-0.919129</td>\n",
       "      <td>-0.154807</td>\n",
       "      <td>2</td>\n",
       "    </tr>\n",
       "    <tr>\n",
       "      <th>3</th>\n",
       "      <td>ns58</td>\n",
       "      <td>-0.058914</td>\n",
       "      <td>2.552340</td>\n",
       "      <td>1</td>\n",
       "    </tr>\n",
       "    <tr>\n",
       "      <th>4</th>\n",
       "      <td>ns68</td>\n",
       "      <td>0.106541</td>\n",
       "      <td>-1.038373</td>\n",
       "      <td>2</td>\n",
       "    </tr>\n",
       "  </tbody>\n",
       "</table>\n",
       "</div>"
      ],
      "text/plain": [
       "   Nama  pengetahuan  keterampilan  cluster\n",
       "0   ns1     3.789591      0.564125        3\n",
       "1  ns28     1.706710     -0.168809        3\n",
       "2  ns33    -0.919129     -0.154807        2\n",
       "3  ns58    -0.058914      2.552340        1\n",
       "4  ns68     0.106541     -1.038373        2"
      ]
     },
     "execution_count": 25,
     "metadata": {},
     "output_type": "execute_result"
    }
   ],
   "source": [
    "# penggabungan data hasil klasterisasi dengan nama siswa\n",
    "\n",
    "data = pd.concat([df.select_dtypes('object'),pca_nilai],axis=1)\n",
    "data.head()"
   ]
  },
  {
   "cell_type": "code",
   "execution_count": 26,
   "id": "72bd3ff4-9c73-4227-aea0-94d981cf66ca",
   "metadata": {},
   "outputs": [
    {
     "data": {
      "text/html": [
       "<div>\n",
       "<style scoped>\n",
       "    .dataframe tbody tr th:only-of-type {\n",
       "        vertical-align: middle;\n",
       "    }\n",
       "\n",
       "    .dataframe tbody tr th {\n",
       "        vertical-align: top;\n",
       "    }\n",
       "\n",
       "    .dataframe thead th {\n",
       "        text-align: right;\n",
       "    }\n",
       "</style>\n",
       "<table border=\"1\" class=\"dataframe\">\n",
       "  <thead>\n",
       "    <tr style=\"text-align: right;\">\n",
       "      <th></th>\n",
       "      <th>klaster</th>\n",
       "      <th>jumlah_siswa</th>\n",
       "    </tr>\n",
       "  </thead>\n",
       "  <tbody>\n",
       "    <tr>\n",
       "      <th>0</th>\n",
       "      <td>2</td>\n",
       "      <td>16</td>\n",
       "    </tr>\n",
       "    <tr>\n",
       "      <th>1</th>\n",
       "      <td>3</td>\n",
       "      <td>10</td>\n",
       "    </tr>\n",
       "    <tr>\n",
       "      <th>2</th>\n",
       "      <td>1</td>\n",
       "      <td>9</td>\n",
       "    </tr>\n",
       "    <tr>\n",
       "      <th>3</th>\n",
       "      <td>0</td>\n",
       "      <td>7</td>\n",
       "    </tr>\n",
       "    <tr>\n",
       "      <th>4</th>\n",
       "      <td>5</td>\n",
       "      <td>3</td>\n",
       "    </tr>\n",
       "    <tr>\n",
       "      <th>5</th>\n",
       "      <td>4</td>\n",
       "      <td>3</td>\n",
       "    </tr>\n",
       "  </tbody>\n",
       "</table>\n",
       "</div>"
      ],
      "text/plain": [
       "   klaster  jumlah_siswa\n",
       "0        2            16\n",
       "1        3            10\n",
       "2        1             9\n",
       "3        0             7\n",
       "4        5             3\n",
       "5        4             3"
      ]
     },
     "execution_count": 26,
     "metadata": {},
     "output_type": "execute_result"
    }
   ],
   "source": [
    "#Jumlah Siswa Masing - masing Klaster\n",
    "\n",
    "jumlah = pd.DataFrame(pca_nilai['cluster'].value_counts()).reset_index()\n",
    "jumlah.columns=['klaster','jumlah_siswa']\n",
    "jumlah"
   ]
  },
  {
   "cell_type": "code",
   "execution_count": 27,
   "id": "315f14bd-1eb4-43df-ac15-e7dd873c1ea4",
   "metadata": {},
   "outputs": [
    {
     "data": {
      "text/html": [
       "<div>\n",
       "<style scoped>\n",
       "    .dataframe tbody tr th:only-of-type {\n",
       "        vertical-align: middle;\n",
       "    }\n",
       "\n",
       "    .dataframe tbody tr th {\n",
       "        vertical-align: top;\n",
       "    }\n",
       "\n",
       "    .dataframe thead th {\n",
       "        text-align: right;\n",
       "    }\n",
       "</style>\n",
       "<table border=\"1\" class=\"dataframe\">\n",
       "  <thead>\n",
       "    <tr style=\"text-align: right;\">\n",
       "      <th></th>\n",
       "      <th>Baik</th>\n",
       "      <th>Cukup</th>\n",
       "      <th>Kurang</th>\n",
       "      <th>Terampil, Kurang Pengetahuan</th>\n",
       "    </tr>\n",
       "  </thead>\n",
       "  <tbody>\n",
       "    <tr>\n",
       "      <th>jumlah</th>\n",
       "      <td>6.25</td>\n",
       "      <td>72.92</td>\n",
       "      <td>14.58</td>\n",
       "      <td>6.25</td>\n",
       "    </tr>\n",
       "  </tbody>\n",
       "</table>\n",
       "</div>"
      ],
      "text/plain": [
       "        Baik  Cukup  Kurang  Terampil, Kurang Pengetahuan\n",
       "jumlah  6.25  72.92   14.58                          6.25"
      ]
     },
     "execution_count": 27,
     "metadata": {},
     "output_type": "execute_result"
    }
   ],
   "source": [
    "# persentase klaster siswa\n",
    "\n",
    "persentase = pd.DataFrame({ 'Baik': round(((3)/(16+10+9+7+3+3)*100),2),\n",
    "                            'Cukup': round(((16+10+9)/(16+10+9+7+3+3)*100),2),\n",
    "                            'Kurang': round(((7)/(16+10+9+7+3+3)*100),2),\n",
    "                            'Terampil, Kurang Pengetahuan': round(((3)/(16+10+9+7+3+3)*100),2)},\n",
    "                            index=['jumlah'])\n",
    "persentase"
   ]
  },
  {
   "cell_type": "code",
   "execution_count": 28,
   "id": "cb223613-c060-46e5-b624-921f5dd1ffcb",
   "metadata": {},
   "outputs": [
    {
     "data": {
      "image/png": "[encoded data removed]",
      "text/plain": [
       "<Figure size 432x288 with 1 Axes>"
      ]
     },
     "metadata": {
      "needs_background": "light"
     },
     "output_type": "display_data"
    }
   ],
   "source": [
    "# visualisasi persentase klaster\n",
    "\n",
    "persentase.plot(kind='bar')\n",
    "plt.title('Persentase Siswa Setiap Klaster')\n",
    "plt.xticks([])\n",
    "plt.tight_layout()"
   ]
  },
  {
   "cell_type": "code",
   "execution_count": 29,
   "id": "70094779-c675-4216-a845-87cd1d4db31b",
   "metadata": {},
   "outputs": [
    {
     "data": {
      "text/html": [
       "<div>\n",
       "<style scoped>\n",
       "    .dataframe tbody tr th:only-of-type {\n",
       "        vertical-align: middle;\n",
       "    }\n",
       "\n",
       "    .dataframe tbody tr th {\n",
       "        vertical-align: top;\n",
       "    }\n",
       "\n",
       "    .dataframe thead th {\n",
       "        text-align: right;\n",
       "    }\n",
       "</style>\n",
       "<table border=\"1\" class=\"dataframe\">\n",
       "  <thead>\n",
       "    <tr style=\"text-align: right;\">\n",
       "      <th></th>\n",
       "      <th>Nama</th>\n",
       "      <th>pengetahuan</th>\n",
       "      <th>keterampilan</th>\n",
       "      <th>cluster</th>\n",
       "    </tr>\n",
       "  </thead>\n",
       "  <tbody>\n",
       "    <tr>\n",
       "      <th>25</th>\n",
       "      <td>ns182</td>\n",
       "      <td>5.647261</td>\n",
       "      <td>3.661229</td>\n",
       "      <td>4</td>\n",
       "    </tr>\n",
       "    <tr>\n",
       "      <th>21</th>\n",
       "      <td>ns165</td>\n",
       "      <td>3.524637</td>\n",
       "      <td>2.753239</td>\n",
       "      <td>4</td>\n",
       "    </tr>\n",
       "    <tr>\n",
       "      <th>11</th>\n",
       "      <td>ns137</td>\n",
       "      <td>2.751923</td>\n",
       "      <td>2.817183</td>\n",
       "      <td>4</td>\n",
       "    </tr>\n",
       "  </tbody>\n",
       "</table>\n",
       "</div>"
      ],
      "text/plain": [
       "     Nama  pengetahuan  keterampilan  cluster\n",
       "25  ns182     5.647261      3.661229        4\n",
       "21  ns165     3.524637      2.753239        4\n",
       "11  ns137     2.751923      2.817183        4"
      ]
     },
     "execution_count": 29,
     "metadata": {},
     "output_type": "execute_result"
    }
   ],
   "source": [
    "# Top Students\n",
    "\n",
    "data[data['cluster']==4].sort_values(by='pengetahuan',ascending=False)"
   ]
  },
  {
   "cell_type": "code",
   "execution_count": 30,
   "id": "f07f42d4-8af9-417e-af79-65cbd79d5629",
   "metadata": {},
   "outputs": [
    {
     "data": {
      "text/html": [
       "<div>\n",
       "<style scoped>\n",
       "    .dataframe tbody tr th:only-of-type {\n",
       "        vertical-align: middle;\n",
       "    }\n",
       "\n",
       "    .dataframe tbody tr th {\n",
       "        vertical-align: top;\n",
       "    }\n",
       "\n",
       "    .dataframe thead th {\n",
       "        text-align: right;\n",
       "    }\n",
       "</style>\n",
       "<table border=\"1\" class=\"dataframe\">\n",
       "  <thead>\n",
       "    <tr style=\"text-align: right;\">\n",
       "      <th></th>\n",
       "      <th>Nama</th>\n",
       "      <th>pengetahuan</th>\n",
       "      <th>keterampilan</th>\n",
       "      <th>cluster</th>\n",
       "    </tr>\n",
       "  </thead>\n",
       "  <tbody>\n",
       "    <tr>\n",
       "      <th>9</th>\n",
       "      <td>ns100</td>\n",
       "      <td>-2.445604</td>\n",
       "      <td>1.538484</td>\n",
       "      <td>5</td>\n",
       "    </tr>\n",
       "    <tr>\n",
       "      <th>12</th>\n",
       "      <td>ns138</td>\n",
       "      <td>-3.071530</td>\n",
       "      <td>1.384671</td>\n",
       "      <td>5</td>\n",
       "    </tr>\n",
       "    <tr>\n",
       "      <th>30</th>\n",
       "      <td>ns208</td>\n",
       "      <td>-2.227283</td>\n",
       "      <td>1.681250</td>\n",
       "      <td>5</td>\n",
       "    </tr>\n",
       "  </tbody>\n",
       "</table>\n",
       "</div>"
      ],
      "text/plain": [
       "     Nama  pengetahuan  keterampilan  cluster\n",
       "9   ns100    -2.445604      1.538484        5\n",
       "12  ns138    -3.071530      1.384671        5\n",
       "30  ns208    -2.227283      1.681250        5"
      ]
     },
     "execution_count": 30,
     "metadata": {},
     "output_type": "execute_result"
    }
   ],
   "source": [
    "# perlu penanganan (pengetahuan)\n",
    "\n",
    "data[data['cluster']==5]"
   ]
  },
  {
   "cell_type": "code",
   "execution_count": 31,
   "id": "8c6cb6e9-bd74-4495-9dde-6224283da564",
   "metadata": {},
   "outputs": [
    {
     "data": {
      "text/html": [
       "<div>\n",
       "<style scoped>\n",
       "    .dataframe tbody tr th:only-of-type {\n",
       "        vertical-align: middle;\n",
       "    }\n",
       "\n",
       "    .dataframe tbody tr th {\n",
       "        vertical-align: top;\n",
       "    }\n",
       "\n",
       "    .dataframe thead th {\n",
       "        text-align: right;\n",
       "    }\n",
       "</style>\n",
       "<table border=\"1\" class=\"dataframe\">\n",
       "  <thead>\n",
       "    <tr style=\"text-align: right;\">\n",
       "      <th></th>\n",
       "      <th>Nama</th>\n",
       "      <th>pengetahuan</th>\n",
       "      <th>keterampilan</th>\n",
       "      <th>cluster</th>\n",
       "    </tr>\n",
       "  </thead>\n",
       "  <tbody>\n",
       "    <tr>\n",
       "      <th>6</th>\n",
       "      <td>ns93</td>\n",
       "      <td>-4.123035</td>\n",
       "      <td>-2.008675</td>\n",
       "      <td>0</td>\n",
       "    </tr>\n",
       "    <tr>\n",
       "      <th>13</th>\n",
       "      <td>ns139</td>\n",
       "      <td>-2.742938</td>\n",
       "      <td>-1.853854</td>\n",
       "      <td>0</td>\n",
       "    </tr>\n",
       "    <tr>\n",
       "      <th>22</th>\n",
       "      <td>ns169</td>\n",
       "      <td>-2.782760</td>\n",
       "      <td>-1.296442</td>\n",
       "      <td>0</td>\n",
       "    </tr>\n",
       "    <tr>\n",
       "      <th>28</th>\n",
       "      <td>ns199</td>\n",
       "      <td>-2.849248</td>\n",
       "      <td>-2.937382</td>\n",
       "      <td>0</td>\n",
       "    </tr>\n",
       "    <tr>\n",
       "      <th>32</th>\n",
       "      <td>ns221</td>\n",
       "      <td>-3.396326</td>\n",
       "      <td>-1.582432</td>\n",
       "      <td>0</td>\n",
       "    </tr>\n",
       "    <tr>\n",
       "      <th>44</th>\n",
       "      <td>ns281</td>\n",
       "      <td>-3.491590</td>\n",
       "      <td>-3.003453</td>\n",
       "      <td>0</td>\n",
       "    </tr>\n",
       "    <tr>\n",
       "      <th>45</th>\n",
       "      <td>ns291</td>\n",
       "      <td>-1.571927</td>\n",
       "      <td>-2.804026</td>\n",
       "      <td>0</td>\n",
       "    </tr>\n",
       "  </tbody>\n",
       "</table>\n",
       "</div>"
      ],
      "text/plain": [
       "     Nama  pengetahuan  keterampilan  cluster\n",
       "6    ns93    -4.123035     -2.008675        0\n",
       "13  ns139    -2.742938     -1.853854        0\n",
       "22  ns169    -2.782760     -1.296442        0\n",
       "28  ns199    -2.849248     -2.937382        0\n",
       "32  ns221    -3.396326     -1.582432        0\n",
       "44  ns281    -3.491590     -3.003453        0\n",
       "45  ns291    -1.571927     -2.804026        0"
      ]
     },
     "execution_count": 31,
     "metadata": {},
     "output_type": "execute_result"
    }
   ],
   "source": [
    "# perlu penanganan (keterampilan dan pengetahuan)\n",
    "\n",
    "data[data['cluster']==0]"
   ]
  },
  {
   "cell_type": "markdown",
   "id": "4738ec7a-b9b9-40cb-b9e7-fd306592e61c",
   "metadata": {},
   "source": [
    "Catatan:\n",
    "\n",
    "1. Secara umum, pengetahuan dan keterampilan Siswa menunjukkan hubungan yang berbanding lurus.\n",
    "    - Artinya, semakin baik Siswa dalam pengetahuan, maka cenderung akan terampil.\n",
    "2. Terdapat beberapa Siswa yang memiliki keterampilan yang baik, namun pengetahuannya buruk, sehingga perlu penanganan untuk menambah pengetahuannya."
   ]
  },
  {
   "cell_type": "markdown",
   "id": "25a967f1-5622-46a5-8dca-4689603b8ac1",
   "metadata": {},
   "source": [
    "## SBK & PJOK"
   ]
  },
  {
   "cell_type": "markdown",
   "id": "0859e924-629b-4a54-9581-22d9b8adc6c6",
   "metadata": {},
   "source": [
    "### Cuplikan Data SBK dan PJOK"
   ]
  },
  {
   "cell_type": "code",
   "execution_count": 32,
   "id": "78071eac-7442-4c42-ada3-c3f953b70298",
   "metadata": {},
   "outputs": [
    {
     "data": {
      "text/html": [
       "<div>\n",
       "<style scoped>\n",
       "    .dataframe tbody tr th:only-of-type {\n",
       "        vertical-align: middle;\n",
       "    }\n",
       "\n",
       "    .dataframe tbody tr th {\n",
       "        vertical-align: top;\n",
       "    }\n",
       "\n",
       "    .dataframe thead th {\n",
       "        text-align: right;\n",
       "    }\n",
       "</style>\n",
       "<table border=\"1\" class=\"dataframe\">\n",
       "  <thead>\n",
       "    <tr style=\"text-align: right;\">\n",
       "      <th></th>\n",
       "      <th>p_pjok</th>\n",
       "      <th>k_pjok</th>\n",
       "      <th>k_sbk</th>\n",
       "      <th>p_sbk</th>\n",
       "    </tr>\n",
       "  </thead>\n",
       "  <tbody>\n",
       "    <tr>\n",
       "      <th>0</th>\n",
       "      <td>-1.479281</td>\n",
       "      <td>-1.088556</td>\n",
       "      <td>0.315458</td>\n",
       "      <td>-0.615038</td>\n",
       "    </tr>\n",
       "    <tr>\n",
       "      <th>1</th>\n",
       "      <td>-0.758413</td>\n",
       "      <td>-0.202951</td>\n",
       "      <td>-2.272914</td>\n",
       "      <td>-1.049183</td>\n",
       "    </tr>\n",
       "    <tr>\n",
       "      <th>2</th>\n",
       "      <td>-0.578196</td>\n",
       "      <td>-1.088556</td>\n",
       "      <td>0.962551</td>\n",
       "      <td>0.687396</td>\n",
       "    </tr>\n",
       "    <tr>\n",
       "      <th>3</th>\n",
       "      <td>-0.397979</td>\n",
       "      <td>-0.793354</td>\n",
       "      <td>-2.272914</td>\n",
       "      <td>-0.615038</td>\n",
       "    </tr>\n",
       "    <tr>\n",
       "      <th>4</th>\n",
       "      <td>0.863540</td>\n",
       "      <td>1.273057</td>\n",
       "      <td>-0.331635</td>\n",
       "      <td>-0.615038</td>\n",
       "    </tr>\n",
       "  </tbody>\n",
       "</table>\n",
       "</div>"
      ],
      "text/plain": [
       "     p_pjok    k_pjok     k_sbk     p_sbk\n",
       "0 -1.479281 -1.088556  0.315458 -0.615038\n",
       "1 -0.758413 -0.202951 -2.272914 -1.049183\n",
       "2 -0.578196 -1.088556  0.962551  0.687396\n",
       "3 -0.397979 -0.793354 -2.272914 -0.615038\n",
       "4  0.863540  1.273057 -0.331635 -0.615038"
      ]
     },
     "execution_count": 32,
     "metadata": {},
     "output_type": "execute_result"
    }
   ],
   "source": [
    "mlcl_2 = new_df[['p_pjok','k_pjok','k_sbk','p_sbk']]\n",
    "mlcl_2.head()"
   ]
  },
  {
   "cell_type": "markdown",
   "id": "dd15a259-135c-4c82-9403-1b74ddcd2c0a",
   "metadata": {},
   "source": [
    "### Principal Component Anlysis"
   ]
  },
  {
   "cell_type": "code",
   "execution_count": 33,
   "id": "64453c15-14bc-4c01-87ab-d0f6c1a5f2cf",
   "metadata": {},
   "outputs": [
    {
     "data": {
      "text/html": [
       "<div>\n",
       "<style scoped>\n",
       "    .dataframe tbody tr th:only-of-type {\n",
       "        vertical-align: middle;\n",
       "    }\n",
       "\n",
       "    .dataframe tbody tr th {\n",
       "        vertical-align: top;\n",
       "    }\n",
       "\n",
       "    .dataframe thead th {\n",
       "        text-align: right;\n",
       "    }\n",
       "</style>\n",
       "<table border=\"1\" class=\"dataframe\">\n",
       "  <thead>\n",
       "    <tr style=\"text-align: right;\">\n",
       "      <th></th>\n",
       "      <th>pjok</th>\n",
       "    </tr>\n",
       "  </thead>\n",
       "  <tbody>\n",
       "    <tr>\n",
       "      <th>0</th>\n",
       "      <td>-1.815735</td>\n",
       "    </tr>\n",
       "    <tr>\n",
       "      <th>1</th>\n",
       "      <td>-0.679787</td>\n",
       "    </tr>\n",
       "    <tr>\n",
       "      <th>2</th>\n",
       "      <td>-1.178572</td>\n",
       "    </tr>\n",
       "    <tr>\n",
       "      <th>3</th>\n",
       "      <td>-0.842400</td>\n",
       "    </tr>\n",
       "    <tr>\n",
       "      <th>4</th>\n",
       "      <td>1.510802</td>\n",
       "    </tr>\n",
       "  </tbody>\n",
       "</table>\n",
       "</div>"
      ],
      "text/plain": [
       "       pjok\n",
       "0 -1.815735\n",
       "1 -0.679787\n",
       "2 -1.178572\n",
       "3 -0.842400\n",
       "4  1.510802"
      ]
     },
     "execution_count": 33,
     "metadata": {},
     "output_type": "execute_result"
    }
   ],
   "source": [
    "from sklearn.decomposition import PCA \n",
    "pca = PCA(n_components=1)\n",
    "\n",
    "pca.fit(mlcl_2[['p_pjok','k_pjok']])\n",
    "pcs_array= pca.transform(mlcl_2[['p_pjok','k_pjok']])\n",
    "\n",
    "pca_pjok = pd.DataFrame(pcs_array, columns = ['pjok'])\n",
    "pca_pjok.head()"
   ]
  },
  {
   "cell_type": "code",
   "execution_count": 34,
   "id": "aa811e34-5277-4ad4-bda1-36d5267e88c8",
   "metadata": {},
   "outputs": [
    {
     "data": {
      "text/html": [
       "<div>\n",
       "<style scoped>\n",
       "    .dataframe tbody tr th:only-of-type {\n",
       "        vertical-align: middle;\n",
       "    }\n",
       "\n",
       "    .dataframe tbody tr th {\n",
       "        vertical-align: top;\n",
       "    }\n",
       "\n",
       "    .dataframe thead th {\n",
       "        text-align: right;\n",
       "    }\n",
       "</style>\n",
       "<table border=\"1\" class=\"dataframe\">\n",
       "  <thead>\n",
       "    <tr style=\"text-align: right;\">\n",
       "      <th></th>\n",
       "      <th>sbk</th>\n",
       "    </tr>\n",
       "  </thead>\n",
       "  <tbody>\n",
       "    <tr>\n",
       "      <th>0</th>\n",
       "      <td>0.211835</td>\n",
       "    </tr>\n",
       "    <tr>\n",
       "      <th>1</th>\n",
       "      <td>2.349078</td>\n",
       "    </tr>\n",
       "    <tr>\n",
       "      <th>2</th>\n",
       "      <td>-1.166689</td>\n",
       "    </tr>\n",
       "    <tr>\n",
       "      <th>3</th>\n",
       "      <td>2.042091</td>\n",
       "    </tr>\n",
       "    <tr>\n",
       "      <th>4</th>\n",
       "      <td>0.669399</td>\n",
       "    </tr>\n",
       "  </tbody>\n",
       "</table>\n",
       "</div>"
      ],
      "text/plain": [
       "        sbk\n",
       "0  0.211835\n",
       "1  2.349078\n",
       "2 -1.166689\n",
       "3  2.042091\n",
       "4  0.669399"
      ]
     },
     "execution_count": 34,
     "metadata": {},
     "output_type": "execute_result"
    }
   ],
   "source": [
    "from sklearn.decomposition import PCA \n",
    "pca = PCA(n_components=1)\n",
    "\n",
    "pca.fit(mlcl_2[['p_sbk','k_sbk']])\n",
    "pcs_array= pca.transform(mlcl_2[['p_sbk','k_sbk']])\n",
    "\n",
    "pca_sbk = pd.DataFrame(pcs_array, columns = ['sbk'])\n",
    "pca_sbk.head()"
   ]
  },
  {
   "cell_type": "code",
   "execution_count": 35,
   "id": "8203d789-f710-46bc-8aef-a33bac4e4f84",
   "metadata": {},
   "outputs": [],
   "source": [
    "pca_nilai_mlcl_2 = pd.concat([pca_pjok,pca_sbk],axis=1)"
   ]
  },
  {
   "cell_type": "code",
   "execution_count": 36,
   "id": "39212bcf-3bcc-4808-b4a5-140778aad0d2",
   "metadata": {},
   "outputs": [
    {
     "data": {
      "text/html": [
       "<div>\n",
       "<style scoped>\n",
       "    .dataframe tbody tr th:only-of-type {\n",
       "        vertical-align: middle;\n",
       "    }\n",
       "\n",
       "    .dataframe tbody tr th {\n",
       "        vertical-align: top;\n",
       "    }\n",
       "\n",
       "    .dataframe thead th {\n",
       "        text-align: right;\n",
       "    }\n",
       "</style>\n",
       "<table border=\"1\" class=\"dataframe\">\n",
       "  <thead>\n",
       "    <tr style=\"text-align: right;\">\n",
       "      <th></th>\n",
       "      <th>pjok</th>\n",
       "      <th>sbk</th>\n",
       "    </tr>\n",
       "  </thead>\n",
       "  <tbody>\n",
       "    <tr>\n",
       "      <th>0</th>\n",
       "      <td>-1.815735</td>\n",
       "      <td>0.211835</td>\n",
       "    </tr>\n",
       "    <tr>\n",
       "      <th>1</th>\n",
       "      <td>-0.679787</td>\n",
       "      <td>2.349078</td>\n",
       "    </tr>\n",
       "    <tr>\n",
       "      <th>2</th>\n",
       "      <td>-1.178572</td>\n",
       "      <td>-1.166689</td>\n",
       "    </tr>\n",
       "    <tr>\n",
       "      <th>3</th>\n",
       "      <td>-0.842400</td>\n",
       "      <td>2.042091</td>\n",
       "    </tr>\n",
       "    <tr>\n",
       "      <th>4</th>\n",
       "      <td>1.510802</td>\n",
       "      <td>0.669399</td>\n",
       "    </tr>\n",
       "  </tbody>\n",
       "</table>\n",
       "</div>"
      ],
      "text/plain": [
       "       pjok       sbk\n",
       "0 -1.815735  0.211835\n",
       "1 -0.679787  2.349078\n",
       "2 -1.178572 -1.166689\n",
       "3 -0.842400  2.042091\n",
       "4  1.510802  0.669399"
      ]
     },
     "execution_count": 36,
     "metadata": {},
     "output_type": "execute_result"
    }
   ],
   "source": [
    "pca_nilai_mlcl_2.head()"
   ]
  },
  {
   "cell_type": "markdown",
   "id": "f0a72e6e-a113-4f86-a406-1bc4cd46ccaf",
   "metadata": {},
   "source": [
    "### Elbow Method"
   ]
  },
  {
   "cell_type": "code",
   "execution_count": 37,
   "id": "6cfeca82-2da0-4b29-a362-41e9611753a9",
   "metadata": {},
   "outputs": [
    {
     "name": "stdout",
     "output_type": "stream",
     "text": [
      "[80.06159240436634, 47.11283576165493, 35.13743700425038, 26.82646296613877, 19.645736174766196, 15.705883714504498, 12.400596886550954, 10.371380843571883, 9.207141327158737, 8.047070580895765, 6.471705408672264, 5.417648226345328, 4.5281605816715365]\n"
     ]
    },
    {
     "data": {
      "image/png": "[encoded data removed]",
      "text/plain": [
       "<Figure size 432x288 with 1 Axes>"
      ]
     },
     "metadata": {
      "needs_background": "light"
     },
     "output_type": "display_data"
    }
   ],
   "source": [
    "from sklearn.cluster import KMeans\n",
    "inertia = []\n",
    "\n",
    "for i in range(2, 15):\n",
    "    kmeans = KMeans(n_clusters=i, random_state=0)\n",
    "    kmeans.fit(pca_nilai_mlcl_2.values)\n",
    "    inertia.append(kmeans.inertia_)\n",
    "\n",
    "\n",
    "print(inertia)\n",
    "\n",
    "# plt.figure(figsize=(10, 5))\n",
    "# plt.plot(inertia)\n",
    "\n",
    "sns.lineplot(x=range(2, 15), y=inertia, color='#000087', linewidth = 4)\n",
    "sns.scatterplot(x=range(2, 15), y=inertia, s=300, color='#800000',  linestyle='--')\n",
    "plt.tight_layout()"
   ]
  },
  {
   "cell_type": "markdown",
   "id": "b911cfcc-6367-4045-92d4-248cd9e51405",
   "metadata": {},
   "source": [
    "### Silhouette Score"
   ]
  },
  {
   "cell_type": "code",
   "execution_count": 38,
   "id": "8643007d-bd8f-45cd-9a43-4397d146b0a5",
   "metadata": {},
   "outputs": [
    {
     "data": {
      "image/png": "[encoded data removed]",
      "text/plain": [
       "<Figure size 432x288 with 1 Axes>"
      ]
     },
     "metadata": {
      "needs_background": "light"
     },
     "output_type": "display_data"
    }
   ],
   "source": [
    "from sklearn.metrics import silhouette_score\n",
    "siscore=[]\n",
    "for i in range(2,15):\n",
    "    KMean= KMeans(n_clusters=i)\n",
    "    KMean.fit(pca_nilai_mlcl_2.values)\n",
    "    label= KMean.predict(pca_nilai_mlcl_2.values)\n",
    "    siscore.append(silhouette_score(pca_nilai_mlcl_2.values, labels=label))\n",
    "    \n",
    "# plt.figure(figsize=(10,5))\n",
    "\n",
    "sns.lineplot(x=range(2,15), y=siscore, color='blue', linewidth=3)\n",
    "sns.scatterplot(x=range(2,15), y=siscore, color='green', s=300, linewidth=3)\n",
    "plt.tight_layout()\n",
    "\n",
    "for i in range(2,15):\n",
    "    plt.text(x=i+0.25, y=siscore[i-2], color='black', s=str(round(siscore[i-2],2)), size=10)\n",
    "plt.show()"
   ]
  },
  {
   "cell_type": "markdown",
   "id": "c03f1e20-93fa-44f9-907d-54fc058b47a7",
   "metadata": {},
   "source": [
    "### KMeans Clustering"
   ]
  },
  {
   "cell_type": "code",
   "execution_count": 39,
   "id": "cbcc30f3-fd4b-419f-9e88-3b550553f65a",
   "metadata": {},
   "outputs": [
    {
     "data": {
      "text/plain": [
       "KMeans(n_clusters=7, random_state=0)"
      ]
     },
     "execution_count": 39,
     "metadata": {},
     "output_type": "execute_result"
    }
   ],
   "source": [
    "from sklearn.cluster import KMeans\n",
    "kmeans = KMeans(n_clusters = 7, random_state=0)\n",
    "kmeans.fit(pca_nilai_mlcl_2.values)"
   ]
  },
  {
   "cell_type": "code",
   "execution_count": 40,
   "id": "f0a56f2c-6e6c-4300-b698-25b1c94ad7f6",
   "metadata": {},
   "outputs": [],
   "source": [
    "pca_nilai_mlcl_2['cluster'] = kmeans.labels_"
   ]
  },
  {
   "cell_type": "markdown",
   "id": "098470c0-9984-4637-a6c4-9798d2f52091",
   "metadata": {},
   "source": [
    "#### Visualisasi Hasil KMeans Clustering"
   ]
  },
  {
   "cell_type": "code",
   "execution_count": 41,
   "id": "a74c7c8b-1658-4e1e-9bcd-f07eb829b6e5",
   "metadata": {},
   "outputs": [
    {
     "data": {
      "image/png": "[encoded data removed]",
      "text/plain": [
       "<Figure size 432x288 with 1 Axes>"
      ]
     },
     "metadata": {
      "needs_background": "light"
     },
     "output_type": "display_data"
    }
   ],
   "source": [
    "fig, ax = plt.subplots()\n",
    "\n",
    "sns.scatterplot(\n",
    "    x=\"pjok\", y=\"sbk\",\n",
    "    hue='cluster',\n",
    "    edgecolor='black',\n",
    "    linestyle='--',\n",
    "    data=pca_nilai_mlcl_2,\n",
    "    palette='Spectral',\n",
    "    s=160,\n",
    "    ax=ax)\n",
    "# plt.xticks(ticks = [0,1,2,3,4,5],labels = ['Tidak Berpenghasilan','Kurang Dari Rp. 500,000','Rp. 500,000 - Rp. 999,999','Rp. 1,000,000 - Rp. 1,999,999','Rp. 2,000,000 - Rp. 4,999,999','Rp. 5,000,000 - Rp. 20,000,000'])\n",
    "# plt.yticks(ticks = [0,1,2,3,4,5],labels = ['Tidak Berpenghasilan','Kurang Dari Rp. 500,000','Rp. 500,000 - Rp. 999,999','Rp. 1,000,000 - Rp. 1,999,999','Rp. 2,000,000 - Rp. 4,999,999','Rp. 5,000,000 - Rp. 20,000,000'])\n",
    "plt.tight_layout()\n",
    "plt.show()"
   ]
  },
  {
   "cell_type": "markdown",
   "id": "7d74df60-0985-4bfe-99a4-6a6750ec55a1",
   "metadata": {},
   "source": [
    "#### Tabulasi Hasil KMeans Clustering"
   ]
  },
  {
   "cell_type": "code",
   "execution_count": 42,
   "id": "a896c10e-89c5-4943-a110-ff58a83f58a8",
   "metadata": {},
   "outputs": [
    {
     "data": {
      "text/html": [
       "<div>\n",
       "<style scoped>\n",
       "    .dataframe tbody tr th:only-of-type {\n",
       "        vertical-align: middle;\n",
       "    }\n",
       "\n",
       "    .dataframe tbody tr th {\n",
       "        vertical-align: top;\n",
       "    }\n",
       "\n",
       "    .dataframe thead th {\n",
       "        text-align: right;\n",
       "    }\n",
       "</style>\n",
       "<table border=\"1\" class=\"dataframe\">\n",
       "  <thead>\n",
       "    <tr style=\"text-align: right;\">\n",
       "      <th></th>\n",
       "      <th>Nama</th>\n",
       "      <th>pjok</th>\n",
       "      <th>sbk</th>\n",
       "      <th>cluster</th>\n",
       "    </tr>\n",
       "  </thead>\n",
       "  <tbody>\n",
       "    <tr>\n",
       "      <th>0</th>\n",
       "      <td>ns1</td>\n",
       "      <td>-1.815735</td>\n",
       "      <td>0.211835</td>\n",
       "      <td>0</td>\n",
       "    </tr>\n",
       "    <tr>\n",
       "      <th>1</th>\n",
       "      <td>ns28</td>\n",
       "      <td>-0.679787</td>\n",
       "      <td>2.349078</td>\n",
       "      <td>6</td>\n",
       "    </tr>\n",
       "    <tr>\n",
       "      <th>2</th>\n",
       "      <td>ns33</td>\n",
       "      <td>-1.178572</td>\n",
       "      <td>-1.166689</td>\n",
       "      <td>5</td>\n",
       "    </tr>\n",
       "    <tr>\n",
       "      <th>3</th>\n",
       "      <td>ns58</td>\n",
       "      <td>-0.842400</td>\n",
       "      <td>2.042091</td>\n",
       "      <td>6</td>\n",
       "    </tr>\n",
       "    <tr>\n",
       "      <th>4</th>\n",
       "      <td>ns68</td>\n",
       "      <td>1.510802</td>\n",
       "      <td>0.669399</td>\n",
       "      <td>4</td>\n",
       "    </tr>\n",
       "  </tbody>\n",
       "</table>\n",
       "</div>"
      ],
      "text/plain": [
       "   Nama      pjok       sbk  cluster\n",
       "0   ns1 -1.815735  0.211835        0\n",
       "1  ns28 -0.679787  2.349078        6\n",
       "2  ns33 -1.178572 -1.166689        5\n",
       "3  ns58 -0.842400  2.042091        6\n",
       "4  ns68  1.510802  0.669399        4"
      ]
     },
     "execution_count": 42,
     "metadata": {},
     "output_type": "execute_result"
    }
   ],
   "source": [
    "# penggabungan kolom nama dengan data hasil klasterisasi\n",
    "\n",
    "data_2 = pd.concat([df.select_dtypes('object'),pca_nilai_mlcl_2],axis=1)\n",
    "data_2.head()"
   ]
  },
  {
   "cell_type": "markdown",
   "id": "ef257b43-6457-4908-b1ec-f8ce4a942e83",
   "metadata": {},
   "source": [
    "##### SBK"
   ]
  },
  {
   "cell_type": "code",
   "execution_count": 43,
   "id": "f5a04042-7234-4245-a5be-a7ab1db51608",
   "metadata": {},
   "outputs": [
    {
     "data": {
      "text/html": [
       "<div>\n",
       "<style scoped>\n",
       "    .dataframe tbody tr th:only-of-type {\n",
       "        vertical-align: middle;\n",
       "    }\n",
       "\n",
       "    .dataframe tbody tr th {\n",
       "        vertical-align: top;\n",
       "    }\n",
       "\n",
       "    .dataframe thead th {\n",
       "        text-align: right;\n",
       "    }\n",
       "</style>\n",
       "<table border=\"1\" class=\"dataframe\">\n",
       "  <thead>\n",
       "    <tr style=\"text-align: right;\">\n",
       "      <th></th>\n",
       "      <th>Nama</th>\n",
       "      <th>pjok</th>\n",
       "      <th>sbk</th>\n",
       "      <th>cluster</th>\n",
       "    </tr>\n",
       "  </thead>\n",
       "  <tbody>\n",
       "    <tr>\n",
       "      <th>10</th>\n",
       "      <td>ns110</td>\n",
       "      <td>-1.722311</td>\n",
       "      <td>3.270038</td>\n",
       "      <td>3</td>\n",
       "    </tr>\n",
       "    <tr>\n",
       "      <th>25</th>\n",
       "      <td>ns182</td>\n",
       "      <td>-2.452898</td>\n",
       "      <td>3.270038</td>\n",
       "      <td>3</td>\n",
       "    </tr>\n",
       "  </tbody>\n",
       "</table>\n",
       "</div>"
      ],
      "text/plain": [
       "     Nama      pjok       sbk  cluster\n",
       "10  ns110 -1.722311  3.270038        3\n",
       "25  ns182 -2.452898  3.270038        3"
      ]
     },
     "execution_count": 43,
     "metadata": {},
     "output_type": "execute_result"
    }
   ],
   "source": [
    "# top 1 \n",
    "\n",
    "data_2[data_2['cluster']==3]"
   ]
  },
  {
   "cell_type": "code",
   "execution_count": 44,
   "id": "4a9a2908-2b52-4e14-92ea-ab0d5ba5e44a",
   "metadata": {},
   "outputs": [
    {
     "data": {
      "text/html": [
       "<div>\n",
       "<style scoped>\n",
       "    .dataframe tbody tr th:only-of-type {\n",
       "        vertical-align: middle;\n",
       "    }\n",
       "\n",
       "    .dataframe tbody tr th {\n",
       "        vertical-align: top;\n",
       "    }\n",
       "\n",
       "    .dataframe thead th {\n",
       "        text-align: right;\n",
       "    }\n",
       "</style>\n",
       "<table border=\"1\" class=\"dataframe\">\n",
       "  <thead>\n",
       "    <tr style=\"text-align: right;\">\n",
       "      <th></th>\n",
       "      <th>Nama</th>\n",
       "      <th>pjok</th>\n",
       "      <th>sbk</th>\n",
       "      <th>cluster</th>\n",
       "    </tr>\n",
       "  </thead>\n",
       "  <tbody>\n",
       "    <tr>\n",
       "      <th>36</th>\n",
       "      <td>ns237</td>\n",
       "      <td>0.038682</td>\n",
       "      <td>2.656064</td>\n",
       "      <td>6</td>\n",
       "    </tr>\n",
       "    <tr>\n",
       "      <th>1</th>\n",
       "      <td>ns28</td>\n",
       "      <td>-0.679787</td>\n",
       "      <td>2.349078</td>\n",
       "      <td>6</td>\n",
       "    </tr>\n",
       "    <tr>\n",
       "      <th>11</th>\n",
       "      <td>ns137</td>\n",
       "      <td>-1.433437</td>\n",
       "      <td>2.198501</td>\n",
       "      <td>6</td>\n",
       "    </tr>\n",
       "    <tr>\n",
       "      <th>3</th>\n",
       "      <td>ns58</td>\n",
       "      <td>-0.842400</td>\n",
       "      <td>2.042091</td>\n",
       "      <td>6</td>\n",
       "    </tr>\n",
       "    <tr>\n",
       "      <th>31</th>\n",
       "      <td>ns211</td>\n",
       "      <td>-0.725913</td>\n",
       "      <td>1.283373</td>\n",
       "      <td>6</td>\n",
       "    </tr>\n",
       "  </tbody>\n",
       "</table>\n",
       "</div>"
      ],
      "text/plain": [
       "     Nama      pjok       sbk  cluster\n",
       "36  ns237  0.038682  2.656064        6\n",
       "1    ns28 -0.679787  2.349078        6\n",
       "11  ns137 -1.433437  2.198501        6\n",
       "3    ns58 -0.842400  2.042091        6\n",
       "31  ns211 -0.725913  1.283373        6"
      ]
     },
     "execution_count": 44,
     "metadata": {},
     "output_type": "execute_result"
    }
   ],
   "source": [
    "# top 2\n",
    "\n",
    "data_2[data_2['cluster']==6].sort_values(by='sbk',ascending=False)"
   ]
  },
  {
   "cell_type": "markdown",
   "id": "32802322-6865-4355-9bae-a71e69d05118",
   "metadata": {},
   "source": [
    "##### PJOK"
   ]
  },
  {
   "cell_type": "code",
   "execution_count": 45,
   "id": "27b92c05-ac55-41cb-9abb-78e899aa1a29",
   "metadata": {},
   "outputs": [
    {
     "data": {
      "text/html": [
       "<div>\n",
       "<style scoped>\n",
       "    .dataframe tbody tr th:only-of-type {\n",
       "        vertical-align: middle;\n",
       "    }\n",
       "\n",
       "    .dataframe tbody tr th {\n",
       "        vertical-align: top;\n",
       "    }\n",
       "\n",
       "    .dataframe thead th {\n",
       "        text-align: right;\n",
       "    }\n",
       "</style>\n",
       "<table border=\"1\" class=\"dataframe\">\n",
       "  <thead>\n",
       "    <tr style=\"text-align: right;\">\n",
       "      <th></th>\n",
       "      <th>Nama</th>\n",
       "      <th>pjok</th>\n",
       "      <th>sbk</th>\n",
       "      <th>cluster</th>\n",
       "    </tr>\n",
       "  </thead>\n",
       "  <tbody>\n",
       "    <tr>\n",
       "      <th>28</th>\n",
       "      <td>ns199</td>\n",
       "      <td>2.901615</td>\n",
       "      <td>-0.558547</td>\n",
       "      <td>1</td>\n",
       "    </tr>\n",
       "    <tr>\n",
       "      <th>44</th>\n",
       "      <td>ns281</td>\n",
       "      <td>2.901615</td>\n",
       "      <td>-2.208694</td>\n",
       "      <td>1</td>\n",
       "    </tr>\n",
       "    <tr>\n",
       "      <th>22</th>\n",
       "      <td>ns169</td>\n",
       "      <td>1.730487</td>\n",
       "      <td>-1.016111</td>\n",
       "      <td>1</td>\n",
       "    </tr>\n",
       "  </tbody>\n",
       "</table>\n",
       "</div>"
      ],
      "text/plain": [
       "     Nama      pjok       sbk  cluster\n",
       "28  ns199  2.901615 -0.558547        1\n",
       "44  ns281  2.901615 -2.208694        1\n",
       "22  ns169  1.730487 -1.016111        1"
      ]
     },
     "execution_count": 45,
     "metadata": {},
     "output_type": "execute_result"
    }
   ],
   "source": [
    "# Top 1\n",
    "\n",
    "data_2[data_2['cluster']==1].sort_values(by='pjok',ascending=False)"
   ]
  },
  {
   "cell_type": "code",
   "execution_count": 46,
   "id": "01a16e04-22af-405c-9bce-9de1b559df1a",
   "metadata": {},
   "outputs": [
    {
     "data": {
      "text/html": [
       "<div>\n",
       "<style scoped>\n",
       "    .dataframe tbody tr th:only-of-type {\n",
       "        vertical-align: middle;\n",
       "    }\n",
       "\n",
       "    .dataframe tbody tr th {\n",
       "        vertical-align: top;\n",
       "    }\n",
       "\n",
       "    .dataframe thead th {\n",
       "        text-align: right;\n",
       "    }\n",
       "</style>\n",
       "<table border=\"1\" class=\"dataframe\">\n",
       "  <thead>\n",
       "    <tr style=\"text-align: right;\">\n",
       "      <th></th>\n",
       "      <th>Nama</th>\n",
       "      <th>pjok</th>\n",
       "      <th>sbk</th>\n",
       "      <th>cluster</th>\n",
       "    </tr>\n",
       "  </thead>\n",
       "  <tbody>\n",
       "    <tr>\n",
       "      <th>45</th>\n",
       "      <td>ns291</td>\n",
       "      <td>1.615171</td>\n",
       "      <td>-0.098067</td>\n",
       "      <td>2</td>\n",
       "    </tr>\n",
       "    <tr>\n",
       "      <th>18</th>\n",
       "      <td>ns161</td>\n",
       "      <td>1.533865</td>\n",
       "      <td>-0.859702</td>\n",
       "      <td>2</td>\n",
       "    </tr>\n",
       "    <tr>\n",
       "      <th>37</th>\n",
       "      <td>ns253</td>\n",
       "      <td>1.464676</td>\n",
       "      <td>-0.555631</td>\n",
       "      <td>2</td>\n",
       "    </tr>\n",
       "    <tr>\n",
       "      <th>43</th>\n",
       "      <td>ns277</td>\n",
       "      <td>1.105441</td>\n",
       "      <td>-0.859702</td>\n",
       "      <td>2</td>\n",
       "    </tr>\n",
       "    <tr>\n",
       "      <th>46</th>\n",
       "      <td>ns301</td>\n",
       "      <td>1.024134</td>\n",
       "      <td>-1.013195</td>\n",
       "      <td>2</td>\n",
       "    </tr>\n",
       "    <tr>\n",
       "      <th>13</th>\n",
       "      <td>ns139</td>\n",
       "      <td>0.884585</td>\n",
       "      <td>-1.630085</td>\n",
       "      <td>2</td>\n",
       "    </tr>\n",
       "    <tr>\n",
       "      <th>15</th>\n",
       "      <td>ns153</td>\n",
       "      <td>0.723143</td>\n",
       "      <td>-0.555631</td>\n",
       "      <td>2</td>\n",
       "    </tr>\n",
       "    <tr>\n",
       "      <th>6</th>\n",
       "      <td>ns93</td>\n",
       "      <td>0.698909</td>\n",
       "      <td>-0.558547</td>\n",
       "      <td>2</td>\n",
       "    </tr>\n",
       "    <tr>\n",
       "      <th>8</th>\n",
       "      <td>ns98</td>\n",
       "      <td>0.641837</td>\n",
       "      <td>-0.859702</td>\n",
       "      <td>2</td>\n",
       "    </tr>\n",
       "    <tr>\n",
       "      <th>42</th>\n",
       "      <td>ns267</td>\n",
       "      <td>0.548413</td>\n",
       "      <td>-1.104708</td>\n",
       "      <td>2</td>\n",
       "    </tr>\n",
       "    <tr>\n",
       "      <th>14</th>\n",
       "      <td>ns150</td>\n",
       "      <td>0.456161</td>\n",
       "      <td>-0.771105</td>\n",
       "      <td>2</td>\n",
       "    </tr>\n",
       "    <tr>\n",
       "      <th>39</th>\n",
       "      <td>ns255</td>\n",
       "      <td>0.374854</td>\n",
       "      <td>-0.862618</td>\n",
       "      <td>2</td>\n",
       "    </tr>\n",
       "    <tr>\n",
       "      <th>12</th>\n",
       "      <td>ns138</td>\n",
       "      <td>0.350620</td>\n",
       "      <td>-1.473675</td>\n",
       "      <td>2</td>\n",
       "    </tr>\n",
       "    <tr>\n",
       "      <th>26</th>\n",
       "      <td>ns184</td>\n",
       "      <td>0.201295</td>\n",
       "      <td>-0.862618</td>\n",
       "      <td>2</td>\n",
       "    </tr>\n",
       "    <tr>\n",
       "      <th>9</th>\n",
       "      <td>ns100</td>\n",
       "      <td>0.095755</td>\n",
       "      <td>-0.251561</td>\n",
       "      <td>2</td>\n",
       "    </tr>\n",
       "  </tbody>\n",
       "</table>\n",
       "</div>"
      ],
      "text/plain": [
       "     Nama      pjok       sbk  cluster\n",
       "45  ns291  1.615171 -0.098067        2\n",
       "18  ns161  1.533865 -0.859702        2\n",
       "37  ns253  1.464676 -0.555631        2\n",
       "43  ns277  1.105441 -0.859702        2\n",
       "46  ns301  1.024134 -1.013195        2\n",
       "13  ns139  0.884585 -1.630085        2\n",
       "15  ns153  0.723143 -0.555631        2\n",
       "6    ns93  0.698909 -0.558547        2\n",
       "8    ns98  0.641837 -0.859702        2\n",
       "42  ns267  0.548413 -1.104708        2\n",
       "14  ns150  0.456161 -0.771105        2\n",
       "39  ns255  0.374854 -0.862618        2\n",
       "12  ns138  0.350620 -1.473675        2\n",
       "26  ns184  0.201295 -0.862618        2\n",
       "9   ns100  0.095755 -0.251561        2"
      ]
     },
     "execution_count": 46,
     "metadata": {},
     "output_type": "execute_result"
    }
   ],
   "source": [
    "# Second Choice\n",
    "\n",
    "data_2[data_2['cluster']==2].sort_values(by='pjok',ascending=False)"
   ]
  },
  {
   "cell_type": "code",
   "execution_count": 47,
   "id": "4bb61b17-1f17-4bff-94e8-b28affb24b0b",
   "metadata": {},
   "outputs": [
    {
     "data": {
      "text/html": [
       "<div>\n",
       "<style scoped>\n",
       "    .dataframe tbody tr th:only-of-type {\n",
       "        vertical-align: middle;\n",
       "    }\n",
       "\n",
       "    .dataframe tbody tr th {\n",
       "        vertical-align: top;\n",
       "    }\n",
       "\n",
       "    .dataframe thead th {\n",
       "        text-align: right;\n",
       "    }\n",
       "</style>\n",
       "<table border=\"1\" class=\"dataframe\">\n",
       "  <thead>\n",
       "    <tr style=\"text-align: right;\">\n",
       "      <th></th>\n",
       "      <th>Nama</th>\n",
       "      <th>pjok</th>\n",
       "      <th>sbk</th>\n",
       "      <th>cluster</th>\n",
       "    </tr>\n",
       "  </thead>\n",
       "  <tbody>\n",
       "    <tr>\n",
       "      <th>4</th>\n",
       "      <td>ns68</td>\n",
       "      <td>1.510802</td>\n",
       "      <td>0.669399</td>\n",
       "      <td>4</td>\n",
       "    </tr>\n",
       "    <tr>\n",
       "      <th>32</th>\n",
       "      <td>ns221</td>\n",
       "      <td>1.475622</td>\n",
       "      <td>1.124047</td>\n",
       "      <td>4</td>\n",
       "    </tr>\n",
       "    <tr>\n",
       "      <th>29</th>\n",
       "      <td>ns202</td>\n",
       "      <td>1.406432</td>\n",
       "      <td>0.211835</td>\n",
       "      <td>4</td>\n",
       "    </tr>\n",
       "    <tr>\n",
       "      <th>47</th>\n",
       "      <td>ns302</td>\n",
       "      <td>0.757152</td>\n",
       "      <td>1.283373</td>\n",
       "      <td>4</td>\n",
       "    </tr>\n",
       "    <tr>\n",
       "      <th>34</th>\n",
       "      <td>ns227</td>\n",
       "      <td>0.502287</td>\n",
       "      <td>1.433950</td>\n",
       "      <td>4</td>\n",
       "    </tr>\n",
       "  </tbody>\n",
       "</table>\n",
       "</div>"
      ],
      "text/plain": [
       "     Nama      pjok       sbk  cluster\n",
       "4    ns68  1.510802  0.669399        4\n",
       "32  ns221  1.475622  1.124047        4\n",
       "29  ns202  1.406432  0.211835        4\n",
       "47  ns302  0.757152  1.283373        4\n",
       "34  ns227  0.502287  1.433950        4"
      ]
     },
     "execution_count": 47,
     "metadata": {},
     "output_type": "execute_result"
    }
   ],
   "source": [
    "# Another Choice\n",
    "\n",
    "data_2[data_2['cluster']==4].sort_values(by='pjok',ascending=False)"
   ]
  },
  {
   "cell_type": "markdown",
   "id": "736c70c5-e680-4182-95e8-821562b50e10",
   "metadata": {},
   "source": [
    "Catatan:\n",
    "\n",
    "Secara umum, kemampuan Siswa dalam hal Kesenian dan Olahraga menunjukkan hubungan yang berbanding terbalik.\n",
    "\n",
    "Artinya, semakin baik Siswa dalam Kesenian, maka cenderung akan kurang dalam Olahraga, begitupula sebaliknya."
   ]
  }
 ],
 "metadata": {
  "kernelspec": {
   "display_name": "Python 3 (ipykernel)",
   "language": "python",
   "name": "python3"
  },
  "language_info": {
   "codemirror_mode": {
    "name": "ipython",
    "version": 3
   },
   "file_extension": ".py",
   "mimetype": "text/x-python",
   "name": "python",
   "nbconvert_exporter": "python",
   "pygments_lexer": "ipython3",
   "version": "3.9.7"
  }
 },
 "nbformat": 4,
 "nbformat_minor": 5
}
