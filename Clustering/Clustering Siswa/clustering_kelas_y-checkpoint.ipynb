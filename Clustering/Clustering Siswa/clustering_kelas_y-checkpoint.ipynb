{
 "cells": [
  {
   "cell_type": "markdown",
   "id": "0e484b04-19c3-4ea3-81ab-3fb6e921fd9a",
   "metadata": {},
   "source": [
    "# Import Library"
   ]
  },
  {
   "cell_type": "code",
   "execution_count": 1,
   "id": "949e8d2d-4348-4f8c-a137-d944fcdb58cd",
   "metadata": {},
   "outputs": [],
   "source": [
    "import numpy as np\n",
    "import pandas as pd\n",
    "import matplotlib.pyplot as plt\n",
    "import seaborn as sns"
   ]
  },
  {
   "cell_type": "markdown",
   "id": "e89af001-b6e7-4765-9b83-4e90ba4315a9",
   "metadata": {},
   "source": [
    "# Import Data"
   ]
  },
  {
   "cell_type": "code",
   "execution_count": 2,
   "id": "c87081b9-f85e-45d4-953a-dfa3cf43df92",
   "metadata": {},
   "outputs": [],
   "source": [
    "df = pd.read_excel('C:/Users/Nadiana Yemin Mukti/Documents/SDN Sukamulya 2/raw data/nilai_kelas_y_unsupervised.xlsx')"
   ]
  },
  {
   "cell_type": "markdown",
   "id": "5ffa7c9a-ac67-4467-a4a5-60b29732cd52",
   "metadata": {},
   "source": [
    "## Cuplikan Data"
   ]
  },
  {
   "cell_type": "code",
   "execution_count": 3,
   "id": "3357a7df-4c1b-47b2-bdde-b230f8580929",
   "metadata": {},
   "outputs": [
    {
     "data": {
      "text/html": [
       "<div>\n",
       "<style scoped>\n",
       "    .dataframe tbody tr th:only-of-type {\n",
       "        vertical-align: middle;\n",
       "    }\n",
       "\n",
       "    .dataframe tbody tr th {\n",
       "        vertical-align: top;\n",
       "    }\n",
       "\n",
       "    .dataframe thead th {\n",
       "        text-align: right;\n",
       "    }\n",
       "</style>\n",
       "<table border=\"1\" class=\"dataframe\">\n",
       "  <thead>\n",
       "    <tr style=\"text-align: right;\">\n",
       "      <th></th>\n",
       "      <th>no</th>\n",
       "      <th>nama</th>\n",
       "      <th>p_pai</th>\n",
       "      <th>k_pai</th>\n",
       "      <th>p_pkn</th>\n",
       "      <th>k_pkn</th>\n",
       "      <th>p_indo</th>\n",
       "      <th>k_indo</th>\n",
       "      <th>p_mtk</th>\n",
       "      <th>k_mtk</th>\n",
       "      <th>p_ipa</th>\n",
       "      <th>k_ipa</th>\n",
       "      <th>p_ips</th>\n",
       "      <th>k_ips</th>\n",
       "      <th>p_sbk</th>\n",
       "      <th>k_sbk</th>\n",
       "      <th>p_pjok</th>\n",
       "      <th>k_pjok</th>\n",
       "      <th>p_sunda</th>\n",
       "      <th>k_sunda</th>\n",
       "    </tr>\n",
       "  </thead>\n",
       "  <tbody>\n",
       "    <tr>\n",
       "      <th>0</th>\n",
       "      <td>1</td>\n",
       "      <td>ns7</td>\n",
       "      <td>80</td>\n",
       "      <td>80</td>\n",
       "      <td>88</td>\n",
       "      <td>88</td>\n",
       "      <td>88</td>\n",
       "      <td>85</td>\n",
       "      <td>82</td>\n",
       "      <td>82</td>\n",
       "      <td>87</td>\n",
       "      <td>87</td>\n",
       "      <td>88</td>\n",
       "      <td>85</td>\n",
       "      <td>85</td>\n",
       "      <td>85</td>\n",
       "      <td>85</td>\n",
       "      <td>85</td>\n",
       "      <td>92</td>\n",
       "      <td>92</td>\n",
       "    </tr>\n",
       "    <tr>\n",
       "      <th>1</th>\n",
       "      <td>2</td>\n",
       "      <td>ns13</td>\n",
       "      <td>80</td>\n",
       "      <td>80</td>\n",
       "      <td>84</td>\n",
       "      <td>84</td>\n",
       "      <td>82</td>\n",
       "      <td>82</td>\n",
       "      <td>80</td>\n",
       "      <td>81</td>\n",
       "      <td>85</td>\n",
       "      <td>85</td>\n",
       "      <td>84</td>\n",
       "      <td>83</td>\n",
       "      <td>80</td>\n",
       "      <td>80</td>\n",
       "      <td>75</td>\n",
       "      <td>75</td>\n",
       "      <td>87</td>\n",
       "      <td>87</td>\n",
       "    </tr>\n",
       "    <tr>\n",
       "      <th>2</th>\n",
       "      <td>3</td>\n",
       "      <td>ns23</td>\n",
       "      <td>85</td>\n",
       "      <td>85</td>\n",
       "      <td>85</td>\n",
       "      <td>85</td>\n",
       "      <td>87</td>\n",
       "      <td>84</td>\n",
       "      <td>82</td>\n",
       "      <td>82</td>\n",
       "      <td>85</td>\n",
       "      <td>85</td>\n",
       "      <td>85</td>\n",
       "      <td>83</td>\n",
       "      <td>80</td>\n",
       "      <td>80</td>\n",
       "      <td>80</td>\n",
       "      <td>80</td>\n",
       "      <td>87</td>\n",
       "      <td>87</td>\n",
       "    </tr>\n",
       "    <tr>\n",
       "      <th>3</th>\n",
       "      <td>4</td>\n",
       "      <td>ns38</td>\n",
       "      <td>80</td>\n",
       "      <td>80</td>\n",
       "      <td>85</td>\n",
       "      <td>85</td>\n",
       "      <td>90</td>\n",
       "      <td>86</td>\n",
       "      <td>82</td>\n",
       "      <td>82</td>\n",
       "      <td>87</td>\n",
       "      <td>87</td>\n",
       "      <td>85</td>\n",
       "      <td>84</td>\n",
       "      <td>85</td>\n",
       "      <td>85</td>\n",
       "      <td>85</td>\n",
       "      <td>85</td>\n",
       "      <td>87</td>\n",
       "      <td>87</td>\n",
       "    </tr>\n",
       "    <tr>\n",
       "      <th>4</th>\n",
       "      <td>5</td>\n",
       "      <td>ns39</td>\n",
       "      <td>85</td>\n",
       "      <td>85</td>\n",
       "      <td>87</td>\n",
       "      <td>87</td>\n",
       "      <td>91</td>\n",
       "      <td>86</td>\n",
       "      <td>82</td>\n",
       "      <td>81</td>\n",
       "      <td>87</td>\n",
       "      <td>87</td>\n",
       "      <td>85</td>\n",
       "      <td>83</td>\n",
       "      <td>85</td>\n",
       "      <td>85</td>\n",
       "      <td>85</td>\n",
       "      <td>85</td>\n",
       "      <td>87</td>\n",
       "      <td>87</td>\n",
       "    </tr>\n",
       "  </tbody>\n",
       "</table>\n",
       "</div>"
      ],
      "text/plain": [
       "   no  nama  p_pai  k_pai  p_pkn  k_pkn  p_indo  k_indo  p_mtk  k_mtk  p_ipa  \\\n",
       "0   1   ns7     80     80     88     88      88      85     82     82     87   \n",
       "1   2  ns13     80     80     84     84      82      82     80     81     85   \n",
       "2   3  ns23     85     85     85     85      87      84     82     82     85   \n",
       "3   4  ns38     80     80     85     85      90      86     82     82     87   \n",
       "4   5  ns39     85     85     87     87      91      86     82     81     87   \n",
       "\n",
       "   k_ipa  p_ips  k_ips  p_sbk  k_sbk  p_pjok  k_pjok  p_sunda  k_sunda  \n",
       "0     87     88     85     85     85      85      85       92       92  \n",
       "1     85     84     83     80     80      75      75       87       87  \n",
       "2     85     85     83     80     80      80      80       87       87  \n",
       "3     87     85     84     85     85      85      85       87       87  \n",
       "4     87     85     83     85     85      85      85       87       87  "
      ]
     },
     "execution_count": 3,
     "metadata": {},
     "output_type": "execute_result"
    }
   ],
   "source": [
    "df.head(5)"
   ]
  },
  {
   "cell_type": "markdown",
   "id": "989cd799-2d30-4084-afa1-5404df30b9a8",
   "metadata": {},
   "source": [
    "# Informasi Umum Data"
   ]
  },
  {
   "cell_type": "code",
   "execution_count": 4,
   "id": "ef5ba85f-0664-4ddf-98f4-6947efb93fdb",
   "metadata": {},
   "outputs": [
    {
     "name": "stdout",
     "output_type": "stream",
     "text": [
      "<class 'pandas.core.frame.DataFrame'>\n",
      "RangeIndex: 35 entries, 0 to 34\n",
      "Data columns (total 20 columns):\n",
      " #   Column   Non-Null Count  Dtype \n",
      "---  ------   --------------  ----- \n",
      " 0   no       35 non-null     int64 \n",
      " 1   nama     35 non-null     object\n",
      " 2   p_pai    35 non-null     int64 \n",
      " 3   k_pai    35 non-null     int64 \n",
      " 4   p_pkn    35 non-null     int64 \n",
      " 5   k_pkn    35 non-null     int64 \n",
      " 6   p_indo   35 non-null     int64 \n",
      " 7   k_indo   35 non-null     int64 \n",
      " 8   p_mtk    35 non-null     int64 \n",
      " 9   k_mtk    35 non-null     int64 \n",
      " 10  p_ipa    35 non-null     int64 \n",
      " 11  k_ipa    35 non-null     int64 \n",
      " 12  p_ips    35 non-null     int64 \n",
      " 13  k_ips    35 non-null     int64 \n",
      " 14  p_sbk    35 non-null     int64 \n",
      " 15  k_sbk    35 non-null     int64 \n",
      " 16  p_pjok   35 non-null     int64 \n",
      " 17  k_pjok   35 non-null     int64 \n",
      " 18  p_sunda  35 non-null     int64 \n",
      " 19  k_sunda  35 non-null     int64 \n",
      "dtypes: int64(19), object(1)\n",
      "memory usage: 5.6+ KB\n"
     ]
    }
   ],
   "source": [
    "df.info()"
   ]
  },
  {
   "cell_type": "markdown",
   "id": "55e9c6b5-a539-4844-89ea-6361131e0897",
   "metadata": {},
   "source": [
    "# Statitics Summary"
   ]
  },
  {
   "cell_type": "code",
   "execution_count": 5,
   "id": "b720d347-904a-46b6-966a-2d206f097ef5",
   "metadata": {},
   "outputs": [
    {
     "data": {
      "text/html": [
       "<div>\n",
       "<style scoped>\n",
       "    .dataframe tbody tr th:only-of-type {\n",
       "        vertical-align: middle;\n",
       "    }\n",
       "\n",
       "    .dataframe tbody tr th {\n",
       "        vertical-align: top;\n",
       "    }\n",
       "\n",
       "    .dataframe thead th {\n",
       "        text-align: right;\n",
       "    }\n",
       "</style>\n",
       "<table border=\"1\" class=\"dataframe\">\n",
       "  <thead>\n",
       "    <tr style=\"text-align: right;\">\n",
       "      <th></th>\n",
       "      <th>no</th>\n",
       "      <th>p_pai</th>\n",
       "      <th>k_pai</th>\n",
       "      <th>p_pkn</th>\n",
       "      <th>k_pkn</th>\n",
       "      <th>p_indo</th>\n",
       "      <th>k_indo</th>\n",
       "      <th>p_mtk</th>\n",
       "      <th>k_mtk</th>\n",
       "      <th>p_ipa</th>\n",
       "      <th>k_ipa</th>\n",
       "      <th>p_ips</th>\n",
       "      <th>k_ips</th>\n",
       "      <th>p_sbk</th>\n",
       "      <th>k_sbk</th>\n",
       "      <th>p_pjok</th>\n",
       "      <th>k_pjok</th>\n",
       "      <th>p_sunda</th>\n",
       "      <th>k_sunda</th>\n",
       "    </tr>\n",
       "  </thead>\n",
       "  <tbody>\n",
       "    <tr>\n",
       "      <th>count</th>\n",
       "      <td>35.000000</td>\n",
       "      <td>35.000000</td>\n",
       "      <td>35.000000</td>\n",
       "      <td>35.000000</td>\n",
       "      <td>35.000000</td>\n",
       "      <td>35.000000</td>\n",
       "      <td>35.000000</td>\n",
       "      <td>35.000000</td>\n",
       "      <td>35.000000</td>\n",
       "      <td>35.000000</td>\n",
       "      <td>35.000000</td>\n",
       "      <td>35.000000</td>\n",
       "      <td>35.000000</td>\n",
       "      <td>35.000000</td>\n",
       "      <td>35.000000</td>\n",
       "      <td>35.000000</td>\n",
       "      <td>35.000000</td>\n",
       "      <td>35.000000</td>\n",
       "      <td>35.000000</td>\n",
       "    </tr>\n",
       "    <tr>\n",
       "      <th>mean</th>\n",
       "      <td>18.000000</td>\n",
       "      <td>83.571429</td>\n",
       "      <td>83.571429</td>\n",
       "      <td>87.571429</td>\n",
       "      <td>87.685714</td>\n",
       "      <td>88.914286</td>\n",
       "      <td>86.828571</td>\n",
       "      <td>82.571429</td>\n",
       "      <td>82.800000</td>\n",
       "      <td>86.971429</td>\n",
       "      <td>86.971429</td>\n",
       "      <td>86.085714</td>\n",
       "      <td>84.914286</td>\n",
       "      <td>83.200000</td>\n",
       "      <td>83.200000</td>\n",
       "      <td>83.057143</td>\n",
       "      <td>83.057143</td>\n",
       "      <td>89.600000</td>\n",
       "      <td>89.600000</td>\n",
       "    </tr>\n",
       "    <tr>\n",
       "      <th>std</th>\n",
       "      <td>10.246951</td>\n",
       "      <td>4.467436</td>\n",
       "      <td>4.467436</td>\n",
       "      <td>2.416679</td>\n",
       "      <td>2.741526</td>\n",
       "      <td>3.100014</td>\n",
       "      <td>2.884907</td>\n",
       "      <td>2.104417</td>\n",
       "      <td>1.843909</td>\n",
       "      <td>2.406923</td>\n",
       "      <td>2.406923</td>\n",
       "      <td>2.160766</td>\n",
       "      <td>1.837060</td>\n",
       "      <td>3.894189</td>\n",
       "      <td>3.894189</td>\n",
       "      <td>4.101240</td>\n",
       "      <td>4.101240</td>\n",
       "      <td>2.089188</td>\n",
       "      <td>2.089188</td>\n",
       "    </tr>\n",
       "    <tr>\n",
       "      <th>min</th>\n",
       "      <td>1.000000</td>\n",
       "      <td>75.000000</td>\n",
       "      <td>75.000000</td>\n",
       "      <td>84.000000</td>\n",
       "      <td>82.000000</td>\n",
       "      <td>82.000000</td>\n",
       "      <td>82.000000</td>\n",
       "      <td>80.000000</td>\n",
       "      <td>80.000000</td>\n",
       "      <td>80.000000</td>\n",
       "      <td>80.000000</td>\n",
       "      <td>82.000000</td>\n",
       "      <td>82.000000</td>\n",
       "      <td>75.000000</td>\n",
       "      <td>75.000000</td>\n",
       "      <td>75.000000</td>\n",
       "      <td>75.000000</td>\n",
       "      <td>86.000000</td>\n",
       "      <td>86.000000</td>\n",
       "    </tr>\n",
       "    <tr>\n",
       "      <th>25%</th>\n",
       "      <td>9.500000</td>\n",
       "      <td>80.000000</td>\n",
       "      <td>80.000000</td>\n",
       "      <td>85.000000</td>\n",
       "      <td>85.000000</td>\n",
       "      <td>87.000000</td>\n",
       "      <td>85.000000</td>\n",
       "      <td>81.000000</td>\n",
       "      <td>81.500000</td>\n",
       "      <td>85.000000</td>\n",
       "      <td>85.000000</td>\n",
       "      <td>84.500000</td>\n",
       "      <td>83.000000</td>\n",
       "      <td>80.000000</td>\n",
       "      <td>80.000000</td>\n",
       "      <td>80.000000</td>\n",
       "      <td>80.000000</td>\n",
       "      <td>88.000000</td>\n",
       "      <td>88.000000</td>\n",
       "    </tr>\n",
       "    <tr>\n",
       "      <th>50%</th>\n",
       "      <td>18.000000</td>\n",
       "      <td>85.000000</td>\n",
       "      <td>85.000000</td>\n",
       "      <td>87.000000</td>\n",
       "      <td>88.000000</td>\n",
       "      <td>88.000000</td>\n",
       "      <td>86.000000</td>\n",
       "      <td>82.000000</td>\n",
       "      <td>82.000000</td>\n",
       "      <td>87.000000</td>\n",
       "      <td>87.000000</td>\n",
       "      <td>86.000000</td>\n",
       "      <td>85.000000</td>\n",
       "      <td>85.000000</td>\n",
       "      <td>85.000000</td>\n",
       "      <td>85.000000</td>\n",
       "      <td>85.000000</td>\n",
       "      <td>90.000000</td>\n",
       "      <td>90.000000</td>\n",
       "    </tr>\n",
       "    <tr>\n",
       "      <th>75%</th>\n",
       "      <td>26.500000</td>\n",
       "      <td>85.000000</td>\n",
       "      <td>85.000000</td>\n",
       "      <td>89.000000</td>\n",
       "      <td>90.000000</td>\n",
       "      <td>91.000000</td>\n",
       "      <td>89.000000</td>\n",
       "      <td>84.000000</td>\n",
       "      <td>84.000000</td>\n",
       "      <td>88.000000</td>\n",
       "      <td>88.000000</td>\n",
       "      <td>88.000000</td>\n",
       "      <td>86.000000</td>\n",
       "      <td>85.000000</td>\n",
       "      <td>85.000000</td>\n",
       "      <td>85.000000</td>\n",
       "      <td>85.000000</td>\n",
       "      <td>92.000000</td>\n",
       "      <td>92.000000</td>\n",
       "    </tr>\n",
       "    <tr>\n",
       "      <th>max</th>\n",
       "      <td>35.000000</td>\n",
       "      <td>95.000000</td>\n",
       "      <td>95.000000</td>\n",
       "      <td>93.000000</td>\n",
       "      <td>93.000000</td>\n",
       "      <td>94.000000</td>\n",
       "      <td>94.000000</td>\n",
       "      <td>90.000000</td>\n",
       "      <td>88.000000</td>\n",
       "      <td>91.000000</td>\n",
       "      <td>91.000000</td>\n",
       "      <td>92.000000</td>\n",
       "      <td>88.000000</td>\n",
       "      <td>90.000000</td>\n",
       "      <td>90.000000</td>\n",
       "      <td>90.000000</td>\n",
       "      <td>90.000000</td>\n",
       "      <td>94.000000</td>\n",
       "      <td>94.000000</td>\n",
       "    </tr>\n",
       "  </tbody>\n",
       "</table>\n",
       "</div>"
      ],
      "text/plain": [
       "              no      p_pai      k_pai      p_pkn      k_pkn     p_indo  \\\n",
       "count  35.000000  35.000000  35.000000  35.000000  35.000000  35.000000   \n",
       "mean   18.000000  83.571429  83.571429  87.571429  87.685714  88.914286   \n",
       "std    10.246951   4.467436   4.467436   2.416679   2.741526   3.100014   \n",
       "min     1.000000  75.000000  75.000000  84.000000  82.000000  82.000000   \n",
       "25%     9.500000  80.000000  80.000000  85.000000  85.000000  87.000000   \n",
       "50%    18.000000  85.000000  85.000000  87.000000  88.000000  88.000000   \n",
       "75%    26.500000  85.000000  85.000000  89.000000  90.000000  91.000000   \n",
       "max    35.000000  95.000000  95.000000  93.000000  93.000000  94.000000   \n",
       "\n",
       "          k_indo      p_mtk      k_mtk      p_ipa      k_ipa      p_ips  \\\n",
       "count  35.000000  35.000000  35.000000  35.000000  35.000000  35.000000   \n",
       "mean   86.828571  82.571429  82.800000  86.971429  86.971429  86.085714   \n",
       "std     2.884907   2.104417   1.843909   2.406923   2.406923   2.160766   \n",
       "min    82.000000  80.000000  80.000000  80.000000  80.000000  82.000000   \n",
       "25%    85.000000  81.000000  81.500000  85.000000  85.000000  84.500000   \n",
       "50%    86.000000  82.000000  82.000000  87.000000  87.000000  86.000000   \n",
       "75%    89.000000  84.000000  84.000000  88.000000  88.000000  88.000000   \n",
       "max    94.000000  90.000000  88.000000  91.000000  91.000000  92.000000   \n",
       "\n",
       "           k_ips      p_sbk      k_sbk     p_pjok     k_pjok    p_sunda  \\\n",
       "count  35.000000  35.000000  35.000000  35.000000  35.000000  35.000000   \n",
       "mean   84.914286  83.200000  83.200000  83.057143  83.057143  89.600000   \n",
       "std     1.837060   3.894189   3.894189   4.101240   4.101240   2.089188   \n",
       "min    82.000000  75.000000  75.000000  75.000000  75.000000  86.000000   \n",
       "25%    83.000000  80.000000  80.000000  80.000000  80.000000  88.000000   \n",
       "50%    85.000000  85.000000  85.000000  85.000000  85.000000  90.000000   \n",
       "75%    86.000000  85.000000  85.000000  85.000000  85.000000  92.000000   \n",
       "max    88.000000  90.000000  90.000000  90.000000  90.000000  94.000000   \n",
       "\n",
       "         k_sunda  \n",
       "count  35.000000  \n",
       "mean   89.600000  \n",
       "std     2.089188  \n",
       "min    86.000000  \n",
       "25%    88.000000  \n",
       "50%    90.000000  \n",
       "75%    92.000000  \n",
       "max    94.000000  "
      ]
     },
     "execution_count": 5,
     "metadata": {},
     "output_type": "execute_result"
    }
   ],
   "source": [
    "df.describe()"
   ]
  },
  {
   "cell_type": "markdown",
   "id": "caae7781-405d-4b23-914b-2e4df8cff520",
   "metadata": {},
   "source": [
    "# Penanganan Missing Value dan Data Duplikat"
   ]
  },
  {
   "cell_type": "markdown",
   "id": "90f0b5f1-29e0-43f0-b34d-925a5af9e6b1",
   "metadata": {},
   "source": [
    "## Cek Data"
   ]
  },
  {
   "cell_type": "code",
   "execution_count": 6,
   "id": "f0bdacdd-55c2-4245-9a6a-694ea9912a13",
   "metadata": {},
   "outputs": [
    {
     "data": {
      "text/plain": [
       "no         0\n",
       "nama       0\n",
       "p_pai      0\n",
       "k_pai      0\n",
       "p_pkn      0\n",
       "k_pkn      0\n",
       "p_indo     0\n",
       "k_indo     0\n",
       "p_mtk      0\n",
       "k_mtk      0\n",
       "p_ipa      0\n",
       "k_ipa      0\n",
       "p_ips      0\n",
       "k_ips      0\n",
       "p_sbk      0\n",
       "k_sbk      0\n",
       "p_pjok     0\n",
       "k_pjok     0\n",
       "p_sunda    0\n",
       "k_sunda    0\n",
       "dtype: int64"
      ]
     },
     "execution_count": 6,
     "metadata": {},
     "output_type": "execute_result"
    }
   ],
   "source": [
    "df.isnull().sum()"
   ]
  },
  {
   "cell_type": "code",
   "execution_count": 7,
   "id": "a58ce617-1132-4d4c-a992-9632477b5339",
   "metadata": {},
   "outputs": [
    {
     "data": {
      "text/plain": [
       "0"
      ]
     },
     "execution_count": 7,
     "metadata": {},
     "output_type": "execute_result"
    }
   ],
   "source": [
    "df.duplicated().sum()"
   ]
  },
  {
   "cell_type": "markdown",
   "id": "2ee95a7c-fdfc-4fb9-a437-edea2363ad0b",
   "metadata": {},
   "source": [
    "## Penanganan "
   ]
  },
  {
   "cell_type": "markdown",
   "id": "8e1a5853-2793-41af-b964-492d229e673f",
   "metadata": {},
   "source": [
    "Tidak Terdapat Missing Value dan Data Duplikat"
   ]
  },
  {
   "cell_type": "code",
   "execution_count": null,
   "id": "580f7e2c-f45c-4b06-b517-c8798ff4e8a2",
   "metadata": {},
   "outputs": [],
   "source": []
  },
  {
   "cell_type": "code",
   "execution_count": null,
   "id": "a9e666d6-907a-4f34-b67c-46f9cd0e9b05",
   "metadata": {},
   "outputs": [],
   "source": []
  },
  {
   "cell_type": "markdown",
   "id": "8b4c9e8b-c3c5-4f70-acb6-bd774b6af903",
   "metadata": {},
   "source": [
    "# Standardisasi Data"
   ]
  },
  {
   "cell_type": "code",
   "execution_count": 8,
   "id": "ed5b5155-a218-42bc-8427-a55160063561",
   "metadata": {},
   "outputs": [],
   "source": [
    "feats = ['p_pai','p_pkn','p_indo','p_mtk','p_ipa','p_ips','p_pjok','p_sbk','p_sunda','k_pai','k_pkn','k_indo','k_mtk','k_ipa','k_ips','k_pjok','k_sbk','k_sunda']\n",
    "\n",
    "from sklearn.preprocessing import StandardScaler\n",
    "df_std = StandardScaler().fit_transform(df[feats])\n",
    "new_df = pd.DataFrame(data = df_std, columns = feats)"
   ]
  },
  {
   "cell_type": "markdown",
   "id": "af84503d-e219-4f7e-8d8e-436de1c7a5af",
   "metadata": {},
   "source": [
    "## Cuplikan Data Setelah Standardisasi"
   ]
  },
  {
   "cell_type": "code",
   "execution_count": 9,
   "id": "7b61f14a-69e5-4cae-99ee-a1577e67632c",
   "metadata": {},
   "outputs": [
    {
     "data": {
      "text/html": [
       "<div>\n",
       "<style scoped>\n",
       "    .dataframe tbody tr th:only-of-type {\n",
       "        vertical-align: middle;\n",
       "    }\n",
       "\n",
       "    .dataframe tbody tr th {\n",
       "        vertical-align: top;\n",
       "    }\n",
       "\n",
       "    .dataframe thead th {\n",
       "        text-align: right;\n",
       "    }\n",
       "</style>\n",
       "<table border=\"1\" class=\"dataframe\">\n",
       "  <thead>\n",
       "    <tr style=\"text-align: right;\">\n",
       "      <th></th>\n",
       "      <th>p_pai</th>\n",
       "      <th>p_pkn</th>\n",
       "      <th>p_indo</th>\n",
       "      <th>p_mtk</th>\n",
       "      <th>p_ipa</th>\n",
       "      <th>p_ips</th>\n",
       "      <th>p_pjok</th>\n",
       "      <th>p_sbk</th>\n",
       "      <th>p_sunda</th>\n",
       "      <th>k_pai</th>\n",
       "      <th>k_pkn</th>\n",
       "      <th>k_indo</th>\n",
       "      <th>k_mtk</th>\n",
       "      <th>k_ipa</th>\n",
       "      <th>k_ips</th>\n",
       "      <th>k_pjok</th>\n",
       "      <th>k_sbk</th>\n",
       "      <th>k_sunda</th>\n",
       "    </tr>\n",
       "  </thead>\n",
       "  <tbody>\n",
       "    <tr>\n",
       "      <th>0</th>\n",
       "      <td>-0.811107</td>\n",
       "      <td>0.179928</td>\n",
       "      <td>-0.299235</td>\n",
       "      <td>-0.275502</td>\n",
       "      <td>0.012044</td>\n",
       "      <td>0.898863</td>\n",
       "      <td>0.480640</td>\n",
       "      <td>0.468975</td>\n",
       "      <td>1.165543</td>\n",
       "      <td>-0.811107</td>\n",
       "      <td>0.116313</td>\n",
       "      <td>-0.643094</td>\n",
       "      <td>-0.440195</td>\n",
       "      <td>0.012044</td>\n",
       "      <td>0.047340</td>\n",
       "      <td>0.480640</td>\n",
       "      <td>0.468975</td>\n",
       "      <td>1.165543</td>\n",
       "    </tr>\n",
       "    <tr>\n",
       "      <th>1</th>\n",
       "      <td>-0.811107</td>\n",
       "      <td>-1.499400</td>\n",
       "      <td>-2.262967</td>\n",
       "      <td>-1.239759</td>\n",
       "      <td>-0.831024</td>\n",
       "      <td>-0.979359</td>\n",
       "      <td>-1.993244</td>\n",
       "      <td>-0.833734</td>\n",
       "      <td>-1.262672</td>\n",
       "      <td>-0.811107</td>\n",
       "      <td>-1.364030</td>\n",
       "      <td>-1.698171</td>\n",
       "      <td>-0.990439</td>\n",
       "      <td>-0.831024</td>\n",
       "      <td>-1.057251</td>\n",
       "      <td>-1.993244</td>\n",
       "      <td>-0.833734</td>\n",
       "      <td>-1.262672</td>\n",
       "    </tr>\n",
       "    <tr>\n",
       "      <th>2</th>\n",
       "      <td>0.324443</td>\n",
       "      <td>-1.079568</td>\n",
       "      <td>-0.626524</td>\n",
       "      <td>-0.275502</td>\n",
       "      <td>-0.831024</td>\n",
       "      <td>-0.509803</td>\n",
       "      <td>-0.756302</td>\n",
       "      <td>-0.833734</td>\n",
       "      <td>-1.262672</td>\n",
       "      <td>0.324443</td>\n",
       "      <td>-0.993944</td>\n",
       "      <td>-0.994786</td>\n",
       "      <td>-0.440195</td>\n",
       "      <td>-0.831024</td>\n",
       "      <td>-1.057251</td>\n",
       "      <td>-0.756302</td>\n",
       "      <td>-0.833734</td>\n",
       "      <td>-1.262672</td>\n",
       "    </tr>\n",
       "    <tr>\n",
       "      <th>3</th>\n",
       "      <td>-0.811107</td>\n",
       "      <td>-1.079568</td>\n",
       "      <td>0.355342</td>\n",
       "      <td>-0.275502</td>\n",
       "      <td>0.012044</td>\n",
       "      <td>-0.509803</td>\n",
       "      <td>0.480640</td>\n",
       "      <td>0.468975</td>\n",
       "      <td>-1.262672</td>\n",
       "      <td>-0.811107</td>\n",
       "      <td>-0.993944</td>\n",
       "      <td>-0.291402</td>\n",
       "      <td>-0.440195</td>\n",
       "      <td>0.012044</td>\n",
       "      <td>-0.504956</td>\n",
       "      <td>0.480640</td>\n",
       "      <td>0.468975</td>\n",
       "      <td>-1.262672</td>\n",
       "    </tr>\n",
       "    <tr>\n",
       "      <th>4</th>\n",
       "      <td>0.324443</td>\n",
       "      <td>-0.239904</td>\n",
       "      <td>0.682631</td>\n",
       "      <td>-0.275502</td>\n",
       "      <td>0.012044</td>\n",
       "      <td>-0.509803</td>\n",
       "      <td>0.480640</td>\n",
       "      <td>0.468975</td>\n",
       "      <td>-1.262672</td>\n",
       "      <td>0.324443</td>\n",
       "      <td>-0.253773</td>\n",
       "      <td>-0.291402</td>\n",
       "      <td>-0.990439</td>\n",
       "      <td>0.012044</td>\n",
       "      <td>-1.057251</td>\n",
       "      <td>0.480640</td>\n",
       "      <td>0.468975</td>\n",
       "      <td>-1.262672</td>\n",
       "    </tr>\n",
       "  </tbody>\n",
       "</table>\n",
       "</div>"
      ],
      "text/plain": [
       "      p_pai     p_pkn    p_indo     p_mtk     p_ipa     p_ips    p_pjok  \\\n",
       "0 -0.811107  0.179928 -0.299235 -0.275502  0.012044  0.898863  0.480640   \n",
       "1 -0.811107 -1.499400 -2.262967 -1.239759 -0.831024 -0.979359 -1.993244   \n",
       "2  0.324443 -1.079568 -0.626524 -0.275502 -0.831024 -0.509803 -0.756302   \n",
       "3 -0.811107 -1.079568  0.355342 -0.275502  0.012044 -0.509803  0.480640   \n",
       "4  0.324443 -0.239904  0.682631 -0.275502  0.012044 -0.509803  0.480640   \n",
       "\n",
       "      p_sbk   p_sunda     k_pai     k_pkn    k_indo     k_mtk     k_ipa  \\\n",
       "0  0.468975  1.165543 -0.811107  0.116313 -0.643094 -0.440195  0.012044   \n",
       "1 -0.833734 -1.262672 -0.811107 -1.364030 -1.698171 -0.990439 -0.831024   \n",
       "2 -0.833734 -1.262672  0.324443 -0.993944 -0.994786 -0.440195 -0.831024   \n",
       "3  0.468975 -1.262672 -0.811107 -0.993944 -0.291402 -0.440195  0.012044   \n",
       "4  0.468975 -1.262672  0.324443 -0.253773 -0.291402 -0.990439  0.012044   \n",
       "\n",
       "      k_ips    k_pjok     k_sbk   k_sunda  \n",
       "0  0.047340  0.480640  0.468975  1.165543  \n",
       "1 -1.057251 -1.993244 -0.833734 -1.262672  \n",
       "2 -1.057251 -0.756302 -0.833734 -1.262672  \n",
       "3 -0.504956  0.480640  0.468975 -1.262672  \n",
       "4 -1.057251  0.480640  0.468975 -1.262672  "
      ]
     },
     "execution_count": 9,
     "metadata": {},
     "output_type": "execute_result"
    }
   ],
   "source": [
    "new_df.head()"
   ]
  },
  {
   "cell_type": "markdown",
   "id": "bbbd09f6-562f-4fe2-af3d-8c6ac5484dde",
   "metadata": {},
   "source": [
    "## Visualisasi Data Setelah Standardisasi"
   ]
  },
  {
   "cell_type": "code",
   "execution_count": 10,
   "id": "77e49168-061e-4b46-bf8d-375de9570486",
   "metadata": {},
   "outputs": [
    {
     "data": {
      "image/png": "[encoded data removed]",
      "text/plain": [
       "<Figure size 720x432 with 1 Axes>"
      ]
     },
     "metadata": {
      "needs_background": "light"
     },
     "output_type": "display_data"
    }
   ],
   "source": [
    "plt.figure(figsize=(10,6))\n",
    "sns.histplot(new_df)\n",
    "plt.tight_layout()"
   ]
  },
  {
   "cell_type": "markdown",
   "id": "336a06f1-b70f-4cde-a21e-a5e6e1a7f37d",
   "metadata": {},
   "source": [
    "# Pemodelan Machine Learning"
   ]
  },
  {
   "cell_type": "markdown",
   "id": "d2950c4d-dda3-4686-b63b-5677d8b67a02",
   "metadata": {},
   "source": [
    "## Pengetahuan & Keterampilan"
   ]
  },
  {
   "cell_type": "markdown",
   "id": "76df23cf-b2a7-4f7b-aa22-b6b16aaaa085",
   "metadata": {},
   "source": [
    "### Cuplikan Data Pengetahuan"
   ]
  },
  {
   "cell_type": "code",
   "execution_count": 11,
   "id": "573504e5-faa6-4ef4-addf-1016ac416f1d",
   "metadata": {},
   "outputs": [],
   "source": [
    "pengetahuan = new_df.iloc[:,:9]"
   ]
  },
  {
   "cell_type": "code",
   "execution_count": 12,
   "id": "645a0594-9d9c-408b-b920-20ae5fb3ce80",
   "metadata": {},
   "outputs": [
    {
     "data": {
      "text/html": [
       "<div>\n",
       "<style scoped>\n",
       "    .dataframe tbody tr th:only-of-type {\n",
       "        vertical-align: middle;\n",
       "    }\n",
       "\n",
       "    .dataframe tbody tr th {\n",
       "        vertical-align: top;\n",
       "    }\n",
       "\n",
       "    .dataframe thead th {\n",
       "        text-align: right;\n",
       "    }\n",
       "</style>\n",
       "<table border=\"1\" class=\"dataframe\">\n",
       "  <thead>\n",
       "    <tr style=\"text-align: right;\">\n",
       "      <th></th>\n",
       "      <th>p_pai</th>\n",
       "      <th>p_pkn</th>\n",
       "      <th>p_indo</th>\n",
       "      <th>p_mtk</th>\n",
       "      <th>p_ipa</th>\n",
       "      <th>p_ips</th>\n",
       "      <th>p_pjok</th>\n",
       "      <th>p_sbk</th>\n",
       "      <th>p_sunda</th>\n",
       "    </tr>\n",
       "  </thead>\n",
       "  <tbody>\n",
       "    <tr>\n",
       "      <th>0</th>\n",
       "      <td>-0.811107</td>\n",
       "      <td>0.179928</td>\n",
       "      <td>-0.299235</td>\n",
       "      <td>-0.275502</td>\n",
       "      <td>0.012044</td>\n",
       "      <td>0.898863</td>\n",
       "      <td>0.480640</td>\n",
       "      <td>0.468975</td>\n",
       "      <td>1.165543</td>\n",
       "    </tr>\n",
       "    <tr>\n",
       "      <th>1</th>\n",
       "      <td>-0.811107</td>\n",
       "      <td>-1.499400</td>\n",
       "      <td>-2.262967</td>\n",
       "      <td>-1.239759</td>\n",
       "      <td>-0.831024</td>\n",
       "      <td>-0.979359</td>\n",
       "      <td>-1.993244</td>\n",
       "      <td>-0.833734</td>\n",
       "      <td>-1.262672</td>\n",
       "    </tr>\n",
       "    <tr>\n",
       "      <th>2</th>\n",
       "      <td>0.324443</td>\n",
       "      <td>-1.079568</td>\n",
       "      <td>-0.626524</td>\n",
       "      <td>-0.275502</td>\n",
       "      <td>-0.831024</td>\n",
       "      <td>-0.509803</td>\n",
       "      <td>-0.756302</td>\n",
       "      <td>-0.833734</td>\n",
       "      <td>-1.262672</td>\n",
       "    </tr>\n",
       "    <tr>\n",
       "      <th>3</th>\n",
       "      <td>-0.811107</td>\n",
       "      <td>-1.079568</td>\n",
       "      <td>0.355342</td>\n",
       "      <td>-0.275502</td>\n",
       "      <td>0.012044</td>\n",
       "      <td>-0.509803</td>\n",
       "      <td>0.480640</td>\n",
       "      <td>0.468975</td>\n",
       "      <td>-1.262672</td>\n",
       "    </tr>\n",
       "    <tr>\n",
       "      <th>4</th>\n",
       "      <td>0.324443</td>\n",
       "      <td>-0.239904</td>\n",
       "      <td>0.682631</td>\n",
       "      <td>-0.275502</td>\n",
       "      <td>0.012044</td>\n",
       "      <td>-0.509803</td>\n",
       "      <td>0.480640</td>\n",
       "      <td>0.468975</td>\n",
       "      <td>-1.262672</td>\n",
       "    </tr>\n",
       "  </tbody>\n",
       "</table>\n",
       "</div>"
      ],
      "text/plain": [
       "      p_pai     p_pkn    p_indo     p_mtk     p_ipa     p_ips    p_pjok  \\\n",
       "0 -0.811107  0.179928 -0.299235 -0.275502  0.012044  0.898863  0.480640   \n",
       "1 -0.811107 -1.499400 -2.262967 -1.239759 -0.831024 -0.979359 -1.993244   \n",
       "2  0.324443 -1.079568 -0.626524 -0.275502 -0.831024 -0.509803 -0.756302   \n",
       "3 -0.811107 -1.079568  0.355342 -0.275502  0.012044 -0.509803  0.480640   \n",
       "4  0.324443 -0.239904  0.682631 -0.275502  0.012044 -0.509803  0.480640   \n",
       "\n",
       "      p_sbk   p_sunda  \n",
       "0  0.468975  1.165543  \n",
       "1 -0.833734 -1.262672  \n",
       "2 -0.833734 -1.262672  \n",
       "3  0.468975 -1.262672  \n",
       "4  0.468975 -1.262672  "
      ]
     },
     "execution_count": 12,
     "metadata": {},
     "output_type": "execute_result"
    }
   ],
   "source": [
    "pengetahuan.head()"
   ]
  },
  {
   "cell_type": "markdown",
   "id": "c40944bf-1cdc-4d8e-99d9-1c3856c6d9cf",
   "metadata": {},
   "source": [
    "### Cuplikan Data Keterampilan"
   ]
  },
  {
   "cell_type": "code",
   "execution_count": 13,
   "id": "3631e124-ec38-4f5b-b535-61f47550d2a1",
   "metadata": {},
   "outputs": [],
   "source": [
    "keterampilan = new_df.iloc[:,9:]"
   ]
  },
  {
   "cell_type": "code",
   "execution_count": 14,
   "id": "37a950ef-b03c-4e65-9d23-e7dc1d3fc6ad",
   "metadata": {},
   "outputs": [
    {
     "data": {
      "text/html": [
       "<div>\n",
       "<style scoped>\n",
       "    .dataframe tbody tr th:only-of-type {\n",
       "        vertical-align: middle;\n",
       "    }\n",
       "\n",
       "    .dataframe tbody tr th {\n",
       "        vertical-align: top;\n",
       "    }\n",
       "\n",
       "    .dataframe thead th {\n",
       "        text-align: right;\n",
       "    }\n",
       "</style>\n",
       "<table border=\"1\" class=\"dataframe\">\n",
       "  <thead>\n",
       "    <tr style=\"text-align: right;\">\n",
       "      <th></th>\n",
       "      <th>k_pai</th>\n",
       "      <th>k_pkn</th>\n",
       "      <th>k_indo</th>\n",
       "      <th>k_mtk</th>\n",
       "      <th>k_ipa</th>\n",
       "      <th>k_ips</th>\n",
       "      <th>k_pjok</th>\n",
       "      <th>k_sbk</th>\n",
       "      <th>k_sunda</th>\n",
       "    </tr>\n",
       "  </thead>\n",
       "  <tbody>\n",
       "    <tr>\n",
       "      <th>0</th>\n",
       "      <td>-0.811107</td>\n",
       "      <td>0.116313</td>\n",
       "      <td>-0.643094</td>\n",
       "      <td>-0.440195</td>\n",
       "      <td>0.012044</td>\n",
       "      <td>0.047340</td>\n",
       "      <td>0.480640</td>\n",
       "      <td>0.468975</td>\n",
       "      <td>1.165543</td>\n",
       "    </tr>\n",
       "    <tr>\n",
       "      <th>1</th>\n",
       "      <td>-0.811107</td>\n",
       "      <td>-1.364030</td>\n",
       "      <td>-1.698171</td>\n",
       "      <td>-0.990439</td>\n",
       "      <td>-0.831024</td>\n",
       "      <td>-1.057251</td>\n",
       "      <td>-1.993244</td>\n",
       "      <td>-0.833734</td>\n",
       "      <td>-1.262672</td>\n",
       "    </tr>\n",
       "    <tr>\n",
       "      <th>2</th>\n",
       "      <td>0.324443</td>\n",
       "      <td>-0.993944</td>\n",
       "      <td>-0.994786</td>\n",
       "      <td>-0.440195</td>\n",
       "      <td>-0.831024</td>\n",
       "      <td>-1.057251</td>\n",
       "      <td>-0.756302</td>\n",
       "      <td>-0.833734</td>\n",
       "      <td>-1.262672</td>\n",
       "    </tr>\n",
       "    <tr>\n",
       "      <th>3</th>\n",
       "      <td>-0.811107</td>\n",
       "      <td>-0.993944</td>\n",
       "      <td>-0.291402</td>\n",
       "      <td>-0.440195</td>\n",
       "      <td>0.012044</td>\n",
       "      <td>-0.504956</td>\n",
       "      <td>0.480640</td>\n",
       "      <td>0.468975</td>\n",
       "      <td>-1.262672</td>\n",
       "    </tr>\n",
       "    <tr>\n",
       "      <th>4</th>\n",
       "      <td>0.324443</td>\n",
       "      <td>-0.253773</td>\n",
       "      <td>-0.291402</td>\n",
       "      <td>-0.990439</td>\n",
       "      <td>0.012044</td>\n",
       "      <td>-1.057251</td>\n",
       "      <td>0.480640</td>\n",
       "      <td>0.468975</td>\n",
       "      <td>-1.262672</td>\n",
       "    </tr>\n",
       "  </tbody>\n",
       "</table>\n",
       "</div>"
      ],
      "text/plain": [
       "      k_pai     k_pkn    k_indo     k_mtk     k_ipa     k_ips    k_pjok  \\\n",
       "0 -0.811107  0.116313 -0.643094 -0.440195  0.012044  0.047340  0.480640   \n",
       "1 -0.811107 -1.364030 -1.698171 -0.990439 -0.831024 -1.057251 -1.993244   \n",
       "2  0.324443 -0.993944 -0.994786 -0.440195 -0.831024 -1.057251 -0.756302   \n",
       "3 -0.811107 -0.993944 -0.291402 -0.440195  0.012044 -0.504956  0.480640   \n",
       "4  0.324443 -0.253773 -0.291402 -0.990439  0.012044 -1.057251  0.480640   \n",
       "\n",
       "      k_sbk   k_sunda  \n",
       "0  0.468975  1.165543  \n",
       "1 -0.833734 -1.262672  \n",
       "2 -0.833734 -1.262672  \n",
       "3  0.468975 -1.262672  \n",
       "4  0.468975 -1.262672  "
      ]
     },
     "execution_count": 14,
     "metadata": {},
     "output_type": "execute_result"
    }
   ],
   "source": [
    "keterampilan.head()"
   ]
  },
  {
   "cell_type": "markdown",
   "id": "a205f29d-b894-4a7f-8c38-d9cd7831ed94",
   "metadata": {},
   "source": [
    "### Principal Component Analysis"
   ]
  },
  {
   "cell_type": "code",
   "execution_count": 15,
   "id": "f84375f7-7893-40ed-8ebe-6abfa126c577",
   "metadata": {},
   "outputs": [
    {
     "data": {
      "text/html": [
       "<div>\n",
       "<style scoped>\n",
       "    .dataframe tbody tr th:only-of-type {\n",
       "        vertical-align: middle;\n",
       "    }\n",
       "\n",
       "    .dataframe tbody tr th {\n",
       "        vertical-align: top;\n",
       "    }\n",
       "\n",
       "    .dataframe thead th {\n",
       "        text-align: right;\n",
       "    }\n",
       "</style>\n",
       "<table border=\"1\" class=\"dataframe\">\n",
       "  <thead>\n",
       "    <tr style=\"text-align: right;\">\n",
       "      <th></th>\n",
       "      <th>pengetahuan</th>\n",
       "    </tr>\n",
       "  </thead>\n",
       "  <tbody>\n",
       "    <tr>\n",
       "      <th>0</th>\n",
       "      <td>0.688975</td>\n",
       "    </tr>\n",
       "    <tr>\n",
       "      <th>1</th>\n",
       "      <td>-3.864806</td>\n",
       "    </tr>\n",
       "    <tr>\n",
       "      <th>2</th>\n",
       "      <td>-2.037870</td>\n",
       "    </tr>\n",
       "    <tr>\n",
       "      <th>3</th>\n",
       "      <td>-0.973883</td>\n",
       "    </tr>\n",
       "    <tr>\n",
       "      <th>4</th>\n",
       "      <td>-0.247906</td>\n",
       "    </tr>\n",
       "  </tbody>\n",
       "</table>\n",
       "</div>"
      ],
      "text/plain": [
       "   pengetahuan\n",
       "0     0.688975\n",
       "1    -3.864806\n",
       "2    -2.037870\n",
       "3    -0.973883\n",
       "4    -0.247906"
      ]
     },
     "execution_count": 15,
     "metadata": {},
     "output_type": "execute_result"
    }
   ],
   "source": [
    "from sklearn.decomposition import PCA \n",
    "pca = PCA(n_components=1)\n",
    "\n",
    "pca.fit(pengetahuan)\n",
    "pcs_array= pca.transform(pengetahuan)\n",
    "\n",
    "pca_pengetahuan = pd.DataFrame(pcs_array, columns = ['pengetahuan'])\n",
    "pca_pengetahuan.head()"
   ]
  },
  {
   "cell_type": "code",
   "execution_count": 16,
   "id": "8af94194-7a28-45c5-b338-c398b2df114c",
   "metadata": {},
   "outputs": [
    {
     "data": {
      "text/html": [
       "<div>\n",
       "<style scoped>\n",
       "    .dataframe tbody tr th:only-of-type {\n",
       "        vertical-align: middle;\n",
       "    }\n",
       "\n",
       "    .dataframe tbody tr th {\n",
       "        vertical-align: top;\n",
       "    }\n",
       "\n",
       "    .dataframe thead th {\n",
       "        text-align: right;\n",
       "    }\n",
       "</style>\n",
       "<table border=\"1\" class=\"dataframe\">\n",
       "  <thead>\n",
       "    <tr style=\"text-align: right;\">\n",
       "      <th></th>\n",
       "      <th>keterampilan</th>\n",
       "    </tr>\n",
       "  </thead>\n",
       "  <tbody>\n",
       "    <tr>\n",
       "      <th>0</th>\n",
       "      <td>0.227234</td>\n",
       "    </tr>\n",
       "    <tr>\n",
       "      <th>1</th>\n",
       "      <td>-3.566064</td>\n",
       "    </tr>\n",
       "    <tr>\n",
       "      <th>2</th>\n",
       "      <td>-2.390996</td>\n",
       "    </tr>\n",
       "    <tr>\n",
       "      <th>3</th>\n",
       "      <td>-1.213240</td>\n",
       "    </tr>\n",
       "    <tr>\n",
       "      <th>4</th>\n",
       "      <td>-1.080468</td>\n",
       "    </tr>\n",
       "  </tbody>\n",
       "</table>\n",
       "</div>"
      ],
      "text/plain": [
       "   keterampilan\n",
       "0      0.227234\n",
       "1     -3.566064\n",
       "2     -2.390996\n",
       "3     -1.213240\n",
       "4     -1.080468"
      ]
     },
     "execution_count": 16,
     "metadata": {},
     "output_type": "execute_result"
    }
   ],
   "source": [
    "from sklearn.decomposition import PCA \n",
    "pca = PCA(n_components=1)\n",
    "\n",
    "pca.fit(keterampilan)\n",
    "pcs_array= pca.transform(keterampilan)\n",
    "\n",
    "pca_keterampilan = pd.DataFrame(pcs_array, columns = ['keterampilan'])\n",
    "pca_keterampilan.head()"
   ]
  },
  {
   "cell_type": "code",
   "execution_count": 17,
   "id": "2d5faf70-bd1f-41a1-b4c5-a46e01a9b30c",
   "metadata": {},
   "outputs": [],
   "source": [
    "pca_nilai = pd.concat([pca_pengetahuan,pca_keterampilan],axis=1)"
   ]
  },
  {
   "cell_type": "code",
   "execution_count": 18,
   "id": "831220de-0256-4860-808f-f05743f0d9a4",
   "metadata": {},
   "outputs": [
    {
     "data": {
      "text/html": [
       "<div>\n",
       "<style scoped>\n",
       "    .dataframe tbody tr th:only-of-type {\n",
       "        vertical-align: middle;\n",
       "    }\n",
       "\n",
       "    .dataframe tbody tr th {\n",
       "        vertical-align: top;\n",
       "    }\n",
       "\n",
       "    .dataframe thead th {\n",
       "        text-align: right;\n",
       "    }\n",
       "</style>\n",
       "<table border=\"1\" class=\"dataframe\">\n",
       "  <thead>\n",
       "    <tr style=\"text-align: right;\">\n",
       "      <th></th>\n",
       "      <th>pengetahuan</th>\n",
       "      <th>keterampilan</th>\n",
       "    </tr>\n",
       "  </thead>\n",
       "  <tbody>\n",
       "    <tr>\n",
       "      <th>21</th>\n",
       "      <td>0.692684</td>\n",
       "      <td>0.557092</td>\n",
       "    </tr>\n",
       "    <tr>\n",
       "      <th>23</th>\n",
       "      <td>0.324025</td>\n",
       "      <td>1.320161</td>\n",
       "    </tr>\n",
       "    <tr>\n",
       "      <th>2</th>\n",
       "      <td>-2.037870</td>\n",
       "      <td>-2.390996</td>\n",
       "    </tr>\n",
       "    <tr>\n",
       "      <th>13</th>\n",
       "      <td>0.993549</td>\n",
       "      <td>0.605860</td>\n",
       "    </tr>\n",
       "    <tr>\n",
       "      <th>4</th>\n",
       "      <td>-0.247906</td>\n",
       "      <td>-1.080468</td>\n",
       "    </tr>\n",
       "  </tbody>\n",
       "</table>\n",
       "</div>"
      ],
      "text/plain": [
       "    pengetahuan  keterampilan\n",
       "21     0.692684      0.557092\n",
       "23     0.324025      1.320161\n",
       "2     -2.037870     -2.390996\n",
       "13     0.993549      0.605860\n",
       "4     -0.247906     -1.080468"
      ]
     },
     "execution_count": 18,
     "metadata": {},
     "output_type": "execute_result"
    }
   ],
   "source": [
    "pca_nilai.sample(5)"
   ]
  },
  {
   "cell_type": "markdown",
   "id": "eac143b0-201e-45fe-aa6c-453b65f96b18",
   "metadata": {},
   "source": [
    "### Elbow Method"
   ]
  },
  {
   "cell_type": "code",
   "execution_count": 19,
   "id": "2e5f881f-60ba-4ed1-9802-e400145d1188",
   "metadata": {},
   "outputs": [
    {
     "name": "stdout",
     "output_type": "stream",
     "text": [
      "[107.30511868451038, 55.910606486604756, 28.814081646090727, 22.289058021455308, 17.161002168075193, 12.880252724566189, 7.993687634823855, 5.452104884209803, 4.242596089487502, 3.1499262419052005, 2.700608517536052, 2.3284018937440876, 2.0658848632662288]\n"
     ]
    },
    {
     "data": {
      "image/png": "[encoded data removed]",
      "text/plain": [
       "<Figure size 432x288 with 1 Axes>"
      ]
     },
     "metadata": {
      "needs_background": "light"
     },
     "output_type": "display_data"
    }
   ],
   "source": [
    "from sklearn.cluster import KMeans\n",
    "inertia = []\n",
    "\n",
    "for i in range(2, 15):\n",
    "    kmeans = KMeans(n_clusters=i, random_state=0)\n",
    "    kmeans.fit(pca_nilai.values)\n",
    "    inertia.append(kmeans.inertia_)\n",
    "\n",
    "\n",
    "print(inertia)\n",
    "\n",
    "# plt.figure(figsize=(10, 5))\n",
    "# plt.plot(inertia)\n",
    "\n",
    "sns.lineplot(x=range(2, 15), y=inertia, color='#000087', linewidth = 4)\n",
    "sns.scatterplot(x=range(2, 15), y=inertia, s=300, color='#800000',  linestyle='--')\n",
    "plt.tight_layout()"
   ]
  },
  {
   "cell_type": "markdown",
   "id": "1bad43ce-26fb-4e1f-b4f1-0c65b864eb97",
   "metadata": {},
   "source": [
    "### Silhouette Score"
   ]
  },
  {
   "cell_type": "code",
   "execution_count": 20,
   "id": "496e4edd-fb50-4035-a1a4-5ac3d353ae49",
   "metadata": {},
   "outputs": [
    {
     "data": {
      "image/png": "[encoded data removed]",
      "text/plain": [
       "<Figure size 432x288 with 1 Axes>"
      ]
     },
     "metadata": {
      "needs_background": "light"
     },
     "output_type": "display_data"
    }
   ],
   "source": [
    "from sklearn.metrics import silhouette_score\n",
    "siscore=[]\n",
    "for i in range(2,15):\n",
    "    KMean= KMeans(n_clusters=i)\n",
    "    KMean.fit(pca_nilai.values)\n",
    "    label= KMean.predict(pca_nilai.values)\n",
    "    siscore.append(silhouette_score(pca_nilai.values, labels=label))\n",
    "    \n",
    "# plt.figure(figsize=(10,5))\n",
    "\n",
    "sns.lineplot(x=range(2,15), y=siscore, color='blue', linewidth=3)\n",
    "sns.scatterplot(x=range(2,15), y=siscore, color='green', s=300, linewidth=3)\n",
    "plt.tight_layout()\n",
    "\n",
    "for i in range(2,15):\n",
    "    plt.text(x=i+0.25, y=siscore[i-2], color='black', s=str(round(siscore[i-2],2)), size=10)\n",
    "plt.show()"
   ]
  },
  {
   "cell_type": "markdown",
   "id": "afa5785a-13cf-4193-a1e6-3ec4278ffe2c",
   "metadata": {},
   "source": [
    "### KMeans Clustering"
   ]
  },
  {
   "cell_type": "code",
   "execution_count": 21,
   "id": "af44d67b-00b5-40b3-b8c6-fb864d908859",
   "metadata": {},
   "outputs": [
    {
     "data": {
      "text/plain": [
       "KMeans(max_iter=600, n_clusters=3, n_init=30, random_state=0)"
      ]
     },
     "execution_count": 21,
     "metadata": {},
     "output_type": "execute_result"
    }
   ],
   "source": [
    "from sklearn.cluster import KMeans\n",
    "kmeans = KMeans(n_clusters = 3, random_state=0, n_init=30, max_iter=600)\n",
    "kmeans.fit(pca_nilai.values)"
   ]
  },
  {
   "cell_type": "code",
   "execution_count": 22,
   "id": "c6fdbedb-852f-4108-a7d1-5e7d6ccace07",
   "metadata": {},
   "outputs": [],
   "source": [
    "pca_nilai['cluster'] = kmeans.labels_"
   ]
  },
  {
   "cell_type": "markdown",
   "id": "dc32d1b5-8737-419a-9436-4f516cc0f515",
   "metadata": {},
   "source": [
    "#### Visualisasi Hasil KMeans Clustering"
   ]
  },
  {
   "cell_type": "code",
   "execution_count": 23,
   "id": "125c0ecd-b0c3-45a2-918d-356a0b244c57",
   "metadata": {},
   "outputs": [
    {
     "data": {
      "image/png": "[encoded data removed]",
      "text/plain": [
       "<Figure size 432x288 with 1 Axes>"
      ]
     },
     "metadata": {
      "needs_background": "light"
     },
     "output_type": "display_data"
    }
   ],
   "source": [
    "fig, ax = plt.subplots()\n",
    "\n",
    "sns.scatterplot(\n",
    "    x=\"pengetahuan\", y=\"keterampilan\",\n",
    "    hue='cluster',\n",
    "    edgecolor='black',\n",
    "    linestyle='--',\n",
    "    data=pca_nilai,\n",
    "    palette='Spectral',\n",
    "    s=160,\n",
    "    ax=ax)\n",
    "plt.tight_layout()\n",
    "plt.show()"
   ]
  },
  {
   "cell_type": "markdown",
   "id": "ccb9cbbe-8c42-4285-b2af-89cf00d08482",
   "metadata": {},
   "source": [
    "#### Tabulasi Hasil KMeans Clustering"
   ]
  },
  {
   "cell_type": "code",
   "execution_count": 24,
   "id": "4fdc8cf7-fb04-4374-972a-178ed322ace1",
   "metadata": {},
   "outputs": [
    {
     "data": {
      "text/html": [
       "<div>\n",
       "<style scoped>\n",
       "    .dataframe tbody tr th:only-of-type {\n",
       "        vertical-align: middle;\n",
       "    }\n",
       "\n",
       "    .dataframe tbody tr th {\n",
       "        vertical-align: top;\n",
       "    }\n",
       "\n",
       "    .dataframe thead th {\n",
       "        text-align: right;\n",
       "    }\n",
       "</style>\n",
       "<table border=\"1\" class=\"dataframe\">\n",
       "  <thead>\n",
       "    <tr style=\"text-align: right;\">\n",
       "      <th></th>\n",
       "      <th>nama</th>\n",
       "      <th>pengetahuan</th>\n",
       "      <th>keterampilan</th>\n",
       "      <th>cluster</th>\n",
       "    </tr>\n",
       "  </thead>\n",
       "  <tbody>\n",
       "    <tr>\n",
       "      <th>0</th>\n",
       "      <td>ns7</td>\n",
       "      <td>0.688975</td>\n",
       "      <td>0.227234</td>\n",
       "      <td>0</td>\n",
       "    </tr>\n",
       "    <tr>\n",
       "      <th>1</th>\n",
       "      <td>ns13</td>\n",
       "      <td>-3.864806</td>\n",
       "      <td>-3.566064</td>\n",
       "      <td>2</td>\n",
       "    </tr>\n",
       "    <tr>\n",
       "      <th>2</th>\n",
       "      <td>ns23</td>\n",
       "      <td>-2.037870</td>\n",
       "      <td>-2.390996</td>\n",
       "      <td>2</td>\n",
       "    </tr>\n",
       "    <tr>\n",
       "      <th>3</th>\n",
       "      <td>ns38</td>\n",
       "      <td>-0.973883</td>\n",
       "      <td>-1.213240</td>\n",
       "      <td>2</td>\n",
       "    </tr>\n",
       "    <tr>\n",
       "      <th>4</th>\n",
       "      <td>ns39</td>\n",
       "      <td>-0.247906</td>\n",
       "      <td>-1.080468</td>\n",
       "      <td>0</td>\n",
       "    </tr>\n",
       "  </tbody>\n",
       "</table>\n",
       "</div>"
      ],
      "text/plain": [
       "   nama  pengetahuan  keterampilan  cluster\n",
       "0   ns7     0.688975      0.227234        0\n",
       "1  ns13    -3.864806     -3.566064        2\n",
       "2  ns23    -2.037870     -2.390996        2\n",
       "3  ns38    -0.973883     -1.213240        2\n",
       "4  ns39    -0.247906     -1.080468        0"
      ]
     },
     "execution_count": 24,
     "metadata": {},
     "output_type": "execute_result"
    }
   ],
   "source": [
    "# penggabungan data hasil klasterisasi dengan nama siswa\n",
    "\n",
    "data = pd.concat([df.select_dtypes('object'),pca_nilai],axis=1)\n",
    "data.head()"
   ]
  },
  {
   "cell_type": "code",
   "execution_count": 25,
   "id": "72bd3ff4-9c73-4227-aea0-94d981cf66ca",
   "metadata": {},
   "outputs": [
    {
     "data": {
      "text/html": [
       "<div>\n",
       "<style scoped>\n",
       "    .dataframe tbody tr th:only-of-type {\n",
       "        vertical-align: middle;\n",
       "    }\n",
       "\n",
       "    .dataframe tbody tr th {\n",
       "        vertical-align: top;\n",
       "    }\n",
       "\n",
       "    .dataframe thead th {\n",
       "        text-align: right;\n",
       "    }\n",
       "</style>\n",
       "<table border=\"1\" class=\"dataframe\">\n",
       "  <thead>\n",
       "    <tr style=\"text-align: right;\">\n",
       "      <th></th>\n",
       "      <th>klaster</th>\n",
       "      <th>jumlah_siswa</th>\n",
       "    </tr>\n",
       "  </thead>\n",
       "  <tbody>\n",
       "    <tr>\n",
       "      <th>0</th>\n",
       "      <td>0</td>\n",
       "      <td>22</td>\n",
       "    </tr>\n",
       "    <tr>\n",
       "      <th>1</th>\n",
       "      <td>2</td>\n",
       "      <td>11</td>\n",
       "    </tr>\n",
       "    <tr>\n",
       "      <th>2</th>\n",
       "      <td>1</td>\n",
       "      <td>2</td>\n",
       "    </tr>\n",
       "  </tbody>\n",
       "</table>\n",
       "</div>"
      ],
      "text/plain": [
       "   klaster  jumlah_siswa\n",
       "0        0            22\n",
       "1        2            11\n",
       "2        1             2"
      ]
     },
     "execution_count": 25,
     "metadata": {},
     "output_type": "execute_result"
    }
   ],
   "source": [
    "#Jumlah Siswa Masing - masing Klaster\n",
    "\n",
    "jumlah = pd.DataFrame(pca_nilai['cluster'].value_counts()).reset_index()\n",
    "jumlah.columns=['klaster','jumlah_siswa']\n",
    "jumlah"
   ]
  },
  {
   "cell_type": "code",
   "execution_count": 26,
   "id": "315f14bd-1eb4-43df-ac15-e7dd873c1ea4",
   "metadata": {},
   "outputs": [
    {
     "data": {
      "text/html": [
       "<div>\n",
       "<style scoped>\n",
       "    .dataframe tbody tr th:only-of-type {\n",
       "        vertical-align: middle;\n",
       "    }\n",
       "\n",
       "    .dataframe tbody tr th {\n",
       "        vertical-align: top;\n",
       "    }\n",
       "\n",
       "    .dataframe thead th {\n",
       "        text-align: right;\n",
       "    }\n",
       "</style>\n",
       "<table border=\"1\" class=\"dataframe\">\n",
       "  <thead>\n",
       "    <tr style=\"text-align: right;\">\n",
       "      <th></th>\n",
       "      <th>Baik</th>\n",
       "      <th>Cukup</th>\n",
       "      <th>Kurang</th>\n",
       "    </tr>\n",
       "  </thead>\n",
       "  <tbody>\n",
       "    <tr>\n",
       "      <th>jumlah</th>\n",
       "      <td>5.71</td>\n",
       "      <td>62.86</td>\n",
       "      <td>31.43</td>\n",
       "    </tr>\n",
       "  </tbody>\n",
       "</table>\n",
       "</div>"
      ],
      "text/plain": [
       "        Baik  Cukup  Kurang\n",
       "jumlah  5.71  62.86   31.43"
      ]
     },
     "execution_count": 26,
     "metadata": {},
     "output_type": "execute_result"
    }
   ],
   "source": [
    "# persentase klaster siswa\n",
    "\n",
    "persentase = pd.DataFrame({ 'Baik': round(((2)/(22+11+2)*100),2),\n",
    "                            'Cukup': round(((22)/(22+11+2)*100),2),\n",
    "                            'Kurang': round(((11)/(22+11+2)*100),2)},\n",
    "                            index=['jumlah'])\n",
    "persentase"
   ]
  },
  {
   "cell_type": "code",
   "execution_count": 27,
   "id": "cb223613-c060-46e5-b624-921f5dd1ffcb",
   "metadata": {},
   "outputs": [
    {
     "data": {
      "image/png": "[encoded data removed]",
      "text/plain": [
       "<Figure size 432x288 with 1 Axes>"
      ]
     },
     "metadata": {
      "needs_background": "light"
     },
     "output_type": "display_data"
    }
   ],
   "source": [
    "# visualisasi persentase klaster\n",
    "\n",
    "persentase.plot(kind='bar')\n",
    "plt.title('Persentase Siswa Setiap Klaster')\n",
    "plt.xticks([])\n",
    "plt.tight_layout()"
   ]
  },
  {
   "cell_type": "code",
   "execution_count": 28,
   "id": "70094779-c675-4216-a845-87cd1d4db31b",
   "metadata": {},
   "outputs": [
    {
     "data": {
      "text/html": [
       "<div>\n",
       "<style scoped>\n",
       "    .dataframe tbody tr th:only-of-type {\n",
       "        vertical-align: middle;\n",
       "    }\n",
       "\n",
       "    .dataframe tbody tr th {\n",
       "        vertical-align: top;\n",
       "    }\n",
       "\n",
       "    .dataframe thead th {\n",
       "        text-align: right;\n",
       "    }\n",
       "</style>\n",
       "<table border=\"1\" class=\"dataframe\">\n",
       "  <thead>\n",
       "    <tr style=\"text-align: right;\">\n",
       "      <th></th>\n",
       "      <th>nama</th>\n",
       "      <th>pengetahuan</th>\n",
       "      <th>keterampilan</th>\n",
       "      <th>cluster</th>\n",
       "    </tr>\n",
       "  </thead>\n",
       "  <tbody>\n",
       "    <tr>\n",
       "      <th>3</th>\n",
       "      <td>ns38</td>\n",
       "      <td>-0.973883</td>\n",
       "      <td>-1.213240</td>\n",
       "      <td>2</td>\n",
       "    </tr>\n",
       "    <tr>\n",
       "      <th>30</th>\n",
       "      <td>ns248</td>\n",
       "      <td>-1.233923</td>\n",
       "      <td>-0.606130</td>\n",
       "      <td>2</td>\n",
       "    </tr>\n",
       "    <tr>\n",
       "      <th>19</th>\n",
       "      <td>ns193</td>\n",
       "      <td>-1.255872</td>\n",
       "      <td>-1.106659</td>\n",
       "      <td>2</td>\n",
       "    </tr>\n",
       "    <tr>\n",
       "      <th>26</th>\n",
       "      <td>ns240</td>\n",
       "      <td>-1.615324</td>\n",
       "      <td>-1.096701</td>\n",
       "      <td>2</td>\n",
       "    </tr>\n",
       "    <tr>\n",
       "      <th>2</th>\n",
       "      <td>ns23</td>\n",
       "      <td>-2.037870</td>\n",
       "      <td>-2.390996</td>\n",
       "      <td>2</td>\n",
       "    </tr>\n",
       "    <tr>\n",
       "      <th>7</th>\n",
       "      <td>ns45</td>\n",
       "      <td>-2.136156</td>\n",
       "      <td>-2.407650</td>\n",
       "      <td>2</td>\n",
       "    </tr>\n",
       "    <tr>\n",
       "      <th>32</th>\n",
       "      <td>ns270</td>\n",
       "      <td>-2.174807</td>\n",
       "      <td>-1.831902</td>\n",
       "      <td>2</td>\n",
       "    </tr>\n",
       "    <tr>\n",
       "      <th>22</th>\n",
       "      <td>ns225</td>\n",
       "      <td>-2.264406</td>\n",
       "      <td>-2.360895</td>\n",
       "      <td>2</td>\n",
       "    </tr>\n",
       "    <tr>\n",
       "      <th>20</th>\n",
       "      <td>ns210</td>\n",
       "      <td>-2.477165</td>\n",
       "      <td>-2.610587</td>\n",
       "      <td>2</td>\n",
       "    </tr>\n",
       "    <tr>\n",
       "      <th>9</th>\n",
       "      <td>ns79</td>\n",
       "      <td>-3.488621</td>\n",
       "      <td>-3.543687</td>\n",
       "      <td>2</td>\n",
       "    </tr>\n",
       "    <tr>\n",
       "      <th>1</th>\n",
       "      <td>ns13</td>\n",
       "      <td>-3.864806</td>\n",
       "      <td>-3.566064</td>\n",
       "      <td>2</td>\n",
       "    </tr>\n",
       "  </tbody>\n",
       "</table>\n",
       "</div>"
      ],
      "text/plain": [
       "     nama  pengetahuan  keterampilan  cluster\n",
       "3    ns38    -0.973883     -1.213240        2\n",
       "30  ns248    -1.233923     -0.606130        2\n",
       "19  ns193    -1.255872     -1.106659        2\n",
       "26  ns240    -1.615324     -1.096701        2\n",
       "2    ns23    -2.037870     -2.390996        2\n",
       "7    ns45    -2.136156     -2.407650        2\n",
       "32  ns270    -2.174807     -1.831902        2\n",
       "22  ns225    -2.264406     -2.360895        2\n",
       "20  ns210    -2.477165     -2.610587        2\n",
       "9    ns79    -3.488621     -3.543687        2\n",
       "1    ns13    -3.864806     -3.566064        2"
      ]
     },
     "execution_count": 28,
     "metadata": {},
     "output_type": "execute_result"
    }
   ],
   "source": [
    "# Top Students\n",
    "\n",
    "data[data['cluster']==2].sort_values(by='pengetahuan',ascending=False)"
   ]
  },
  {
   "cell_type": "code",
   "execution_count": 29,
   "id": "8c6cb6e9-bd74-4495-9dde-6224283da564",
   "metadata": {},
   "outputs": [
    {
     "data": {
      "text/html": [
       "<div>\n",
       "<style scoped>\n",
       "    .dataframe tbody tr th:only-of-type {\n",
       "        vertical-align: middle;\n",
       "    }\n",
       "\n",
       "    .dataframe tbody tr th {\n",
       "        vertical-align: top;\n",
       "    }\n",
       "\n",
       "    .dataframe thead th {\n",
       "        text-align: right;\n",
       "    }\n",
       "</style>\n",
       "<table border=\"1\" class=\"dataframe\">\n",
       "  <thead>\n",
       "    <tr style=\"text-align: right;\">\n",
       "      <th></th>\n",
       "      <th>nama</th>\n",
       "      <th>pengetahuan</th>\n",
       "      <th>keterampilan</th>\n",
       "      <th>cluster</th>\n",
       "    </tr>\n",
       "  </thead>\n",
       "  <tbody>\n",
       "    <tr>\n",
       "      <th>12</th>\n",
       "      <td>ns88</td>\n",
       "      <td>5.593044</td>\n",
       "      <td>5.379750</td>\n",
       "      <td>1</td>\n",
       "    </tr>\n",
       "    <tr>\n",
       "      <th>28</th>\n",
       "      <td>ns245</td>\n",
       "      <td>4.163828</td>\n",
       "      <td>2.560059</td>\n",
       "      <td>1</td>\n",
       "    </tr>\n",
       "  </tbody>\n",
       "</table>\n",
       "</div>"
      ],
      "text/plain": [
       "     nama  pengetahuan  keterampilan  cluster\n",
       "12   ns88     5.593044      5.379750        1\n",
       "28  ns245     4.163828      2.560059        1"
      ]
     },
     "execution_count": 29,
     "metadata": {},
     "output_type": "execute_result"
    }
   ],
   "source": [
    "# perlu penanganan (keterampilan dan pengetahuan)\n",
    "\n",
    "data[data['cluster']==1]"
   ]
  },
  {
   "cell_type": "markdown",
   "id": "4738ec7a-b9b9-40cb-b9e7-fd306592e61c",
   "metadata": {},
   "source": [
    "Catatan:\n",
    "\n",
    "Secara umum, pengetahuan dan keterampilan Siswa menunjukkan hubungan yang berbanding lurus.\n",
    "\n",
    "Artinya, semakin baik Siswa dalam pengetahuan, maka cenderung akan terampil."
   ]
  },
  {
   "cell_type": "markdown",
   "id": "25a967f1-5622-46a5-8dca-4689603b8ac1",
   "metadata": {},
   "source": [
    "## SBK & PJOK"
   ]
  },
  {
   "cell_type": "markdown",
   "id": "0859e924-629b-4a54-9581-22d9b8adc6c6",
   "metadata": {},
   "source": [
    "### Cuplikan Data SBK dan PJOK"
   ]
  },
  {
   "cell_type": "code",
   "execution_count": 30,
   "id": "78071eac-7442-4c42-ada3-c3f953b70298",
   "metadata": {},
   "outputs": [
    {
     "data": {
      "text/html": [
       "<div>\n",
       "<style scoped>\n",
       "    .dataframe tbody tr th:only-of-type {\n",
       "        vertical-align: middle;\n",
       "    }\n",
       "\n",
       "    .dataframe tbody tr th {\n",
       "        vertical-align: top;\n",
       "    }\n",
       "\n",
       "    .dataframe thead th {\n",
       "        text-align: right;\n",
       "    }\n",
       "</style>\n",
       "<table border=\"1\" class=\"dataframe\">\n",
       "  <thead>\n",
       "    <tr style=\"text-align: right;\">\n",
       "      <th></th>\n",
       "      <th>p_pjok</th>\n",
       "      <th>k_pjok</th>\n",
       "      <th>k_sbk</th>\n",
       "      <th>p_sbk</th>\n",
       "    </tr>\n",
       "  </thead>\n",
       "  <tbody>\n",
       "    <tr>\n",
       "      <th>0</th>\n",
       "      <td>0.480640</td>\n",
       "      <td>0.480640</td>\n",
       "      <td>0.468975</td>\n",
       "      <td>0.468975</td>\n",
       "    </tr>\n",
       "    <tr>\n",
       "      <th>1</th>\n",
       "      <td>-1.993244</td>\n",
       "      <td>-1.993244</td>\n",
       "      <td>-0.833734</td>\n",
       "      <td>-0.833734</td>\n",
       "    </tr>\n",
       "    <tr>\n",
       "      <th>2</th>\n",
       "      <td>-0.756302</td>\n",
       "      <td>-0.756302</td>\n",
       "      <td>-0.833734</td>\n",
       "      <td>-0.833734</td>\n",
       "    </tr>\n",
       "    <tr>\n",
       "      <th>3</th>\n",
       "      <td>0.480640</td>\n",
       "      <td>0.480640</td>\n",
       "      <td>0.468975</td>\n",
       "      <td>0.468975</td>\n",
       "    </tr>\n",
       "    <tr>\n",
       "      <th>4</th>\n",
       "      <td>0.480640</td>\n",
       "      <td>0.480640</td>\n",
       "      <td>0.468975</td>\n",
       "      <td>0.468975</td>\n",
       "    </tr>\n",
       "  </tbody>\n",
       "</table>\n",
       "</div>"
      ],
      "text/plain": [
       "     p_pjok    k_pjok     k_sbk     p_sbk\n",
       "0  0.480640  0.480640  0.468975  0.468975\n",
       "1 -1.993244 -1.993244 -0.833734 -0.833734\n",
       "2 -0.756302 -0.756302 -0.833734 -0.833734\n",
       "3  0.480640  0.480640  0.468975  0.468975\n",
       "4  0.480640  0.480640  0.468975  0.468975"
      ]
     },
     "execution_count": 30,
     "metadata": {},
     "output_type": "execute_result"
    }
   ],
   "source": [
    "mlcl_2 = new_df[['p_pjok','k_pjok','k_sbk','p_sbk']]\n",
    "mlcl_2.head()"
   ]
  },
  {
   "cell_type": "markdown",
   "id": "dd15a259-135c-4c82-9403-1b74ddcd2c0a",
   "metadata": {},
   "source": [
    "### Principal Component Anlysis"
   ]
  },
  {
   "cell_type": "code",
   "execution_count": 31,
   "id": "64453c15-14bc-4c01-87ab-d0f6c1a5f2cf",
   "metadata": {},
   "outputs": [
    {
     "data": {
      "text/html": [
       "<div>\n",
       "<style scoped>\n",
       "    .dataframe tbody tr th:only-of-type {\n",
       "        vertical-align: middle;\n",
       "    }\n",
       "\n",
       "    .dataframe tbody tr th {\n",
       "        vertical-align: top;\n",
       "    }\n",
       "\n",
       "    .dataframe thead th {\n",
       "        text-align: right;\n",
       "    }\n",
       "</style>\n",
       "<table border=\"1\" class=\"dataframe\">\n",
       "  <thead>\n",
       "    <tr style=\"text-align: right;\">\n",
       "      <th></th>\n",
       "      <th>pjok</th>\n",
       "    </tr>\n",
       "  </thead>\n",
       "  <tbody>\n",
       "    <tr>\n",
       "      <th>0</th>\n",
       "      <td>-0.679728</td>\n",
       "    </tr>\n",
       "    <tr>\n",
       "      <th>1</th>\n",
       "      <td>2.818873</td>\n",
       "    </tr>\n",
       "    <tr>\n",
       "      <th>2</th>\n",
       "      <td>1.069572</td>\n",
       "    </tr>\n",
       "    <tr>\n",
       "      <th>3</th>\n",
       "      <td>-0.679728</td>\n",
       "    </tr>\n",
       "    <tr>\n",
       "      <th>4</th>\n",
       "      <td>-0.679728</td>\n",
       "    </tr>\n",
       "  </tbody>\n",
       "</table>\n",
       "</div>"
      ],
      "text/plain": [
       "       pjok\n",
       "0 -0.679728\n",
       "1  2.818873\n",
       "2  1.069572\n",
       "3 -0.679728\n",
       "4 -0.679728"
      ]
     },
     "execution_count": 31,
     "metadata": {},
     "output_type": "execute_result"
    }
   ],
   "source": [
    "from sklearn.decomposition import PCA \n",
    "pca = PCA(n_components=1)\n",
    "\n",
    "pca.fit(mlcl_2[['p_pjok','k_pjok']])\n",
    "pcs_array= pca.transform(mlcl_2[['p_pjok','k_pjok']])\n",
    "\n",
    "pca_pjok = pd.DataFrame(pcs_array, columns = ['pjok'])\n",
    "pca_pjok.head()"
   ]
  },
  {
   "cell_type": "code",
   "execution_count": 32,
   "id": "aa811e34-5277-4ad4-bda1-36d5267e88c8",
   "metadata": {},
   "outputs": [
    {
     "data": {
      "text/html": [
       "<div>\n",
       "<style scoped>\n",
       "    .dataframe tbody tr th:only-of-type {\n",
       "        vertical-align: middle;\n",
       "    }\n",
       "\n",
       "    .dataframe tbody tr th {\n",
       "        vertical-align: top;\n",
       "    }\n",
       "\n",
       "    .dataframe thead th {\n",
       "        text-align: right;\n",
       "    }\n",
       "</style>\n",
       "<table border=\"1\" class=\"dataframe\">\n",
       "  <thead>\n",
       "    <tr style=\"text-align: right;\">\n",
       "      <th></th>\n",
       "      <th>sbk</th>\n",
       "    </tr>\n",
       "  </thead>\n",
       "  <tbody>\n",
       "    <tr>\n",
       "      <th>0</th>\n",
       "      <td>-0.663231</td>\n",
       "    </tr>\n",
       "    <tr>\n",
       "      <th>1</th>\n",
       "      <td>1.179078</td>\n",
       "    </tr>\n",
       "    <tr>\n",
       "      <th>2</th>\n",
       "      <td>1.179078</td>\n",
       "    </tr>\n",
       "    <tr>\n",
       "      <th>3</th>\n",
       "      <td>-0.663231</td>\n",
       "    </tr>\n",
       "    <tr>\n",
       "      <th>4</th>\n",
       "      <td>-0.663231</td>\n",
       "    </tr>\n",
       "  </tbody>\n",
       "</table>\n",
       "</div>"
      ],
      "text/plain": [
       "        sbk\n",
       "0 -0.663231\n",
       "1  1.179078\n",
       "2  1.179078\n",
       "3 -0.663231\n",
       "4 -0.663231"
      ]
     },
     "execution_count": 32,
     "metadata": {},
     "output_type": "execute_result"
    }
   ],
   "source": [
    "from sklearn.decomposition import PCA \n",
    "pca = PCA(n_components=1)\n",
    "\n",
    "pca.fit(mlcl_2[['p_sbk','k_sbk']])\n",
    "pcs_array= pca.transform(mlcl_2[['p_sbk','k_sbk']])\n",
    "\n",
    "pca_sbk = pd.DataFrame(pcs_array, columns = ['sbk'])\n",
    "pca_sbk.head()"
   ]
  },
  {
   "cell_type": "code",
   "execution_count": 33,
   "id": "8203d789-f710-46bc-8aef-a33bac4e4f84",
   "metadata": {},
   "outputs": [],
   "source": [
    "pca_nilai_mlcl_2 = pd.concat([pca_pjok,pca_sbk],axis=1)"
   ]
  },
  {
   "cell_type": "code",
   "execution_count": 34,
   "id": "39212bcf-3bcc-4808-b4a5-140778aad0d2",
   "metadata": {},
   "outputs": [
    {
     "data": {
      "text/html": [
       "<div>\n",
       "<style scoped>\n",
       "    .dataframe tbody tr th:only-of-type {\n",
       "        vertical-align: middle;\n",
       "    }\n",
       "\n",
       "    .dataframe tbody tr th {\n",
       "        vertical-align: top;\n",
       "    }\n",
       "\n",
       "    .dataframe thead th {\n",
       "        text-align: right;\n",
       "    }\n",
       "</style>\n",
       "<table border=\"1\" class=\"dataframe\">\n",
       "  <thead>\n",
       "    <tr style=\"text-align: right;\">\n",
       "      <th></th>\n",
       "      <th>pjok</th>\n",
       "      <th>sbk</th>\n",
       "    </tr>\n",
       "  </thead>\n",
       "  <tbody>\n",
       "    <tr>\n",
       "      <th>0</th>\n",
       "      <td>-0.679728</td>\n",
       "      <td>-0.663231</td>\n",
       "    </tr>\n",
       "    <tr>\n",
       "      <th>1</th>\n",
       "      <td>2.818873</td>\n",
       "      <td>1.179078</td>\n",
       "    </tr>\n",
       "    <tr>\n",
       "      <th>2</th>\n",
       "      <td>1.069572</td>\n",
       "      <td>1.179078</td>\n",
       "    </tr>\n",
       "    <tr>\n",
       "      <th>3</th>\n",
       "      <td>-0.679728</td>\n",
       "      <td>-0.663231</td>\n",
       "    </tr>\n",
       "    <tr>\n",
       "      <th>4</th>\n",
       "      <td>-0.679728</td>\n",
       "      <td>-0.663231</td>\n",
       "    </tr>\n",
       "  </tbody>\n",
       "</table>\n",
       "</div>"
      ],
      "text/plain": [
       "       pjok       sbk\n",
       "0 -0.679728 -0.663231\n",
       "1  2.818873  1.179078\n",
       "2  1.069572  1.179078\n",
       "3 -0.679728 -0.663231\n",
       "4 -0.679728 -0.663231"
      ]
     },
     "execution_count": 34,
     "metadata": {},
     "output_type": "execute_result"
    }
   ],
   "source": [
    "pca_nilai_mlcl_2.head()"
   ]
  },
  {
   "cell_type": "markdown",
   "id": "f0a72e6e-a113-4f86-a406-1bc4cd46ccaf",
   "metadata": {},
   "source": [
    "### Elbow Method"
   ]
  },
  {
   "cell_type": "code",
   "execution_count": 35,
   "id": "6cfeca82-2da0-4b29-a362-41e9611753a9",
   "metadata": {},
   "outputs": [
    {
     "name": "stdout",
     "output_type": "stream",
     "text": [
      "[33.82890390557995, 14.19536161218426, 3.2308593582852883, 0.968123387248308, 1.8488927466117464e-31, 0.0, 0.0, 0.0, 0.0, 0.0, 0.0, 0.0, 0.0]\n"
     ]
    },
    {
     "data": {
      "image/png": "[encoded data removed]",
      "text/plain": [
       "<Figure size 720x360 with 1 Axes>"
      ]
     },
     "metadata": {
      "needs_background": "light"
     },
     "output_type": "display_data"
    }
   ],
   "source": [
    "from sklearn.cluster import KMeans\n",
    "import warnings\n",
    "warnings.filterwarnings('ignore')\n",
    "inertia = []\n",
    "\n",
    "for i in range(2, 15):\n",
    "    kmeans = KMeans(n_clusters=i, random_state=0)\n",
    "    kmeans.fit(pca_nilai_mlcl_2.values)\n",
    "    inertia.append(kmeans.inertia_)\n",
    "\n",
    "\n",
    "print(inertia)\n",
    "\n",
    "plt.figure(figsize=(10, 5))\n",
    "# plt.plot(inertia)\n",
    "\n",
    "sns.lineplot(x=range(2, 15), y=inertia, color='#000087', linewidth = 4)\n",
    "sns.scatterplot(x=range(2, 15), y=inertia, s=300, color='#800000',  linestyle='--')\n",
    "plt.tight_layout()"
   ]
  },
  {
   "cell_type": "markdown",
   "id": "b911cfcc-6367-4045-92d4-248cd9e51405",
   "metadata": {},
   "source": [
    "### Silhouette Score"
   ]
  },
  {
   "cell_type": "code",
   "execution_count": 36,
   "id": "8643007d-bd8f-45cd-9a43-4397d146b0a5",
   "metadata": {},
   "outputs": [
    {
     "data": {
      "image/png": "[encoded data removed]",
      "text/plain": [
       "<Figure size 720x360 with 1 Axes>"
      ]
     },
     "metadata": {
      "needs_background": "light"
     },
     "output_type": "display_data"
    }
   ],
   "source": [
    "from sklearn.metrics import silhouette_score\n",
    "siscore=[]\n",
    "for i in range(2,15):\n",
    "    KMean= KMeans(n_clusters=i)\n",
    "    KMean.fit(pca_nilai_mlcl_2.values)\n",
    "    label= KMean.predict(pca_nilai_mlcl_2.values)\n",
    "    siscore.append(silhouette_score(pca_nilai_mlcl_2.values, labels=label))\n",
    "    \n",
    "plt.figure(figsize=(10,5))\n",
    "\n",
    "sns.lineplot(x=range(2,15), y=siscore, color='blue', linewidth=3)\n",
    "sns.scatterplot(x=range(2,15), y=siscore, color='green', s=300, linewidth=3)\n",
    "plt.tight_layout()\n",
    "\n",
    "for i in range(2,15):\n",
    "    plt.text(x=i+0.25, y=siscore[i-2], color='black', s=str(round(siscore[i-2],2)), size=10)\n",
    "plt.show()"
   ]
  },
  {
   "cell_type": "markdown",
   "id": "c03f1e20-93fa-44f9-907d-54fc058b47a7",
   "metadata": {},
   "source": [
    "### KMeans Clustering"
   ]
  },
  {
   "cell_type": "code",
   "execution_count": 37,
   "id": "cbcc30f3-fd4b-419f-9e88-3b550553f65a",
   "metadata": {},
   "outputs": [
    {
     "data": {
      "text/plain": [
       "KMeans(max_iter=600, n_clusters=5, n_init=30, random_state=0)"
      ]
     },
     "execution_count": 37,
     "metadata": {},
     "output_type": "execute_result"
    }
   ],
   "source": [
    "from sklearn.cluster import KMeans\n",
    "kmeans = KMeans(n_clusters = 5, random_state=0, n_init=30, max_iter=600)\n",
    "kmeans.fit(pca_nilai_mlcl_2.values)"
   ]
  },
  {
   "cell_type": "code",
   "execution_count": 38,
   "id": "f0a56f2c-6e6c-4300-b698-25b1c94ad7f6",
   "metadata": {},
   "outputs": [],
   "source": [
    "pca_nilai_mlcl_2['cluster'] = kmeans.labels_"
   ]
  },
  {
   "cell_type": "markdown",
   "id": "098470c0-9984-4637-a6c4-9798d2f52091",
   "metadata": {},
   "source": [
    "#### Visualisasi Hasil KMeans Clustering"
   ]
  },
  {
   "cell_type": "code",
   "execution_count": 39,
   "id": "a74c7c8b-1658-4e1e-9bcd-f07eb829b6e5",
   "metadata": {},
   "outputs": [
    {
     "data": {
      "image/png": "[encoded data removed]",
      "text/plain": [
       "<Figure size 432x288 with 1 Axes>"
      ]
     },
     "metadata": {
      "needs_background": "light"
     },
     "output_type": "display_data"
    }
   ],
   "source": [
    "fig, ax = plt.subplots()\n",
    "\n",
    "sns.scatterplot(\n",
    "    x=\"pjok\", y=\"sbk\",\n",
    "    hue='cluster',\n",
    "    edgecolor='black',\n",
    "    linestyle='--',\n",
    "    data=pca_nilai_mlcl_2,\n",
    "    palette='Spectral',\n",
    "    s=160,\n",
    "    ax=ax)\n",
    "# plt.xticks(ticks = [0,1,2,3,4,5],labels = ['Tidak Berpenghasilan','Kurang Dari Rp. 500,000','Rp. 500,000 - Rp. 999,999','Rp. 1,000,000 - Rp. 1,999,999','Rp. 2,000,000 - Rp. 4,999,999','Rp. 5,000,000 - Rp. 20,000,000'])\n",
    "# plt.yticks(ticks = [0,1,2,3,4,5],labels = ['Tidak Berpenghasilan','Kurang Dari Rp. 500,000','Rp. 500,000 - Rp. 999,999','Rp. 1,000,000 - Rp. 1,999,999','Rp. 2,000,000 - Rp. 4,999,999','Rp. 5,000,000 - Rp. 20,000,000'])\n",
    "plt.tight_layout()\n",
    "plt.show()"
   ]
  },
  {
   "cell_type": "markdown",
   "id": "7d74df60-0985-4bfe-99a4-6a6750ec55a1",
   "metadata": {},
   "source": [
    "#### Tabulasi Hasil KMeans Clustering"
   ]
  },
  {
   "cell_type": "code",
   "execution_count": 40,
   "id": "a896c10e-89c5-4943-a110-ff58a83f58a8",
   "metadata": {},
   "outputs": [
    {
     "data": {
      "text/html": [
       "<div>\n",
       "<style scoped>\n",
       "    .dataframe tbody tr th:only-of-type {\n",
       "        vertical-align: middle;\n",
       "    }\n",
       "\n",
       "    .dataframe tbody tr th {\n",
       "        vertical-align: top;\n",
       "    }\n",
       "\n",
       "    .dataframe thead th {\n",
       "        text-align: right;\n",
       "    }\n",
       "</style>\n",
       "<table border=\"1\" class=\"dataframe\">\n",
       "  <thead>\n",
       "    <tr style=\"text-align: right;\">\n",
       "      <th></th>\n",
       "      <th>nama</th>\n",
       "      <th>pjok</th>\n",
       "      <th>sbk</th>\n",
       "      <th>cluster</th>\n",
       "    </tr>\n",
       "  </thead>\n",
       "  <tbody>\n",
       "    <tr>\n",
       "      <th>0</th>\n",
       "      <td>ns7</td>\n",
       "      <td>-0.679728</td>\n",
       "      <td>-0.663231</td>\n",
       "      <td>0</td>\n",
       "    </tr>\n",
       "    <tr>\n",
       "      <th>1</th>\n",
       "      <td>ns13</td>\n",
       "      <td>2.818873</td>\n",
       "      <td>1.179078</td>\n",
       "      <td>4</td>\n",
       "    </tr>\n",
       "    <tr>\n",
       "      <th>2</th>\n",
       "      <td>ns23</td>\n",
       "      <td>1.069572</td>\n",
       "      <td>1.179078</td>\n",
       "      <td>1</td>\n",
       "    </tr>\n",
       "    <tr>\n",
       "      <th>3</th>\n",
       "      <td>ns38</td>\n",
       "      <td>-0.679728</td>\n",
       "      <td>-0.663231</td>\n",
       "      <td>0</td>\n",
       "    </tr>\n",
       "    <tr>\n",
       "      <th>4</th>\n",
       "      <td>ns39</td>\n",
       "      <td>-0.679728</td>\n",
       "      <td>-0.663231</td>\n",
       "      <td>0</td>\n",
       "    </tr>\n",
       "  </tbody>\n",
       "</table>\n",
       "</div>"
      ],
      "text/plain": [
       "   nama      pjok       sbk  cluster\n",
       "0   ns7 -0.679728 -0.663231        0\n",
       "1  ns13  2.818873  1.179078        4\n",
       "2  ns23  1.069572  1.179078        1\n",
       "3  ns38 -0.679728 -0.663231        0\n",
       "4  ns39 -0.679728 -0.663231        0"
      ]
     },
     "execution_count": 40,
     "metadata": {},
     "output_type": "execute_result"
    }
   ],
   "source": [
    "# penggabungan kolom nama dengan data hasil klasterisasi\n",
    "\n",
    "data_2 = pd.concat([df.select_dtypes('object'),pca_nilai_mlcl_2],axis=1)\n",
    "data_2.head()"
   ]
  },
  {
   "cell_type": "markdown",
   "id": "ef257b43-6457-4908-b1ec-f8ce4a942e83",
   "metadata": {},
   "source": [
    "##### SBK"
   ]
  },
  {
   "cell_type": "code",
   "execution_count": 41,
   "id": "f5a04042-7234-4245-a5be-a7ab1db51608",
   "metadata": {},
   "outputs": [
    {
     "data": {
      "text/html": [
       "<div>\n",
       "<style scoped>\n",
       "    .dataframe tbody tr th:only-of-type {\n",
       "        vertical-align: middle;\n",
       "    }\n",
       "\n",
       "    .dataframe tbody tr th {\n",
       "        vertical-align: top;\n",
       "    }\n",
       "\n",
       "    .dataframe thead th {\n",
       "        text-align: right;\n",
       "    }\n",
       "</style>\n",
       "<table border=\"1\" class=\"dataframe\">\n",
       "  <thead>\n",
       "    <tr style=\"text-align: right;\">\n",
       "      <th></th>\n",
       "      <th>nama</th>\n",
       "      <th>pjok</th>\n",
       "      <th>sbk</th>\n",
       "      <th>cluster</th>\n",
       "    </tr>\n",
       "  </thead>\n",
       "  <tbody>\n",
       "    <tr>\n",
       "      <th>9</th>\n",
       "      <td>ns79</td>\n",
       "      <td>2.818873</td>\n",
       "      <td>3.021387</td>\n",
       "      <td>3</td>\n",
       "    </tr>\n",
       "    <tr>\n",
       "      <th>30</th>\n",
       "      <td>ns248</td>\n",
       "      <td>2.818873</td>\n",
       "      <td>3.021387</td>\n",
       "      <td>3</td>\n",
       "    </tr>\n",
       "  </tbody>\n",
       "</table>\n",
       "</div>"
      ],
      "text/plain": [
       "     nama      pjok       sbk  cluster\n",
       "9    ns79  2.818873  3.021387        3\n",
       "30  ns248  2.818873  3.021387        3"
      ]
     },
     "execution_count": 41,
     "metadata": {},
     "output_type": "execute_result"
    }
   ],
   "source": [
    "# top 1 \n",
    "\n",
    "data_2[data_2['cluster']==3]"
   ]
  },
  {
   "cell_type": "code",
   "execution_count": 42,
   "id": "4a9a2908-2b52-4e14-92ea-ab0d5ba5e44a",
   "metadata": {},
   "outputs": [
    {
     "data": {
      "text/html": [
       "<div>\n",
       "<style scoped>\n",
       "    .dataframe tbody tr th:only-of-type {\n",
       "        vertical-align: middle;\n",
       "    }\n",
       "\n",
       "    .dataframe tbody tr th {\n",
       "        vertical-align: top;\n",
       "    }\n",
       "\n",
       "    .dataframe thead th {\n",
       "        text-align: right;\n",
       "    }\n",
       "</style>\n",
       "<table border=\"1\" class=\"dataframe\">\n",
       "  <thead>\n",
       "    <tr style=\"text-align: right;\">\n",
       "      <th></th>\n",
       "      <th>nama</th>\n",
       "      <th>pjok</th>\n",
       "      <th>sbk</th>\n",
       "      <th>cluster</th>\n",
       "    </tr>\n",
       "  </thead>\n",
       "  <tbody>\n",
       "    <tr>\n",
       "      <th>2</th>\n",
       "      <td>ns23</td>\n",
       "      <td>1.069572</td>\n",
       "      <td>1.179078</td>\n",
       "      <td>1</td>\n",
       "    </tr>\n",
       "    <tr>\n",
       "      <th>5</th>\n",
       "      <td>ns40</td>\n",
       "      <td>1.069572</td>\n",
       "      <td>1.179078</td>\n",
       "      <td>1</td>\n",
       "    </tr>\n",
       "    <tr>\n",
       "      <th>6</th>\n",
       "      <td>ns41</td>\n",
       "      <td>1.069572</td>\n",
       "      <td>1.179078</td>\n",
       "      <td>1</td>\n",
       "    </tr>\n",
       "    <tr>\n",
       "      <th>8</th>\n",
       "      <td>ns59</td>\n",
       "      <td>1.069572</td>\n",
       "      <td>1.179078</td>\n",
       "      <td>1</td>\n",
       "    </tr>\n",
       "    <tr>\n",
       "      <th>19</th>\n",
       "      <td>ns193</td>\n",
       "      <td>1.069572</td>\n",
       "      <td>1.179078</td>\n",
       "      <td>1</td>\n",
       "    </tr>\n",
       "    <tr>\n",
       "      <th>20</th>\n",
       "      <td>ns210</td>\n",
       "      <td>1.069572</td>\n",
       "      <td>1.179078</td>\n",
       "      <td>1</td>\n",
       "    </tr>\n",
       "    <tr>\n",
       "      <th>21</th>\n",
       "      <td>ns218</td>\n",
       "      <td>1.069572</td>\n",
       "      <td>1.179078</td>\n",
       "      <td>1</td>\n",
       "    </tr>\n",
       "    <tr>\n",
       "      <th>22</th>\n",
       "      <td>ns225</td>\n",
       "      <td>1.069572</td>\n",
       "      <td>1.179078</td>\n",
       "      <td>1</td>\n",
       "    </tr>\n",
       "    <tr>\n",
       "      <th>23</th>\n",
       "      <td>ns229</td>\n",
       "      <td>1.069572</td>\n",
       "      <td>1.179078</td>\n",
       "      <td>1</td>\n",
       "    </tr>\n",
       "    <tr>\n",
       "      <th>25</th>\n",
       "      <td>ns238</td>\n",
       "      <td>1.069572</td>\n",
       "      <td>1.179078</td>\n",
       "      <td>1</td>\n",
       "    </tr>\n",
       "    <tr>\n",
       "      <th>27</th>\n",
       "      <td>ns241</td>\n",
       "      <td>1.069572</td>\n",
       "      <td>1.179078</td>\n",
       "      <td>1</td>\n",
       "    </tr>\n",
       "    <tr>\n",
       "      <th>32</th>\n",
       "      <td>ns270</td>\n",
       "      <td>1.069572</td>\n",
       "      <td>1.179078</td>\n",
       "      <td>1</td>\n",
       "    </tr>\n",
       "  </tbody>\n",
       "</table>\n",
       "</div>"
      ],
      "text/plain": [
       "     nama      pjok       sbk  cluster\n",
       "2    ns23  1.069572  1.179078        1\n",
       "5    ns40  1.069572  1.179078        1\n",
       "6    ns41  1.069572  1.179078        1\n",
       "8    ns59  1.069572  1.179078        1\n",
       "19  ns193  1.069572  1.179078        1\n",
       "20  ns210  1.069572  1.179078        1\n",
       "21  ns218  1.069572  1.179078        1\n",
       "22  ns225  1.069572  1.179078        1\n",
       "23  ns229  1.069572  1.179078        1\n",
       "25  ns238  1.069572  1.179078        1\n",
       "27  ns241  1.069572  1.179078        1\n",
       "32  ns270  1.069572  1.179078        1"
      ]
     },
     "execution_count": 42,
     "metadata": {},
     "output_type": "execute_result"
    }
   ],
   "source": [
    "# top 2\n",
    "\n",
    "data_2[data_2['cluster']==1].sort_values(by='sbk',ascending=False)"
   ]
  },
  {
   "cell_type": "code",
   "execution_count": 43,
   "id": "d92f3974-f8f4-4b19-b081-bf5104b2de03",
   "metadata": {},
   "outputs": [
    {
     "data": {
      "text/html": [
       "<div>\n",
       "<style scoped>\n",
       "    .dataframe tbody tr th:only-of-type {\n",
       "        vertical-align: middle;\n",
       "    }\n",
       "\n",
       "    .dataframe tbody tr th {\n",
       "        vertical-align: top;\n",
       "    }\n",
       "\n",
       "    .dataframe thead th {\n",
       "        text-align: right;\n",
       "    }\n",
       "</style>\n",
       "<table border=\"1\" class=\"dataframe\">\n",
       "  <thead>\n",
       "    <tr style=\"text-align: right;\">\n",
       "      <th></th>\n",
       "      <th>nama</th>\n",
       "      <th>pjok</th>\n",
       "      <th>sbk</th>\n",
       "      <th>cluster</th>\n",
       "    </tr>\n",
       "  </thead>\n",
       "  <tbody>\n",
       "    <tr>\n",
       "      <th>1</th>\n",
       "      <td>ns13</td>\n",
       "      <td>2.818873</td>\n",
       "      <td>1.179078</td>\n",
       "      <td>4</td>\n",
       "    </tr>\n",
       "  </tbody>\n",
       "</table>\n",
       "</div>"
      ],
      "text/plain": [
       "   nama      pjok       sbk  cluster\n",
       "1  ns13  2.818873  1.179078        4"
      ]
     },
     "execution_count": 43,
     "metadata": {},
     "output_type": "execute_result"
    }
   ],
   "source": [
    "# another choice\n",
    "\n",
    "data_2[data_2['cluster']==4].sort_values(by='sbk',ascending=False)"
   ]
  },
  {
   "cell_type": "markdown",
   "id": "32802322-6865-4355-9bae-a71e69d05118",
   "metadata": {},
   "source": [
    "##### PJOK"
   ]
  },
  {
   "cell_type": "code",
   "execution_count": 44,
   "id": "27b92c05-ac55-41cb-9abb-78e899aa1a29",
   "metadata": {},
   "outputs": [
    {
     "data": {
      "text/html": [
       "<div>\n",
       "<style scoped>\n",
       "    .dataframe tbody tr th:only-of-type {\n",
       "        vertical-align: middle;\n",
       "    }\n",
       "\n",
       "    .dataframe tbody tr th {\n",
       "        vertical-align: top;\n",
       "    }\n",
       "\n",
       "    .dataframe thead th {\n",
       "        text-align: right;\n",
       "    }\n",
       "</style>\n",
       "<table border=\"1\" class=\"dataframe\">\n",
       "  <thead>\n",
       "    <tr style=\"text-align: right;\">\n",
       "      <th></th>\n",
       "      <th>nama</th>\n",
       "      <th>pjok</th>\n",
       "      <th>sbk</th>\n",
       "      <th>cluster</th>\n",
       "    </tr>\n",
       "  </thead>\n",
       "  <tbody>\n",
       "    <tr>\n",
       "      <th>9</th>\n",
       "      <td>ns79</td>\n",
       "      <td>2.818873</td>\n",
       "      <td>3.021387</td>\n",
       "      <td>3</td>\n",
       "    </tr>\n",
       "    <tr>\n",
       "      <th>30</th>\n",
       "      <td>ns248</td>\n",
       "      <td>2.818873</td>\n",
       "      <td>3.021387</td>\n",
       "      <td>3</td>\n",
       "    </tr>\n",
       "  </tbody>\n",
       "</table>\n",
       "</div>"
      ],
      "text/plain": [
       "     nama      pjok       sbk  cluster\n",
       "9    ns79  2.818873  3.021387        3\n",
       "30  ns248  2.818873  3.021387        3"
      ]
     },
     "execution_count": 44,
     "metadata": {},
     "output_type": "execute_result"
    }
   ],
   "source": [
    "# Top 1\n",
    "\n",
    "data_2[data_2['cluster']==3].sort_values(by='pjok',ascending=False)"
   ]
  },
  {
   "cell_type": "code",
   "execution_count": 45,
   "id": "01a16e04-22af-405c-9bce-9de1b559df1a",
   "metadata": {},
   "outputs": [
    {
     "data": {
      "text/html": [
       "<div>\n",
       "<style scoped>\n",
       "    .dataframe tbody tr th:only-of-type {\n",
       "        vertical-align: middle;\n",
       "    }\n",
       "\n",
       "    .dataframe tbody tr th {\n",
       "        vertical-align: top;\n",
       "    }\n",
       "\n",
       "    .dataframe thead th {\n",
       "        text-align: right;\n",
       "    }\n",
       "</style>\n",
       "<table border=\"1\" class=\"dataframe\">\n",
       "  <thead>\n",
       "    <tr style=\"text-align: right;\">\n",
       "      <th></th>\n",
       "      <th>nama</th>\n",
       "      <th>pjok</th>\n",
       "      <th>sbk</th>\n",
       "      <th>cluster</th>\n",
       "    </tr>\n",
       "  </thead>\n",
       "  <tbody>\n",
       "    <tr>\n",
       "      <th>1</th>\n",
       "      <td>ns13</td>\n",
       "      <td>2.818873</td>\n",
       "      <td>1.179078</td>\n",
       "      <td>4</td>\n",
       "    </tr>\n",
       "  </tbody>\n",
       "</table>\n",
       "</div>"
      ],
      "text/plain": [
       "   nama      pjok       sbk  cluster\n",
       "1  ns13  2.818873  1.179078        4"
      ]
     },
     "execution_count": 45,
     "metadata": {},
     "output_type": "execute_result"
    }
   ],
   "source": [
    "# Another Choice\n",
    "\n",
    "data_2[data_2['cluster']==4].sort_values(by='pjok',ascending=False)"
   ]
  },
  {
   "cell_type": "code",
   "execution_count": 46,
   "id": "7545d502-3f1d-4551-97ed-e7e3fa9aec78",
   "metadata": {},
   "outputs": [
    {
     "data": {
      "text/html": [
       "<div>\n",
       "<style scoped>\n",
       "    .dataframe tbody tr th:only-of-type {\n",
       "        vertical-align: middle;\n",
       "    }\n",
       "\n",
       "    .dataframe tbody tr th {\n",
       "        vertical-align: top;\n",
       "    }\n",
       "\n",
       "    .dataframe thead th {\n",
       "        text-align: right;\n",
       "    }\n",
       "</style>\n",
       "<table border=\"1\" class=\"dataframe\">\n",
       "  <thead>\n",
       "    <tr style=\"text-align: right;\">\n",
       "      <th></th>\n",
       "      <th>nama</th>\n",
       "      <th>pjok</th>\n",
       "      <th>sbk</th>\n",
       "      <th>cluster</th>\n",
       "    </tr>\n",
       "  </thead>\n",
       "  <tbody>\n",
       "    <tr>\n",
       "      <th>2</th>\n",
       "      <td>ns23</td>\n",
       "      <td>1.069572</td>\n",
       "      <td>1.179078</td>\n",
       "      <td>1</td>\n",
       "    </tr>\n",
       "    <tr>\n",
       "      <th>5</th>\n",
       "      <td>ns40</td>\n",
       "      <td>1.069572</td>\n",
       "      <td>1.179078</td>\n",
       "      <td>1</td>\n",
       "    </tr>\n",
       "    <tr>\n",
       "      <th>6</th>\n",
       "      <td>ns41</td>\n",
       "      <td>1.069572</td>\n",
       "      <td>1.179078</td>\n",
       "      <td>1</td>\n",
       "    </tr>\n",
       "    <tr>\n",
       "      <th>8</th>\n",
       "      <td>ns59</td>\n",
       "      <td>1.069572</td>\n",
       "      <td>1.179078</td>\n",
       "      <td>1</td>\n",
       "    </tr>\n",
       "    <tr>\n",
       "      <th>19</th>\n",
       "      <td>ns193</td>\n",
       "      <td>1.069572</td>\n",
       "      <td>1.179078</td>\n",
       "      <td>1</td>\n",
       "    </tr>\n",
       "    <tr>\n",
       "      <th>20</th>\n",
       "      <td>ns210</td>\n",
       "      <td>1.069572</td>\n",
       "      <td>1.179078</td>\n",
       "      <td>1</td>\n",
       "    </tr>\n",
       "    <tr>\n",
       "      <th>21</th>\n",
       "      <td>ns218</td>\n",
       "      <td>1.069572</td>\n",
       "      <td>1.179078</td>\n",
       "      <td>1</td>\n",
       "    </tr>\n",
       "    <tr>\n",
       "      <th>22</th>\n",
       "      <td>ns225</td>\n",
       "      <td>1.069572</td>\n",
       "      <td>1.179078</td>\n",
       "      <td>1</td>\n",
       "    </tr>\n",
       "    <tr>\n",
       "      <th>23</th>\n",
       "      <td>ns229</td>\n",
       "      <td>1.069572</td>\n",
       "      <td>1.179078</td>\n",
       "      <td>1</td>\n",
       "    </tr>\n",
       "    <tr>\n",
       "      <th>25</th>\n",
       "      <td>ns238</td>\n",
       "      <td>1.069572</td>\n",
       "      <td>1.179078</td>\n",
       "      <td>1</td>\n",
       "    </tr>\n",
       "    <tr>\n",
       "      <th>27</th>\n",
       "      <td>ns241</td>\n",
       "      <td>1.069572</td>\n",
       "      <td>1.179078</td>\n",
       "      <td>1</td>\n",
       "    </tr>\n",
       "    <tr>\n",
       "      <th>32</th>\n",
       "      <td>ns270</td>\n",
       "      <td>1.069572</td>\n",
       "      <td>1.179078</td>\n",
       "      <td>1</td>\n",
       "    </tr>\n",
       "  </tbody>\n",
       "</table>\n",
       "</div>"
      ],
      "text/plain": [
       "     nama      pjok       sbk  cluster\n",
       "2    ns23  1.069572  1.179078        1\n",
       "5    ns40  1.069572  1.179078        1\n",
       "6    ns41  1.069572  1.179078        1\n",
       "8    ns59  1.069572  1.179078        1\n",
       "19  ns193  1.069572  1.179078        1\n",
       "20  ns210  1.069572  1.179078        1\n",
       "21  ns218  1.069572  1.179078        1\n",
       "22  ns225  1.069572  1.179078        1\n",
       "23  ns229  1.069572  1.179078        1\n",
       "25  ns238  1.069572  1.179078        1\n",
       "27  ns241  1.069572  1.179078        1\n",
       "32  ns270  1.069572  1.179078        1"
      ]
     },
     "execution_count": 46,
     "metadata": {},
     "output_type": "execute_result"
    }
   ],
   "source": [
    "# top 2\n",
    "\n",
    "data_2[data_2['cluster']==1].sort_values(by='pjok',ascending=False)"
   ]
  },
  {
   "cell_type": "markdown",
   "id": "70710717-cfd7-4461-b5c5-085a7d92d1aa",
   "metadata": {},
   "source": [
    "Catatan:\n",
    "\n",
    "1. Secara umum, kemampuan Siswa dalam Seni Budaya dan Olahraga menunjukkan hubungan yang berbanding lurus.\n",
    "    - Artinya, semakin baik Siswa dalam Seni Budaya, maka cenderung baik juga dalam Olahraga.\n",
    "2. Siswa tersegmentasi ke dalam 3 kelompok, yaitu:\n",
    "    - Kelompok Siswa unggul baik dalam Seni maupun Olahraga,\n",
    "    - Kelompok Siswa yang kurang unggul di salah satu bidang, namun memiliki kemampuan yang setara di bidang lain, dan\n",
    "    - Kelompok Siswa yang kurang unggul di kedua bidang"
   ]
  },
  {
   "cell_type": "markdown",
   "id": "eb03caaf-e761-4271-a1f4-3433f976f737",
   "metadata": {},
   "source": [
    "## MIPA & IPS"
   ]
  },
  {
   "cell_type": "code",
   "execution_count": 47,
   "id": "48f10b54-744c-4588-89ed-2622bb1141af",
   "metadata": {},
   "outputs": [
    {
     "data": {
      "text/html": [
       "<div>\n",
       "<style scoped>\n",
       "    .dataframe tbody tr th:only-of-type {\n",
       "        vertical-align: middle;\n",
       "    }\n",
       "\n",
       "    .dataframe tbody tr th {\n",
       "        vertical-align: top;\n",
       "    }\n",
       "\n",
       "    .dataframe thead th {\n",
       "        text-align: right;\n",
       "    }\n",
       "</style>\n",
       "<table border=\"1\" class=\"dataframe\">\n",
       "  <thead>\n",
       "    <tr style=\"text-align: right;\">\n",
       "      <th></th>\n",
       "      <th>p_pai</th>\n",
       "      <th>p_pkn</th>\n",
       "      <th>p_indo</th>\n",
       "      <th>p_mtk</th>\n",
       "      <th>p_ipa</th>\n",
       "      <th>p_ips</th>\n",
       "      <th>p_pjok</th>\n",
       "      <th>p_sbk</th>\n",
       "      <th>p_sunda</th>\n",
       "      <th>k_pai</th>\n",
       "      <th>k_pkn</th>\n",
       "      <th>k_indo</th>\n",
       "      <th>k_mtk</th>\n",
       "      <th>k_ipa</th>\n",
       "      <th>k_ips</th>\n",
       "      <th>k_pjok</th>\n",
       "      <th>k_sbk</th>\n",
       "      <th>k_sunda</th>\n",
       "    </tr>\n",
       "  </thead>\n",
       "  <tbody>\n",
       "    <tr>\n",
       "      <th>0</th>\n",
       "      <td>-0.811107</td>\n",
       "      <td>0.179928</td>\n",
       "      <td>-0.299235</td>\n",
       "      <td>-0.275502</td>\n",
       "      <td>0.012044</td>\n",
       "      <td>0.898863</td>\n",
       "      <td>0.480640</td>\n",
       "      <td>0.468975</td>\n",
       "      <td>1.165543</td>\n",
       "      <td>-0.811107</td>\n",
       "      <td>0.116313</td>\n",
       "      <td>-0.643094</td>\n",
       "      <td>-0.440195</td>\n",
       "      <td>0.012044</td>\n",
       "      <td>0.047340</td>\n",
       "      <td>0.480640</td>\n",
       "      <td>0.468975</td>\n",
       "      <td>1.165543</td>\n",
       "    </tr>\n",
       "    <tr>\n",
       "      <th>1</th>\n",
       "      <td>-0.811107</td>\n",
       "      <td>-1.499400</td>\n",
       "      <td>-2.262967</td>\n",
       "      <td>-1.239759</td>\n",
       "      <td>-0.831024</td>\n",
       "      <td>-0.979359</td>\n",
       "      <td>-1.993244</td>\n",
       "      <td>-0.833734</td>\n",
       "      <td>-1.262672</td>\n",
       "      <td>-0.811107</td>\n",
       "      <td>-1.364030</td>\n",
       "      <td>-1.698171</td>\n",
       "      <td>-0.990439</td>\n",
       "      <td>-0.831024</td>\n",
       "      <td>-1.057251</td>\n",
       "      <td>-1.993244</td>\n",
       "      <td>-0.833734</td>\n",
       "      <td>-1.262672</td>\n",
       "    </tr>\n",
       "    <tr>\n",
       "      <th>2</th>\n",
       "      <td>0.324443</td>\n",
       "      <td>-1.079568</td>\n",
       "      <td>-0.626524</td>\n",
       "      <td>-0.275502</td>\n",
       "      <td>-0.831024</td>\n",
       "      <td>-0.509803</td>\n",
       "      <td>-0.756302</td>\n",
       "      <td>-0.833734</td>\n",
       "      <td>-1.262672</td>\n",
       "      <td>0.324443</td>\n",
       "      <td>-0.993944</td>\n",
       "      <td>-0.994786</td>\n",
       "      <td>-0.440195</td>\n",
       "      <td>-0.831024</td>\n",
       "      <td>-1.057251</td>\n",
       "      <td>-0.756302</td>\n",
       "      <td>-0.833734</td>\n",
       "      <td>-1.262672</td>\n",
       "    </tr>\n",
       "    <tr>\n",
       "      <th>3</th>\n",
       "      <td>-0.811107</td>\n",
       "      <td>-1.079568</td>\n",
       "      <td>0.355342</td>\n",
       "      <td>-0.275502</td>\n",
       "      <td>0.012044</td>\n",
       "      <td>-0.509803</td>\n",
       "      <td>0.480640</td>\n",
       "      <td>0.468975</td>\n",
       "      <td>-1.262672</td>\n",
       "      <td>-0.811107</td>\n",
       "      <td>-0.993944</td>\n",
       "      <td>-0.291402</td>\n",
       "      <td>-0.440195</td>\n",
       "      <td>0.012044</td>\n",
       "      <td>-0.504956</td>\n",
       "      <td>0.480640</td>\n",
       "      <td>0.468975</td>\n",
       "      <td>-1.262672</td>\n",
       "    </tr>\n",
       "    <tr>\n",
       "      <th>4</th>\n",
       "      <td>0.324443</td>\n",
       "      <td>-0.239904</td>\n",
       "      <td>0.682631</td>\n",
       "      <td>-0.275502</td>\n",
       "      <td>0.012044</td>\n",
       "      <td>-0.509803</td>\n",
       "      <td>0.480640</td>\n",
       "      <td>0.468975</td>\n",
       "      <td>-1.262672</td>\n",
       "      <td>0.324443</td>\n",
       "      <td>-0.253773</td>\n",
       "      <td>-0.291402</td>\n",
       "      <td>-0.990439</td>\n",
       "      <td>0.012044</td>\n",
       "      <td>-1.057251</td>\n",
       "      <td>0.480640</td>\n",
       "      <td>0.468975</td>\n",
       "      <td>-1.262672</td>\n",
       "    </tr>\n",
       "  </tbody>\n",
       "</table>\n",
       "</div>"
      ],
      "text/plain": [
       "      p_pai     p_pkn    p_indo     p_mtk     p_ipa     p_ips    p_pjok  \\\n",
       "0 -0.811107  0.179928 -0.299235 -0.275502  0.012044  0.898863  0.480640   \n",
       "1 -0.811107 -1.499400 -2.262967 -1.239759 -0.831024 -0.979359 -1.993244   \n",
       "2  0.324443 -1.079568 -0.626524 -0.275502 -0.831024 -0.509803 -0.756302   \n",
       "3 -0.811107 -1.079568  0.355342 -0.275502  0.012044 -0.509803  0.480640   \n",
       "4  0.324443 -0.239904  0.682631 -0.275502  0.012044 -0.509803  0.480640   \n",
       "\n",
       "      p_sbk   p_sunda     k_pai     k_pkn    k_indo     k_mtk     k_ipa  \\\n",
       "0  0.468975  1.165543 -0.811107  0.116313 -0.643094 -0.440195  0.012044   \n",
       "1 -0.833734 -1.262672 -0.811107 -1.364030 -1.698171 -0.990439 -0.831024   \n",
       "2 -0.833734 -1.262672  0.324443 -0.993944 -0.994786 -0.440195 -0.831024   \n",
       "3  0.468975 -1.262672 -0.811107 -0.993944 -0.291402 -0.440195  0.012044   \n",
       "4  0.468975 -1.262672  0.324443 -0.253773 -0.291402 -0.990439  0.012044   \n",
       "\n",
       "      k_ips    k_pjok     k_sbk   k_sunda  \n",
       "0  0.047340  0.480640  0.468975  1.165543  \n",
       "1 -1.057251 -1.993244 -0.833734 -1.262672  \n",
       "2 -1.057251 -0.756302 -0.833734 -1.262672  \n",
       "3 -0.504956  0.480640  0.468975 -1.262672  \n",
       "4 -1.057251  0.480640  0.468975 -1.262672  "
      ]
     },
     "execution_count": 47,
     "metadata": {},
     "output_type": "execute_result"
    }
   ],
   "source": [
    "new_df.head()"
   ]
  },
  {
   "cell_type": "markdown",
   "id": "6ac10b3f-e2ea-4ab5-afdd-4e5c1d272ce2",
   "metadata": {},
   "source": [
    "### Cuplikan Data MIPA & IPS"
   ]
  },
  {
   "cell_type": "code",
   "execution_count": 48,
   "id": "5724da9d-81c5-4b64-a694-323e7b35dc24",
   "metadata": {},
   "outputs": [
    {
     "data": {
      "text/html": [
       "<div>\n",
       "<style scoped>\n",
       "    .dataframe tbody tr th:only-of-type {\n",
       "        vertical-align: middle;\n",
       "    }\n",
       "\n",
       "    .dataframe tbody tr th {\n",
       "        vertical-align: top;\n",
       "    }\n",
       "\n",
       "    .dataframe thead th {\n",
       "        text-align: right;\n",
       "    }\n",
       "</style>\n",
       "<table border=\"1\" class=\"dataframe\">\n",
       "  <thead>\n",
       "    <tr style=\"text-align: right;\">\n",
       "      <th></th>\n",
       "      <th>p_mtk</th>\n",
       "      <th>p_ipa</th>\n",
       "      <th>k_mtk</th>\n",
       "      <th>k_ipa</th>\n",
       "      <th>p_ips</th>\n",
       "      <th>k_ips</th>\n",
       "    </tr>\n",
       "  </thead>\n",
       "  <tbody>\n",
       "    <tr>\n",
       "      <th>0</th>\n",
       "      <td>-0.275502</td>\n",
       "      <td>0.012044</td>\n",
       "      <td>-0.440195</td>\n",
       "      <td>0.012044</td>\n",
       "      <td>0.898863</td>\n",
       "      <td>0.047340</td>\n",
       "    </tr>\n",
       "    <tr>\n",
       "      <th>1</th>\n",
       "      <td>-1.239759</td>\n",
       "      <td>-0.831024</td>\n",
       "      <td>-0.990439</td>\n",
       "      <td>-0.831024</td>\n",
       "      <td>-0.979359</td>\n",
       "      <td>-1.057251</td>\n",
       "    </tr>\n",
       "    <tr>\n",
       "      <th>2</th>\n",
       "      <td>-0.275502</td>\n",
       "      <td>-0.831024</td>\n",
       "      <td>-0.440195</td>\n",
       "      <td>-0.831024</td>\n",
       "      <td>-0.509803</td>\n",
       "      <td>-1.057251</td>\n",
       "    </tr>\n",
       "    <tr>\n",
       "      <th>3</th>\n",
       "      <td>-0.275502</td>\n",
       "      <td>0.012044</td>\n",
       "      <td>-0.440195</td>\n",
       "      <td>0.012044</td>\n",
       "      <td>-0.509803</td>\n",
       "      <td>-0.504956</td>\n",
       "    </tr>\n",
       "    <tr>\n",
       "      <th>4</th>\n",
       "      <td>-0.275502</td>\n",
       "      <td>0.012044</td>\n",
       "      <td>-0.990439</td>\n",
       "      <td>0.012044</td>\n",
       "      <td>-0.509803</td>\n",
       "      <td>-1.057251</td>\n",
       "    </tr>\n",
       "  </tbody>\n",
       "</table>\n",
       "</div>"
      ],
      "text/plain": [
       "      p_mtk     p_ipa     k_mtk     k_ipa     p_ips     k_ips\n",
       "0 -0.275502  0.012044 -0.440195  0.012044  0.898863  0.047340\n",
       "1 -1.239759 -0.831024 -0.990439 -0.831024 -0.979359 -1.057251\n",
       "2 -0.275502 -0.831024 -0.440195 -0.831024 -0.509803 -1.057251\n",
       "3 -0.275502  0.012044 -0.440195  0.012044 -0.509803 -0.504956\n",
       "4 -0.275502  0.012044 -0.990439  0.012044 -0.509803 -1.057251"
      ]
     },
     "execution_count": 48,
     "metadata": {},
     "output_type": "execute_result"
    }
   ],
   "source": [
    "mlcl_3 = new_df[['p_mtk','p_ipa','k_mtk','k_ipa','p_ips','k_ips']]\n",
    "mlcl_3.head()"
   ]
  },
  {
   "cell_type": "markdown",
   "id": "5634ad79-7c04-4297-99c5-620634659fd3",
   "metadata": {},
   "source": [
    "### Principal Component Anlysis"
   ]
  },
  {
   "cell_type": "code",
   "execution_count": 49,
   "id": "5bb5e9c7-9bdb-4492-99d9-1f03bed8a997",
   "metadata": {},
   "outputs": [
    {
     "data": {
      "text/html": [
       "<div>\n",
       "<style scoped>\n",
       "    .dataframe tbody tr th:only-of-type {\n",
       "        vertical-align: middle;\n",
       "    }\n",
       "\n",
       "    .dataframe tbody tr th {\n",
       "        vertical-align: top;\n",
       "    }\n",
       "\n",
       "    .dataframe thead th {\n",
       "        text-align: right;\n",
       "    }\n",
       "</style>\n",
       "<table border=\"1\" class=\"dataframe\">\n",
       "  <thead>\n",
       "    <tr style=\"text-align: right;\">\n",
       "      <th></th>\n",
       "      <th>mipa</th>\n",
       "    </tr>\n",
       "  </thead>\n",
       "  <tbody>\n",
       "    <tr>\n",
       "      <th>0</th>\n",
       "      <td>-0.321191</td>\n",
       "    </tr>\n",
       "    <tr>\n",
       "      <th>1</th>\n",
       "      <td>-1.929489</td>\n",
       "    </tr>\n",
       "    <tr>\n",
       "      <th>2</th>\n",
       "      <td>-1.211764</td>\n",
       "    </tr>\n",
       "    <tr>\n",
       "      <th>3</th>\n",
       "      <td>-0.321191</td>\n",
       "    </tr>\n",
       "    <tr>\n",
       "      <th>4</th>\n",
       "      <td>-0.571733</td>\n",
       "    </tr>\n",
       "  </tbody>\n",
       "</table>\n",
       "</div>"
      ],
      "text/plain": [
       "       mipa\n",
       "0 -0.321191\n",
       "1 -1.929489\n",
       "2 -1.211764\n",
       "3 -0.321191\n",
       "4 -0.571733"
      ]
     },
     "execution_count": 49,
     "metadata": {},
     "output_type": "execute_result"
    }
   ],
   "source": [
    "from sklearn.decomposition import PCA \n",
    "pca = PCA(n_components=1)\n",
    "\n",
    "pca.fit(mlcl_3[['p_mtk','p_ipa','k_mtk','k_ipa']])\n",
    "pcs_array= pca.transform(mlcl_3[['p_mtk','p_ipa','k_mtk','k_ipa']])\n",
    "\n",
    "pca_mipa = pd.DataFrame(pcs_array, columns = ['mipa'])\n",
    "pca_mipa.head()"
   ]
  },
  {
   "cell_type": "code",
   "execution_count": 50,
   "id": "1dc541f3-e909-48a7-9883-2ae94cf102bb",
   "metadata": {},
   "outputs": [
    {
     "data": {
      "text/html": [
       "<div>\n",
       "<style scoped>\n",
       "    .dataframe tbody tr th:only-of-type {\n",
       "        vertical-align: middle;\n",
       "    }\n",
       "\n",
       "    .dataframe tbody tr th {\n",
       "        vertical-align: top;\n",
       "    }\n",
       "\n",
       "    .dataframe thead th {\n",
       "        text-align: right;\n",
       "    }\n",
       "</style>\n",
       "<table border=\"1\" class=\"dataframe\">\n",
       "  <thead>\n",
       "    <tr style=\"text-align: right;\">\n",
       "      <th></th>\n",
       "      <th>ips</th>\n",
       "    </tr>\n",
       "  </thead>\n",
       "  <tbody>\n",
       "    <tr>\n",
       "      <th>0</th>\n",
       "      <td>-0.669067</td>\n",
       "    </tr>\n",
       "    <tr>\n",
       "      <th>1</th>\n",
       "      <td>1.440100</td>\n",
       "    </tr>\n",
       "    <tr>\n",
       "      <th>2</th>\n",
       "      <td>1.108074</td>\n",
       "    </tr>\n",
       "    <tr>\n",
       "      <th>3</th>\n",
       "      <td>0.717543</td>\n",
       "    </tr>\n",
       "    <tr>\n",
       "      <th>4</th>\n",
       "      <td>1.108074</td>\n",
       "    </tr>\n",
       "  </tbody>\n",
       "</table>\n",
       "</div>"
      ],
      "text/plain": [
       "        ips\n",
       "0 -0.669067\n",
       "1  1.440100\n",
       "2  1.108074\n",
       "3  0.717543\n",
       "4  1.108074"
      ]
     },
     "execution_count": 50,
     "metadata": {},
     "output_type": "execute_result"
    }
   ],
   "source": [
    "from sklearn.decomposition import PCA \n",
    "pca = PCA(n_components=1)\n",
    "\n",
    "pca.fit(mlcl_3[['p_ips','k_ips']])\n",
    "pcs_array= pca.transform(mlcl_3[['p_ips','k_ips']])\n",
    "\n",
    "pca_ips = pd.DataFrame(pcs_array, columns = ['ips'])\n",
    "pca_ips.head()"
   ]
  },
  {
   "cell_type": "code",
   "execution_count": 51,
   "id": "053cd13f-8798-4cec-802b-a31334fdc452",
   "metadata": {},
   "outputs": [],
   "source": [
    "pca_nilai_mlcl_3 = pd.concat([pca_mipa,pca_ips],axis=1)"
   ]
  },
  {
   "cell_type": "code",
   "execution_count": 52,
   "id": "4f1dc41e-0a38-42b7-9e58-73031123860e",
   "metadata": {},
   "outputs": [
    {
     "data": {
      "text/html": [
       "<div>\n",
       "<style scoped>\n",
       "    .dataframe tbody tr th:only-of-type {\n",
       "        vertical-align: middle;\n",
       "    }\n",
       "\n",
       "    .dataframe tbody tr th {\n",
       "        vertical-align: top;\n",
       "    }\n",
       "\n",
       "    .dataframe thead th {\n",
       "        text-align: right;\n",
       "    }\n",
       "</style>\n",
       "<table border=\"1\" class=\"dataframe\">\n",
       "  <thead>\n",
       "    <tr style=\"text-align: right;\">\n",
       "      <th></th>\n",
       "      <th>mipa</th>\n",
       "      <th>ips</th>\n",
       "    </tr>\n",
       "  </thead>\n",
       "  <tbody>\n",
       "    <tr>\n",
       "      <th>0</th>\n",
       "      <td>-0.321191</td>\n",
       "      <td>-0.669067</td>\n",
       "    </tr>\n",
       "    <tr>\n",
       "      <th>1</th>\n",
       "      <td>-1.929489</td>\n",
       "      <td>1.440100</td>\n",
       "    </tr>\n",
       "    <tr>\n",
       "      <th>2</th>\n",
       "      <td>-1.211764</td>\n",
       "      <td>1.108074</td>\n",
       "    </tr>\n",
       "    <tr>\n",
       "      <th>3</th>\n",
       "      <td>-0.321191</td>\n",
       "      <td>0.717543</td>\n",
       "    </tr>\n",
       "    <tr>\n",
       "      <th>4</th>\n",
       "      <td>-0.571733</td>\n",
       "      <td>1.108074</td>\n",
       "    </tr>\n",
       "  </tbody>\n",
       "</table>\n",
       "</div>"
      ],
      "text/plain": [
       "       mipa       ips\n",
       "0 -0.321191 -0.669067\n",
       "1 -1.929489  1.440100\n",
       "2 -1.211764  1.108074\n",
       "3 -0.321191  0.717543\n",
       "4 -0.571733  1.108074"
      ]
     },
     "execution_count": 52,
     "metadata": {},
     "output_type": "execute_result"
    }
   ],
   "source": [
    "pca_nilai_mlcl_3.head()"
   ]
  },
  {
   "cell_type": "markdown",
   "id": "ea958312-1614-468f-b4d6-86235199d118",
   "metadata": {},
   "source": [
    "### Elbow Method"
   ]
  },
  {
   "cell_type": "code",
   "execution_count": 53,
   "id": "f13185d2-678b-45ad-882f-a3add971206a",
   "metadata": {},
   "outputs": [
    {
     "name": "stdout",
     "output_type": "stream",
     "text": [
      "[78.48810596505466, 51.872430333764754, 35.13217030244401, 23.059823082416177, 18.15983085871739, 15.044191586641023, 12.380934464786211, 10.26443883468175, 8.293016243773144, 7.591784774824711, 6.4105499084641355, 5.536648837248104, 5.067828535657313]\n"
     ]
    },
    {
     "data": {
      "image/png": "[encoded data removed]",
      "text/plain": [
       "<Figure size 720x360 with 1 Axes>"
      ]
     },
     "metadata": {
      "needs_background": "light"
     },
     "output_type": "display_data"
    }
   ],
   "source": [
    "from sklearn.cluster import KMeans\n",
    "import warnings\n",
    "warnings.filterwarnings('ignore')\n",
    "inertia = []\n",
    "\n",
    "for i in range(2, 15):\n",
    "    kmeans = KMeans(n_clusters=i, random_state=0)\n",
    "    kmeans.fit(pca_nilai_mlcl_3.values)\n",
    "    inertia.append(kmeans.inertia_)\n",
    "\n",
    "\n",
    "print(inertia)\n",
    "\n",
    "plt.figure(figsize=(10, 5))\n",
    "# plt.plot(inertia)\n",
    "\n",
    "sns.lineplot(x=range(2, 15), y=inertia, color='#000087', linewidth = 4)\n",
    "sns.scatterplot(x=range(2, 15), y=inertia, s=300, color='#800000',  linestyle='--')\n",
    "plt.tight_layout()"
   ]
  },
  {
   "cell_type": "markdown",
   "id": "3bda67fc-57ea-4502-948a-66a5bdfe481e",
   "metadata": {},
   "source": [
    "### Silhouette Score"
   ]
  },
  {
   "cell_type": "code",
   "execution_count": 54,
   "id": "b579d7a4-e545-4702-af0d-46e249af3309",
   "metadata": {},
   "outputs": [
    {
     "data": {
      "image/png": "[encoded data removed]",
      "text/plain": [
       "<Figure size 720x360 with 1 Axes>"
      ]
     },
     "metadata": {
      "needs_background": "light"
     },
     "output_type": "display_data"
    }
   ],
   "source": [
    "from sklearn.metrics import silhouette_score\n",
    "siscore=[]\n",
    "for i in range(2,15):\n",
    "    KMean= KMeans(n_clusters=i)\n",
    "    KMean.fit(pca_nilai_mlcl_3.values)\n",
    "    label= KMean.predict(pca_nilai_mlcl_3.values)\n",
    "    siscore.append(silhouette_score(pca_nilai_mlcl_3.values, labels=label))\n",
    "    \n",
    "plt.figure(figsize=(10,5))\n",
    "\n",
    "sns.lineplot(x=range(2,15), y=siscore, color='blue', linewidth=3)\n",
    "sns.scatterplot(x=range(2,15), y=siscore, color='green', s=300, linewidth=3)\n",
    "plt.tight_layout()\n",
    "\n",
    "for i in range(2,15):\n",
    "    plt.text(x=i+0.25, y=siscore[i-2], color='black', s=str(round(siscore[i-2],2)), size=10)\n",
    "plt.show()"
   ]
  },
  {
   "cell_type": "markdown",
   "id": "4df1a029-5e00-4ff3-9f0a-46fcf09e11be",
   "metadata": {},
   "source": [
    "### KMeans Clustering"
   ]
  },
  {
   "cell_type": "code",
   "execution_count": 55,
   "id": "8e7ede6a-797b-498b-8411-e0a988a8ce19",
   "metadata": {},
   "outputs": [
    {
     "data": {
      "text/plain": [
       "KMeans(max_iter=900, n_clusters=4, n_init=60, random_state=0)"
      ]
     },
     "execution_count": 55,
     "metadata": {},
     "output_type": "execute_result"
    }
   ],
   "source": [
    "from sklearn.cluster import KMeans\n",
    "kmeans = KMeans(n_clusters = 4, random_state=0, n_init=60, max_iter=900)\n",
    "kmeans.fit(pca_nilai_mlcl_3.values)"
   ]
  },
  {
   "cell_type": "code",
   "execution_count": 56,
   "id": "632eb28a-f93a-4f78-883b-2641e03ab870",
   "metadata": {},
   "outputs": [],
   "source": [
    "pca_nilai_mlcl_3['cluster'] = kmeans.labels_"
   ]
  },
  {
   "cell_type": "markdown",
   "id": "ca5bc9fe-0df8-404f-a1a8-5a5602ed42df",
   "metadata": {},
   "source": [
    "#### Visualisasi Hasil KMeans Clustering"
   ]
  },
  {
   "cell_type": "code",
   "execution_count": 57,
   "id": "53e18e4c-6f7b-4afe-bc98-dd8640805a91",
   "metadata": {},
   "outputs": [
    {
     "data": {
      "image/png": "[encoded data removed]",
      "text/plain": [
       "<Figure size 432x288 with 1 Axes>"
      ]
     },
     "metadata": {
      "needs_background": "light"
     },
     "output_type": "display_data"
    }
   ],
   "source": [
    "fig, ax = plt.subplots()\n",
    "\n",
    "sns.scatterplot(\n",
    "    x=\"mipa\", y=\"ips\",\n",
    "    hue='cluster',\n",
    "    edgecolor='black',\n",
    "    linestyle='--',\n",
    "    data=pca_nilai_mlcl_3,\n",
    "    palette='Spectral',\n",
    "    s=160,\n",
    "    ax=ax)\n",
    "# plt.xticks(ticks = [0,1,2,3,4,5],labels = ['Tidak Berpenghasilan','Kurang Dari Rp. 500,000','Rp. 500,000 - Rp. 999,999','Rp. 1,000,000 - Rp. 1,999,999','Rp. 2,000,000 - Rp. 4,999,999','Rp. 5,000,000 - Rp. 20,000,000'])\n",
    "# plt.yticks(ticks = [0,1,2,3,4,5],labels = ['Tidak Berpenghasilan','Kurang Dari Rp. 500,000','Rp. 500,000 - Rp. 999,999','Rp. 1,000,000 - Rp. 1,999,999','Rp. 2,000,000 - Rp. 4,999,999','Rp. 5,000,000 - Rp. 20,000,000'])\n",
    "plt.tight_layout()\n",
    "plt.show()"
   ]
  },
  {
   "cell_type": "markdown",
   "id": "8bca9be7-cdb2-453d-bd15-90bd67af9096",
   "metadata": {},
   "source": [
    "#### Tabulasi Hasil KMeans Clustering"
   ]
  },
  {
   "cell_type": "code",
   "execution_count": 58,
   "id": "bf3529f2-b37a-453b-8846-7c8967a391d9",
   "metadata": {},
   "outputs": [
    {
     "data": {
      "text/html": [
       "<div>\n",
       "<style scoped>\n",
       "    .dataframe tbody tr th:only-of-type {\n",
       "        vertical-align: middle;\n",
       "    }\n",
       "\n",
       "    .dataframe tbody tr th {\n",
       "        vertical-align: top;\n",
       "    }\n",
       "\n",
       "    .dataframe thead th {\n",
       "        text-align: right;\n",
       "    }\n",
       "</style>\n",
       "<table border=\"1\" class=\"dataframe\">\n",
       "  <thead>\n",
       "    <tr style=\"text-align: right;\">\n",
       "      <th></th>\n",
       "      <th>nama</th>\n",
       "      <th>mipa</th>\n",
       "      <th>ips</th>\n",
       "      <th>cluster</th>\n",
       "    </tr>\n",
       "  </thead>\n",
       "  <tbody>\n",
       "    <tr>\n",
       "      <th>0</th>\n",
       "      <td>ns7</td>\n",
       "      <td>-0.321191</td>\n",
       "      <td>-0.669067</td>\n",
       "      <td>1</td>\n",
       "    </tr>\n",
       "    <tr>\n",
       "      <th>1</th>\n",
       "      <td>ns13</td>\n",
       "      <td>-1.929489</td>\n",
       "      <td>1.440100</td>\n",
       "      <td>3</td>\n",
       "    </tr>\n",
       "    <tr>\n",
       "      <th>2</th>\n",
       "      <td>ns23</td>\n",
       "      <td>-1.211764</td>\n",
       "      <td>1.108074</td>\n",
       "      <td>3</td>\n",
       "    </tr>\n",
       "    <tr>\n",
       "      <th>3</th>\n",
       "      <td>ns38</td>\n",
       "      <td>-0.321191</td>\n",
       "      <td>0.717543</td>\n",
       "      <td>0</td>\n",
       "    </tr>\n",
       "    <tr>\n",
       "      <th>4</th>\n",
       "      <td>ns39</td>\n",
       "      <td>-0.571733</td>\n",
       "      <td>1.108074</td>\n",
       "      <td>0</td>\n",
       "    </tr>\n",
       "  </tbody>\n",
       "</table>\n",
       "</div>"
      ],
      "text/plain": [
       "   nama      mipa       ips  cluster\n",
       "0   ns7 -0.321191 -0.669067        1\n",
       "1  ns13 -1.929489  1.440100        3\n",
       "2  ns23 -1.211764  1.108074        3\n",
       "3  ns38 -0.321191  0.717543        0\n",
       "4  ns39 -0.571733  1.108074        0"
      ]
     },
     "execution_count": 58,
     "metadata": {},
     "output_type": "execute_result"
    }
   ],
   "source": [
    "# penggabungan kolom nama dengan data hasil klasterisasi\n",
    "\n",
    "data_3 = pd.concat([df.select_dtypes('object'),pca_nilai_mlcl_3],axis=1)\n",
    "data_3.head()"
   ]
  },
  {
   "cell_type": "markdown",
   "id": "aaf55a58-fae2-4be7-81f4-8814088664f8",
   "metadata": {},
   "source": [
    "##### MIPA"
   ]
  },
  {
   "cell_type": "code",
   "execution_count": 59,
   "id": "733a9296-7ab0-4444-b2d4-5084913a6017",
   "metadata": {},
   "outputs": [
    {
     "data": {
      "text/html": [
       "<div>\n",
       "<style scoped>\n",
       "    .dataframe tbody tr th:only-of-type {\n",
       "        vertical-align: middle;\n",
       "    }\n",
       "\n",
       "    .dataframe tbody tr th {\n",
       "        vertical-align: top;\n",
       "    }\n",
       "\n",
       "    .dataframe thead th {\n",
       "        text-align: right;\n",
       "    }\n",
       "</style>\n",
       "<table border=\"1\" class=\"dataframe\">\n",
       "  <thead>\n",
       "    <tr style=\"text-align: right;\">\n",
       "      <th></th>\n",
       "      <th>nama</th>\n",
       "      <th>mipa</th>\n",
       "      <th>ips</th>\n",
       "      <th>cluster</th>\n",
       "    </tr>\n",
       "  </thead>\n",
       "  <tbody>\n",
       "    <tr>\n",
       "      <th>12</th>\n",
       "      <td>ns88</td>\n",
       "      <td>4.598342</td>\n",
       "      <td>-2.172687</td>\n",
       "      <td>2</td>\n",
       "    </tr>\n",
       "    <tr>\n",
       "      <th>28</th>\n",
       "      <td>ns245</td>\n",
       "      <td>4.330851</td>\n",
       "      <td>-1.333118</td>\n",
       "      <td>2</td>\n",
       "    </tr>\n",
       "  </tbody>\n",
       "</table>\n",
       "</div>"
      ],
      "text/plain": [
       "     nama      mipa       ips  cluster\n",
       "12   ns88  4.598342 -2.172687        2\n",
       "28  ns245  4.330851 -1.333118        2"
      ]
     },
     "execution_count": 59,
     "metadata": {},
     "output_type": "execute_result"
    }
   ],
   "source": [
    "# top 1 \n",
    "\n",
    "data_3[data_3['cluster']==2].sort_values(by='mipa',ascending=False)"
   ]
  },
  {
   "cell_type": "markdown",
   "id": "e1a9b861-7376-4a4c-8249-e24cc0b80ce1",
   "metadata": {},
   "source": [
    "##### IPS"
   ]
  },
  {
   "cell_type": "code",
   "execution_count": 60,
   "id": "f95dc146-7ec2-4dbc-9bca-93dccc5bb8e6",
   "metadata": {},
   "outputs": [
    {
     "data": {
      "text/html": [
       "<div>\n",
       "<style scoped>\n",
       "    .dataframe tbody tr th:only-of-type {\n",
       "        vertical-align: middle;\n",
       "    }\n",
       "\n",
       "    .dataframe tbody tr th {\n",
       "        vertical-align: top;\n",
       "    }\n",
       "\n",
       "    .dataframe thead th {\n",
       "        text-align: right;\n",
       "    }\n",
       "</style>\n",
       "<table border=\"1\" class=\"dataframe\">\n",
       "  <thead>\n",
       "    <tr style=\"text-align: right;\">\n",
       "      <th></th>\n",
       "      <th>nama</th>\n",
       "      <th>mipa</th>\n",
       "      <th>ips</th>\n",
       "      <th>cluster</th>\n",
       "    </tr>\n",
       "  </thead>\n",
       "  <tbody>\n",
       "    <tr>\n",
       "      <th>22</th>\n",
       "      <td>ns225</td>\n",
       "      <td>-0.494040</td>\n",
       "      <td>2.494684</td>\n",
       "      <td>0</td>\n",
       "    </tr>\n",
       "    <tr>\n",
       "      <th>11</th>\n",
       "      <td>ns81</td>\n",
       "      <td>-0.048754</td>\n",
       "      <td>1.440100</td>\n",
       "      <td>0</td>\n",
       "    </tr>\n",
       "    <tr>\n",
       "      <th>18</th>\n",
       "      <td>ns189</td>\n",
       "      <td>1.498801</td>\n",
       "      <td>1.440100</td>\n",
       "      <td>0</td>\n",
       "    </tr>\n",
       "    <tr>\n",
       "      <th>4</th>\n",
       "      <td>ns39</td>\n",
       "      <td>-0.571733</td>\n",
       "      <td>1.108074</td>\n",
       "      <td>0</td>\n",
       "    </tr>\n",
       "    <tr>\n",
       "      <th>14</th>\n",
       "      <td>ns131</td>\n",
       "      <td>0.591278</td>\n",
       "      <td>1.108074</td>\n",
       "      <td>0</td>\n",
       "    </tr>\n",
       "    <tr>\n",
       "      <th>13</th>\n",
       "      <td>ns130</td>\n",
       "      <td>-0.070650</td>\n",
       "      <td>1.049569</td>\n",
       "      <td>0</td>\n",
       "    </tr>\n",
       "    <tr>\n",
       "      <th>3</th>\n",
       "      <td>ns38</td>\n",
       "      <td>-0.321191</td>\n",
       "      <td>0.717543</td>\n",
       "      <td>0</td>\n",
       "    </tr>\n",
       "    <tr>\n",
       "      <th>15</th>\n",
       "      <td>ns151</td>\n",
       "      <td>1.537647</td>\n",
       "      <td>0.717543</td>\n",
       "      <td>0</td>\n",
       "    </tr>\n",
       "    <tr>\n",
       "      <th>25</th>\n",
       "      <td>ns238</td>\n",
       "      <td>-0.766478</td>\n",
       "      <td>0.327011</td>\n",
       "      <td>0</td>\n",
       "    </tr>\n",
       "  </tbody>\n",
       "</table>\n",
       "</div>"
      ],
      "text/plain": [
       "     nama      mipa       ips  cluster\n",
       "22  ns225 -0.494040  2.494684        0\n",
       "11   ns81 -0.048754  1.440100        0\n",
       "18  ns189  1.498801  1.440100        0\n",
       "4    ns39 -0.571733  1.108074        0\n",
       "14  ns131  0.591278  1.108074        0\n",
       "13  ns130 -0.070650  1.049569        0\n",
       "3    ns38 -0.321191  0.717543        0\n",
       "15  ns151  1.537647  0.717543        0\n",
       "25  ns238 -0.766478  0.327011        0"
      ]
     },
     "execution_count": 60,
     "metadata": {},
     "output_type": "execute_result"
    }
   ],
   "source": [
    "# top 1 \n",
    "\n",
    "data_3[data_3['cluster']==0].sort_values(by='ips',ascending=False)"
   ]
  },
  {
   "cell_type": "code",
   "execution_count": 61,
   "id": "ddaacfe5-0c77-4e4d-8e83-2f25b57e2476",
   "metadata": {},
   "outputs": [
    {
     "data": {
      "text/html": [
       "<div>\n",
       "<style scoped>\n",
       "    .dataframe tbody tr th:only-of-type {\n",
       "        vertical-align: middle;\n",
       "    }\n",
       "\n",
       "    .dataframe tbody tr th {\n",
       "        vertical-align: top;\n",
       "    }\n",
       "\n",
       "    .dataframe thead th {\n",
       "        text-align: right;\n",
       "    }\n",
       "</style>\n",
       "<table border=\"1\" class=\"dataframe\">\n",
       "  <thead>\n",
       "    <tr style=\"text-align: right;\">\n",
       "      <th></th>\n",
       "      <th>nama</th>\n",
       "      <th>mipa</th>\n",
       "      <th>ips</th>\n",
       "      <th>cluster</th>\n",
       "    </tr>\n",
       "  </thead>\n",
       "  <tbody>\n",
       "    <tr>\n",
       "      <th>2</th>\n",
       "      <td>ns23</td>\n",
       "      <td>-1.211764</td>\n",
       "      <td>1.108074</td>\n",
       "      <td>3</td>\n",
       "    </tr>\n",
       "    <tr>\n",
       "      <th>20</th>\n",
       "      <td>ns210</td>\n",
       "      <td>-1.211764</td>\n",
       "      <td>1.440100</td>\n",
       "      <td>3</td>\n",
       "    </tr>\n",
       "    <tr>\n",
       "      <th>26</th>\n",
       "      <td>ns240</td>\n",
       "      <td>-1.640101</td>\n",
       "      <td>1.049569</td>\n",
       "      <td>3</td>\n",
       "    </tr>\n",
       "    <tr>\n",
       "      <th>31</th>\n",
       "      <td>ns265</td>\n",
       "      <td>-1.657051</td>\n",
       "      <td>1.049569</td>\n",
       "      <td>3</td>\n",
       "    </tr>\n",
       "    <tr>\n",
       "      <th>7</th>\n",
       "      <td>ns45</td>\n",
       "      <td>-1.695897</td>\n",
       "      <td>0.385517</td>\n",
       "      <td>3</td>\n",
       "    </tr>\n",
       "    <tr>\n",
       "      <th>9</th>\n",
       "      <td>ns79</td>\n",
       "      <td>-1.695897</td>\n",
       "      <td>2.162658</td>\n",
       "      <td>3</td>\n",
       "    </tr>\n",
       "    <tr>\n",
       "      <th>1</th>\n",
       "      <td>ns13</td>\n",
       "      <td>-1.929489</td>\n",
       "      <td>1.440100</td>\n",
       "      <td>3</td>\n",
       "    </tr>\n",
       "    <tr>\n",
       "      <th>32</th>\n",
       "      <td>ns270</td>\n",
       "      <td>-2.625316</td>\n",
       "      <td>0.327011</td>\n",
       "      <td>3</td>\n",
       "    </tr>\n",
       "    <tr>\n",
       "      <th>17</th>\n",
       "      <td>ns187</td>\n",
       "      <td>-3.438197</td>\n",
       "      <td>1.108074</td>\n",
       "      <td>3</td>\n",
       "    </tr>\n",
       "  </tbody>\n",
       "</table>\n",
       "</div>"
      ],
      "text/plain": [
       "     nama      mipa       ips  cluster\n",
       "2    ns23 -1.211764  1.108074        3\n",
       "20  ns210 -1.211764  1.440100        3\n",
       "26  ns240 -1.640101  1.049569        3\n",
       "31  ns265 -1.657051  1.049569        3\n",
       "7    ns45 -1.695897  0.385517        3\n",
       "9    ns79 -1.695897  2.162658        3\n",
       "1    ns13 -1.929489  1.440100        3\n",
       "32  ns270 -2.625316  0.327011        3\n",
       "17  ns187 -3.438197  1.108074        3"
      ]
     },
     "execution_count": 61,
     "metadata": {},
     "output_type": "execute_result"
    }
   ],
   "source": [
    "# another choice \n",
    "\n",
    "data_3[data_3['cluster']==3].sort_values(by='mipa',ascending=False)"
   ]
  },
  {
   "cell_type": "markdown",
   "id": "3cf56576-0721-4dab-a104-032005178435",
   "metadata": {},
   "source": [
    "Catatan:\n",
    "\n",
    "1. Secara umum, kemampuan Siswa dalam MIPA dan IPS menunjukkan hubungan yang berbanding terbalik.\n",
    "    - Artinya, semakin baik Siswa dalam MIPA, maka cenderung kurang baik dalam IPS. begitupun sebaliknya.\n",
    "2. Siswa tersegmentasi ke dalam 3 kelompok, yaitu:\n",
    "    - Kelompok Siswa sangat unggul dalam mipa namun buruk dalam IPS,\n",
    "    - Kelompok Siswa yang cukup baik dalam satu bidang, namun kurang baik dalam bidang lainnya, dan\n",
    "    - Kelompok Siswa yang cukup baik dalam IPS, namun buruk dalam mipa."
   ]
  },
  {
   "cell_type": "markdown",
   "id": "3e655c3a-4a5b-4423-9b0c-cc59f9d4688f",
   "metadata": {},
   "source": [
    "## Agama & Non Agama"
   ]
  },
  {
   "cell_type": "code",
   "execution_count": 62,
   "id": "815ebbe2-2a61-4310-824a-1448b416033d",
   "metadata": {},
   "outputs": [
    {
     "data": {
      "text/html": [
       "<div>\n",
       "<style scoped>\n",
       "    .dataframe tbody tr th:only-of-type {\n",
       "        vertical-align: middle;\n",
       "    }\n",
       "\n",
       "    .dataframe tbody tr th {\n",
       "        vertical-align: top;\n",
       "    }\n",
       "\n",
       "    .dataframe thead th {\n",
       "        text-align: right;\n",
       "    }\n",
       "</style>\n",
       "<table border=\"1\" class=\"dataframe\">\n",
       "  <thead>\n",
       "    <tr style=\"text-align: right;\">\n",
       "      <th></th>\n",
       "      <th>p_pai</th>\n",
       "      <th>p_pkn</th>\n",
       "      <th>p_indo</th>\n",
       "      <th>p_mtk</th>\n",
       "      <th>p_ipa</th>\n",
       "      <th>p_ips</th>\n",
       "      <th>p_pjok</th>\n",
       "      <th>p_sbk</th>\n",
       "      <th>p_sunda</th>\n",
       "      <th>k_pai</th>\n",
       "      <th>k_pkn</th>\n",
       "      <th>k_indo</th>\n",
       "      <th>k_mtk</th>\n",
       "      <th>k_ipa</th>\n",
       "      <th>k_ips</th>\n",
       "      <th>k_pjok</th>\n",
       "      <th>k_sbk</th>\n",
       "      <th>k_sunda</th>\n",
       "    </tr>\n",
       "  </thead>\n",
       "  <tbody>\n",
       "    <tr>\n",
       "      <th>0</th>\n",
       "      <td>-0.811107</td>\n",
       "      <td>0.179928</td>\n",
       "      <td>-0.299235</td>\n",
       "      <td>-0.275502</td>\n",
       "      <td>0.012044</td>\n",
       "      <td>0.898863</td>\n",
       "      <td>0.480640</td>\n",
       "      <td>0.468975</td>\n",
       "      <td>1.165543</td>\n",
       "      <td>-0.811107</td>\n",
       "      <td>0.116313</td>\n",
       "      <td>-0.643094</td>\n",
       "      <td>-0.440195</td>\n",
       "      <td>0.012044</td>\n",
       "      <td>0.047340</td>\n",
       "      <td>0.480640</td>\n",
       "      <td>0.468975</td>\n",
       "      <td>1.165543</td>\n",
       "    </tr>\n",
       "    <tr>\n",
       "      <th>1</th>\n",
       "      <td>-0.811107</td>\n",
       "      <td>-1.499400</td>\n",
       "      <td>-2.262967</td>\n",
       "      <td>-1.239759</td>\n",
       "      <td>-0.831024</td>\n",
       "      <td>-0.979359</td>\n",
       "      <td>-1.993244</td>\n",
       "      <td>-0.833734</td>\n",
       "      <td>-1.262672</td>\n",
       "      <td>-0.811107</td>\n",
       "      <td>-1.364030</td>\n",
       "      <td>-1.698171</td>\n",
       "      <td>-0.990439</td>\n",
       "      <td>-0.831024</td>\n",
       "      <td>-1.057251</td>\n",
       "      <td>-1.993244</td>\n",
       "      <td>-0.833734</td>\n",
       "      <td>-1.262672</td>\n",
       "    </tr>\n",
       "    <tr>\n",
       "      <th>2</th>\n",
       "      <td>0.324443</td>\n",
       "      <td>-1.079568</td>\n",
       "      <td>-0.626524</td>\n",
       "      <td>-0.275502</td>\n",
       "      <td>-0.831024</td>\n",
       "      <td>-0.509803</td>\n",
       "      <td>-0.756302</td>\n",
       "      <td>-0.833734</td>\n",
       "      <td>-1.262672</td>\n",
       "      <td>0.324443</td>\n",
       "      <td>-0.993944</td>\n",
       "      <td>-0.994786</td>\n",
       "      <td>-0.440195</td>\n",
       "      <td>-0.831024</td>\n",
       "      <td>-1.057251</td>\n",
       "      <td>-0.756302</td>\n",
       "      <td>-0.833734</td>\n",
       "      <td>-1.262672</td>\n",
       "    </tr>\n",
       "    <tr>\n",
       "      <th>3</th>\n",
       "      <td>-0.811107</td>\n",
       "      <td>-1.079568</td>\n",
       "      <td>0.355342</td>\n",
       "      <td>-0.275502</td>\n",
       "      <td>0.012044</td>\n",
       "      <td>-0.509803</td>\n",
       "      <td>0.480640</td>\n",
       "      <td>0.468975</td>\n",
       "      <td>-1.262672</td>\n",
       "      <td>-0.811107</td>\n",
       "      <td>-0.993944</td>\n",
       "      <td>-0.291402</td>\n",
       "      <td>-0.440195</td>\n",
       "      <td>0.012044</td>\n",
       "      <td>-0.504956</td>\n",
       "      <td>0.480640</td>\n",
       "      <td>0.468975</td>\n",
       "      <td>-1.262672</td>\n",
       "    </tr>\n",
       "    <tr>\n",
       "      <th>4</th>\n",
       "      <td>0.324443</td>\n",
       "      <td>-0.239904</td>\n",
       "      <td>0.682631</td>\n",
       "      <td>-0.275502</td>\n",
       "      <td>0.012044</td>\n",
       "      <td>-0.509803</td>\n",
       "      <td>0.480640</td>\n",
       "      <td>0.468975</td>\n",
       "      <td>-1.262672</td>\n",
       "      <td>0.324443</td>\n",
       "      <td>-0.253773</td>\n",
       "      <td>-0.291402</td>\n",
       "      <td>-0.990439</td>\n",
       "      <td>0.012044</td>\n",
       "      <td>-1.057251</td>\n",
       "      <td>0.480640</td>\n",
       "      <td>0.468975</td>\n",
       "      <td>-1.262672</td>\n",
       "    </tr>\n",
       "  </tbody>\n",
       "</table>\n",
       "</div>"
      ],
      "text/plain": [
       "      p_pai     p_pkn    p_indo     p_mtk     p_ipa     p_ips    p_pjok  \\\n",
       "0 -0.811107  0.179928 -0.299235 -0.275502  0.012044  0.898863  0.480640   \n",
       "1 -0.811107 -1.499400 -2.262967 -1.239759 -0.831024 -0.979359 -1.993244   \n",
       "2  0.324443 -1.079568 -0.626524 -0.275502 -0.831024 -0.509803 -0.756302   \n",
       "3 -0.811107 -1.079568  0.355342 -0.275502  0.012044 -0.509803  0.480640   \n",
       "4  0.324443 -0.239904  0.682631 -0.275502  0.012044 -0.509803  0.480640   \n",
       "\n",
       "      p_sbk   p_sunda     k_pai     k_pkn    k_indo     k_mtk     k_ipa  \\\n",
       "0  0.468975  1.165543 -0.811107  0.116313 -0.643094 -0.440195  0.012044   \n",
       "1 -0.833734 -1.262672 -0.811107 -1.364030 -1.698171 -0.990439 -0.831024   \n",
       "2 -0.833734 -1.262672  0.324443 -0.993944 -0.994786 -0.440195 -0.831024   \n",
       "3  0.468975 -1.262672 -0.811107 -0.993944 -0.291402 -0.440195  0.012044   \n",
       "4  0.468975 -1.262672  0.324443 -0.253773 -0.291402 -0.990439  0.012044   \n",
       "\n",
       "      k_ips    k_pjok     k_sbk   k_sunda  \n",
       "0  0.047340  0.480640  0.468975  1.165543  \n",
       "1 -1.057251 -1.993244 -0.833734 -1.262672  \n",
       "2 -1.057251 -0.756302 -0.833734 -1.262672  \n",
       "3 -0.504956  0.480640  0.468975 -1.262672  \n",
       "4 -1.057251  0.480640  0.468975 -1.262672  "
      ]
     },
     "execution_count": 62,
     "metadata": {},
     "output_type": "execute_result"
    }
   ],
   "source": [
    "new_df.head()"
   ]
  },
  {
   "cell_type": "markdown",
   "id": "0adacb76-9df2-47f3-a31a-f2aebcea5a80",
   "metadata": {},
   "source": [
    "### Cuplikan Data Agama & NonAgama"
   ]
  },
  {
   "cell_type": "code",
   "execution_count": 63,
   "id": "b1181b51-3dca-4428-bef8-87c46c4e9bde",
   "metadata": {},
   "outputs": [
    {
     "data": {
      "text/html": [
       "<div>\n",
       "<style scoped>\n",
       "    .dataframe tbody tr th:only-of-type {\n",
       "        vertical-align: middle;\n",
       "    }\n",
       "\n",
       "    .dataframe tbody tr th {\n",
       "        vertical-align: top;\n",
       "    }\n",
       "\n",
       "    .dataframe thead th {\n",
       "        text-align: right;\n",
       "    }\n",
       "</style>\n",
       "<table border=\"1\" class=\"dataframe\">\n",
       "  <thead>\n",
       "    <tr style=\"text-align: right;\">\n",
       "      <th></th>\n",
       "      <th>p_pai</th>\n",
       "      <th>k_pai</th>\n",
       "      <th>p_pkn</th>\n",
       "      <th>p_indo</th>\n",
       "      <th>p_mtk</th>\n",
       "      <th>p_ipa</th>\n",
       "      <th>p_ips</th>\n",
       "      <th>p_pjok</th>\n",
       "      <th>p_sbk</th>\n",
       "      <th>p_sunda</th>\n",
       "      <th>k_pkn</th>\n",
       "      <th>k_indo</th>\n",
       "      <th>k_mtk</th>\n",
       "      <th>k_ipa</th>\n",
       "      <th>k_ips</th>\n",
       "      <th>k_pjok</th>\n",
       "      <th>k_sbk</th>\n",
       "      <th>k_sunda</th>\n",
       "    </tr>\n",
       "  </thead>\n",
       "  <tbody>\n",
       "    <tr>\n",
       "      <th>0</th>\n",
       "      <td>-0.811107</td>\n",
       "      <td>-0.811107</td>\n",
       "      <td>0.179928</td>\n",
       "      <td>-0.299235</td>\n",
       "      <td>-0.275502</td>\n",
       "      <td>0.012044</td>\n",
       "      <td>0.898863</td>\n",
       "      <td>0.480640</td>\n",
       "      <td>0.468975</td>\n",
       "      <td>1.165543</td>\n",
       "      <td>0.116313</td>\n",
       "      <td>-0.643094</td>\n",
       "      <td>-0.440195</td>\n",
       "      <td>0.012044</td>\n",
       "      <td>0.047340</td>\n",
       "      <td>0.480640</td>\n",
       "      <td>0.468975</td>\n",
       "      <td>1.165543</td>\n",
       "    </tr>\n",
       "    <tr>\n",
       "      <th>1</th>\n",
       "      <td>-0.811107</td>\n",
       "      <td>-0.811107</td>\n",
       "      <td>-1.499400</td>\n",
       "      <td>-2.262967</td>\n",
       "      <td>-1.239759</td>\n",
       "      <td>-0.831024</td>\n",
       "      <td>-0.979359</td>\n",
       "      <td>-1.993244</td>\n",
       "      <td>-0.833734</td>\n",
       "      <td>-1.262672</td>\n",
       "      <td>-1.364030</td>\n",
       "      <td>-1.698171</td>\n",
       "      <td>-0.990439</td>\n",
       "      <td>-0.831024</td>\n",
       "      <td>-1.057251</td>\n",
       "      <td>-1.993244</td>\n",
       "      <td>-0.833734</td>\n",
       "      <td>-1.262672</td>\n",
       "    </tr>\n",
       "    <tr>\n",
       "      <th>2</th>\n",
       "      <td>0.324443</td>\n",
       "      <td>0.324443</td>\n",
       "      <td>-1.079568</td>\n",
       "      <td>-0.626524</td>\n",
       "      <td>-0.275502</td>\n",
       "      <td>-0.831024</td>\n",
       "      <td>-0.509803</td>\n",
       "      <td>-0.756302</td>\n",
       "      <td>-0.833734</td>\n",
       "      <td>-1.262672</td>\n",
       "      <td>-0.993944</td>\n",
       "      <td>-0.994786</td>\n",
       "      <td>-0.440195</td>\n",
       "      <td>-0.831024</td>\n",
       "      <td>-1.057251</td>\n",
       "      <td>-0.756302</td>\n",
       "      <td>-0.833734</td>\n",
       "      <td>-1.262672</td>\n",
       "    </tr>\n",
       "    <tr>\n",
       "      <th>3</th>\n",
       "      <td>-0.811107</td>\n",
       "      <td>-0.811107</td>\n",
       "      <td>-1.079568</td>\n",
       "      <td>0.355342</td>\n",
       "      <td>-0.275502</td>\n",
       "      <td>0.012044</td>\n",
       "      <td>-0.509803</td>\n",
       "      <td>0.480640</td>\n",
       "      <td>0.468975</td>\n",
       "      <td>-1.262672</td>\n",
       "      <td>-0.993944</td>\n",
       "      <td>-0.291402</td>\n",
       "      <td>-0.440195</td>\n",
       "      <td>0.012044</td>\n",
       "      <td>-0.504956</td>\n",
       "      <td>0.480640</td>\n",
       "      <td>0.468975</td>\n",
       "      <td>-1.262672</td>\n",
       "    </tr>\n",
       "    <tr>\n",
       "      <th>4</th>\n",
       "      <td>0.324443</td>\n",
       "      <td>0.324443</td>\n",
       "      <td>-0.239904</td>\n",
       "      <td>0.682631</td>\n",
       "      <td>-0.275502</td>\n",
       "      <td>0.012044</td>\n",
       "      <td>-0.509803</td>\n",
       "      <td>0.480640</td>\n",
       "      <td>0.468975</td>\n",
       "      <td>-1.262672</td>\n",
       "      <td>-0.253773</td>\n",
       "      <td>-0.291402</td>\n",
       "      <td>-0.990439</td>\n",
       "      <td>0.012044</td>\n",
       "      <td>-1.057251</td>\n",
       "      <td>0.480640</td>\n",
       "      <td>0.468975</td>\n",
       "      <td>-1.262672</td>\n",
       "    </tr>\n",
       "  </tbody>\n",
       "</table>\n",
       "</div>"
      ],
      "text/plain": [
       "      p_pai     k_pai     p_pkn    p_indo     p_mtk     p_ipa     p_ips  \\\n",
       "0 -0.811107 -0.811107  0.179928 -0.299235 -0.275502  0.012044  0.898863   \n",
       "1 -0.811107 -0.811107 -1.499400 -2.262967 -1.239759 -0.831024 -0.979359   \n",
       "2  0.324443  0.324443 -1.079568 -0.626524 -0.275502 -0.831024 -0.509803   \n",
       "3 -0.811107 -0.811107 -1.079568  0.355342 -0.275502  0.012044 -0.509803   \n",
       "4  0.324443  0.324443 -0.239904  0.682631 -0.275502  0.012044 -0.509803   \n",
       "\n",
       "     p_pjok     p_sbk   p_sunda     k_pkn    k_indo     k_mtk     k_ipa  \\\n",
       "0  0.480640  0.468975  1.165543  0.116313 -0.643094 -0.440195  0.012044   \n",
       "1 -1.993244 -0.833734 -1.262672 -1.364030 -1.698171 -0.990439 -0.831024   \n",
       "2 -0.756302 -0.833734 -1.262672 -0.993944 -0.994786 -0.440195 -0.831024   \n",
       "3  0.480640  0.468975 -1.262672 -0.993944 -0.291402 -0.440195  0.012044   \n",
       "4  0.480640  0.468975 -1.262672 -0.253773 -0.291402 -0.990439  0.012044   \n",
       "\n",
       "      k_ips    k_pjok     k_sbk   k_sunda  \n",
       "0  0.047340  0.480640  0.468975  1.165543  \n",
       "1 -1.057251 -1.993244 -0.833734 -1.262672  \n",
       "2 -1.057251 -0.756302 -0.833734 -1.262672  \n",
       "3 -0.504956  0.480640  0.468975 -1.262672  \n",
       "4 -1.057251  0.480640  0.468975 -1.262672  "
      ]
     },
     "execution_count": 63,
     "metadata": {},
     "output_type": "execute_result"
    }
   ],
   "source": [
    "mlcl_4 = new_df[['p_pai','k_pai','p_pkn','p_indo','p_mtk','p_ipa','p_ips','p_pjok','p_sbk','p_sunda','k_pkn','k_indo','k_mtk','k_ipa','k_ips','k_pjok','k_sbk','k_sunda']]\n",
    "mlcl_4.head()"
   ]
  },
  {
   "cell_type": "markdown",
   "id": "35ecc681-c648-469c-92ab-ffe13ebf56ee",
   "metadata": {},
   "source": [
    "### Principal Component Anlysis"
   ]
  },
  {
   "cell_type": "code",
   "execution_count": 64,
   "id": "510f9abd-a0a4-4fff-87dc-1e152007972d",
   "metadata": {},
   "outputs": [
    {
     "data": {
      "text/html": [
       "<div>\n",
       "<style scoped>\n",
       "    .dataframe tbody tr th:only-of-type {\n",
       "        vertical-align: middle;\n",
       "    }\n",
       "\n",
       "    .dataframe tbody tr th {\n",
       "        vertical-align: top;\n",
       "    }\n",
       "\n",
       "    .dataframe thead th {\n",
       "        text-align: right;\n",
       "    }\n",
       "</style>\n",
       "<table border=\"1\" class=\"dataframe\">\n",
       "  <thead>\n",
       "    <tr style=\"text-align: right;\">\n",
       "      <th></th>\n",
       "      <th>agama</th>\n",
       "    </tr>\n",
       "  </thead>\n",
       "  <tbody>\n",
       "    <tr>\n",
       "      <th>0</th>\n",
       "      <td>-1.147079</td>\n",
       "    </tr>\n",
       "    <tr>\n",
       "      <th>1</th>\n",
       "      <td>-1.147079</td>\n",
       "    </tr>\n",
       "    <tr>\n",
       "      <th>2</th>\n",
       "      <td>0.458831</td>\n",
       "    </tr>\n",
       "    <tr>\n",
       "      <th>3</th>\n",
       "      <td>-1.147079</td>\n",
       "    </tr>\n",
       "    <tr>\n",
       "      <th>4</th>\n",
       "      <td>0.458831</td>\n",
       "    </tr>\n",
       "  </tbody>\n",
       "</table>\n",
       "</div>"
      ],
      "text/plain": [
       "      agama\n",
       "0 -1.147079\n",
       "1 -1.147079\n",
       "2  0.458831\n",
       "3 -1.147079\n",
       "4  0.458831"
      ]
     },
     "execution_count": 64,
     "metadata": {},
     "output_type": "execute_result"
    }
   ],
   "source": [
    "from sklearn.decomposition import PCA \n",
    "pca = PCA(n_components=1)\n",
    "\n",
    "pca.fit(mlcl_4[['p_pai','k_pai']])\n",
    "pcs_array= pca.transform(mlcl_4[['p_pai','k_pai']])\n",
    "\n",
    "pca_agama = pd.DataFrame(pcs_array, columns = ['agama'])\n",
    "pca_agama.head()"
   ]
  },
  {
   "cell_type": "code",
   "execution_count": 65,
   "id": "1ed71fc5-6819-4987-9cd2-01fe917a82c7",
   "metadata": {},
   "outputs": [
    {
     "data": {
      "text/html": [
       "<div>\n",
       "<style scoped>\n",
       "    .dataframe tbody tr th:only-of-type {\n",
       "        vertical-align: middle;\n",
       "    }\n",
       "\n",
       "    .dataframe tbody tr th {\n",
       "        vertical-align: top;\n",
       "    }\n",
       "\n",
       "    .dataframe thead th {\n",
       "        text-align: right;\n",
       "    }\n",
       "</style>\n",
       "<table border=\"1\" class=\"dataframe\">\n",
       "  <thead>\n",
       "    <tr style=\"text-align: right;\">\n",
       "      <th></th>\n",
       "      <th>non_agama</th>\n",
       "    </tr>\n",
       "  </thead>\n",
       "  <tbody>\n",
       "    <tr>\n",
       "      <th>0</th>\n",
       "      <td>0.995354</td>\n",
       "    </tr>\n",
       "    <tr>\n",
       "      <th>1</th>\n",
       "      <td>-5.098927</td>\n",
       "    </tr>\n",
       "    <tr>\n",
       "      <th>2</th>\n",
       "      <td>-3.343481</td>\n",
       "    </tr>\n",
       "    <tr>\n",
       "      <th>3</th>\n",
       "      <td>-1.349155</td>\n",
       "    </tr>\n",
       "    <tr>\n",
       "      <th>4</th>\n",
       "      <td>-1.085897</td>\n",
       "    </tr>\n",
       "  </tbody>\n",
       "</table>\n",
       "</div>"
      ],
      "text/plain": [
       "   non_agama\n",
       "0   0.995354\n",
       "1  -5.098927\n",
       "2  -3.343481\n",
       "3  -1.349155\n",
       "4  -1.085897"
      ]
     },
     "execution_count": 65,
     "metadata": {},
     "output_type": "execute_result"
    }
   ],
   "source": [
    "from sklearn.decomposition import PCA \n",
    "pca = PCA(n_components=1)\n",
    "\n",
    "pca.fit(mlcl_4[['p_pkn','p_indo','p_mtk','p_ipa','p_ips','p_pjok','p_sbk','p_sunda','k_pkn','k_indo','k_mtk','k_ipa','k_ips','k_pjok','k_sbk','k_sunda']])\n",
    "pcs_array= pca.transform(mlcl_4[['p_pkn','p_indo','p_mtk','p_ipa','p_ips','p_pjok','p_sbk','p_sunda','k_pkn','k_indo','k_mtk','k_ipa','k_ips','k_pjok','k_sbk','k_sunda']])\n",
    "\n",
    "pca_non_agama = pd.DataFrame(pcs_array, columns = ['non_agama'])\n",
    "pca_non_agama.head()"
   ]
  },
  {
   "cell_type": "code",
   "execution_count": 66,
   "id": "ffcc42b9-a5d9-4790-a6b5-a338a2d7ed71",
   "metadata": {},
   "outputs": [],
   "source": [
    "pca_nilai_mlcl_4 = pd.concat([pca_agama,pca_non_agama],axis=1)"
   ]
  },
  {
   "cell_type": "code",
   "execution_count": 67,
   "id": "103aca54-1478-4069-a340-8f5777b72f07",
   "metadata": {},
   "outputs": [
    {
     "data": {
      "text/html": [
       "<div>\n",
       "<style scoped>\n",
       "    .dataframe tbody tr th:only-of-type {\n",
       "        vertical-align: middle;\n",
       "    }\n",
       "\n",
       "    .dataframe tbody tr th {\n",
       "        vertical-align: top;\n",
       "    }\n",
       "\n",
       "    .dataframe thead th {\n",
       "        text-align: right;\n",
       "    }\n",
       "</style>\n",
       "<table border=\"1\" class=\"dataframe\">\n",
       "  <thead>\n",
       "    <tr style=\"text-align: right;\">\n",
       "      <th></th>\n",
       "      <th>agama</th>\n",
       "      <th>non_agama</th>\n",
       "    </tr>\n",
       "  </thead>\n",
       "  <tbody>\n",
       "    <tr>\n",
       "      <th>0</th>\n",
       "      <td>-1.147079</td>\n",
       "      <td>0.995354</td>\n",
       "    </tr>\n",
       "    <tr>\n",
       "      <th>1</th>\n",
       "      <td>-1.147079</td>\n",
       "      <td>-5.098927</td>\n",
       "    </tr>\n",
       "    <tr>\n",
       "      <th>2</th>\n",
       "      <td>0.458831</td>\n",
       "      <td>-3.343481</td>\n",
       "    </tr>\n",
       "    <tr>\n",
       "      <th>3</th>\n",
       "      <td>-1.147079</td>\n",
       "      <td>-1.349155</td>\n",
       "    </tr>\n",
       "    <tr>\n",
       "      <th>4</th>\n",
       "      <td>0.458831</td>\n",
       "      <td>-1.085897</td>\n",
       "    </tr>\n",
       "  </tbody>\n",
       "</table>\n",
       "</div>"
      ],
      "text/plain": [
       "      agama  non_agama\n",
       "0 -1.147079   0.995354\n",
       "1 -1.147079  -5.098927\n",
       "2  0.458831  -3.343481\n",
       "3 -1.147079  -1.349155\n",
       "4  0.458831  -1.085897"
      ]
     },
     "execution_count": 67,
     "metadata": {},
     "output_type": "execute_result"
    }
   ],
   "source": [
    "pca_nilai_mlcl_4.head()"
   ]
  },
  {
   "cell_type": "markdown",
   "id": "1275efb6-04b2-4a50-a91e-37924c3c56ef",
   "metadata": {},
   "source": [
    "### Elbow Method"
   ]
  },
  {
   "cell_type": "code",
   "execution_count": 68,
   "id": "2703cf3b-b41f-4a41-87ba-9afe53243812",
   "metadata": {},
   "outputs": [
    {
     "name": "stdout",
     "output_type": "stream",
     "text": [
      "[157.25590385202074, 106.16715139315498, 79.76236057579152, 58.49936929717445, 48.85141874418388, 39.06613395955377, 30.599342472842423, 25.421484158806013, 21.57527172874241, 16.87497805813692, 14.941546399780842, 11.982142427676463, 10.096085464373447]\n"
     ]
    },
    {
     "data": {
      "image/png": "[encoded data removed]",
      "text/plain": [
       "<Figure size 720x360 with 1 Axes>"
      ]
     },
     "metadata": {
      "needs_background": "light"
     },
     "output_type": "display_data"
    }
   ],
   "source": [
    "from sklearn.cluster import KMeans\n",
    "import warnings\n",
    "warnings.filterwarnings('ignore')\n",
    "inertia = []\n",
    "\n",
    "for i in range(2, 15):\n",
    "    kmeans = KMeans(n_clusters=i, random_state=0)\n",
    "    kmeans.fit(pca_nilai_mlcl_4.values)\n",
    "    inertia.append(kmeans.inertia_)\n",
    "\n",
    "\n",
    "print(inertia)\n",
    "\n",
    "plt.figure(figsize=(10, 5))\n",
    "# plt.plot(inertia)\n",
    "\n",
    "sns.lineplot(x=range(2, 15), y=inertia, color='#000087', linewidth = 4)\n",
    "sns.scatterplot(x=range(2, 15), y=inertia, s=300, color='#800000',  linestyle='--')\n",
    "plt.tight_layout()"
   ]
  },
  {
   "cell_type": "markdown",
   "id": "ebe97fa9-bf29-4089-8057-40f1b17cea06",
   "metadata": {},
   "source": [
    "### Silhouette Score"
   ]
  },
  {
   "cell_type": "code",
   "execution_count": 69,
   "id": "bf8fa0ad-aca3-4f39-9f37-89fc9b6f6e71",
   "metadata": {},
   "outputs": [
    {
     "data": {
      "image/png": "[encoded data removed]",
      "text/plain": [
       "<Figure size 720x360 with 1 Axes>"
      ]
     },
     "metadata": {
      "needs_background": "light"
     },
     "output_type": "display_data"
    }
   ],
   "source": [
    "from sklearn.metrics import silhouette_score\n",
    "siscore=[]\n",
    "for i in range(2,15):\n",
    "    KMean= KMeans(n_clusters=i)\n",
    "    KMean.fit(pca_nilai_mlcl_4.values)\n",
    "    label= KMean.predict(pca_nilai_mlcl_4.values)\n",
    "    siscore.append(silhouette_score(pca_nilai_mlcl_4.values, labels=label))\n",
    "    \n",
    "plt.figure(figsize=(10,5))\n",
    "\n",
    "sns.lineplot(x=range(2,15), y=siscore, color='blue', linewidth=3)\n",
    "sns.scatterplot(x=range(2,15), y=siscore, color='green', s=300, linewidth=3)\n",
    "plt.tight_layout()\n",
    "\n",
    "for i in range(2,15):\n",
    "    plt.text(x=i+0.25, y=siscore[i-2], color='black', s=str(round(siscore[i-2],2)), size=10)\n",
    "plt.show()"
   ]
  },
  {
   "cell_type": "markdown",
   "id": "b2542c06-0252-4f11-a403-b2b4e385dfa8",
   "metadata": {},
   "source": [
    "### KMeans Clustering"
   ]
  },
  {
   "cell_type": "code",
   "execution_count": 70,
   "id": "1cf24b5e-1609-40a7-a36a-23ed6f27b747",
   "metadata": {},
   "outputs": [
    {
     "data": {
      "text/plain": [
       "KMeans(max_iter=1000, n_clusters=12, n_init=200, random_state=0)"
      ]
     },
     "execution_count": 70,
     "metadata": {},
     "output_type": "execute_result"
    }
   ],
   "source": [
    "from sklearn.cluster import KMeans\n",
    "kmeans = KMeans(n_clusters = 12, random_state=0, n_init=200, max_iter=1000)\n",
    "kmeans.fit(pca_nilai_mlcl_4.values)"
   ]
  },
  {
   "cell_type": "code",
   "execution_count": 71,
   "id": "561753ec-e713-495a-a5e3-7664d891c17a",
   "metadata": {},
   "outputs": [],
   "source": [
    "pca_nilai_mlcl_4['cluster'] = kmeans.labels_"
   ]
  },
  {
   "cell_type": "markdown",
   "id": "3012764e-80b5-4f2b-bcde-5a229e4fe2bf",
   "metadata": {},
   "source": [
    "#### Visualisasi Hasil KMeans Clustering"
   ]
  },
  {
   "cell_type": "code",
   "execution_count": 72,
   "id": "0de7a9ed-6067-4b14-a82f-3a6ea6bc2638",
   "metadata": {},
   "outputs": [
    {
     "data": {
      "image/png": "[encoded data removed]",
      "text/plain": [
       "<Figure size 432x288 with 1 Axes>"
      ]
     },
     "metadata": {
      "needs_background": "light"
     },
     "output_type": "display_data"
    }
   ],
   "source": [
    "fig, ax = plt.subplots()\n",
    "\n",
    "\n",
    "sns.scatterplot(\n",
    "    x=\"agama\", y=\"non_agama\",\n",
    "    hue='cluster',\n",
    "    edgecolor='black',\n",
    "    linestyle='--',\n",
    "    data=pca_nilai_mlcl_4,\n",
    "    palette='Spectral',\n",
    "    s=160,\n",
    "    ax=ax)\n",
    "\n",
    "\n",
    "plt.tight_layout()\n",
    "plt.show()"
   ]
  },
  {
   "cell_type": "markdown",
   "id": "3998fb2d-df7d-4aa6-a3fb-396bf82eb57e",
   "metadata": {},
   "source": [
    "#### Tabulasi Hasil KMeans Clustering"
   ]
  },
  {
   "cell_type": "code",
   "execution_count": 73,
   "id": "fda3df53-2dfd-4304-8650-35eced5c68b4",
   "metadata": {},
   "outputs": [
    {
     "data": {
      "text/html": [
       "<div>\n",
       "<style scoped>\n",
       "    .dataframe tbody tr th:only-of-type {\n",
       "        vertical-align: middle;\n",
       "    }\n",
       "\n",
       "    .dataframe tbody tr th {\n",
       "        vertical-align: top;\n",
       "    }\n",
       "\n",
       "    .dataframe thead th {\n",
       "        text-align: right;\n",
       "    }\n",
       "</style>\n",
       "<table border=\"1\" class=\"dataframe\">\n",
       "  <thead>\n",
       "    <tr style=\"text-align: right;\">\n",
       "      <th></th>\n",
       "      <th>nama</th>\n",
       "      <th>agama</th>\n",
       "      <th>non_agama</th>\n",
       "      <th>cluster</th>\n",
       "    </tr>\n",
       "  </thead>\n",
       "  <tbody>\n",
       "    <tr>\n",
       "      <th>0</th>\n",
       "      <td>ns7</td>\n",
       "      <td>-1.147079</td>\n",
       "      <td>0.995354</td>\n",
       "      <td>9</td>\n",
       "    </tr>\n",
       "    <tr>\n",
       "      <th>1</th>\n",
       "      <td>ns13</td>\n",
       "      <td>-1.147079</td>\n",
       "      <td>-5.098927</td>\n",
       "      <td>8</td>\n",
       "    </tr>\n",
       "    <tr>\n",
       "      <th>2</th>\n",
       "      <td>ns23</td>\n",
       "      <td>0.458831</td>\n",
       "      <td>-3.343481</td>\n",
       "      <td>10</td>\n",
       "    </tr>\n",
       "    <tr>\n",
       "      <th>3</th>\n",
       "      <td>ns38</td>\n",
       "      <td>-1.147079</td>\n",
       "      <td>-1.349155</td>\n",
       "      <td>0</td>\n",
       "    </tr>\n",
       "    <tr>\n",
       "      <th>4</th>\n",
       "      <td>ns39</td>\n",
       "      <td>0.458831</td>\n",
       "      <td>-1.085897</td>\n",
       "      <td>3</td>\n",
       "    </tr>\n",
       "  </tbody>\n",
       "</table>\n",
       "</div>"
      ],
      "text/plain": [
       "   nama     agama  non_agama  cluster\n",
       "0   ns7 -1.147079   0.995354        9\n",
       "1  ns13 -1.147079  -5.098927        8\n",
       "2  ns23  0.458831  -3.343481       10\n",
       "3  ns38 -1.147079  -1.349155        0\n",
       "4  ns39  0.458831  -1.085897        3"
      ]
     },
     "execution_count": 73,
     "metadata": {},
     "output_type": "execute_result"
    }
   ],
   "source": [
    "# penggabungan kolom nama dengan data hasil klasterisasi\n",
    "\n",
    "data_4 = pd.concat([df.select_dtypes('object'),pca_nilai_mlcl_4],axis=1)\n",
    "data_4.head()"
   ]
  },
  {
   "cell_type": "markdown",
   "id": "9533930a-450b-4449-9c1e-1bc78e04cfbf",
   "metadata": {},
   "source": [
    "Catatan:\n",
    "\n",
    "1. Secara umum, kemampuan Siswa dalam Agama dan NonAgama menunjukkan hubungan yang berbanding terbalik, meskipun korelasinya lemah.\n",
    "    - Artinya, semakin baik Siswa dalam Agama, maka cenderung baik juga dalam NonAgama.\n",
    "2. Siswa tersegmentasi ke dalam 3 kelompok, yaitu:\n",
    "    - Kelompok Siswa sangat unggul dalam Agama maupun NonAgama,\n",
    "    - Kelompok Siswa yang baik dalam satu bidang, namun biasa - biasa saja dalam bidang lainnya, dan\n",
    "    - Kelompok Siswa yang kurang baik di kedua bidang."
   ]
  },
  {
   "cell_type": "markdown",
   "id": "825140fb-a280-44fc-99a0-8934863f313c",
   "metadata": {},
   "source": [
    "# Kesimpulan Akhir"
   ]
  },
  {
   "cell_type": "markdown",
   "id": "b83ce783-5832-439e-ae49-2ceb043e8e39",
   "metadata": {},
   "source": [
    "Catatan Hasil Klasterisasi Data Nilai:\n",
    "\n",
    "1. Klasterisasi ini dilakukan agar dapat dijadikan pertimbangan untuk wali kelas dan siswa, dalam melanjutkan jejang pendidikan selanjutnya. \n",
    "2. Klasterisasi ini dilakukan agar dapat dijadikan bahan ealuasi pembelajaran Siswa agar dapat lebih meningkatkan kemampuan dan mengurangi kelemahannya."
   ]
  }
 ],
 "metadata": {
  "kernelspec": {
   "display_name": "Python 3 (ipykernel)",
   "language": "python",
   "name": "python3"
  },
  "language_info": {
   "codemirror_mode": {
    "name": "ipython",
    "version": 3
   },
   "file_extension": ".py",
   "mimetype": "text/x-python",
   "name": "python",
   "nbconvert_exporter": "python",
   "pygments_lexer": "ipython3",
   "version": "3.9.7"
  }
 },
 "nbformat": 4,
 "nbformat_minor": 5
}
